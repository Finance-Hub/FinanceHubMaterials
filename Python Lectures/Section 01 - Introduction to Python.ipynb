{
 "cells": [
  {
   "cell_type": "markdown",
   "metadata": {},
   "source": [
    "# Section 1 - Introduction to Python\n",
    "## Author: Gustavo Amarante\n",
    "\n",
    "## Why Python?\n",
    "Python is a general programming language, open source, easy to learn and since there is a lot of people using it in different areas, the ammount of resources available on the internet is overwhelming. To get a feel of how fast python is growing, have a look at [this article](https://stackoverflow.blog/2017/09/06/incredible-growth-python/).\n",
    "\n",
    "## Some Principles to Keep in Mind\n",
    "* **The internet is your best friend**. If you have any doubts, the first person you should ask for help is Google. He knows all about python.\n",
    "\n",
    "\n",
    "* **If you run into any problem, you are probably not the first one**. Python is the fastest growing programming language in the world. Chances are, somebody already has the solution to your problem.\n",
    "\n",
    "\n",
    "* **The open source community is a TRUE community**. There are people on the internet willing to help you. If want to ask for help go to the [Stack Overflow](https://stackoverflow.com/) forum, create an account and follow the rules and guidelines.\n",
    "\n",
    "\n",
    "## Objective of this section\n",
    "> _**Understand python basic commands**. Variable types, conditionals, loops and customized functions, and all you need to read and understand code on the internet._"
   ]
  },
  {
   "cell_type": "markdown",
   "metadata": {},
   "source": [
    "---\n",
    "# Python Basics\n",
    "\n",
    "Python is a high-level, object-oriented programming language that can be applied to many different classes of problems. \n",
    "\n",
    "The main philosophy behind Python's design is to emphasize **code readability**, but there are other principles."
   ]
  },
  {
   "cell_type": "code",
   "execution_count": null,
   "metadata": {
    "scrolled": false
   },
   "outputs": [],
   "source": [
    "import this"
   ]
  },
  {
   "cell_type": "markdown",
   "metadata": {},
   "source": [
    "As opposed to its competitors, which usually have niche communities (*statisticians love R, but don't let them get to you*), python is reccomended to people working on **all fields**, from people doing scientific research to video games designers.\n",
    "\n",
    "Here, we are going to cover the basics, enough for you to **undestand the syntax and read other people's code**. If you are looking for something a bit more in depth, here is a [Begginer Guide](https://wiki.python.org/moin/BeginnersGuide) and a [more extensive and detailed tutorial](https://docs.python.org/2/tutorial/index.html)."
   ]
  },
  {
   "cell_type": "markdown",
   "metadata": {},
   "source": [
    "---\n",
    "## Types of Variables\n",
    "Python has several types of variables, they all have their advantages when used correctly. The standard types of variables that you can use in python are:\n",
    "\n",
    "* Numerical - Integers and Floting Point Numbers\n",
    "* Strings (Text)\n",
    "* Lists\n",
    "* Tuples\n",
    "* Dictionaries (Associative Arrays)\n",
    "* Booleans (True and False)"
   ]
  },
  {
   "cell_type": "markdown",
   "metadata": {},
   "source": [
    "## Numerical Variables - Integers, Floating Point Numbers and Basic Mathematical Operations\n",
    "All basic mathematical operations are available `+`, `-`, `*`, `/`.\n",
    "\n",
    "Although `int` (integers) and `float` (rationals, computers can't handle all the real numbers) are different types of variables, but you can perform operations between them."
   ]
  },
  {
   "cell_type": "code",
   "execution_count": null,
   "metadata": {},
   "outputs": [],
   "source": [
    "2 + 2"
   ]
  },
  {
   "cell_type": "code",
   "execution_count": null,
   "metadata": {},
   "outputs": [],
   "source": [
    "type(4)"
   ]
  },
  {
   "cell_type": "code",
   "execution_count": null,
   "metadata": {},
   "outputs": [],
   "source": [
    "22/7"
   ]
  },
  {
   "cell_type": "code",
   "execution_count": null,
   "metadata": {},
   "outputs": [],
   "source": [
    "type(22/7)"
   ]
  },
  {
   "cell_type": "markdown",
   "metadata": {},
   "source": [
    "Unlike most programming languages the symbol for exponentiations is  `**`."
   ]
  },
  {
   "cell_type": "code",
   "execution_count": null,
   "metadata": {},
   "outputs": [],
   "source": [
    "3**2"
   ]
  },
  {
   "cell_type": "markdown",
   "metadata": {},
   "source": [
    "**Floor division** (integer part of a division) is available with `//` "
   ]
  },
  {
   "cell_type": "code",
   "execution_count": null,
   "metadata": {},
   "outputs": [],
   "source": [
    "22//7"
   ]
  },
  {
   "cell_type": "markdown",
   "metadata": {},
   "source": [
    "The operator `%` returns the **remainder of the division**"
   ]
  },
  {
   "cell_type": "code",
   "execution_count": null,
   "metadata": {
    "scrolled": true
   },
   "outputs": [],
   "source": [
    "22%7"
   ]
  },
  {
   "cell_type": "markdown",
   "metadata": {},
   "source": [
    "As usual, the `=` sign represents **variable assingment** and not a mathematical equality. The code\n",
    "\n",
    "```python\n",
    "a = 10\n",
    "```\n",
    "\n",
    "means that the value of 10 is assigned to the variable `a`. The code\n",
    "\n",
    "```python\n",
    "a = a + 10\n",
    "```\n",
    "\n",
    "means that the value assigned to `a` is its previous value plus 10.\n",
    "\n",
    "Variable names in python are **case and accent sensitive** (*though using accents is not good practice*)"
   ]
  },
  {
   "cell_type": "code",
   "execution_count": null,
   "metadata": {
    "scrolled": true
   },
   "outputs": [],
   "source": [
    "a = 10\n",
    "É = 5.5\n",
    "a + É"
   ]
  },
  {
   "cell_type": "markdown",
   "metadata": {},
   "source": [
    "Behind the curtains, floating point numbers are basically numbers with scientific notation. But since every computer works with a binary base, it sometimes encouter some rounding errors due to recurring decimals, like the example below."
   ]
  },
  {
   "cell_type": "code",
   "execution_count": null,
   "metadata": {},
   "outputs": [],
   "source": [
    "0.2 + 0.1"
   ]
  },
  {
   "cell_type": "markdown",
   "metadata": {},
   "source": [
    "To understand a little more about why this happens, have a look at [this video](https://www.youtube.com/watch?v=PZRI1IfStY0)."
   ]
  },
  {
   "cell_type": "markdown",
   "metadata": {},
   "source": [
    "---\n",
    "## Text Variables - Strings\n",
    "To create a `str` variable, the text needs enclosed between single quotes `'text'` or double quotes `\"text\"`"
   ]
  },
  {
   "cell_type": "code",
   "execution_count": null,
   "metadata": {},
   "outputs": [],
   "source": [
    "\"Gustavo\""
   ]
  },
  {
   "cell_type": "code",
   "execution_count": null,
   "metadata": {},
   "outputs": [],
   "source": [
    "type('Gustavo')"
   ]
  },
  {
   "cell_type": "markdown",
   "metadata": {},
   "source": [
    "There are operations that we can do with varibles of the string type. For example, the `+` sign concatenates the strings."
   ]
  },
  {
   "cell_type": "code",
   "execution_count": null,
   "metadata": {},
   "outputs": [],
   "source": [
    "first = 'Gustavo'\n",
    "last = 'Amarante'\n",
    "first + last"
   ]
  },
  {
   "cell_type": "markdown",
   "metadata": {},
   "source": [
    "When a string is \"multiplied\" by a number with the `*` sign, it repeats the string that many times"
   ]
  },
  {
   "cell_type": "code",
   "execution_count": null,
   "metadata": {
    "scrolled": true
   },
   "outputs": [],
   "source": [
    "10*'na ' + 'Hey Jude!'"
   ]
  },
  {
   "cell_type": "markdown",
   "metadata": {},
   "source": [
    "Strings have their own commands. The `\\` (*escape quotes* or *backslash*) allows for the next digit to be **interpreted as a command**, and not as a string. For example:\n",
    "* `\\n` is the command for a new line\n",
    "* `\\t` is the command for tab spaces"
   ]
  },
  {
   "cell_type": "code",
   "execution_count": null,
   "metadata": {},
   "outputs": [],
   "source": [
    "print('Gustavo \\n Amarante')"
   ]
  },
  {
   "cell_type": "code",
   "execution_count": null,
   "metadata": {
    "scrolled": true
   },
   "outputs": [],
   "source": [
    "print('Gustavo \\t Amarante')"
   ]
  },
  {
   "cell_type": "markdown",
   "metadata": {},
   "source": [
    "If you want your string to contain the symbol `\\`, you need to use a **raw string**, by placing an `r` in front of it. A rew string blocks the interpretation of a backslash as a command."
   ]
  },
  {
   "cell_type": "code",
   "execution_count": null,
   "metadata": {},
   "outputs": [],
   "source": [
    "print(r'Gustavo \\t Amarante')"
   ]
  },
  {
   "cell_type": "markdown",
   "metadata": {},
   "source": [
    "An exapmle of an application of raw strings is when writing the directions to a folder."
   ]
  },
  {
   "cell_type": "code",
   "execution_count": null,
   "metadata": {},
   "outputs": [],
   "source": [
    "print('C:\\some\\folder\\name')"
   ]
  },
  {
   "cell_type": "code",
   "execution_count": null,
   "metadata": {},
   "outputs": [],
   "source": [
    "print(r'C:\\some\\folder\\name')"
   ]
  },
  {
   "cell_type": "markdown",
   "metadata": {},
   "source": [
    "You can access the characters in a string using its **index**. \n",
    "\n",
    "<font color=\"red\">**Warning**</font>: In python, **index positions starts at 0** and intervals are interpreted as $[a:b[$, meaning that it includes the first index position and excludes the last index position. There are **math-related reasons** behind this, and not software/hardware-related reasons. If you are curious about them, have a look at [this discussion](https://softwareengineering.stackexchange.com/questions/110804/why-are-zero-based-arrays-the-norm)."
   ]
  },
  {
   "cell_type": "code",
   "execution_count": null,
   "metadata": {},
   "outputs": [],
   "source": [
    "var = 'Gustavo'"
   ]
  },
  {
   "cell_type": "code",
   "execution_count": null,
   "metadata": {},
   "outputs": [],
   "source": [
    "print(var[0])  # Position 0 has the first letter\n",
    "print(var[3])  # Position 3 has the 4th letter\n",
    "print(var[0:3])  # Characters from position 0 (included) to position 3 (EXCLUDED)"
   ]
  },
  {
   "cell_type": "markdown",
   "metadata": {},
   "source": [
    "If you use negative values on the index of a string, it counts backwards from the end of the index.\n",
    "```\n",
    " +---+---+---+---+---+---+---+\n",
    " | G | u | s | t | a | v | o |\n",
    " +---+---+---+---+---+---+---+\n",
    "   0   1   2   3   4   5   6\n",
    "  -7  -6  -5  -4  -3  -2  -1\n",
    "```"
   ]
  },
  {
   "cell_type": "code",
   "execution_count": null,
   "metadata": {},
   "outputs": [],
   "source": [
    "var = 'Gustavo'\n",
    "print(var[-2])    # Last character in the string\n",
    "print(var[-3:])   # Characters from the third-last position (included) until the end of the string"
   ]
  },
  {
   "cell_type": "markdown",
   "metadata": {},
   "source": [
    "### String formatting\n",
    "The objetive here is to **provide readable output**. There are 3 major ways to format string variables in python. Each method has advantages and disavantages depending on th application. The methods are\n",
    "* `%` format (standard for older versions of python)\n",
    "* `.format()`\n",
    "* f-strings (python 3.6+)"
   ]
  },
  {
   "cell_type": "code",
   "execution_count": null,
   "metadata": {},
   "outputs": [],
   "source": [
    "error_number = 589\n",
    "name = 'Gus'"
   ]
  },
  {
   "cell_type": "code",
   "execution_count": null,
   "metadata": {},
   "outputs": [],
   "source": [
    "print('Hey name! The error error_number occurred.')"
   ]
  },
  {
   "cell_type": "markdown",
   "metadata": {},
   "source": [
    "What we would like to do now is to substitute the variables values in the string.\n",
    "\n",
    "Using the `%` method"
   ]
  },
  {
   "cell_type": "code",
   "execution_count": null,
   "metadata": {},
   "outputs": [],
   "source": [
    "print('Hey %s! The error %s occurred.' % (name, error_number)) # has to be in the same order\n",
    "\n",
    "# you can also use a \"dictionary\" (more on those later), in this case, it does not have to be ordered\n",
    "print('Hey %(n)s! The error %(err)s occurred.' % {'err': error_number, 'n': name})"
   ]
  },
  {
   "cell_type": "markdown",
   "metadata": {},
   "source": [
    "This `%` method is old and has some issues. It is recommended to be used only with legacy code.\n",
    "\n",
    "Using the `.format()` method."
   ]
  },
  {
   "cell_type": "code",
   "execution_count": null,
   "metadata": {},
   "outputs": [],
   "source": [
    "print('Hey {}!'.format(name))\n",
    "print('Hey {n}! The error {err} occurred.'.format(n=name, err=error_number))"
   ]
  },
  {
   "cell_type": "markdown",
   "metadata": {},
   "source": [
    "For python 3.6 and later, f-strings are the reccomended method. And it allows for aperations"
   ]
  },
  {
   "cell_type": "code",
   "execution_count": null,
   "metadata": {},
   "outputs": [],
   "source": [
    "print(f'Hey {name}! The error {error_number} occurred.')\n",
    "\n",
    "a = 5\n",
    "b = 10\n",
    "print(f'The sum of {a} and {b} is {a + b}')"
   ]
  },
  {
   "cell_type": "markdown",
   "metadata": {},
   "source": [
    "### String Methods"
   ]
  },
  {
   "cell_type": "markdown",
   "metadata": {},
   "source": [
    "You can get the number of characters in a string using the `len()` function"
   ]
  },
  {
   "cell_type": "code",
   "execution_count": null,
   "metadata": {},
   "outputs": [],
   "source": [
    "var = 'minha terra tem palmeiras onde canta o sabiá'\n",
    "len(var)"
   ]
  },
  {
   "cell_type": "markdown",
   "metadata": {},
   "source": [
    "In python there are operations that are specific to some variables type. These operations are **methods**, and are usually executed as `var_name.method_name()`.\n",
    "\n",
    "Here are a few methods of a string variable:"
   ]
  },
  {
   "cell_type": "code",
   "execution_count": null,
   "metadata": {},
   "outputs": [],
   "source": [
    "var.upper()"
   ]
  },
  {
   "cell_type": "code",
   "execution_count": null,
   "metadata": {},
   "outputs": [],
   "source": [
    "var.title()"
   ]
  },
  {
   "cell_type": "markdown",
   "metadata": {},
   "source": [
    "Some methods requires **arguments**"
   ]
  },
  {
   "cell_type": "code",
   "execution_count": null,
   "metadata": {},
   "outputs": [],
   "source": [
    "var.replace('canta', 'chora').replace('palmeiras', 'coqueiros')"
   ]
  },
  {
   "cell_type": "code",
   "execution_count": null,
   "metadata": {},
   "outputs": [],
   "source": [
    "var.find('terra')"
   ]
  },
  {
   "cell_type": "code",
   "execution_count": null,
   "metadata": {},
   "outputs": [],
   "source": [
    "var[6]"
   ]
  },
  {
   "cell_type": "code",
   "execution_count": null,
   "metadata": {},
   "outputs": [],
   "source": [
    "var.split('palmeiras')"
   ]
  },
  {
   "cell_type": "code",
   "execution_count": null,
   "metadata": {},
   "outputs": [],
   "source": [
    "var.split()  # if no argument is passed, the string is splited in the whitespaces"
   ]
  },
  {
   "cell_type": "code",
   "execution_count": null,
   "metadata": {},
   "outputs": [],
   "source": [
    "type(var.split())"
   ]
  },
  {
   "cell_type": "markdown",
   "metadata": {},
   "source": [
    "---\n",
    "## Lists\n",
    "A python list can contain variables or values of any type and is created by using angle brackets `[]` and separating elements with `,`."
   ]
  },
  {
   "cell_type": "code",
   "execution_count": null,
   "metadata": {},
   "outputs": [],
   "source": [
    "squares = [1, 2, 4, 8, 16]\n",
    "cons = [3.141, 2.718]\n",
    "names = ['Gustavo', \"Amarante\"]"
   ]
  },
  {
   "cell_type": "code",
   "execution_count": null,
   "metadata": {},
   "outputs": [],
   "source": [
    "var = squares + cons + names\n",
    "print(var)"
   ]
  },
  {
   "cell_type": "markdown",
   "metadata": {},
   "source": [
    "lists can also be accessed by their index"
   ]
  },
  {
   "cell_type": "code",
   "execution_count": null,
   "metadata": {},
   "outputs": [],
   "source": [
    "var[-3:]"
   ]
  },
  {
   "cell_type": "code",
   "execution_count": null,
   "metadata": {},
   "outputs": [],
   "source": [
    "len(var)"
   ]
  },
  {
   "cell_type": "markdown",
   "metadata": {},
   "source": [
    "Elements of a list can be anything, including other lists"
   ]
  },
  {
   "cell_type": "code",
   "execution_count": null,
   "metadata": {},
   "outputs": [],
   "source": [
    "var = [1, 2, 4, 8, 16, [1, 2, 3]]\n",
    "print(var)"
   ]
  },
  {
   "cell_type": "code",
   "execution_count": null,
   "metadata": {},
   "outputs": [],
   "source": [
    "var[-1]"
   ]
  },
  {
   "cell_type": "markdown",
   "metadata": {},
   "source": [
    "A list is a **mutable** object, meaning that you can change the value of a single entry if you want to"
   ]
  },
  {
   "cell_type": "code",
   "execution_count": null,
   "metadata": {},
   "outputs": [],
   "source": [
    "my_list = ['Gustavo', 'Soares']\n",
    "my_list"
   ]
  },
  {
   "cell_type": "code",
   "execution_count": null,
   "metadata": {},
   "outputs": [],
   "source": [
    "my_list[1] = 'Amarante'\n",
    "my_list"
   ]
  },
  {
   "cell_type": "markdown",
   "metadata": {},
   "source": [
    "Not all objects in python are mutable... like tuples."
   ]
  },
  {
   "cell_type": "markdown",
   "metadata": {},
   "source": [
    "---\n",
    "## Tuples\n",
    "Essentialy, tuples are **immutable** lists. They are created using parenthesis `()` and separting the elements with `,`. Although lists are more flexible, there are specific situations where tuples come in handy."
   ]
  },
  {
   "cell_type": "code",
   "execution_count": null,
   "metadata": {},
   "outputs": [],
   "source": [
    "my_tuple = ('Gustavo', 'Soares')"
   ]
  },
  {
   "cell_type": "code",
   "execution_count": null,
   "metadata": {},
   "outputs": [],
   "source": [
    "my_tuple[1]"
   ]
  },
  {
   "cell_type": "code",
   "execution_count": null,
   "metadata": {
    "scrolled": true
   },
   "outputs": [],
   "source": [
    "my_tuple[1] = 'Amarante'"
   ]
  },
  {
   "cell_type": "markdown",
   "metadata": {},
   "source": [
    "**Hint**: Always read the error messeges. They usually tell you what the problem is."
   ]
  },
  {
   "cell_type": "markdown",
   "metadata": {},
   "source": [
    "---\n",
    "## Sets\n",
    "A set is an **unordered collection with no duplicate elements**. There are two ways to create a set. You can either use curly brackets `{}` separating elements with `,` or use the `set()` function on other objects. Bot methods already eliminate any duplicates."
   ]
  },
  {
   "cell_type": "code",
   "execution_count": null,
   "metadata": {},
   "outputs": [],
   "source": [
    "basket1 = {'apple', 'orange', 'apple', 'pear', 'orange', 'banana', 'banana'}\n",
    "basket1"
   ]
  },
  {
   "cell_type": "code",
   "execution_count": null,
   "metadata": {
    "scrolled": true
   },
   "outputs": [],
   "source": [
    "basket2 = ['apple', 'orange', 'apple', 'orange', 'grapes']\n",
    "basket2 = set(basket2)\n",
    "basket2"
   ]
  },
  {
   "cell_type": "markdown",
   "metadata": {},
   "source": [
    "You can use **traditional set operations** on set variables"
   ]
  },
  {
   "cell_type": "code",
   "execution_count": null,
   "metadata": {},
   "outputs": [],
   "source": [
    "print(basket1 - basket2)  # items in basket 1 that are not in basket 2 (Set difference)\n",
    "print(basket1 & basket2)  # items in basket 1 and basket 2 (AND - Intersection)\n",
    "print(basket1 | basket2)  # items in basket 1 or basket 2 (OR - Union)\n",
    "print(basket1 ^ basket2)  # items in basket 1 or basket 2 but not in both (XOR - Symetric Difference)"
   ]
  },
  {
   "cell_type": "markdown",
   "metadata": {},
   "source": [
    "---\n",
    "## Dictionaries\n",
    "Other programming languages call them **associative arrays**. Unlike strings or lists, they are indexed by **keys** and not by numerical positions. Each key is associated with a **value**. The structure to create a dictionary is\n",
    "\n",
    "```python\n",
    "my_dict = {key1: value1, key2: value2, key3: value3}\n",
    "```\n",
    "\n",
    "The keys must be unique, but repeated values are allowed."
   ]
  },
  {
   "cell_type": "code",
   "execution_count": null,
   "metadata": {},
   "outputs": [],
   "source": [
    "currency = {'Brazil': 'Real', \n",
    "            'USA': 'Dollar', \n",
    "            'Germany': 'Euro', \n",
    "            'Japan': 'Yen', \n",
    "            'Italy':'Euro'}"
   ]
  },
  {
   "cell_type": "markdown",
   "metadata": {},
   "source": [
    "Now you can treat `currency` as if it was a list, but it is indexed by the keys, instead of their numbered position. "
   ]
  },
  {
   "cell_type": "code",
   "execution_count": null,
   "metadata": {},
   "outputs": [],
   "source": [
    "currency['Germany']"
   ]
  },
  {
   "cell_type": "code",
   "execution_count": null,
   "metadata": {},
   "outputs": [],
   "source": [
    "currency.keys()"
   ]
  },
  {
   "cell_type": "code",
   "execution_count": null,
   "metadata": {},
   "outputs": [],
   "source": [
    "currency.values()"
   ]
  },
  {
   "cell_type": "markdown",
   "metadata": {},
   "source": [
    "---\n",
    "## Booleans and Comparisons\n",
    "Boolean variables assume values `True` or `False`. They are the output of a **logical operation** (operation between booleans) or a **comparison operation** (comparison between other types of variables)."
   ]
  },
  {
   "cell_type": "code",
   "execution_count": null,
   "metadata": {},
   "outputs": [],
   "source": [
    "x = True  # First letter needs to be uppercase\n",
    "type(x)"
   ]
  },
  {
   "cell_type": "markdown",
   "metadata": {},
   "source": [
    "The most commom comparison operations in python are:\n",
    "\n",
    "| Operation |\tDescription                |\n",
    "|:---------:|------------------------------|\n",
    "| a == b    | a equal to b                 |\n",
    "| a != b    | a not equal to b             |\n",
    "| a < b\t    | a less than b                |\n",
    "| a > b\t    | a greater than b             |\n",
    "| a <= b    | a less than or equal to b    |\n",
    "| a >= b    | a greater than or equal to b |"
   ]
  },
  {
   "cell_type": "code",
   "execution_count": null,
   "metadata": {},
   "outputs": [],
   "source": [
    "a = 2      # integer\n",
    "b = 2.0    # floating point number\n",
    "a == b"
   ]
  },
  {
   "cell_type": "code",
   "execution_count": null,
   "metadata": {},
   "outputs": [],
   "source": [
    "a = 2    # integer\n",
    "b = '2'  # string\n",
    "a == b"
   ]
  },
  {
   "cell_type": "markdown",
   "metadata": {},
   "source": [
    "Logical operations use `and`, `or` and `not`."
   ]
  },
  {
   "cell_type": "code",
   "execution_count": null,
   "metadata": {},
   "outputs": [],
   "source": [
    "True and False"
   ]
  },
  {
   "cell_type": "code",
   "execution_count": null,
   "metadata": {},
   "outputs": [],
   "source": [
    "not (3<1)"
   ]
  },
  {
   "cell_type": "code",
   "execution_count": null,
   "metadata": {},
   "outputs": [],
   "source": [
    "True or False"
   ]
  },
  {
   "cell_type": "code",
   "execution_count": null,
   "metadata": {},
   "outputs": [],
   "source": [
    "not True"
   ]
  },
  {
   "cell_type": "code",
   "execution_count": null,
   "metadata": {},
   "outputs": [],
   "source": [
    "(2 < 3) or (3 < 1)"
   ]
  },
  {
   "cell_type": "markdown",
   "metadata": {},
   "source": [
    "---\n",
    "## Conditionals\n",
    "The classical *\"if this then that\"* structure. The python keywords for it are `if`, `elif` and `else`.\n",
    "\n",
    "<font color='#ff0000'>**Warning**</font>: Tabbing the lines (identation) after each conditional statement is **necessary** (python forces you to keep your code clean and readable)"
   ]
  },
  {
   "cell_type": "code",
   "execution_count": null,
   "metadata": {},
   "outputs": [],
   "source": [
    "11 % 2 == 0"
   ]
  },
  {
   "cell_type": "code",
   "execution_count": null,
   "metadata": {},
   "outputs": [],
   "source": [
    "x = 12\n",
    "\n",
    "if x % 2 == 0: # checks if the remainder of the division is zero\n",
    "    print('x is even')\n",
    "    \n",
    "elif x % 2 == 1:\n",
    "    print('x is odd')\n",
    "    \n",
    "else:\n",
    "    print('x is not integer')"
   ]
  },
  {
   "cell_type": "markdown",
   "metadata": {},
   "source": [
    "The `if` statemente automatically looks for a boolean variable. You do not need to tell him what to look for."
   ]
  },
  {
   "cell_type": "code",
   "execution_count": null,
   "metadata": {},
   "outputs": [],
   "source": [
    "convergiu = True\n",
    "\n",
    "if convergiu:  # \"cond is True\" and \"cond == True\" also work, but is not good practice\n",
    "    print('condition is satisfied')\n",
    "else:\n",
    "    print('condition is not satisfied')"
   ]
  },
  {
   "cell_type": "markdown",
   "metadata": {},
   "source": [
    "---\n",
    "## Loops\n",
    "Loops are a way to repeatedly execute some code statement.\n",
    "\n",
    "### `for` Statements\n",
    "In python, `for` statements do not work with counters, they work with any **iterable objects**."
   ]
  },
  {
   "cell_type": "code",
   "execution_count": null,
   "metadata": {},
   "outputs": [],
   "source": [
    "list(range(5))"
   ]
  },
  {
   "cell_type": "code",
   "execution_count": null,
   "metadata": {
    "scrolled": true
   },
   "outputs": [],
   "source": [
    "for i in range(5):\n",
    "    print(i)"
   ]
  },
  {
   "cell_type": "code",
   "execution_count": null,
   "metadata": {
    "scrolled": false
   },
   "outputs": [],
   "source": [
    "planets = ['Earth', 'Mars', 'Mercury', 'Venus']\n",
    "\n",
    "for i in planets:\n",
    "    print(i)"
   ]
  },
  {
   "cell_type": "code",
   "execution_count": null,
   "metadata": {},
   "outputs": [],
   "source": [
    "planets = ['Earth', 'Mars', 'Mercury', 'Venus']\n",
    "\n",
    "for count, plan in enumerate(planets):\n",
    "    print(count, plan)"
   ]
  },
  {
   "cell_type": "markdown",
   "metadata": {},
   "source": [
    "you can also iterate on tuples of elements using `zip()`"
   ]
  },
  {
   "cell_type": "code",
   "execution_count": null,
   "metadata": {},
   "outputs": [],
   "source": [
    "country = ['Argentina', 'Brazil', 'França']\n",
    "player = ['Maradona', 'Pelé', 'Zidane']\n",
    "\n",
    "for p, c in zip(player, country):\n",
    "    print(p, c)"
   ]
  },
  {
   "cell_type": "markdown",
   "metadata": {},
   "source": [
    "We can skip to the next iteration using `continue` or stop the loop entirely with `break`."
   ]
  },
  {
   "cell_type": "code",
   "execution_count": null,
   "metadata": {},
   "outputs": [],
   "source": [
    "# print all numbers that are smaller than 20, except the one that are divisible by 3\n",
    "\n",
    "for i in range(100):\n",
    "    \n",
    "    if i%3 == 0:\n",
    "        continue\n",
    "    \n",
    "    if i > 20:\n",
    "        break\n",
    "        \n",
    "    print(i)"
   ]
  },
  {
   "cell_type": "markdown",
   "metadata": {},
   "source": [
    "`for` loops usually are used alone. But python has an interesting implementation, a `for-else` statement. This structure executes the code inside the `else` case only if the loop finished running without hitting any `break` commands."
   ]
  },
  {
   "cell_type": "code",
   "execution_count": null,
   "metadata": {},
   "outputs": [],
   "source": [
    "cities = ['sao paulo', 'berlin', 'tokyo', 'new york']\n",
    "\n",
    "for cit in cities:\n",
    "    if cit[0] == 's':\n",
    "        print('There is a city that starts with s')\n",
    "        break\n",
    "else:\n",
    "    print('There are no cities that start with s')"
   ]
  },
  {
   "cell_type": "markdown",
   "metadata": {},
   "source": [
    "### `while` statements\n",
    "\n",
    "It works just like a `for` but based on a **condition** instead of a predefined iterable set. These methods are useful for when you do not know the number of iterations that you need to repeat, for example, when evaluationg a convergence criteria for a numerical method."
   ]
  },
  {
   "cell_type": "code",
   "execution_count": null,
   "metadata": {},
   "outputs": [],
   "source": [
    "i = 0\n",
    "\n",
    "while i <= 5:\n",
    "    print(i)\n",
    "    i += 1  # same as i = i + 1"
   ]
  },
  {
   "cell_type": "markdown",
   "metadata": {},
   "source": [
    "---\n",
    "## List Comprehensions\n",
    "List comprehensions are one of Python's most beloved and unique features. You can use `for` statements to create lists."
   ]
  },
  {
   "cell_type": "code",
   "execution_count": null,
   "metadata": {
    "scrolled": true
   },
   "outputs": [],
   "source": [
    "squares = [n**2 for n in range(10)]\n",
    "squares"
   ]
  },
  {
   "cell_type": "markdown",
   "metadata": {},
   "source": [
    "it also allows for more complex interactions"
   ]
  },
  {
   "cell_type": "code",
   "execution_count": null,
   "metadata": {},
   "outputs": [],
   "source": [
    "countries = ['Brasil', 'Argentina', 'Colombia', 'Mexico', 'Canada', 'United States', 'Germany', 'Italy', 'France']\n",
    "\n",
    "[c.upper() for c in countries]"
   ]
  },
  {
   "cell_type": "code",
   "execution_count": null,
   "metadata": {},
   "outputs": [],
   "source": [
    "[c.upper() + '!' for c in countries if len(c) <= 6]"
   ]
  },
  {
   "cell_type": "markdown",
   "metadata": {},
   "source": [
    "---\n",
    "## Custom Functions"
   ]
  },
  {
   "cell_type": "code",
   "execution_count": null,
   "metadata": {},
   "outputs": [],
   "source": [
    "def soma(a, b):\n",
    "    assert type(a) is float, \"ta errado\" \n",
    "    soma = a+b\n",
    "    return soma"
   ]
  },
  {
   "cell_type": "code",
   "execution_count": null,
   "metadata": {},
   "outputs": [],
   "source": [
    "soma('a',3)"
   ]
  },
  {
   "cell_type": "code",
   "execution_count": null,
   "metadata": {},
   "outputs": [],
   "source": [
    "def count_negatives(numbers):\n",
    "    \"\"\"\n",
    "    numbers: list of floats or integers\n",
    "    \"\"\"\n",
    "\n",
    "    n_negative = 0\n",
    "    for num in numbers:\n",
    "        if num < 0:\n",
    "            n_negative += 1  # same as 'n_negative = n_negative + 1'\n",
    "    return n_negative"
   ]
  },
  {
   "cell_type": "code",
   "execution_count": null,
   "metadata": {},
   "outputs": [],
   "source": [
    "count_negatives([-1, 0, 2, -5])"
   ]
  },
  {
   "cell_type": "code",
   "execution_count": null,
   "metadata": {},
   "outputs": [],
   "source": [
    "def count_negatives(numbers):\n",
    "    return len([n for n in numbers if n < 0])"
   ]
  },
  {
   "cell_type": "code",
   "execution_count": null,
   "metadata": {},
   "outputs": [],
   "source": [
    "count_negatives([-1, 0, 2, -5])"
   ]
  },
  {
   "cell_type": "code",
   "execution_count": null,
   "metadata": {},
   "outputs": [],
   "source": [
    "def is_even(n):\n",
    "    return (n % 2) == 0"
   ]
  },
  {
   "cell_type": "code",
   "execution_count": null,
   "metadata": {},
   "outputs": [],
   "source": [
    "print(is_even(10))\n",
    "print(is_even(11))"
   ]
  },
  {
   "cell_type": "code",
   "execution_count": null,
   "metadata": {},
   "outputs": [],
   "source": [
    "def has_vowel(word):\n",
    "    \n",
    "    vowel_list = ['a', 'e', 'i', 'o', 'u']\n",
    "    vowel_list = vowel_list + [v.upper() for v in vowel_list]  # adds the upper case vowels\n",
    "    \n",
    "    for vowel in vowel_list:\n",
    "        if vowel in word:\n",
    "            return True\n",
    "    \n",
    "    return False"
   ]
  },
  {
   "cell_type": "code",
   "execution_count": null,
   "metadata": {},
   "outputs": [],
   "source": [
    "has_vowel('Gustavo')"
   ]
  },
  {
   "cell_type": "markdown",
   "metadata": {},
   "source": [
    "Custom functions allow for **self reference** and **verification of inputs**"
   ]
  },
  {
   "cell_type": "code",
   "execution_count": null,
   "metadata": {},
   "outputs": [],
   "source": [
    "def factorial(n):\n",
    "    \n",
    "    assert type(n) is int, \"Input is not an integer\"\n",
    "    assert n >= 0, \"Input is negative\"\n",
    "    \n",
    "    if n == 0 or n == 1:\n",
    "        return 1\n",
    "    \n",
    "    else:\n",
    "        return n * factorial(n-1)"
   ]
  },
  {
   "cell_type": "code",
   "execution_count": null,
   "metadata": {
    "scrolled": true
   },
   "outputs": [],
   "source": [
    "factorial(10)"
   ]
  },
  {
   "cell_type": "markdown",
   "metadata": {},
   "source": [
    "---\n",
    "## Lambda Functions (Anonymous Functions)\n",
    "While normal functions are defined using the `def` keyword, in Python anonymous functions are defined using the `lambda` keyword.\n",
    "Lambda functions are useful to make the code simpler, but if you are going to use a lot, the `def` is preferred."
   ]
  },
  {
   "cell_type": "code",
   "execution_count": null,
   "metadata": {},
   "outputs": [],
   "source": [
    "square = lambda x: x**2\n",
    "square(3)"
   ]
  },
  {
   "cell_type": "markdown",
   "metadata": {},
   "source": [
    "# Basic math operations\n",
    "Scientific math operations are on a separate library, called 'math'. Whe have to **import** these functions before using them.\n",
    "\n",
    "If you need just a few functions, you can do the follwing"
   ]
  },
  {
   "cell_type": "code",
   "execution_count": null,
   "metadata": {},
   "outputs": [],
   "source": [
    "from math import cos, log\n",
    "\n",
    "print(cos(0))\n",
    "print(log(10))"
   ]
  },
  {
   "cell_type": "markdown",
   "metadata": {},
   "source": [
    "Or, if you need to import **all of the functions** from the 'math' library, here is how you do it."
   ]
  },
  {
   "cell_type": "code",
   "execution_count": null,
   "metadata": {},
   "outputs": [],
   "source": [
    "import math\n",
    "\n",
    "print(math.cos(0))\n",
    "print(math.log(10))"
   ]
  },
  {
   "cell_type": "markdown",
   "metadata": {},
   "source": [
    "---\n",
    "# Practice Problems \n",
    "* Each exercise comes with the correct answer you should get to\n",
    "* Remember for each exercise there is always more than one solutions, bot some are more elegant and efficient than other.\n",
    "* You can find solutions below but **you should definetly try the exercises for yourself first**.\n",
    "* If at first you cannot solve it... persist. Use google. Study. Do not look at the solutions!!!"
   ]
  },
  {
   "cell_type": "markdown",
   "metadata": {},
   "source": [
    "## Exercise 1\n",
    "Write a function that takes in a list and outputs another list with the values that are smaller the 10."
   ]
  },
  {
   "cell_type": "code",
   "execution_count": 44,
   "metadata": {},
   "outputs": [],
   "source": [
    "def list_less_10(input_list)\n",
    "    \n",
    "    \n",
    "    \n",
    "    return output_list\n",
    "\n",
    "# Testing the function\n",
    "example_input = [1, 1, 2, 3, 5, 8, 13, 21, 34, 55, 89]\n",
    "list_less_10(example_input)"
   ]
  },
  {
   "cell_type": "markdown",
   "metadata": {},
   "source": [
    "## Exercise 2\n",
    "Use [Newton's method](https://en.wikipedia.org/wiki/Newton%27s_method) to find the solution of the equation $\\ln(x)=\\sin(x)$.\n",
    "\n",
    "**Advanced**: Now pretend that you do not know the derivative of the function. How could you estimate it?\n",
    "\n",
    "**Correct answer**: approximately 2.219107"
   ]
  },
  {
   "cell_type": "code",
   "execution_count": null,
   "metadata": {},
   "outputs": [],
   "source": [
    "\n",
    "\n"
   ]
  },
  {
   "cell_type": "markdown",
   "metadata": {},
   "source": [
    "## Exercise 3\n",
    "Write a function that compute the [determinant](https://en.wikipedia.org/wiki/Determinant) of an $N \\times N$ matrix. A matrix can be represented as a list of lists.\n",
    "\n",
    "**Hint**: Use [Laplace's formula and the adjugate matrix](https://en.wikipedia.org/wiki/Determinant#Laplace's_formula_and_the_adjugate_matrix)\n",
    "\n",
    "**Correct answer**: \n",
    "\n",
    "$\\det(x_{1})=-2$\n",
    "\n",
    "$\\det(x_{2})=-3$\n",
    "\n",
    "$\\det(x_{3})=-18$"
   ]
  },
  {
   "cell_type": "code",
   "execution_count": null,
   "metadata": {},
   "outputs": [],
   "source": [
    "def determinant(x):\n",
    "    \n",
    "    \n",
    "    return det\n",
    "\n",
    "\n",
    "# Testing the Function\n",
    "x1 = [[1, 2], \n",
    "      [3, 4]]\n",
    "print('determinant of x1 is', determinant(x1))\n",
    "\n",
    "\n",
    "x2 = [[1, 2, 4], \n",
    "      [3, 4, 5],\n",
    "      [6, 7, 8]]\n",
    "print('determinant of x1 is', determinant(x2))\n",
    "\n",
    "x3 = [[7, 2, 4, 5], \n",
    "      [3, 4, 5, 6],\n",
    "      [6, 7, 8, 9],\n",
    "      [4, 4, 3, 3]]\n",
    "print('determinant of x1 is', determinant(x3))"
   ]
  },
  {
   "cell_type": "markdown",
   "metadata": {},
   "source": [
    "## Exercise 4\n",
    "Write a function that outputs the $N$-th element of the [fibonacci sequence]()."
   ]
  },
  {
   "cell_type": "code",
   "execution_count": null,
   "metadata": {},
   "outputs": [],
   "source": [
    "def fib(n):\n",
    "\n",
    "    return\n",
    "\n",
    "\n",
    "# Testing the function\n",
    "fib(10)"
   ]
  },
  {
   "cell_type": "code",
   "execution_count": null,
   "metadata": {},
   "outputs": [],
   "source": []
  },
  {
   "cell_type": "code",
   "execution_count": null,
   "metadata": {},
   "outputs": [],
   "source": []
  },
  {
   "cell_type": "code",
   "execution_count": null,
   "metadata": {},
   "outputs": [],
   "source": []
  },
  {
   "cell_type": "code",
   "execution_count": null,
   "metadata": {},
   "outputs": [],
   "source": []
  },
  {
   "cell_type": "code",
   "execution_count": null,
   "metadata": {},
   "outputs": [],
   "source": []
  },
  {
   "cell_type": "code",
   "execution_count": null,
   "metadata": {},
   "outputs": [],
   "source": []
  },
  {
   "cell_type": "code",
   "execution_count": null,
   "metadata": {},
   "outputs": [],
   "source": []
  },
  {
   "cell_type": "code",
   "execution_count": null,
   "metadata": {},
   "outputs": [],
   "source": []
  },
  {
   "cell_type": "code",
   "execution_count": null,
   "metadata": {},
   "outputs": [],
   "source": []
  },
  {
   "cell_type": "code",
   "execution_count": null,
   "metadata": {},
   "outputs": [],
   "source": []
  },
  {
   "cell_type": "code",
   "execution_count": null,
   "metadata": {},
   "outputs": [],
   "source": []
  },
  {
   "cell_type": "code",
   "execution_count": null,
   "metadata": {},
   "outputs": [],
   "source": []
  },
  {
   "cell_type": "code",
   "execution_count": null,
   "metadata": {},
   "outputs": [],
   "source": []
  },
  {
   "cell_type": "markdown",
   "metadata": {},
   "source": [
    "---\n",
    "\n",
    "# Solutions to Practice Problems\n",
    "PS: You should not be here"
   ]
  },
  {
   "cell_type": "markdown",
   "metadata": {},
   "source": [
    "## Solution to Exercise 1"
   ]
  },
  {
   "cell_type": "code",
   "execution_count": 49,
   "metadata": {},
   "outputs": [
    {
     "data": {
      "text/plain": [
       "[1, 1, 2, 3, 5, 8]"
      ]
     },
     "execution_count": 49,
     "metadata": {},
     "output_type": "execute_result"
    }
   ],
   "source": [
    "def list_less_10(input_list):\n",
    "    output_list = []\n",
    "    \n",
    "    for elem in input_list:\n",
    "        if elem < 10:\n",
    "            output_list = output_list + [elem]\n",
    "            \n",
    "    return output_list\n",
    "\n",
    "# Testing the function\n",
    "example_input = [1, 1, 2, 3, 5, 8, 13, 21, 34, 55, 89]\n",
    "list_less_10(example_input)"
   ]
  },
  {
   "cell_type": "markdown",
   "metadata": {},
   "source": [
    "## Solution to Exercise 2"
   ]
  },
  {
   "cell_type": "code",
   "execution_count": 50,
   "metadata": {},
   "outputs": [
    {
     "name": "stdout",
     "output_type": "stream",
     "text": [
      "3\n",
      "2.2764500934315195\n",
      "2.2199793758636512\n",
      "2.2191073630125095\n",
      "2.219107148913759\n",
      "2.219107148913746\n"
     ]
    }
   ],
   "source": [
    "from math import sin, log, cos\n",
    "\n",
    "def obj_func(x):\n",
    "    return sin(x) - log(x)\n",
    "\n",
    "def deriv_obj_func(x):\n",
    "    return cos(x) - 1/x\n",
    "\n",
    "x0 = 3\n",
    "diff = 10\n",
    "\n",
    "while diff >= 0.0000001:\n",
    "    print(x0)\n",
    "    x1 = x0 - obj_func(x0)/deriv_obj_func(x0)\n",
    "    diff = abs(x1-x0)\n",
    "    x0 = x1\n",
    "    \n",
    "print(x0)"
   ]
  },
  {
   "cell_type": "markdown",
   "metadata": {},
   "source": [
    "## Solution to Exercise 3"
   ]
  },
  {
   "cell_type": "code",
   "execution_count": 51,
   "metadata": {},
   "outputs": [
    {
     "name": "stdout",
     "output_type": "stream",
     "text": [
      "determinant of x1 is -2\n",
      "determinant of x2 is -3\n",
      "determinant of x3 is -18\n"
     ]
    }
   ],
   "source": [
    "def determinant(x):\n",
    "    n_lin = len(x)\n",
    "\n",
    "    if n_lin == 1:\n",
    "        val = x[0][0]\n",
    "        return val\n",
    "\n",
    "    total = 0\n",
    "    for fc in range(n_lin): \n",
    "        As = x[1:]\n",
    "        height = len(As)\n",
    "\n",
    "        for i in range(height):\n",
    "            As[i] = As[i][0:fc] + As[i][fc + 1:]\n",
    "\n",
    "        total = total + ((-1) ** (fc % 2))  * x[0][fc] * determinant(As)\n",
    "\n",
    "    return total\n",
    "\n",
    "# Testing the Function\n",
    "x1 = [[1, 2], \n",
    "      [3, 4]]\n",
    "print('determinant of x1 is', determinant(x1))\n",
    "\n",
    "\n",
    "x2 = [[1, 2, 4], \n",
    "      [3, 4, 5],\n",
    "      [6, 7, 8]]\n",
    "print('determinant of x2 is', determinant(x2))\n",
    "\n",
    "x3 = [[7, 2, 4, 5], \n",
    "      [3, 4, 5, 6],\n",
    "      [6, 7, 8, 9],\n",
    "      [4, 4, 3, 3]]\n",
    "print('determinant of x3 is', determinant(x3))"
   ]
  },
  {
   "cell_type": "markdown",
   "metadata": {},
   "source": [
    "## Solution to Exercise 4"
   ]
  },
  {
   "cell_type": "code",
   "execution_count": 61,
   "metadata": {},
   "outputs": [
    {
     "data": {
      "text/plain": [
       "55"
      ]
     },
     "execution_count": 61,
     "metadata": {},
     "output_type": "execute_result"
    }
   ],
   "source": [
    "def fib(n):\n",
    "    \n",
    "    if n==1 or n==2:\n",
    "        return 1\n",
    "    else:\n",
    "        return fib(n-1) + fib(n-2)\n",
    "    \n",
    "# Testing the function\n",
    "fib(10)"
   ]
  }
 ],
 "metadata": {
  "kernelspec": {
   "display_name": "Python 3",
   "language": "python",
   "name": "python3"
  },
  "language_info": {
   "codemirror_mode": {
    "name": "ipython",
    "version": 3
   },
   "file_extension": ".py",
   "mimetype": "text/x-python",
   "name": "python",
   "nbconvert_exporter": "python",
   "pygments_lexer": "ipython3",
   "version": "3.7.1"
  }
 },
 "nbformat": 4,
 "nbformat_minor": 2
}
