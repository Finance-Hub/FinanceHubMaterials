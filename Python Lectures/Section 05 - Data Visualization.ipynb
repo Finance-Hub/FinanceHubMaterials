{
 "cells": [
  {
   "cell_type": "markdown",
   "metadata": {},
   "source": [
    "# Data Visualization\n",
    "## Author: Gustavo Amarante\n",
    "Making charts using programming is usually not simple, but the results are worth the effort. \n",
    "\n",
    "Python has libraries for every need:\n",
    "\n",
    "### Matplotlib\n",
    "Started in 2003, inspired by the way MATLAB handles charts (so that engineers would feel at home when switching to python), this is the most popular library for making **static charts**. The advantage of matplotlib is that the charts are **higly customizable**. The downside is that it requires a lot of programming lines to do it, which makes it **code intensive**.\n",
    "\n",
    "*Since matplotlib is focused on formatting, we will go through it very fast.*\n",
    "\n",
    "### Seaborn\n",
    "This one focuses on **statistical charts** and already comes with several visualization tools. Seaborn has a very high-level programming syntax, meaning that **you can do a lot with very few lines of code**.\n",
    "\n",
    "We are going to spend a little more time on this one... it's worth it.\n",
    "\n",
    "### Other ones you should have a look\n",
    "\n",
    "* **bokeh**: Interactive charts and filtering options. Javascript based, so you can run the results in the browser.\n",
    "* **plotly**: Great interactive visualizations and allows to deploy charts online in the form of dashboards. The full access to its resources is restricted to paying subscribers and the commands are not that simple."
   ]
  },
  {
   "cell_type": "markdown",
   "metadata": {},
   "source": [
    "---\n",
    "# matplotlib"
   ]
  },
  {
   "cell_type": "code",
   "execution_count": null,
   "metadata": {},
   "outputs": [],
   "source": [
    "import numpy as np\n",
    "import pandas as pd\n",
    "import matplotlib.pyplot as plt"
   ]
  },
  {
   "cell_type": "markdown",
   "metadata": {},
   "source": [
    "Very simple example"
   ]
  },
  {
   "cell_type": "code",
   "execution_count": null,
   "metadata": {},
   "outputs": [],
   "source": [
    "# generate data\n",
    "x = np.linspace(0, 5, 10)\n",
    "y = x ** 2\n",
    "\n",
    "# plot the chart\n",
    "plt.figure()\n",
    "plt.plot(x, y)\n",
    "plt.xlabel('x')\n",
    "plt.ylabel('y')\n",
    "plt.title('this is the title')\n",
    "plt.show()"
   ]
  },
  {
   "cell_type": "markdown",
   "metadata": {},
   "source": [
    "Getting a bit fancy with subplots (notice how similar it is to the MATLAB syntax)"
   ]
  },
  {
   "cell_type": "code",
   "execution_count": null,
   "metadata": {},
   "outputs": [],
   "source": [
    "plt.figure(figsize=(12,4))\n",
    "plt.subplot(1,2,1)\n",
    "plt.plot(x, y, 'r--')  # dashed red line\n",
    "plt.title('Chart 1')\n",
    "\n",
    "plt.subplot(1,2,2)\n",
    "plt.plot(y, x, 'g*-')  # green line with markers\n",
    "plt.title('Chart 2')\n",
    "\n",
    "plt.show()"
   ]
  },
  {
   "cell_type": "code",
   "execution_count": null,
   "metadata": {},
   "outputs": [],
   "source": [
    "n = np.array([0,1,2,3,4,5])\n",
    "xx = np.linspace(-0.75, 1., 100)\n",
    "\n",
    "fig, axes = plt.subplots(1, 4, figsize=(15,3))\n",
    "\n",
    "axes[0].scatter(xx, xx + 0.25*np.random.randn(len(xx)))\n",
    "axes[0].set_title(\"scatter\")\n",
    "\n",
    "axes[1].step(n, n**2, lw=2)\n",
    "axes[1].set_title(\"step\")\n",
    "\n",
    "axes[2].bar(n, n**2, align=\"center\", width=0.5)\n",
    "axes[2].set_title(\"bar\")\n",
    "\n",
    "axes[3].fill_between(x, x**2, x**3, color=\"green\")\n",
    "axes[3].set_title(\"fill_between\")\n",
    "\n",
    "plt.show()"
   ]
  },
  {
   "cell_type": "markdown",
   "metadata": {},
   "source": [
    "Here is an example with two axis on the same chart"
   ]
  },
  {
   "cell_type": "code",
   "execution_count": null,
   "metadata": {
    "scrolled": true
   },
   "outputs": [],
   "source": [
    "fig, ax1 = plt.subplots()\n",
    "\n",
    "# plot the first series\n",
    "ax1.plot(x, x**2, lw=2, color=\"blue\")\n",
    "ax1.set_ylabel(r\"area $(m^2)$\", fontsize=18, color=\"blue\")\n",
    "\n",
    "# formats the left axis\n",
    "for label in ax1.get_yticklabels():\n",
    "    label.set_color(\"blue\")\n",
    "\n",
    "# create a new axis with the same x-axis as the second one.\n",
    "ax2 = ax1.twinx()\n",
    "\n",
    "# plots the series and formats the right axis\n",
    "ax2.plot(x, x**3, lw=2, color=\"red\")\n",
    "ax2.set_ylabel(r\"volume $(m^3)$\", fontsize=18, color=\"red\")\n",
    "\n",
    "for label in ax2.get_yticklabels():\n",
    "    label.set_color(\"red\")\n",
    "    \n",
    "plt.show()"
   ]
  },
  {
   "cell_type": "markdown",
   "metadata": {},
   "source": [
    "Let's plot a **fractal**, the [Sierpinsky Triangle](https://en.wikipedia.org/wiki/Sierpinski_triangle), which can be generated in several ways. Here we will use the simulation method."
   ]
  },
  {
   "cell_type": "code",
   "execution_count": null,
   "metadata": {},
   "outputs": [],
   "source": [
    "from random import choice\n",
    "\n",
    "n = 100000  # number of points\n",
    "\n",
    "# ===== Start of simulation =====\n",
    "# vertices of the triangle\n",
    "vert_A = np.array([0, 0])\n",
    "vert_B = np.array([0.5, np.sqrt(3/4)])\n",
    "vert_C = np.array([1, 0])\n",
    "vertices = [vert_A, vert_B, vert_C]\n",
    "\n",
    "# vector that holds the simulated points\n",
    "dots = np.zeros((n, 2))\n",
    "dots[0, :] = [1, 0]\n",
    "\n",
    "for i in range(1, n):\n",
    "    vert_i = choice(vertices)  # randomly select a vertice from the list\n",
    "\n",
    "    dots[i, :] = (dots[i-1, :] + vert_i)/2  # next point is the average of the last and the selected vertice\n",
    "\n",
    "# ===== End of simulation =====\n",
    "    \n",
    "plt.figure(figsize=(12, 10))\n",
    "plt.scatter(dots[:,0], dots[:,1], s=0.1)\n",
    "plt.show()"
   ]
  },
  {
   "cell_type": "markdown",
   "metadata": {},
   "source": [
    "As you can see from the examples above, the level of customization that you can get out of these charts is impressive. But again, it is very code intensive. The next chart is just to ilustrate that. I consider it a chart that has a little bit of everything, so whenever I need reference to a chart command, I usually go back to this example. I hope it helps you too.\n",
    "\n",
    "Notice that axis labels, legends and comments accept $\\LaTeX$ equations."
   ]
  },
  {
   "cell_type": "code",
   "execution_count": null,
   "metadata": {},
   "outputs": [],
   "source": [
    "# Range of the function\n",
    "x_min, x_max = -np.pi, np.pi\n",
    "\n",
    "# number of intervals of the observations\n",
    "interval = 300\n",
    "\n",
    "# some padding to make the chart look nice\n",
    "y_padding = 0.3\n",
    "x_padding = 0.1\n",
    "\n",
    "# creates the grid that will be used to plot the functions\n",
    "X = np.linspace(x_min, x_max, interval)\n",
    "\n",
    "# values of the functions f and g\n",
    "f, g = np.cos(X), np.sin(X)\n",
    "\n",
    "# name of the functions that will be used in the legend (it accepts LaTeX!!!)\n",
    "labelf = 'Coseno'\n",
    "labelg = '$\\sin(x)$'\n",
    "\n",
    "# creates the figure\n",
    "plt.figure(figsize=(6, 4), dpi=100)\n",
    "\n",
    "# plot the functions\n",
    "plt.plot(X, f, color=\"blue\", linewidth=1.5, linestyle=\"-\", label=labelf)\n",
    "plt.plot(X, g, color=\"red\", linewidth=1.5, linestyle=\"--\", label=labelg)\n",
    "\n",
    "plt.fill_between(X, g, color='red',  alpha=.25)\n",
    "\n",
    "# defines the limits of the chart\n",
    "plt.xlim(x_min-x_padding, x_max+x_padding)\n",
    "plt.ylim(np.min([f,g])-y_padding, np.max([f,g])+y_padding)\n",
    "\n",
    "# defines the values and labels of the access ticks (labels accept LaTeX)\n",
    "plt.xticks([-np.pi, -np.pi/2, np.pi/2, np.pi],\n",
    "           [r'$-\\pi$', r'$\\frac{-\\pi}{2}$', r'$\\frac{\\pi}{2}$', r'$\\pi$'])\n",
    "plt.yticks([-1, 1],\n",
    "           [r'$-1$', r'$1$'])\n",
    "\n",
    "# handling outside borders (turning them into the zero line)\n",
    "ax = plt.gca()\n",
    "ax.spines['right'].set_color('none')  # turns off the right outside border\n",
    "ax.spines['top'].set_color('none')  # turns off the top outside border\n",
    "ax.xaxis.set_ticks_position('bottom')  # set ticks position to be under the axis\n",
    "ax.spines['bottom'].set_position(('data',0)) # set the 'bottom' as the zero line\n",
    "ax.yaxis.set_ticks_position('left')\n",
    "ax.spines['left'].set_position(('data',0))\n",
    "\n",
    "# legend\n",
    "plt.legend(loc='upper left')\n",
    "\n",
    "# Annotations\n",
    "t = 2 * np.pi / 3\n",
    "plt.plot([t, t], [0, np.cos(t)], color='blue', linewidth=1.0, linestyle=\"--\") # plota a linha pontilhada\n",
    "plt.scatter([t, ], [np.cos(t), ], s=20, color='blue')  #plota o ponto na função\n",
    "\n",
    "plt.annotate(r'$cos(\\frac{2\\pi}{3})=-\\frac{1}{2}$', # text\n",
    "             xy=(t, np.cos(t)), # coordinate of the annotated point\n",
    "             xycoords='data', # unit of the coordinate of the annotated point\n",
    "             xytext=(-90, -50), # coordinate of the annotation text\n",
    "             textcoords='offset points', # unit of the coordinate of the annotation text (offset from point)\n",
    "             fontsize=12,\n",
    "             arrowprops=dict(arrowstyle=\"->\", \n",
    "                             connectionstyle=\"arc3,rad=-.2\"))\n",
    "\n",
    "# formmating all tick labels\n",
    "for label in ax.get_xticklabels() + ax.get_yticklabels():\n",
    "    label.set_fontsize(14)\n",
    "\n",
    "# Save the chart as a PDF (if you want to do that, uncomment the next line)\n",
    "# plt.savefig('test.pdf', dpi=400, pad_inches=0.)\n",
    "\n",
    "plt.show()"
   ]
  },
  {
   "cell_type": "markdown",
   "metadata": {},
   "source": [
    "# Unit Root Test Distribution\n",
    "\n",
    "How to generate the ADF test distribution"
   ]
  },
  {
   "cell_type": "code",
   "execution_count": null,
   "metadata": {},
   "outputs": [],
   "source": [
    "T = 100 # size of the series\n",
    "m = 100000  # number of simulations\n",
    "\n",
    "DFStats = np.empty(m)\n",
    "\n",
    "for i in range(m):\n",
    "    u = np.random.normal(0,1,size=T)\n",
    "    w = 1./(T**0.5)*np.cumsum(u)\n",
    "    DFStats[i] = ((w[-1]**2-1)/(2*(np.mean(w**2)**0.5)))\n",
    "    \n",
    "plt.hist(DFStats, bins=50)\n",
    "plt.show()"
   ]
  },
  {
   "cell_type": "code",
   "execution_count": null,
   "metadata": {},
   "outputs": [],
   "source": [
    "from scipy import stats\n",
    "\n",
    "DFdensity = stats.kde.gaussian_kde(DFStats)\n",
    "x = np.arange(-5, 5, 0.05)\n",
    "plt.figure(figsize=(7, 4), dpi=100)\n",
    "\n",
    "plt.plot(x, stats.norm.pdf(x), label='N(0,1)')\n",
    "plt.plot(x, DFdensity(x), label=r'$\\tau$')\n",
    "plt.ylim(0, )\n",
    "plt.legend(loc='upper right')\n",
    "plt.show()"
   ]
  },
  {
   "cell_type": "markdown",
   "metadata": {},
   "source": [
    "## 3D Charts\n",
    "Don't worry about the next cell, it just generates the data."
   ]
  },
  {
   "cell_type": "code",
   "execution_count": null,
   "metadata": {},
   "outputs": [],
   "source": [
    "alpha = 0.7\n",
    "phi_ext = 2 * np.pi * 0.5\n",
    "\n",
    "def flux_qubit_potential(phi_m, phi_p):\n",
    "    return 2 + alpha - 2 * np.cos(phi_p) * np.cos(phi_m) - alpha * np.cos(phi_ext - 2*phi_p)\n",
    "\n",
    "phi_m = np.linspace(0, 2*np.pi, 100)\n",
    "phi_p = np.linspace(0, 2*np.pi, 100)\n",
    "X,Y = np.meshgrid(phi_p, phi_m)\n",
    "Z = flux_qubit_potential(X, Y).T"
   ]
  },
  {
   "cell_type": "code",
   "execution_count": null,
   "metadata": {},
   "outputs": [],
   "source": [
    "fig, ax = plt.subplots(figsize=(7,6))\n",
    "\n",
    "p = ax.pcolor(X/(2*np.pi), Y/(2*np.pi), Z, cmap='RdBu', vmin=abs(Z).min(), vmax=abs(Z).max())\n",
    "cb = fig.colorbar(p, ax=ax)\n",
    "plt.show()"
   ]
  },
  {
   "cell_type": "code",
   "execution_count": null,
   "metadata": {},
   "outputs": [],
   "source": [
    "fig, ax = plt.subplots()\n",
    "\n",
    "cnt = ax.contour(Z, cmap='RdBu', vmin=abs(Z).min(), vmax=abs(Z).max(), extent=[0, 1, 0, 1])\n",
    "plt.show()"
   ]
  },
  {
   "cell_type": "code",
   "execution_count": null,
   "metadata": {},
   "outputs": [],
   "source": [
    "from mpl_toolkits.mplot3d.axes3d import Axes3D\n",
    "\n",
    "fig = plt.figure(figsize=(14,6))\n",
    "\n",
    "# `ax` is a 3D-aware axis instance because of the projection='3d' keyword argument to add_subplot\n",
    "ax = fig.add_subplot(1, 2, 1, projection='3d')\n",
    "\n",
    "p = ax.plot_surface(X, Y, Z, rstride=4, cstride=4, linewidth=0)\n",
    "\n",
    "# surface_plot with color grading and color bar\n",
    "ax = fig.add_subplot(1, 2, 2, projection='3d')\n",
    "p = ax.plot_surface(X, Y, Z, rstride=1, cstride=1, cmap='coolwarm', linewidth=0, antialiased=False)\n",
    "cb = fig.colorbar(p, shrink=0.5)\n",
    "\n",
    "plt.show()"
   ]
  },
  {
   "cell_type": "code",
   "execution_count": null,
   "metadata": {},
   "outputs": [],
   "source": [
    "fig = plt.figure(figsize=(12,6))\n",
    "\n",
    "ax = fig.add_subplot(1,2,1, projection='3d')\n",
    "ax.plot_surface(X, Y, Z, rstride=4, cstride=4, alpha=0.25)\n",
    "ax.view_init(30, 45)  # This changes the viewing angle\n",
    "\n",
    "ax = fig.add_subplot(1,2,2, projection='3d')\n",
    "ax.plot_surface(X, Y, Z, rstride=4, cstride=4, alpha=0.25)\n",
    "ax.view_init(70, 30)\n",
    "\n",
    "fig.tight_layout()\n",
    "plt.show()"
   ]
  },
  {
   "cell_type": "code",
   "execution_count": null,
   "metadata": {},
   "outputs": [],
   "source": [
    "fig = plt.figure(figsize=(8,6))\n",
    "\n",
    "ax = fig.add_subplot(1,1,1, projection='3d')\n",
    "\n",
    "ax.plot_surface(X, Y, Z, rstride=4, cstride=4, alpha=0.25)\n",
    "cset = ax.contour(X, Y, Z, zdir='z', offset=-np.pi, cmap='coolwarm')\n",
    "cset = ax.contour(X, Y, Z, zdir='x', offset=-np.pi, cmap='coolwarm')\n",
    "cset = ax.contour(X, Y, Z, zdir='y', offset=3*np.pi, cmap='coolwarm')\n",
    "\n",
    "ax.set_xlim3d(-np.pi, 2*np.pi)\n",
    "ax.set_ylim3d(0, 3*np.pi)\n",
    "ax.set_zlim3d(-np.pi, 2*np.pi)\n",
    "\n",
    "plt.show()"
   ]
  },
  {
   "cell_type": "markdown",
   "metadata": {},
   "source": [
    "---\n",
    "# Seaborn\n",
    "It is built on top of matplotlib, but works like a high-level language, and is also integrated with pandas. Everything comes ready to use. They have a great [example gallery](https://seaborn.pydata.org/examples/index.html) that you can get inspiration (and cheat) from."
   ]
  },
  {
   "cell_type": "code",
   "execution_count": null,
   "metadata": {},
   "outputs": [],
   "source": [
    "from scipy import stats  #ignore this one for now\n",
    "import seaborn as sns\n",
    "sns.set_style(\"darkgrid\")"
   ]
  },
  {
   "cell_type": "markdown",
   "metadata": {},
   "source": [
    "In the example below the data is drawn from a gamma distribution and the black line is an estimated chi square density."
   ]
  },
  {
   "cell_type": "code",
   "execution_count": null,
   "metadata": {
    "scrolled": true
   },
   "outputs": [],
   "source": [
    "x = np.random.gamma(6, size=400)\n",
    "sns.distplot(x, kde=False, fit=stats.chi2)"
   ]
  },
  {
   "cell_type": "markdown",
   "metadata": {},
   "source": [
    "Now lets generate some 2-dimensional data from a multivariate normal distribution."
   ]
  },
  {
   "cell_type": "code",
   "execution_count": null,
   "metadata": {},
   "outputs": [],
   "source": [
    "mean, cov = [0, 1], [[1, .5], [.5, 1]]\n",
    "data = np.random.multivariate_normal(mean, cov, 200)\n",
    "df = pd.DataFrame(data, columns=[\"var 1\", \"var 2\"])\n",
    "df.sample(3)"
   ]
  },
  {
   "cell_type": "code",
   "execution_count": null,
   "metadata": {
    "scrolled": false
   },
   "outputs": [],
   "source": [
    "sns.jointplot(x='var 1', y='var 2', data=df)  # try different kinds (hex, kde)"
   ]
  },
  {
   "cell_type": "markdown",
   "metadata": {},
   "source": [
    "The seaborn library has **example datasets** that you can grab using `sns.load_dataset()` method. For the next examples we are going to use the \"Tips\" dataset."
   ]
  },
  {
   "cell_type": "code",
   "execution_count": null,
   "metadata": {},
   "outputs": [],
   "source": [
    "tips = sns.load_dataset(\"tips\")\n",
    "tips.sample(5)"
   ]
  },
  {
   "cell_type": "code",
   "execution_count": null,
   "metadata": {},
   "outputs": [],
   "source": [
    "sns.pairplot(tips)"
   ]
  },
  {
   "cell_type": "markdown",
   "metadata": {},
   "source": [
    "`stripplot` and `swarmplot` are charts that show **all of the observations**"
   ]
  },
  {
   "cell_type": "code",
   "execution_count": null,
   "metadata": {},
   "outputs": [],
   "source": [
    "sns.stripplot(x=\"day\", y=\"total_bill\", data=tips)  # try jitter=True"
   ]
  },
  {
   "cell_type": "code",
   "execution_count": null,
   "metadata": {},
   "outputs": [],
   "source": [
    "sns.swarmplot(x=\"day\", y=\"total_bill\", data=tips)  # try hue='sex'"
   ]
  },
  {
   "cell_type": "markdown",
   "metadata": {},
   "source": [
    "`boxplot` and `violinplot` are charts that show **representations of the data distribution**"
   ]
  },
  {
   "cell_type": "code",
   "execution_count": null,
   "metadata": {},
   "outputs": [],
   "source": [
    "sns.boxplot(x=\"day\", y=\"total_bill\", hue=\"time\", data=tips)"
   ]
  },
  {
   "cell_type": "code",
   "execution_count": null,
   "metadata": {},
   "outputs": [],
   "source": [
    "sns.violinplot(x=\"day\", y=\"total_bill\", hue=\"sex\", data=tips, split=True)  # try split=True"
   ]
  },
  {
   "cell_type": "markdown",
   "metadata": {},
   "source": [
    "We can also look ad the **relationship between variables** using `regplot` and `lmplot`"
   ]
  },
  {
   "cell_type": "code",
   "execution_count": null,
   "metadata": {},
   "outputs": [],
   "source": [
    "sns.regplot(x=\"total_bill\", y=\"tip\", data=tips)  # try ci=False"
   ]
  },
  {
   "cell_type": "code",
   "execution_count": null,
   "metadata": {
    "scrolled": false
   },
   "outputs": [],
   "source": [
    "#sns.lmplot(x=\"total_bill\", y=\"tip\", hue=\"smoker\", col=\"time\", row=\"sex\", ci=False, data=tips)\n",
    "sns.lmplot(x=\"total_bill\", y=\"tip\", data=tips)"
   ]
  },
  {
   "cell_type": "markdown",
   "metadata": {},
   "source": [
    "# Example with Exchange Rates - Correlations Heatmap\n",
    "Let's load some exchange rate series, compute their returns and their correlations and draw a cluster heatmap. This chart allows you to see correlations, dendrograms and classifications at the same time."
   ]
  },
  {
   "cell_type": "code",
   "execution_count": null,
   "metadata": {},
   "outputs": [],
   "source": [
    "df_fx = pd.read_excel('data/moedas.xlsx', index_col=0)\n",
    "df_returns = df_fx.pct_change(1).dropna(how='any')"
   ]
  },
  {
   "cell_type": "markdown",
   "metadata": {},
   "source": [
    "We can group the currencies between Emerging Markets (EM, orage label) and Developed Markets(DM, green label)"
   ]
  },
  {
   "cell_type": "code",
   "execution_count": null,
   "metadata": {},
   "outputs": [],
   "source": [
    "EM_fx = ['USDZAR', 'USDTRY', 'USDMXN', 'USDCLP', 'USDBRL', 'USDCOP', 'USDIDR']\n",
    "DM_fx = ['USDGBP', 'USDEUR', 'USDJPY', 'USDCAD', 'USDCHF', 'USDSEK', 'USDAUD', 'USDNZD', 'USDNOK']\n",
    "\n",
    "label_colors = ['orange' if c in EM_fx else 'green' for c in df_returns.columns]\n",
    "label_colors"
   ]
  },
  {
   "cell_type": "code",
   "execution_count": null,
   "metadata": {},
   "outputs": [],
   "source": [
    "sns.clustermap(df_returns.corr(), cmap='vlag', linewidths=1, figsize=(12, 12), method='complete', metric='correlation', row_colors=label_colors, col_colors=label_colors)"
   ]
  },
  {
   "cell_type": "markdown",
   "metadata": {},
   "source": [
    "The [clustermap documentation](https://seaborn.pydata.org/generated/seaborn.clustermap.html) shows how easy it is to customize this chart, both in terms of design and in terms of statistics."
   ]
  }
 ],
 "metadata": {
  "kernelspec": {
   "display_name": "Python 3",
   "language": "python",
   "name": "python3"
  },
  "language_info": {
   "codemirror_mode": {
    "name": "ipython",
    "version": 3
   },
   "file_extension": ".py",
   "mimetype": "text/x-python",
   "name": "python",
   "nbconvert_exporter": "python",
   "pygments_lexer": "ipython3",
   "version": "3.7.3"
  }
 },
 "nbformat": 4,
 "nbformat_minor": 2
}
