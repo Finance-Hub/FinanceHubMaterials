{
 "cells": [
  {
   "cell_type": "markdown",
   "metadata": {},
   "source": [
    "# Section 9 - Web Scraping and Web Crawling\n",
    "Data from websites are not always neatly organized. We call this **unstructured data**. Most webpages are rendered in **HTML**, a programming language designed for layout and formatting. But in order to understand how to work with unstructured data from websites we need to know a little bit of HTML. CodeAcademy has a great free [HTML tutorial](https://www.codecademy.com/learn/learn-html), which covers even more than what we need for this section. We are also going to use a little bit of **regular expressions** (or RegEx), which is a special string describing a search pattern. And here is a great [RegEx tutorial](https://regexone.com/).\n",
    "\n",
    "Now that we know the basics of HTML, you should also learn how to **open the source code panel** of your web browser. If you are using Google Chrome, just press F12. If you are using Safari on a Mac, you need to **enable the developer menu**:\n",
    "1. Click on *Safari Menu* > *Preferences* > *Advanced*\n",
    "1. Check the *\"show Develop menu in the menu bar\"*\n",
    "1. Now there a is a drop down menu called *Develop*, with the *view source* option.\n",
    "\n",
    "In this notebook we are going to use some new libraries:\n",
    "* **`requests`**: Allows to grab the source code and other characteristics of a webpage.\n",
    "* **`BeaultifulSoup4`**: Interprets text as sorce code and lets you grab the parts you want.\n",
    "* **`re`**: The RegEx module that is already built in python."
   ]
  },
  {
   "cell_type": "code",
   "execution_count": 2,
   "metadata": {},
   "outputs": [],
   "source": [
    "import requests\n",
    "from bs4 import BeautifulSoup as bs\n",
    "import re\n",
    "import pandas as pd\n",
    "from tqdm import tqdm"
   ]
  },
  {
   "cell_type": "markdown",
   "metadata": {},
   "source": [
    "For now, our target is going to the **G1 website**.\n",
    "\n",
    "https://g1.globo.com/\n",
    "\n",
    "We can use the requests library to `get` the contents of the page."
   ]
  },
  {
   "cell_type": "code",
   "execution_count": 3,
   "metadata": {},
   "outputs": [
    {
     "ename": "SSLError",
     "evalue": "HTTPSConnectionPool(host='g1.globo.com', port=443): Max retries exceeded with url: / (Caused by SSLError(SSLError(\"bad handshake: Error([('SSL routines', 'tls_process_server_certificate', 'certificate verify failed')])\")))",
     "output_type": "error",
     "traceback": [
      "\u001b[1;31m---------------------------------------------------------------------------\u001b[0m",
      "\u001b[1;31mError\u001b[0m                                     Traceback (most recent call last)",
      "\u001b[1;32m~\\AppData\\Local\\Continuum\\anaconda3\\lib\\site-packages\\urllib3\\contrib\\pyopenssl.py\u001b[0m in \u001b[0;36mwrap_socket\u001b[1;34m(self, sock, server_side, do_handshake_on_connect, suppress_ragged_eofs, server_hostname)\u001b[0m\n\u001b[0;32m    452\u001b[0m             \u001b[1;32mtry\u001b[0m\u001b[1;33m:\u001b[0m\u001b[1;33m\u001b[0m\u001b[1;33m\u001b[0m\u001b[0m\n\u001b[1;32m--> 453\u001b[1;33m                 \u001b[0mcnx\u001b[0m\u001b[1;33m.\u001b[0m\u001b[0mdo_handshake\u001b[0m\u001b[1;33m(\u001b[0m\u001b[1;33m)\u001b[0m\u001b[1;33m\u001b[0m\u001b[1;33m\u001b[0m\u001b[0m\n\u001b[0m\u001b[0;32m    454\u001b[0m             \u001b[1;32mexcept\u001b[0m \u001b[0mOpenSSL\u001b[0m\u001b[1;33m.\u001b[0m\u001b[0mSSL\u001b[0m\u001b[1;33m.\u001b[0m\u001b[0mWantReadError\u001b[0m\u001b[1;33m:\u001b[0m\u001b[1;33m\u001b[0m\u001b[1;33m\u001b[0m\u001b[0m\n",
      "\u001b[1;32m~\\AppData\\Local\\Continuum\\anaconda3\\lib\\site-packages\\OpenSSL\\SSL.py\u001b[0m in \u001b[0;36mdo_handshake\u001b[1;34m(self)\u001b[0m\n\u001b[0;32m   1914\u001b[0m         \u001b[0mresult\u001b[0m \u001b[1;33m=\u001b[0m \u001b[0m_lib\u001b[0m\u001b[1;33m.\u001b[0m\u001b[0mSSL_do_handshake\u001b[0m\u001b[1;33m(\u001b[0m\u001b[0mself\u001b[0m\u001b[1;33m.\u001b[0m\u001b[0m_ssl\u001b[0m\u001b[1;33m)\u001b[0m\u001b[1;33m\u001b[0m\u001b[1;33m\u001b[0m\u001b[0m\n\u001b[1;32m-> 1915\u001b[1;33m         \u001b[0mself\u001b[0m\u001b[1;33m.\u001b[0m\u001b[0m_raise_ssl_error\u001b[0m\u001b[1;33m(\u001b[0m\u001b[0mself\u001b[0m\u001b[1;33m.\u001b[0m\u001b[0m_ssl\u001b[0m\u001b[1;33m,\u001b[0m \u001b[0mresult\u001b[0m\u001b[1;33m)\u001b[0m\u001b[1;33m\u001b[0m\u001b[1;33m\u001b[0m\u001b[0m\n\u001b[0m\u001b[0;32m   1916\u001b[0m \u001b[1;33m\u001b[0m\u001b[0m\n",
      "\u001b[1;32m~\\AppData\\Local\\Continuum\\anaconda3\\lib\\site-packages\\OpenSSL\\SSL.py\u001b[0m in \u001b[0;36m_raise_ssl_error\u001b[1;34m(self, ssl, result)\u001b[0m\n\u001b[0;32m   1646\u001b[0m         \u001b[1;32melse\u001b[0m\u001b[1;33m:\u001b[0m\u001b[1;33m\u001b[0m\u001b[1;33m\u001b[0m\u001b[0m\n\u001b[1;32m-> 1647\u001b[1;33m             \u001b[0m_raise_current_error\u001b[0m\u001b[1;33m(\u001b[0m\u001b[1;33m)\u001b[0m\u001b[1;33m\u001b[0m\u001b[1;33m\u001b[0m\u001b[0m\n\u001b[0m\u001b[0;32m   1648\u001b[0m \u001b[1;33m\u001b[0m\u001b[0m\n",
      "\u001b[1;32m~\\AppData\\Local\\Continuum\\anaconda3\\lib\\site-packages\\OpenSSL\\_util.py\u001b[0m in \u001b[0;36mexception_from_error_queue\u001b[1;34m(exception_type)\u001b[0m\n\u001b[0;32m     53\u001b[0m \u001b[1;33m\u001b[0m\u001b[0m\n\u001b[1;32m---> 54\u001b[1;33m     \u001b[1;32mraise\u001b[0m \u001b[0mexception_type\u001b[0m\u001b[1;33m(\u001b[0m\u001b[0merrors\u001b[0m\u001b[1;33m)\u001b[0m\u001b[1;33m\u001b[0m\u001b[1;33m\u001b[0m\u001b[0m\n\u001b[0m\u001b[0;32m     55\u001b[0m \u001b[1;33m\u001b[0m\u001b[0m\n",
      "\u001b[1;31mError\u001b[0m: [('SSL routines', 'tls_process_server_certificate', 'certificate verify failed')]",
      "\nDuring handling of the above exception, another exception occurred:\n",
      "\u001b[1;31mSSLError\u001b[0m                                  Traceback (most recent call last)",
      "\u001b[1;32m~\\AppData\\Local\\Continuum\\anaconda3\\lib\\site-packages\\urllib3\\connectionpool.py\u001b[0m in \u001b[0;36murlopen\u001b[1;34m(self, method, url, body, headers, retries, redirect, assert_same_host, timeout, pool_timeout, release_conn, chunked, body_pos, **response_kw)\u001b[0m\n\u001b[0;32m    599\u001b[0m                                                   \u001b[0mbody\u001b[0m\u001b[1;33m=\u001b[0m\u001b[0mbody\u001b[0m\u001b[1;33m,\u001b[0m \u001b[0mheaders\u001b[0m\u001b[1;33m=\u001b[0m\u001b[0mheaders\u001b[0m\u001b[1;33m,\u001b[0m\u001b[1;33m\u001b[0m\u001b[1;33m\u001b[0m\u001b[0m\n\u001b[1;32m--> 600\u001b[1;33m                                                   chunked=chunked)\n\u001b[0m\u001b[0;32m    601\u001b[0m \u001b[1;33m\u001b[0m\u001b[0m\n",
      "\u001b[1;32m~\\AppData\\Local\\Continuum\\anaconda3\\lib\\site-packages\\urllib3\\connectionpool.py\u001b[0m in \u001b[0;36m_make_request\u001b[1;34m(self, conn, method, url, timeout, chunked, **httplib_request_kw)\u001b[0m\n\u001b[0;32m    342\u001b[0m         \u001b[1;32mtry\u001b[0m\u001b[1;33m:\u001b[0m\u001b[1;33m\u001b[0m\u001b[1;33m\u001b[0m\u001b[0m\n\u001b[1;32m--> 343\u001b[1;33m             \u001b[0mself\u001b[0m\u001b[1;33m.\u001b[0m\u001b[0m_validate_conn\u001b[0m\u001b[1;33m(\u001b[0m\u001b[0mconn\u001b[0m\u001b[1;33m)\u001b[0m\u001b[1;33m\u001b[0m\u001b[1;33m\u001b[0m\u001b[0m\n\u001b[0m\u001b[0;32m    344\u001b[0m         \u001b[1;32mexcept\u001b[0m \u001b[1;33m(\u001b[0m\u001b[0mSocketTimeout\u001b[0m\u001b[1;33m,\u001b[0m \u001b[0mBaseSSLError\u001b[0m\u001b[1;33m)\u001b[0m \u001b[1;32mas\u001b[0m \u001b[0me\u001b[0m\u001b[1;33m:\u001b[0m\u001b[1;33m\u001b[0m\u001b[1;33m\u001b[0m\u001b[0m\n",
      "\u001b[1;32m~\\AppData\\Local\\Continuum\\anaconda3\\lib\\site-packages\\urllib3\\connectionpool.py\u001b[0m in \u001b[0;36m_validate_conn\u001b[1;34m(self, conn)\u001b[0m\n\u001b[0;32m    838\u001b[0m         \u001b[1;32mif\u001b[0m \u001b[1;32mnot\u001b[0m \u001b[0mgetattr\u001b[0m\u001b[1;33m(\u001b[0m\u001b[0mconn\u001b[0m\u001b[1;33m,\u001b[0m \u001b[1;34m'sock'\u001b[0m\u001b[1;33m,\u001b[0m \u001b[1;32mNone\u001b[0m\u001b[1;33m)\u001b[0m\u001b[1;33m:\u001b[0m  \u001b[1;31m# AppEngine might not have  `.sock`\u001b[0m\u001b[1;33m\u001b[0m\u001b[1;33m\u001b[0m\u001b[0m\n\u001b[1;32m--> 839\u001b[1;33m             \u001b[0mconn\u001b[0m\u001b[1;33m.\u001b[0m\u001b[0mconnect\u001b[0m\u001b[1;33m(\u001b[0m\u001b[1;33m)\u001b[0m\u001b[1;33m\u001b[0m\u001b[1;33m\u001b[0m\u001b[0m\n\u001b[0m\u001b[0;32m    840\u001b[0m \u001b[1;33m\u001b[0m\u001b[0m\n",
      "\u001b[1;32m~\\AppData\\Local\\Continuum\\anaconda3\\lib\\site-packages\\urllib3\\connection.py\u001b[0m in \u001b[0;36mconnect\u001b[1;34m(self)\u001b[0m\n\u001b[0;32m    343\u001b[0m             \u001b[0mserver_hostname\u001b[0m\u001b[1;33m=\u001b[0m\u001b[0mserver_hostname\u001b[0m\u001b[1;33m,\u001b[0m\u001b[1;33m\u001b[0m\u001b[1;33m\u001b[0m\u001b[0m\n\u001b[1;32m--> 344\u001b[1;33m             ssl_context=context)\n\u001b[0m\u001b[0;32m    345\u001b[0m \u001b[1;33m\u001b[0m\u001b[0m\n",
      "\u001b[1;32m~\\AppData\\Local\\Continuum\\anaconda3\\lib\\site-packages\\urllib3\\util\\ssl_.py\u001b[0m in \u001b[0;36mssl_wrap_socket\u001b[1;34m(sock, keyfile, certfile, cert_reqs, ca_certs, server_hostname, ssl_version, ciphers, ssl_context, ca_cert_dir)\u001b[0m\n\u001b[0;32m    343\u001b[0m         \u001b[1;32mif\u001b[0m \u001b[0mHAS_SNI\u001b[0m \u001b[1;32mand\u001b[0m \u001b[0mserver_hostname\u001b[0m \u001b[1;32mis\u001b[0m \u001b[1;32mnot\u001b[0m \u001b[1;32mNone\u001b[0m\u001b[1;33m:\u001b[0m\u001b[1;33m\u001b[0m\u001b[1;33m\u001b[0m\u001b[0m\n\u001b[1;32m--> 344\u001b[1;33m             \u001b[1;32mreturn\u001b[0m \u001b[0mcontext\u001b[0m\u001b[1;33m.\u001b[0m\u001b[0mwrap_socket\u001b[0m\u001b[1;33m(\u001b[0m\u001b[0msock\u001b[0m\u001b[1;33m,\u001b[0m \u001b[0mserver_hostname\u001b[0m\u001b[1;33m=\u001b[0m\u001b[0mserver_hostname\u001b[0m\u001b[1;33m)\u001b[0m\u001b[1;33m\u001b[0m\u001b[1;33m\u001b[0m\u001b[0m\n\u001b[0m\u001b[0;32m    345\u001b[0m \u001b[1;33m\u001b[0m\u001b[0m\n",
      "\u001b[1;32m~\\AppData\\Local\\Continuum\\anaconda3\\lib\\site-packages\\urllib3\\contrib\\pyopenssl.py\u001b[0m in \u001b[0;36mwrap_socket\u001b[1;34m(self, sock, server_side, do_handshake_on_connect, suppress_ragged_eofs, server_hostname)\u001b[0m\n\u001b[0;32m    458\u001b[0m             \u001b[1;32mexcept\u001b[0m \u001b[0mOpenSSL\u001b[0m\u001b[1;33m.\u001b[0m\u001b[0mSSL\u001b[0m\u001b[1;33m.\u001b[0m\u001b[0mError\u001b[0m \u001b[1;32mas\u001b[0m \u001b[0me\u001b[0m\u001b[1;33m:\u001b[0m\u001b[1;33m\u001b[0m\u001b[1;33m\u001b[0m\u001b[0m\n\u001b[1;32m--> 459\u001b[1;33m                 \u001b[1;32mraise\u001b[0m \u001b[0mssl\u001b[0m\u001b[1;33m.\u001b[0m\u001b[0mSSLError\u001b[0m\u001b[1;33m(\u001b[0m\u001b[1;34m'bad handshake: %r'\u001b[0m \u001b[1;33m%\u001b[0m \u001b[0me\u001b[0m\u001b[1;33m)\u001b[0m\u001b[1;33m\u001b[0m\u001b[1;33m\u001b[0m\u001b[0m\n\u001b[0m\u001b[0;32m    460\u001b[0m             \u001b[1;32mbreak\u001b[0m\u001b[1;33m\u001b[0m\u001b[1;33m\u001b[0m\u001b[0m\n",
      "\u001b[1;31mSSLError\u001b[0m: (\"bad handshake: Error([('SSL routines', 'tls_process_server_certificate', 'certificate verify failed')])\",)",
      "\nDuring handling of the above exception, another exception occurred:\n",
      "\u001b[1;31mMaxRetryError\u001b[0m                             Traceback (most recent call last)",
      "\u001b[1;32m~\\AppData\\Local\\Continuum\\anaconda3\\lib\\site-packages\\requests\\adapters.py\u001b[0m in \u001b[0;36msend\u001b[1;34m(self, request, stream, timeout, verify, cert, proxies)\u001b[0m\n\u001b[0;32m    448\u001b[0m                     \u001b[0mretries\u001b[0m\u001b[1;33m=\u001b[0m\u001b[0mself\u001b[0m\u001b[1;33m.\u001b[0m\u001b[0mmax_retries\u001b[0m\u001b[1;33m,\u001b[0m\u001b[1;33m\u001b[0m\u001b[1;33m\u001b[0m\u001b[0m\n\u001b[1;32m--> 449\u001b[1;33m                     \u001b[0mtimeout\u001b[0m\u001b[1;33m=\u001b[0m\u001b[0mtimeout\u001b[0m\u001b[1;33m\u001b[0m\u001b[1;33m\u001b[0m\u001b[0m\n\u001b[0m\u001b[0;32m    450\u001b[0m                 )\n",
      "\u001b[1;32m~\\AppData\\Local\\Continuum\\anaconda3\\lib\\site-packages\\urllib3\\connectionpool.py\u001b[0m in \u001b[0;36murlopen\u001b[1;34m(self, method, url, body, headers, retries, redirect, assert_same_host, timeout, pool_timeout, release_conn, chunked, body_pos, **response_kw)\u001b[0m\n\u001b[0;32m    637\u001b[0m             retries = retries.increment(method, url, error=e, _pool=self,\n\u001b[1;32m--> 638\u001b[1;33m                                         _stacktrace=sys.exc_info()[2])\n\u001b[0m\u001b[0;32m    639\u001b[0m             \u001b[0mretries\u001b[0m\u001b[1;33m.\u001b[0m\u001b[0msleep\u001b[0m\u001b[1;33m(\u001b[0m\u001b[1;33m)\u001b[0m\u001b[1;33m\u001b[0m\u001b[1;33m\u001b[0m\u001b[0m\n",
      "\u001b[1;32m~\\AppData\\Local\\Continuum\\anaconda3\\lib\\site-packages\\urllib3\\util\\retry.py\u001b[0m in \u001b[0;36mincrement\u001b[1;34m(self, method, url, response, error, _pool, _stacktrace)\u001b[0m\n\u001b[0;32m    397\u001b[0m         \u001b[1;32mif\u001b[0m \u001b[0mnew_retry\u001b[0m\u001b[1;33m.\u001b[0m\u001b[0mis_exhausted\u001b[0m\u001b[1;33m(\u001b[0m\u001b[1;33m)\u001b[0m\u001b[1;33m:\u001b[0m\u001b[1;33m\u001b[0m\u001b[1;33m\u001b[0m\u001b[0m\n\u001b[1;32m--> 398\u001b[1;33m             \u001b[1;32mraise\u001b[0m \u001b[0mMaxRetryError\u001b[0m\u001b[1;33m(\u001b[0m\u001b[0m_pool\u001b[0m\u001b[1;33m,\u001b[0m \u001b[0murl\u001b[0m\u001b[1;33m,\u001b[0m \u001b[0merror\u001b[0m \u001b[1;32mor\u001b[0m \u001b[0mResponseError\u001b[0m\u001b[1;33m(\u001b[0m\u001b[0mcause\u001b[0m\u001b[1;33m)\u001b[0m\u001b[1;33m)\u001b[0m\u001b[1;33m\u001b[0m\u001b[1;33m\u001b[0m\u001b[0m\n\u001b[0m\u001b[0;32m    399\u001b[0m \u001b[1;33m\u001b[0m\u001b[0m\n",
      "\u001b[1;31mMaxRetryError\u001b[0m: HTTPSConnectionPool(host='g1.globo.com', port=443): Max retries exceeded with url: / (Caused by SSLError(SSLError(\"bad handshake: Error([('SSL routines', 'tls_process_server_certificate', 'certificate verify failed')])\")))",
      "\nDuring handling of the above exception, another exception occurred:\n",
      "\u001b[1;31mSSLError\u001b[0m                                  Traceback (most recent call last)",
      "\u001b[1;32m<ipython-input-3-c4eec1a2e7e6>\u001b[0m in \u001b[0;36m<module>\u001b[1;34m\u001b[0m\n\u001b[1;32m----> 1\u001b[1;33m \u001b[0mresponse\u001b[0m \u001b[1;33m=\u001b[0m \u001b[0mrequests\u001b[0m\u001b[1;33m.\u001b[0m\u001b[0mget\u001b[0m\u001b[1;33m(\u001b[0m\u001b[1;34m'http://g1.globo.com'\u001b[0m\u001b[1;33m)\u001b[0m\u001b[1;33m\u001b[0m\u001b[1;33m\u001b[0m\u001b[0m\n\u001b[0m\u001b[0;32m      2\u001b[0m \u001b[0mtype\u001b[0m\u001b[1;33m(\u001b[0m\u001b[0mresponse\u001b[0m\u001b[1;33m)\u001b[0m\u001b[1;33m\u001b[0m\u001b[1;33m\u001b[0m\u001b[0m\n",
      "\u001b[1;32m~\\AppData\\Local\\Continuum\\anaconda3\\lib\\site-packages\\requests\\api.py\u001b[0m in \u001b[0;36mget\u001b[1;34m(url, params, **kwargs)\u001b[0m\n\u001b[0;32m     73\u001b[0m \u001b[1;33m\u001b[0m\u001b[0m\n\u001b[0;32m     74\u001b[0m     \u001b[0mkwargs\u001b[0m\u001b[1;33m.\u001b[0m\u001b[0msetdefault\u001b[0m\u001b[1;33m(\u001b[0m\u001b[1;34m'allow_redirects'\u001b[0m\u001b[1;33m,\u001b[0m \u001b[1;32mTrue\u001b[0m\u001b[1;33m)\u001b[0m\u001b[1;33m\u001b[0m\u001b[1;33m\u001b[0m\u001b[0m\n\u001b[1;32m---> 75\u001b[1;33m     \u001b[1;32mreturn\u001b[0m \u001b[0mrequest\u001b[0m\u001b[1;33m(\u001b[0m\u001b[1;34m'get'\u001b[0m\u001b[1;33m,\u001b[0m \u001b[0murl\u001b[0m\u001b[1;33m,\u001b[0m \u001b[0mparams\u001b[0m\u001b[1;33m=\u001b[0m\u001b[0mparams\u001b[0m\u001b[1;33m,\u001b[0m \u001b[1;33m**\u001b[0m\u001b[0mkwargs\u001b[0m\u001b[1;33m)\u001b[0m\u001b[1;33m\u001b[0m\u001b[1;33m\u001b[0m\u001b[0m\n\u001b[0m\u001b[0;32m     76\u001b[0m \u001b[1;33m\u001b[0m\u001b[0m\n\u001b[0;32m     77\u001b[0m \u001b[1;33m\u001b[0m\u001b[0m\n",
      "\u001b[1;32m~\\AppData\\Local\\Continuum\\anaconda3\\lib\\site-packages\\requests\\api.py\u001b[0m in \u001b[0;36mrequest\u001b[1;34m(method, url, **kwargs)\u001b[0m\n\u001b[0;32m     58\u001b[0m     \u001b[1;31m# cases, and look like a memory leak in others.\u001b[0m\u001b[1;33m\u001b[0m\u001b[1;33m\u001b[0m\u001b[1;33m\u001b[0m\u001b[0m\n\u001b[0;32m     59\u001b[0m     \u001b[1;32mwith\u001b[0m \u001b[0msessions\u001b[0m\u001b[1;33m.\u001b[0m\u001b[0mSession\u001b[0m\u001b[1;33m(\u001b[0m\u001b[1;33m)\u001b[0m \u001b[1;32mas\u001b[0m \u001b[0msession\u001b[0m\u001b[1;33m:\u001b[0m\u001b[1;33m\u001b[0m\u001b[1;33m\u001b[0m\u001b[0m\n\u001b[1;32m---> 60\u001b[1;33m         \u001b[1;32mreturn\u001b[0m \u001b[0msession\u001b[0m\u001b[1;33m.\u001b[0m\u001b[0mrequest\u001b[0m\u001b[1;33m(\u001b[0m\u001b[0mmethod\u001b[0m\u001b[1;33m=\u001b[0m\u001b[0mmethod\u001b[0m\u001b[1;33m,\u001b[0m \u001b[0murl\u001b[0m\u001b[1;33m=\u001b[0m\u001b[0murl\u001b[0m\u001b[1;33m,\u001b[0m \u001b[1;33m**\u001b[0m\u001b[0mkwargs\u001b[0m\u001b[1;33m)\u001b[0m\u001b[1;33m\u001b[0m\u001b[1;33m\u001b[0m\u001b[0m\n\u001b[0m\u001b[0;32m     61\u001b[0m \u001b[1;33m\u001b[0m\u001b[0m\n\u001b[0;32m     62\u001b[0m \u001b[1;33m\u001b[0m\u001b[0m\n",
      "\u001b[1;32m~\\AppData\\Local\\Continuum\\anaconda3\\lib\\site-packages\\requests\\sessions.py\u001b[0m in \u001b[0;36mrequest\u001b[1;34m(self, method, url, params, data, headers, cookies, files, auth, timeout, allow_redirects, proxies, hooks, stream, verify, cert, json)\u001b[0m\n\u001b[0;32m    531\u001b[0m         }\n\u001b[0;32m    532\u001b[0m         \u001b[0msend_kwargs\u001b[0m\u001b[1;33m.\u001b[0m\u001b[0mupdate\u001b[0m\u001b[1;33m(\u001b[0m\u001b[0msettings\u001b[0m\u001b[1;33m)\u001b[0m\u001b[1;33m\u001b[0m\u001b[1;33m\u001b[0m\u001b[0m\n\u001b[1;32m--> 533\u001b[1;33m         \u001b[0mresp\u001b[0m \u001b[1;33m=\u001b[0m \u001b[0mself\u001b[0m\u001b[1;33m.\u001b[0m\u001b[0msend\u001b[0m\u001b[1;33m(\u001b[0m\u001b[0mprep\u001b[0m\u001b[1;33m,\u001b[0m \u001b[1;33m**\u001b[0m\u001b[0msend_kwargs\u001b[0m\u001b[1;33m)\u001b[0m\u001b[1;33m\u001b[0m\u001b[1;33m\u001b[0m\u001b[0m\n\u001b[0m\u001b[0;32m    534\u001b[0m \u001b[1;33m\u001b[0m\u001b[0m\n\u001b[0;32m    535\u001b[0m         \u001b[1;32mreturn\u001b[0m \u001b[0mresp\u001b[0m\u001b[1;33m\u001b[0m\u001b[1;33m\u001b[0m\u001b[0m\n",
      "\u001b[1;32m~\\AppData\\Local\\Continuum\\anaconda3\\lib\\site-packages\\requests\\sessions.py\u001b[0m in \u001b[0;36msend\u001b[1;34m(self, request, **kwargs)\u001b[0m\n\u001b[0;32m    666\u001b[0m \u001b[1;33m\u001b[0m\u001b[0m\n\u001b[0;32m    667\u001b[0m         \u001b[1;31m# Resolve redirects if allowed.\u001b[0m\u001b[1;33m\u001b[0m\u001b[1;33m\u001b[0m\u001b[1;33m\u001b[0m\u001b[0m\n\u001b[1;32m--> 668\u001b[1;33m         \u001b[0mhistory\u001b[0m \u001b[1;33m=\u001b[0m \u001b[1;33m[\u001b[0m\u001b[0mresp\u001b[0m \u001b[1;32mfor\u001b[0m \u001b[0mresp\u001b[0m \u001b[1;32min\u001b[0m \u001b[0mgen\u001b[0m\u001b[1;33m]\u001b[0m \u001b[1;32mif\u001b[0m \u001b[0mallow_redirects\u001b[0m \u001b[1;32melse\u001b[0m \u001b[1;33m[\u001b[0m\u001b[1;33m]\u001b[0m\u001b[1;33m\u001b[0m\u001b[1;33m\u001b[0m\u001b[0m\n\u001b[0m\u001b[0;32m    669\u001b[0m \u001b[1;33m\u001b[0m\u001b[0m\n\u001b[0;32m    670\u001b[0m         \u001b[1;31m# Shuffle things around if there's history.\u001b[0m\u001b[1;33m\u001b[0m\u001b[1;33m\u001b[0m\u001b[1;33m\u001b[0m\u001b[0m\n",
      "\u001b[1;32m~\\AppData\\Local\\Continuum\\anaconda3\\lib\\site-packages\\requests\\sessions.py\u001b[0m in \u001b[0;36m<listcomp>\u001b[1;34m(.0)\u001b[0m\n\u001b[0;32m    666\u001b[0m \u001b[1;33m\u001b[0m\u001b[0m\n\u001b[0;32m    667\u001b[0m         \u001b[1;31m# Resolve redirects if allowed.\u001b[0m\u001b[1;33m\u001b[0m\u001b[1;33m\u001b[0m\u001b[1;33m\u001b[0m\u001b[0m\n\u001b[1;32m--> 668\u001b[1;33m         \u001b[0mhistory\u001b[0m \u001b[1;33m=\u001b[0m \u001b[1;33m[\u001b[0m\u001b[0mresp\u001b[0m \u001b[1;32mfor\u001b[0m \u001b[0mresp\u001b[0m \u001b[1;32min\u001b[0m \u001b[0mgen\u001b[0m\u001b[1;33m]\u001b[0m \u001b[1;32mif\u001b[0m \u001b[0mallow_redirects\u001b[0m \u001b[1;32melse\u001b[0m \u001b[1;33m[\u001b[0m\u001b[1;33m]\u001b[0m\u001b[1;33m\u001b[0m\u001b[1;33m\u001b[0m\u001b[0m\n\u001b[0m\u001b[0;32m    669\u001b[0m \u001b[1;33m\u001b[0m\u001b[0m\n\u001b[0;32m    670\u001b[0m         \u001b[1;31m# Shuffle things around if there's history.\u001b[0m\u001b[1;33m\u001b[0m\u001b[1;33m\u001b[0m\u001b[1;33m\u001b[0m\u001b[0m\n",
      "\u001b[1;32m~\\AppData\\Local\\Continuum\\anaconda3\\lib\\site-packages\\requests\\sessions.py\u001b[0m in \u001b[0;36mresolve_redirects\u001b[1;34m(self, resp, req, stream, timeout, verify, cert, proxies, yield_requests, **adapter_kwargs)\u001b[0m\n\u001b[0;32m    245\u001b[0m                     \u001b[0mproxies\u001b[0m\u001b[1;33m=\u001b[0m\u001b[0mproxies\u001b[0m\u001b[1;33m,\u001b[0m\u001b[1;33m\u001b[0m\u001b[1;33m\u001b[0m\u001b[0m\n\u001b[0;32m    246\u001b[0m                     \u001b[0mallow_redirects\u001b[0m\u001b[1;33m=\u001b[0m\u001b[1;32mFalse\u001b[0m\u001b[1;33m,\u001b[0m\u001b[1;33m\u001b[0m\u001b[1;33m\u001b[0m\u001b[0m\n\u001b[1;32m--> 247\u001b[1;33m                     \u001b[1;33m**\u001b[0m\u001b[0madapter_kwargs\u001b[0m\u001b[1;33m\u001b[0m\u001b[1;33m\u001b[0m\u001b[0m\n\u001b[0m\u001b[0;32m    248\u001b[0m                 )\n\u001b[0;32m    249\u001b[0m \u001b[1;33m\u001b[0m\u001b[0m\n",
      "\u001b[1;32m~\\AppData\\Local\\Continuum\\anaconda3\\lib\\site-packages\\requests\\sessions.py\u001b[0m in \u001b[0;36msend\u001b[1;34m(self, request, **kwargs)\u001b[0m\n\u001b[0;32m    644\u001b[0m \u001b[1;33m\u001b[0m\u001b[0m\n\u001b[0;32m    645\u001b[0m         \u001b[1;31m# Send the request\u001b[0m\u001b[1;33m\u001b[0m\u001b[1;33m\u001b[0m\u001b[1;33m\u001b[0m\u001b[0m\n\u001b[1;32m--> 646\u001b[1;33m         \u001b[0mr\u001b[0m \u001b[1;33m=\u001b[0m \u001b[0madapter\u001b[0m\u001b[1;33m.\u001b[0m\u001b[0msend\u001b[0m\u001b[1;33m(\u001b[0m\u001b[0mrequest\u001b[0m\u001b[1;33m,\u001b[0m \u001b[1;33m**\u001b[0m\u001b[0mkwargs\u001b[0m\u001b[1;33m)\u001b[0m\u001b[1;33m\u001b[0m\u001b[1;33m\u001b[0m\u001b[0m\n\u001b[0m\u001b[0;32m    647\u001b[0m \u001b[1;33m\u001b[0m\u001b[0m\n\u001b[0;32m    648\u001b[0m         \u001b[1;31m# Total elapsed time of the request (approximately)\u001b[0m\u001b[1;33m\u001b[0m\u001b[1;33m\u001b[0m\u001b[1;33m\u001b[0m\u001b[0m\n",
      "\u001b[1;32m~\\AppData\\Local\\Continuum\\anaconda3\\lib\\site-packages\\requests\\adapters.py\u001b[0m in \u001b[0;36msend\u001b[1;34m(self, request, stream, timeout, verify, cert, proxies)\u001b[0m\n\u001b[0;32m    512\u001b[0m             \u001b[1;32mif\u001b[0m \u001b[0misinstance\u001b[0m\u001b[1;33m(\u001b[0m\u001b[0me\u001b[0m\u001b[1;33m.\u001b[0m\u001b[0mreason\u001b[0m\u001b[1;33m,\u001b[0m \u001b[0m_SSLError\u001b[0m\u001b[1;33m)\u001b[0m\u001b[1;33m:\u001b[0m\u001b[1;33m\u001b[0m\u001b[1;33m\u001b[0m\u001b[0m\n\u001b[0;32m    513\u001b[0m                 \u001b[1;31m# This branch is for urllib3 v1.22 and later.\u001b[0m\u001b[1;33m\u001b[0m\u001b[1;33m\u001b[0m\u001b[1;33m\u001b[0m\u001b[0m\n\u001b[1;32m--> 514\u001b[1;33m                 \u001b[1;32mraise\u001b[0m \u001b[0mSSLError\u001b[0m\u001b[1;33m(\u001b[0m\u001b[0me\u001b[0m\u001b[1;33m,\u001b[0m \u001b[0mrequest\u001b[0m\u001b[1;33m=\u001b[0m\u001b[0mrequest\u001b[0m\u001b[1;33m)\u001b[0m\u001b[1;33m\u001b[0m\u001b[1;33m\u001b[0m\u001b[0m\n\u001b[0m\u001b[0;32m    515\u001b[0m \u001b[1;33m\u001b[0m\u001b[0m\n\u001b[0;32m    516\u001b[0m             \u001b[1;32mraise\u001b[0m \u001b[0mConnectionError\u001b[0m\u001b[1;33m(\u001b[0m\u001b[0me\u001b[0m\u001b[1;33m,\u001b[0m \u001b[0mrequest\u001b[0m\u001b[1;33m=\u001b[0m\u001b[0mrequest\u001b[0m\u001b[1;33m)\u001b[0m\u001b[1;33m\u001b[0m\u001b[1;33m\u001b[0m\u001b[0m\n",
      "\u001b[1;31mSSLError\u001b[0m: HTTPSConnectionPool(host='g1.globo.com', port=443): Max retries exceeded with url: / (Caused by SSLError(SSLError(\"bad handshake: Error([('SSL routines', 'tls_process_server_certificate', 'certificate verify failed')])\")))"
     ]
    }
   ],
   "source": [
    "response = requests.get('http://g1.globo.com')\n",
    "type(response)"
   ]
  },
  {
   "cell_type": "markdown",
   "metadata": {},
   "source": [
    "notice that the `get` method returns a specific object of the `requests` library. Let's take a look at the atributes of the object."
   ]
  },
  {
   "cell_type": "code",
   "execution_count": null,
   "metadata": {
    "scrolled": true
   },
   "outputs": [],
   "source": [
    "dir(response)"
   ]
  },
  {
   "cell_type": "markdown",
   "metadata": {},
   "source": [
    "Try a few of these attributes on the next cell. The most important for us is going to be `.text` method."
   ]
  },
  {
   "cell_type": "code",
   "execution_count": null,
   "metadata": {
    "scrolled": true
   },
   "outputs": [],
   "source": [
    "response.text"
   ]
  },
  {
   "cell_type": "markdown",
   "metadata": {},
   "source": [
    "We can use RegEx to search content in this page. For example, let's **grab all the URLs from G1 website**."
   ]
  },
  {
   "cell_type": "code",
   "execution_count": null,
   "metadata": {},
   "outputs": [],
   "source": [
    "regex_html_url = '''href=[\"'](.[^\"']+)[\"']'''  # RegEx for URLs\n",
    "re.findall(regex_html_url, response.text)"
   ]
  },
  {
   "cell_type": "markdown",
   "metadata": {},
   "source": [
    "Notice that you can now write a program to visit all the avaible URLs from G1 home page and turn your webscrapper into a webcrawler.\n",
    "\n",
    "Now, let's say we want to **grab the text from all the headlines**."
   ]
  },
  {
   "cell_type": "code",
   "execution_count": null,
   "metadata": {
    "scrolled": false
   },
   "outputs": [],
   "source": [
    "response = requests.get('http://g1.globo.com')\n",
    "headlines = bs(response.content, 'html.parser').find_all('a', class_='feed-post-link gui-color-primary gui-color-hover')\n",
    "\n",
    "print(len(headlines))\n",
    "\n",
    "headlines"
   ]
  },
  {
   "cell_type": "markdown",
   "metadata": {},
   "source": [
    "To grab the contents inside a HTML tag, use the `.get_text` method"
   ]
  },
  {
   "cell_type": "code",
   "execution_count": null,
   "metadata": {},
   "outputs": [],
   "source": [
    "print(type(headlines[0]), '\\n')\n",
    "\n",
    "print(headlines[0])\n",
    "\n",
    "headlines[0].get_text()"
   ]
  },
  {
   "cell_type": "code",
   "execution_count": null,
   "metadata": {},
   "outputs": [],
   "source": [
    "for i in range(len(headlines)):\n",
    "    print(headlines[i].get_text(), '\\n')"
   ]
  },
  {
   "cell_type": "markdown",
   "metadata": {},
   "source": [
    "---\n",
    "# Scraping Emails\n",
    "\n",
    "[Students from the masters of economics in PUC-Rio](http://www.econ.puc-rio.br/pessoas/alunos-mestrado)"
   ]
  },
  {
   "cell_type": "code",
   "execution_count": null,
   "metadata": {
    "scrolled": true
   },
   "outputs": [],
   "source": [
    "response = requests.get('http://www.econ.puc-rio.br/pessoas/alunos-mestrado')\n",
    "\n",
    "regExpEmail = '[\\w\\.-]+@[\\w\\.-]+' # RegEx for email\n",
    "re.findall(regExpEmail, response.text)"
   ]
  },
  {
   "cell_type": "markdown",
   "metadata": {},
   "source": [
    "If you click on the name of a student, you can see that the URL ends with something that looks like an ID number. The link for the first one is \n",
    "\n",
    "http://www.econ.puc-rio.br/pessoas/perfil/1\n",
    "\n",
    "If you keep adding 1 to this ID number, you will go through everybody that is registered in the department of economics from PUC-Rio.\n",
    "\n",
    "Not all the ID numbers are valid. For example, number 17 returns an error\n",
    "\n",
    "http://www.econ.puc-rio.br/pessoas/perfil/17"
   ]
  },
  {
   "cell_type": "code",
   "execution_count": null,
   "metadata": {},
   "outputs": [],
   "source": [
    "requests.get('http://www.econ.puc-rio.br/pessoas/perfil/17').text"
   ]
  },
  {
   "cell_type": "markdown",
   "metadata": {},
   "source": [
    "We are going to use this in our favor. Whenever the string \"fatal error\" is in the response we are going to skip that ID number."
   ]
  },
  {
   "cell_type": "code",
   "execution_count": null,
   "metadata": {},
   "outputs": [],
   "source": [
    "re.findall('Fatal error', requests.get('http://www.econ.puc-rio.br/pessoas/perfil/17').text)"
   ]
  },
  {
   "cell_type": "markdown",
   "metadata": {},
   "source": [
    "In case the page exists, we use `beatifulsoup` to grab the HTML tag of the person's name and a regular expression search to get the email. We are searching for different information using different methods for a reason. The person's name is always under the `<h5>` HTML tag, while several other information are under the same tag `<a>`."
   ]
  },
  {
   "cell_type": "code",
   "execution_count": null,
   "metadata": {},
   "outputs": [],
   "source": [
    "response = requests.get('http://www.econ.puc-rio.br/pessoas/perfil/18')\n",
    "\n",
    "soup = bs(response.content.decode('utf-8','ignore'), 'html.parser')"
   ]
  },
  {
   "cell_type": "code",
   "execution_count": null,
   "metadata": {
    "scrolled": true
   },
   "outputs": [],
   "source": [
    "all_a = soup.find_all('a')\n",
    "for p in all_a:\n",
    "    print(p.get_text())"
   ]
  },
  {
   "cell_type": "markdown",
   "metadata": {},
   "source": [
    "Here is a single example"
   ]
  },
  {
   "cell_type": "code",
   "execution_count": null,
   "metadata": {},
   "outputs": [],
   "source": [
    "print(soup.find_all('h5')[0].get_text())\n",
    "\n",
    "print(re.findall(regExpEmail , response.text)[0])"
   ]
  },
  {
   "cell_type": "markdown",
   "metadata": {},
   "source": [
    "Now, all we have to do is iterate on the ID of the URL and save the name and email, but we have to handle two types of errors:\n",
    "* We skip the iteration if the page is not avilable. To handle this we check if the string \"fatal error\" is on the page.\n",
    "* If there is no email on the page, we have to save a blank. To handle this problem we use the `try-except` clause."
   ]
  },
  {
   "cell_type": "code",
   "execution_count": null,
   "metadata": {
    "scrolled": true
   },
   "outputs": [],
   "source": [
    "# Creates empty lists that are going to store the data\n",
    "Nomes = []\n",
    "Emails = []\n",
    "\n",
    "# loops for IDs from 1 to 2000\n",
    "for i in tqdm(range(1, 3000)):    \n",
    "    \n",
    "    #if i%250 == 0:\n",
    "     #   print('buscando pagina', i)\n",
    "    \n",
    "    response = requests.get('http://www.econ.puc-rio.br/pessoas/perfil/' + str(i))\n",
    "    \n",
    "    if 'Fatal error' in re.findall('Fatal error', response.text):\n",
    "        continue  # skips to the next iteration\n",
    "    else:\n",
    "        nome_i = bs(response.content.decode('utf-8','ignore'), 'html.parser').find_all('h5')[0].text\n",
    "        \n",
    "        try:\n",
    "            email_i = re.findall(regExpEmail, response.text)[0]\n",
    "        except IndexError:\n",
    "            email_i = ''\n",
    "  \n",
    "        Nomes.append(nome_i)\n",
    "        Emails.append(email_i)\n",
    "        \n",
    "EmailsPUC = pd.DataFrame(data={'Nomes':Nomes, 'Emails':Emails}).sort_values('Nomes')"
   ]
  },
  {
   "cell_type": "code",
   "execution_count": null,
   "metadata": {},
   "outputs": [],
   "source": [
    "EmailsPUC"
   ]
  },
  {
   "cell_type": "code",
   "execution_count": null,
   "metadata": {
    "scrolled": false
   },
   "outputs": [],
   "source": [
    "EmailsPUC[EmailsPUC['Nomes'].str.contains('Gustavo')].dropna().sort_values('Nomes')"
   ]
  },
  {
   "cell_type": "markdown",
   "metadata": {},
   "source": [
    "One way to protect yourself from webscraping is to not write your email **explicitly**. Here is an example from Marcos Lopez de Prado [website](http://www.quantresearch.info/).\n"
   ]
  },
  {
   "cell_type": "markdown",
   "metadata": {},
   "source": [
    "---\n",
    "## Query Strings: URLs with Parameters\n",
    "Everything after \"?\" is the query string and it is meant to contain data that does not fit within a URL’s normal hierarchical path structure\n",
    "\n",
    "https://www.google.com.br/search?q=pesquisa+eleitoral+bolsonaro&num=3&as_sitesearch=g1.com.br\n",
    "\n",
    "* query string comes at the end of a URL, starting with a single question mark, “?”.\n",
    "* Parameters are provided as key-value pairs and separated by an ampersand, “&”.\n",
    "* The key and value are separated using an equals sign, “=”."
   ]
  },
  {
   "cell_type": "code",
   "execution_count": 3,
   "metadata": {},
   "outputs": [
    {
     "data": {
      "text/plain": [
       "'<!doctype html><html lang=\"pt-BR\"><head><meta charset=\"UTF-8\"><meta content=\"/images/branding/googleg/1x/googleg_standard_color_128dp.png\" itemprop=\"image\"><title>pesquisa eleitoral bolsonaro site:g1.com.br - Pesquisa Google</title><script nonce=\"5kTWgameHMLriGzn53XnzQ==\">(function(){var a=window.performance;window.start=(new Date).getTime();a:{var b=window;if(a){var c=a.timing;if(c){var d=c.navigationStart,e=c.responseStart;if(e>d&&e<=window.start){window.start=e;b.wsrt=e-d;break a}}a.now&&(b.wsrt=Math.floor(a.now()))}}window.google=window.google||{};google.aft=function(f){f.setAttribute(\"data-iml\",+new Date)};}).call(this);(function(){var c=[],e=0;window.ping=function(b){-1==b.indexOf(\"&zx\")&&(b+=\"&zx=\"+(new Date).getTime());var a=new Image,d=e++;c[d]=a;a.onerror=a.onload=a.onabort=function(){delete c[d]};a.src=b};}).call(this);</script><style>body{margin:0 auto;max-width:736px;padding:0 8px}a{color:#1967D2;text-decoration:none;tap-highlight-color:rgba(0,0,0,.1)}a:visited{color:#4B11A8}a:hover{text-decoration:underline}img{border:0}html{font-family:Roboto,HelveticaNeue,Arial,sans-serif;font-size:14px;line-height:20px;text-size-adjust:100%;color:#3C4043;word-wrap:break-word;background-color:#fff}.bRsWnc{background-color:#fff;border-top:1px solid #e0e0e0;height:39px;overflow:hidden}.N6RWV{height:51px;overflow-scrolling:touch;overflow-x:auto;overflow-y:hidden}.Uv67qb{box-pack:justify;font-size:12px;line-height:37px;justify-content:space-between;justify-content:space-between}.Uv67qb a,.Uv67qb span{color:#757575;display:block;flex:none;padding:0 16px;text-align:center;text-transform:uppercase;}span.OXXup{border-bottom:2px solid #4285f4;color:#4285f4;font-weight:bold}a.eZt8xd:visited{color:#757575}.FElbsf{border-left:1px solid rgba(0,0,0,.12)}header article{overflow:visible}.Pg70bf{height:39px;display:box;display:flex;display:flex;width:100%}.H0PQec{position:relative;flex:1}.sbc{display:flex;width:100%}.Pg70bf input{margin:2px 4px 2px 8px;}.x{width:26px;color:#757575;font:27px/38px arial, sans-serif;line-height:40px;}#qdClwb{flex:0 0 auto;width:39px;height:39px;border-bottom:0;padding:0;border-top-right-radius:8px;background-color:#3b78e7;border:1px solid #3367d6;background-image:url(data:image/gif;base64,R0lGODdhJAAjAPIHAODr/nCk+MPZ/FmV96zK+/7+/5K5+kqL9iwAAAAAJAAjAEADani63P4wykmbKcQRXDscQAEMXmmeaLQVLCukzyC09AjfeK7v/MAajACLhPMVAgwjsUcEiZa8xgAYrVqv2Kx2iwsIAAABknfBBAKrTE4IcMyot8ur8datqIbQfJdnAfo2WE6BV05wXIiJigkAOw==);}.sc{font-size:;position:absolute;top:39px;left:0;right:0;box-shadow:0px 2px 5px rgba(0,0,0,0.2);z-index:2;background-color:#fff}.sc>div{padding:10px 10px;padding-left:16px;padding-left:14px;border-top:1px solid #DFE1E5}.scs{background-color:#f5f5f5;}.noHIxc{display:block;font-size:16px;padding:0 0 0 8px;flex:1;height:35px;outline:none;border:none;width:100%;-webkit-tap-highlight-color:rgba(0,0,0,0);overflow:hidden;}.sbc input[type=text]{background:none}.sml .cOl4Id{display:none}.l{display:none}.sml header{background:none}.sml .l{display:block;padding:0 8px}.sml .l{letter-spacing:-1px;text-align:center;border-radius:2px 0 0 0;font:22px/36px Futura, Arial, sans-serif;font-smoothing:antialiased}.bz1lBb{background:#fff;border-radius:8px 8px 0 0;box-shadow:0 1px 6px rgba(32, 33, 36, 0.18);margin-top:10px}.KP7LCb{border-radius:0 0 8px 8px;box-shadow:0 2px 3px rgba(32, 33, 36, 0.18);margin-bottom:10px;overflow:hidden}.cOl4Id{letter-spacing:-1px;text-align:center;font:22pt Futura, Arial, sans-serif;padding:10px 0 5px 0;height:37px;font-smoothing:antialiased}.cOl4Id span{display:inline-block}.S591j{height:100%}.V6gwVd{color:#4285F4}.iWkuvd{color:#EA4335}.cDrQ7{color:#fbcc05}.ntlR9{color:#34A853}.tJ3Myc{-webkit-transform:rotate(-20deg);position:relative;left:-1px;display:inline-block}footer{text-align:center;margin-top:18px}footer a,footer a:visited,.smiUbb{color:#5f6368}.ksTU4c{margin:0 13px}#mCljob{margin-top:36px}#mCljob>div{margin:20px}</style></head><body jsmodel=\" \"><header id=\"hdr\"><script nonce=\"5kTWgameHMLriGzn53XnzQ==\">(function(){var c=500;(function(){window.screen&&window.screen.width<=c&&window.screen.height<=c&&document.getElementById(\"hdr\").classList.add(\"sml\");}).call(this);})();</script><div class=\"cOl4Id\"><a href=\"/?sa=X&amp;ved=0ahUKEwjYz43knILjAhWsKLkGHYYYB24QOwgC\"><span class=\"V6gwVd\">G</span><span class=\"iWkuvd\">o</span><span class=\"cDrQ7\">o</span><span class=\"V6gwVd\">g</span><span class=\"ntlR9\">l</span><span class=\"iWkuvd tJ3Myc\">e</span></a></div><div class=\"bz1lBb\"><form class=\"Pg70bf\" id=\"sf\"><a class=\"l\" href=\"/?num=3&amp;output=search&amp;ie=UTF-8&amp;sa=X&amp;ved=0ahUKEwjYz43knILjAhWsKLkGHYYYB24QPAgE\"><span class=\"V6gwVd\">G</span><span class=\"iWkuvd\">o</span><span class=\"cDrQ7\">o</span><span class=\"V6gwVd\">g</span><span class=\"ntlR9\">l</span><span class=\"iWkuvd tJ3Myc\">e</span></a><input name=\"num\" value=\"3\" type=\"hidden\"><input name=\"ie\" value=\"ISO-8859-1\" type=\"hidden\"><div class=\"H0PQec\"><div class=\"sbc esbc\"><input class=\"noHIxc\" value=\"pesquisa eleitoral bolsonaro site:g1.com.br\" autocapitalize=\"none\" autocomplete=\"off\" name=\"q\" spellcheck=\"false\" type=\"text\"><input name=\"oq\" type=\"hidden\"><input name=\"aqs\" type=\"hidden\"><div class=\"x\">×</div><div class=\"sc\"></div></div></div><button id=\"qdClwb\" type=\"submit\"></button></form></div><noscript><meta content=\"0;url=/search?q=pesquisa+eleitoral+bolsonaro+site:g1.com.br&amp;num=3&amp;ie=UTF-8&amp;gbv=1&amp;sei=LdAQXZiFA6zR5OUPhrGc8AY\" http-equiv=\"refresh\"><style>table,div,span,p{display:none}</style><div style=\"display:block\">Clique <a href=\"/search?q=pesquisa+eleitoral+bolsonaro+site:g1.com.br&amp;num=3&amp;ie=UTF-8&amp;gbv=1&amp;sei=LdAQXZiFA6zR5OUPhrGc8AY\">aqui</a> se você não for redirecionado em alguns segundos.</div></noscript></header><div id=\"main\"><div><div class=\"KP7LCb\"> <div class=\"bRsWnc\"> <div class=\"N6RWV\"> <div class=\"Pg70bf Uv67qb\"> <span class=\"OXXup\">Todas</span><a class=\"eZt8xd\" href=\"/search?q=pesquisa+eleitoral+bolsonaro+site:g1.com.br&amp;num=3&amp;ie=UTF-8&amp;source=lnms&amp;tbm=nws&amp;sa=X&amp;ved=0ahUKEwjYz43knILjAhWsKLkGHYYYB24Q_AUICCgB\">Notícias</a><a class=\"eZt8xd\" href=\"/search?q=pesquisa+eleitoral+bolsonaro+site:g1.com.br&amp;num=3&amp;ie=UTF-8&amp;source=lnms&amp;tbm=isch&amp;sa=X&amp;ved=0ahUKEwjYz43knILjAhWsKLkGHYYYB24Q_AUICSgC\">Imagens</a><a class=\"eZt8xd\" href=\"/search?q=pesquisa+eleitoral+bolsonaro+site:g1.com.br&amp;num=3&amp;ie=UTF-8&amp;source=lnms&amp;tbm=vid&amp;sa=X&amp;ved=0ahUKEwjYz43knILjAhWsKLkGHYYYB24Q_AUICigD\">Vídeos</a>   <a href=\"https://maps.google.com.br/maps?num=3&amp;as_sitesearch=g1.com.br&amp;q=pesquisa+eleitoral+bolsonaro+site:g1.com.br&amp;um=1&amp;ie=UTF-8&amp;sa=X&amp;ved=0ahUKEwjYz43knILjAhWsKLkGHYYYB24Q_AUICygE\">Maps</a>  <a href=\"/search?q=pesquisa+eleitoral+bolsonaro+site:g1.com.br&amp;num=3&amp;ie=UTF-8&amp;source=lnms&amp;tbm=shop&amp;sa=X&amp;ved=0ahUKEwjYz43knILjAhWsKLkGHYYYB24Q_AUIDCgF\">Shopping</a>  <a href=\"/search?q=pesquisa+eleitoral+bolsonaro+site:g1.com.br&amp;num=3&amp;ie=UTF-8&amp;source=lnms&amp;tbm=bks&amp;sa=X&amp;ved=0ahUKEwjYz43knILjAhWsKLkGHYYYB24Q_AUIDSgG\">Livros</a>     <div class=\"FElbsf\"><a href=\"/advanced_search\" style=\"white-space:nowrap\" id=\"st-toggle\" role=\"button\">Ferramentas de pesquisa</a></div> </div> </div> </div> </div><div class=\"Pg70bf wEsjbd ZINbbc xpd O9g5cc uUPGi\" style=\"display:none\" id=\"st-card\"><style>.wEsjbd{background-color:#fff;height:44px;white-space:nowrap}.coPU8c{height:60px;overflow-scrolling:touch;overflow-x:auto;overflow-y:hidden}.Xj2aue{height:44px;overflow:hidden}.RnNGze{margin:11px 16px}.wEsjbd div,.wEsjbd a,.wEsjbd li{outline-width:0;outline:none}</style><div class=\"Xj2aue\"><div class=\"coPU8c\"><div class=\"RnNGze\"><style>.PA9J5{display:inline-block}.RXaOfd{display:inline-block;height:22px;position:relative;padding-top:0;padding-bottom:0;padding-right:16px;padding-left:0;line-height:22px;cursor:pointer;text-transform:uppercase;font-size:12px;color:#757575}.sa1toc{display:none;position:absolute;background:#fff;border:1px solid #d6d6d6;box-shadow:0 2px 4px rgba(0,0,0,0.3);margin:0;white-space:nowrap;z-index:103;line-height:17px;padding-top:5px;padding-bottom:5px;padding-left:0px}.PA9J5:hover .sa1toc{display:block}.mGSy8d a:active,.RXaOfd:active{color:#4285f4}</style><div class=\"PA9J5\"><div class=\"RXaOfd\" role=\"button\" tabindex=\"0\"><style>.TWMOUc{display:inline-block;padding-right:14px;white-space:nowrap}.vQYuGf{font-weight:bold}.OmTIzf{border-color:#909090 transparent;border-style:solid;border-width:4px 4px 0 4px;width:0;height:0;margin-left:-10px;top:50%;margin-top:-2px;position:absolute}.RXaOfd:active .OmTIzf{border-color:#4285f4 transparent}</style><div class=\"TWMOUc\">Qualquer país</div><span class=\"OmTIzf\"></span></div><ul class=\"sa1toc ozatM\"><style>.ozatM{font-size:12px;text-transform:uppercase}.ozatM .yNFsl,.ozatM li{list-style-type:none;list-style-position:outside;list-style-image:none}.yNFsl.SkUj4c,.yNFsl a{color:rgba(0,0,0,0.54);text-decoration:none;padding:6px 44px 6px 14px;line-height:17px;display:block}.SkUj4c{background-image:url(//ssl.gstatic.com/ui/v1/menu/checkmark2.png);background-position:right center;background-repeat:no-repeat}.SkUj4c:active{background-color:#f5f5f5}</style><li class=\"yNFsl SkUj4c\">Qualquer país</li><li class=\"yNFsl\"><a href=\"/search?q=pesquisa+eleitoral+bolsonaro+site:g1.com.br&amp;num=3&amp;ie=UTF-8&amp;source=lnt&amp;tbs=ctr:countryBR&amp;cr=countryBR&amp;sa=X&amp;ved=0ahUKEwjYz43knILjAhWsKLkGHYYYB24QpwUIDw\">País: Brasil</a></li></ul></div><div class=\"PA9J5\"><div class=\"RXaOfd\" role=\"button\" tabindex=\"0\"><div class=\"TWMOUc\">Em qualquer idioma</div><span class=\"OmTIzf\"></span></div><ul class=\"sa1toc ozatM\"><li class=\"yNFsl SkUj4c\">Em qualquer idioma</li><li class=\"yNFsl\"><a href=\"/search?q=pesquisa+eleitoral+bolsonaro+site:g1.com.br&amp;num=3&amp;ie=UTF-8&amp;source=lnt&amp;tbs=lr:lang_1pt&amp;lr=lang_pt&amp;sa=X&amp;ved=0ahUKEwjYz43knILjAhWsKLkGHYYYB24QpwUIEQ\">Páginas em português</a></li></ul></div><div class=\"PA9J5\"><div class=\"RXaOfd\" role=\"button\" tabindex=\"0\"><div class=\"TWMOUc\">Em qualquer data</div><span class=\"OmTIzf\"></span></div><ul class=\"sa1toc ozatM\"><li class=\"yNFsl SkUj4c\">Em qualquer data</li><li class=\"yNFsl\"><a href=\"/search?q=pesquisa+eleitoral+bolsonaro+site:g1.com.br&amp;num=3&amp;ie=UTF-8&amp;source=lnt&amp;tbs=qdr:h&amp;sa=X&amp;ved=0ahUKEwjYz43knILjAhWsKLkGHYYYB24QpwUIEw\"> Na última hora</a></li><li class=\"yNFsl\"><a href=\"/search?q=pesquisa+eleitoral+bolsonaro+site:g1.com.br&amp;num=3&amp;ie=UTF-8&amp;source=lnt&amp;tbs=qdr:d&amp;sa=X&amp;ved=0ahUKEwjYz43knILjAhWsKLkGHYYYB24QpwUIFA\"> Nas últimas 24 horas</a></li><li class=\"yNFsl\"><a href=\"/search?q=pesquisa+eleitoral+bolsonaro+site:g1.com.br&amp;num=3&amp;ie=UTF-8&amp;source=lnt&amp;tbs=qdr:w&amp;sa=X&amp;ved=0ahUKEwjYz43knILjAhWsKLkGHYYYB24QpwUIFQ\"> Na última semana</a></li><li class=\"yNFsl\"><a href=\"/search?q=pesquisa+eleitoral+bolsonaro+site:g1.com.br&amp;num=3&amp;ie=UTF-8&amp;source=lnt&amp;tbs=qdr:m&amp;sa=X&amp;ved=0ahUKEwjYz43knILjAhWsKLkGHYYYB24QpwUIFg\"> No último mês</a></li><li class=\"yNFsl\"><a href=\"/search?q=pesquisa+eleitoral+bolsonaro+site:g1.com.br&amp;num=3&amp;ie=UTF-8&amp;source=lnt&amp;tbs=qdr:y&amp;sa=X&amp;ved=0ahUKEwjYz43knILjAhWsKLkGHYYYB24QpwUIFw\"> No último ano</a></li></ul></div><div class=\"PA9J5\"><div class=\"RXaOfd\" role=\"button\" tabindex=\"0\"><div class=\"TWMOUc\">Todos os resultados</div><span class=\"OmTIzf\"></span></div><ul class=\"sa1toc ozatM\"><li class=\"yNFsl SkUj4c\">Todos os resultados</li><li class=\"yNFsl\"><a href=\"/search?q=pesquisa+eleitoral+bolsonaro+site:g1.com.br&amp;num=3&amp;ie=UTF-8&amp;source=lnt&amp;tbs=li:1&amp;sa=X&amp;ved=0ahUKEwjYz43knILjAhWsKLkGHYYYB24QpwUIGQ\">Ao pé da letra</a></li></ul></div></div></div></div><script nonce=\"5kTWgameHMLriGzn53XnzQ==\">(function(){var a=document.getElementById(\"st-toggle\"),b=document.getElementById(\"st-card\");a&&b&&a.addEventListener(\"click\",function(c){b.style.display=b.style.display?\"\":\"none\";c.preventDefault()},!1);}).call(this);</script></div></div><style>.ZINbbc{background-color:#fff;margin-bottom:10px;box-shadow:0 1px 6px rgba(32, 33, 36, 0.28);border-radius:8px}.uUPGi{font-size:14px;line-height:20px;}.O9g5cc>*:first-child{border-top-left-radius:8px;border-top-right-radius:8px}.O9g5cc>*:last-child{border-bottom-left-radius:8px;border-bottom-right-radius:8px}.Uk2dG{display:block;clear:both}.yTEhUb{margin-left:16px;float:right;}.jfp3ef{padding:12px 16px 12px}a.fdYsqf{color:#4B11A8}.BNeawe{white-space:pre-line;word-wrap:break-word}.vvjwJb{color:#1967D2;font-size:16px;line-height:20px}.vvjwJb a:visited{color:#4B11A8}.vvjwJb.HrGdeb{color:rgba(255,255,255,1)}.vvjwJb.HrGdeb a:visited{color:rgba(255,255,255,.7)}.UPmit{font-size:14px;line-height:20px}.UPmit.HrGdeb{color:rgba(255,255,255,.7)}.UPmit.AP7Wnd{color:rgba(0,102,33,1)}.NJM3tb{height:1px;background-color:#dfe1e5;margin:0 16px}.Ap5OSd{padding-bottom:12px}.s3v9rd{font-size:14px;line-height:20px}.s3v9rd.HrGdeb{color:rgba(255,255,255,1)}.s3v9rd.AP7Wnd{color:#202124}.mSx1Ee{padding-left:48px;margin:0}.v9i61e{padding-bottom:8px}.XLloXe{color:#1967D2;font-size:14px;line-height:20px}.XLloXe a:visited{color:#4B11A8}.XLloXe.HrGdeb{color:rgba(255,255,255,1)}.XLloXe.HrGdeb a:visited{color:rgba(255,255,255,.7)}.JljMTb{display:block}.deIvCb{font-size:16px;line-height:20px;font-weight:400}.deIvCb.HrGdeb{color:rgba(255,255,255,1)}.deIvCb.AP7Wnd{color:#202124}.FCUp0c{font-weight:bold}.rVLSBd{display:table;width:100%;padding-right:16px;box-sizing:border-box}.unhOmf{display:table-cell;padding:12px 0 12px 16px}.D8KFBd{width:72px}.EOD1kd{width:30px}.g6YJwf{display:table-cell;text-align:center;vertical-align:middle;padding:12px 0 12px 8px}.G1brT{display:table;vertical-align:top}.bZaDPc{margin:0 auto 8px}.mAdjQc{text-align:right}.uEec3{font-size:12px;line-height:16px}.uEec3.HrGdeb{color:rgba(255,255,255,.7)}.uEec3.AP7Wnd{color:#70757A}.rLshyf,.BmP5tf{padding-top:12px;padding-bottom:12px}.w1C3Le,.BmP5tf,.G5NbBd{padding-left:16px;padding-right:16px;}.G5NbBd{padding-bottom:12px}.nMymef{display:flex}.G5eFlf{flex:1;display:block}.nMymef span{text-align:center}</style><div><!--SW_C_X--></div><div class=\"ZINbbc xpd O9g5cc uUPGi\"><div><div class=\"jfp3ef\"><a href=\"/url?q=http://g1.com.br/eleicoes&amp;sa=U&amp;ved=2ahUKEwjYz43knILjAhWsKLkGHYYYB24QFjAAegQIAhAB&amp;usg=AOvVaw2usb3zUM4OHNuJJ0hWMSvb\"><div class=\"BNeawe vvjwJb AP7Wnd\">Eleições 2018 no G1 - Pesquisas, candidatos, debates, apuração e ...</div><div class=\"BNeawe UPmit AP7Wnd\">g1.com.br &#8250; eleicoes</div></a></div><div class=\"NJM3tb\"></div><div class=\"jfp3ef\"><div><div class=\"BNeawe s3v9rd AP7Wnd\"><div><div><div class=\"BNeawe s3v9rd AP7Wnd\">Foto: (Veja trajetória do presidente eleito Jair Bolsonaro (PSL) desde a infância. Eleições 2018. Veja a íntegra do discurso de Bolsonaro após a vitória.\\n<span class=\"BNeawe\"><a href=\"/url?q=https://g1.globo.com/politica/eleicoes/2018/noticia/2018/10/28/jair-bolsonaro-e-eleito-presidente-e-interrompe-serie-de-vitorias-do-pt.ghtml&amp;sa=U&amp;ved=2ahUKEwjYz43knILjAhWsKLkGHYYYB24Q0gIwAHoECAIQAg&amp;usg=AOvVaw1Ga_XWpJfLnT79KwgVj44J\"><span class=\"XLloXe AP7Wnd\">Jair Bolsonaro é eleito ...</span></a></span> · <span class=\"BNeawe\"><a href=\"/url?q=https://especiais.g1.globo.com/politica/eleicoes/2018/apuracao-zona-eleitoral-governador/&amp;sa=U&amp;ved=2ahUKEwjYz43knILjAhWsKLkGHYYYB24Q0gIwAHoECAIQAw&amp;usg=AOvVaw3faquWNTWQTjcZNOBBr649\"><span class=\"XLloXe AP7Wnd\">Apuração por zona eleitoral</span></a></span> · <span class=\"BNeawe\"><a href=\"/url?q=https://g1.globo.com/politica/eleicoes/2018/sp/apuracao/governador.ghtml&amp;sa=U&amp;ved=2ahUKEwjYz43knILjAhWsKLkGHYYYB24Q0gIwAHoECAIQBA&amp;usg=AOvVaw0wb987au9FgHjNpdxgNeeq\"><span class=\"XLloXe AP7Wnd\">(SP) para governador ...</span></a></span></div></div></div></div></div></div></div></div><div class=\"ZINbbc xpd O9g5cc uUPGi\"><div><div class=\"jfp3ef\"><a href=\"/url?q=http://g1.com.br/politica/politico/geraldo-alckmin.html&amp;sa=U&amp;ved=2ahUKEwjYz43knILjAhWsKLkGHYYYB24QFjABegQIAxAB&amp;usg=AOvVaw1CuCvLLBXxqrtnM8jeRUlB\"><div class=\"BNeawe vvjwJb AP7Wnd\">Geraldo Alckmin | Político | G1 - G1 - O portal de notícias da Globo</div><div class=\"BNeawe UPmit AP7Wnd\">g1.com.br &#8250; politica &#8250; politico &#8250; geraldo-alckmin</div></a></div><div class=\"NJM3tb\"></div><div class=\"jfp3ef\"><div><div class=\"BNeawe s3v9rd AP7Wnd\"><div><div><div class=\"BNeawe s3v9rd AP7Wnd\">... meses SP2. Justiça Eleitoral determina bloqueio de bens de Alckmin ... Bolsonaro recebe presidentes de seis partidos para articular a reforma da Previdência.</div></div></div></div></div></div></div></div><div class=\"ZINbbc xpd O9g5cc uUPGi\"><div><div class=\"jfp3ef\"><a href=\"/url?q=http://g1.com.br/politica&amp;sa=U&amp;ved=2ahUKEwjYz43knILjAhWsKLkGHYYYB24QFjACegQIARAB&amp;usg=AOvVaw24lYY_eNd5MuA59XgLgJUd\"><div class=\"BNeawe vvjwJb AP7Wnd\">G1 Política - Governo, Congresso, STF e os bastidores de Brasília</div><div class=\"BNeawe UPmit AP7Wnd\">g1.com.br &#8250; politica</div></a></div><div class=\"NJM3tb\"></div><div class=\"jfp3ef\"><div><div class=\"BNeawe s3v9rd AP7Wnd\"><div><div><div class=\"BNeawe s3v9rd AP7Wnd\">Bolsonaro critica projeto aprovado pelo Congresso: \\'Querem me deixar .... Justiça Eleitoral cancela mais de 2,4 milhões de títulos de eleitor em todo o país e no\\xa0...</div></div></div></div></div></div></div></div><div class=\"ZINbbc xpd O9g5cc uUPGi\"><div><div class=\"jfp3ef\"><span><div class=\"BNeawe deIvCb AP7Wnd\"><span class=\"FCUp0c rQMQod\">Pesquisas relacionadas</span></div></span></div><div class=\"NJM3tb\"></div><div class=\"rVLSBd\"><a class=\"unhOmf\" href=\"/search?num=3&amp;ie=UTF-8&amp;q=elei%C3%A7%C3%B5es+2018+apura%C3%A7%C3%A3o&amp;sa=X&amp;ved=2ahUKEwjYz43knILjAhWsKLkGHYYYB24Q1QJ6BAgAEAE\"><div class=\"G1brT\"><div><span><div class=\"BNeawe deIvCb AP7Wnd\">eleições 2018 apuração</div></span></div></div></a><div class=\"EOD1kd g6YJwf\"><a href=\"/search?num=3&amp;ie=UTF-8&amp;q=elei%C3%A7%C3%B5es+2018+apura%C3%A7%C3%A3o\"><div class=\"BNeawe mAdjQc uEec3 AP7Wnd\">&gt;</div></a></div></div><div class=\"NJM3tb\"></div><div class=\"rVLSBd\"><a class=\"unhOmf\" href=\"/search?num=3&amp;ie=UTF-8&amp;q=elei%C3%A7%C3%B5es+2018+resultado&amp;sa=X&amp;ved=2ahUKEwjYz43knILjAhWsKLkGHYYYB24Q1QJ6BAgAEAI\"><div class=\"G1brT\"><div><span><div class=\"BNeawe deIvCb AP7Wnd\">eleições 2018 resultado</div></span></div></div></a><div class=\"EOD1kd g6YJwf\"><a href=\"/search?num=3&amp;ie=UTF-8&amp;q=elei%C3%A7%C3%B5es+2018+resultado\"><div class=\"BNeawe mAdjQc uEec3 AP7Wnd\">&gt;</div></a></div></div><div class=\"NJM3tb\"></div><div class=\"rVLSBd\"><a class=\"unhOmf\" href=\"/search?num=3&amp;ie=UTF-8&amp;q=elei%C3%A7%C3%B5es+2018+resultado+presidente&amp;sa=X&amp;ved=2ahUKEwjYz43knILjAhWsKLkGHYYYB24Q1QJ6BAgAEAM\"><div class=\"G1brT\"><div><span><div class=\"BNeawe deIvCb AP7Wnd\">eleições 2018 resultado presidente</div></span></div></div></a><div class=\"EOD1kd g6YJwf\"><a href=\"/search?num=3&amp;ie=UTF-8&amp;q=elei%C3%A7%C3%B5es+2018+resultado+presidente\"><div class=\"BNeawe mAdjQc uEec3 AP7Wnd\">&gt;</div></a></div></div><div class=\"NJM3tb\"></div><div class=\"rVLSBd\"><a class=\"unhOmf\" href=\"/search?num=3&amp;ie=UTF-8&amp;q=elei%C3%A7%C3%B5es+2018+candidatos&amp;sa=X&amp;ved=2ahUKEwjYz43knILjAhWsKLkGHYYYB24Q1QJ6BAgAEAQ\"><div class=\"G1brT\"><div><span><div class=\"BNeawe deIvCb AP7Wnd\">eleições 2018 candidatos</div></span></div></div></a><div class=\"EOD1kd g6YJwf\"><a href=\"/search?num=3&amp;ie=UTF-8&amp;q=elei%C3%A7%C3%B5es+2018+candidatos\"><div class=\"BNeawe mAdjQc uEec3 AP7Wnd\">&gt;</div></a></div></div><div class=\"NJM3tb\"></div><div class=\"rVLSBd\"><a class=\"unhOmf\" href=\"/search?num=3&amp;ie=UTF-8&amp;q=elei%C3%A7%C3%B5es+2018+resultados&amp;sa=X&amp;ved=2ahUKEwjYz43knILjAhWsKLkGHYYYB24Q1QJ6BAgAEAU\"><div class=\"G1brT\"><div><span><div class=\"BNeawe deIvCb AP7Wnd\">eleições 2018 resultados</div></span></div></div></a><div class=\"EOD1kd g6YJwf\"><a href=\"/search?num=3&amp;ie=UTF-8&amp;q=elei%C3%A7%C3%B5es+2018+resultados\"><div class=\"BNeawe mAdjQc uEec3 AP7Wnd\">&gt;</div></a></div></div><div class=\"NJM3tb\"></div><div class=\"rVLSBd\"><a class=\"unhOmf\" href=\"/search?num=3&amp;ie=UTF-8&amp;q=elei%C3%A7%C3%B5es+2018+data&amp;sa=X&amp;ved=2ahUKEwjYz43knILjAhWsKLkGHYYYB24Q1QJ6BAgAEAY\"><div class=\"G1brT\"><div><span><div class=\"BNeawe deIvCb AP7Wnd\">eleições 2018 data</div></span></div></div></a><div class=\"EOD1kd g6YJwf\"><a href=\"/search?num=3&amp;ie=UTF-8&amp;q=elei%C3%A7%C3%B5es+2018+data\"><div class=\"BNeawe mAdjQc uEec3 AP7Wnd\">&gt;</div></a></div></div><div class=\"NJM3tb\"></div><div class=\"rVLSBd\"><a class=\"unhOmf\" href=\"/search?num=3&amp;ie=UTF-8&amp;q=elei%C3%A7%C3%B5es+2018+uol&amp;sa=X&amp;ved=2ahUKEwjYz43knILjAhWsKLkGHYYYB24Q1QJ6BAgAEAc\"><div class=\"G1brT\"><div><span><div class=\"BNeawe deIvCb AP7Wnd\">eleições 2018 uol</div></span></div></div></a><div class=\"EOD1kd g6YJwf\"><a href=\"/search?num=3&amp;ie=UTF-8&amp;q=elei%C3%A7%C3%B5es+2018+uol\"><div class=\"BNeawe mAdjQc uEec3 AP7Wnd\">&gt;</div></a></div></div><div class=\"NJM3tb\"></div><div class=\"rVLSBd\"><a class=\"unhOmf\" href=\"/search?num=3&amp;ie=UTF-8&amp;q=elei%C3%A7%C3%B5es+2018+governador+sp&amp;sa=X&amp;ved=2ahUKEwjYz43knILjAhWsKLkGHYYYB24Q1QJ6BAgAEAg\"><div class=\"G1brT\"><div><span><div class=\"BNeawe deIvCb AP7Wnd\">eleições 2018 governador sp</div></span></div></div></a><div class=\"EOD1kd g6YJwf\"><a href=\"/search?num=3&amp;ie=UTF-8&amp;q=elei%C3%A7%C3%B5es+2018+governador+sp\"><div class=\"BNeawe mAdjQc uEec3 AP7Wnd\">&gt;</div></a></div></div></div></div><footer> <div>  <div class=\"ZINbbc xpd O9g5cc uUPGi BmP5tf\"><div class=\"nMymef MUxGbd lyLwlc\"><a class=\"nBDE1b G5eFlf\" href=\"/search?q=pesquisa+eleitoral+bolsonaro+site:g1.com.br&amp;num=3&amp;ie=UTF-8&amp;ei=LdAQXZiFA6zR5OUPhrGc8AY&amp;start=3&amp;sa=N\" aria-label=\"Próxima página\">Mais &gt;</a></div></div> </div>   <div id=\"mCljob\"><div><a href=\"/url?q=https://accounts.google.com/ServiceLogin%3Fcontinue%3Dhttps://www.google.com.br/search%253Fq%253Dpesquisa%252Beleitoral%252Bbolsonaro%2526num%253D3%2526as_sitesearch%253Dg1.com.br%26hl%3Dpt-BR&amp;sa=U&amp;ved=0ahUKEwjYz43knILjAhWsKLkGHYYYB24Qxs8CCC8&amp;usg=AOvVaw3VbzKG44c2XB9AeXTX1SDt\">Fazer login</a></div><div><a class=\"ksTU4c\" href=\"https://www.google.com.br/preferences?hl=pt-BR&amp;fg=1&amp;sa=X&amp;ved=0ahUKEwjYz43knILjAhWsKLkGHYYYB24Q5fUCCDA\">Configurações</a><a class=\"ksTU4c\" href=\"//www.google.com.br/intl/pt-BR_br/policies/privacy/?fg=1\">Privacidade</a><a class=\"ksTU4c\" href=\"//www.google.com.br/intl/pt-BR_br/policies/terms/?fg=1\">Termos</a></div></div>  </footer><script nonce=\"5kTWgameHMLriGzn53XnzQ==\">(function(){var hl=\\'pt-BR\\';(function(){var b=this||self,d=/^[\\\\w+/_-]+[=]{0,2}$/,e=null;var f=document.querySelector(\".l\"),g=document.querySelector(\"#sf\"),k=g.querySelector(\".sbc\"),l=g.querySelector(\"[type=text]\"),m=g.querySelector(\"[type=submit]\"),n=g.querySelector(\".sc\"),p=g.querySelector(\".x\"),q=l.value,r=[],t=-1,u=q,w,x,y;q||(p&&(p.style.display=\"none\"),z(!1));function z(a){if(k.classList.contains(\"esbc\")){var c=k.classList.contains(\"chsbc\"),h=k.classList.contains(\"rtlsbc\");a&&(n.style.display=\"block\",c?(g.style.borderRadius=\"20px 20px 0 0\",n.style.borderBottom=\"1px solid #DFE1E5\",m.style.borderRadius=h?\"20px 0 0 0\":\"0 20px 0 0\"):k.style.borderRadius=h?\"0 8px 0 0\":\"8px 0 0 0\");a||(n.style.display=\"none\",c?(g.style.borderRadius=\"20px\",n.style.borderBottom=\"none\",m.style.borderRadius=h?\"20px 0 0 20px\":\"0 20px 20px 0\"):k.style.borderRadius=h?\"0 8px 8px 0\":\"8px 0 0 8px\")}}function A(){g.querySelector(\"[name=oq]\").value=u;g.querySelector(\"[name=aqs]\").value=\"heirloom-srp.\"+(0<=t?t:\"\")+\".\"+(0<r.length?\"0l\"+r.length:\"\")}\\nfunction C(){w=null;if(x){var a=\"/complete/search?client=heirloom-srp&hl=\"+hl+\"&json=t&callback=hS&q=\"+encodeURIComponent(x);\"undefined\"!==typeof ds&&ds&&(a+=\"&ds=\"+ds);var c=document.createElement(\"script\");c.src=a;if(null===e)a:{a=b.document;if((a=a.querySelector&&a.querySelector(\"script[nonce]\"))&&(a=a.nonce||a.getAttribute(\"nonce\"))&&d.test(a)){e=a;break a}e=\"\"}(a=e)&&c.setAttribute(\"nonce\",a);document.body.appendChild(c);x=null;w=setTimeout(C,500)}}\\nfunction D(){for(;n.firstChild;)n.removeChild(n.firstChild);r=[];t=-1;z(!1)}function E(){var a=n.querySelector(\".scs\");a&&(a.className=\"\");0<=t?(a=n.childNodes[t],a.className=\"scs\",q=a.textContent):q=u;l.value=q}l.addEventListener(\"focus\",function(){f&&(f.style.display=\"none\")},!1);l.addEventListener(\"blur\",function(){D();f&&(f.style.display=\"\")},!1);l.addEventListener(\"keyup\",function(a){q=l.value;y=!1;13==a.which?A():27==a.which?(D(),f&&(f.style.display=\"\"),q=u,l.value=q):40==a.which?(t++,t>=r.length&&(t=-1),E()):38==a.which?(t--,-1>t&&(t=r.length-1),E()):(a=q)?(p&&(p.style.display=\"\"),x=a,w||C(),u=a):(p&&(p.style.display=\"none\"),z(!1),D(),u=\"\",y=!0)},!1);m.addEventListener(\"click\",A,!1);p.addEventListener(\"click\",function(){l.value=\"\";p.style.display=\"none\";z(!1)},!1);k.addEventListener(\"click\",function(){l.focus()},!1);window.hS=function(a){if(!y){D();0==a[1].length&&z(!1);for(var c=0;c<a[1].length;c++){var h=a[1][c][0],v=document.createElement(\"div\");v.innerHTML=h;v.addEventListener(\"mousedown\",function(B){B.preventDefault();return!1},!1);h=h.replace(/<\\\\/?b>/g,\"\");v.addEventListener(\"click\",function(B){return function(){t=B;A();E();D();g.submit()}}(c),!1);n.appendChild(v);z(!0);r.push(h)}}};}).call(this);})();(function(){function b(a){for(a=a.target||a.srcElement;a&&\"A\"!=a.nodeName;)a=a.parentElement;a&&(a.href||\"\").match(/\\\\/search.*[?&]tbm=isch/)&&(a.href+=\"&biw=\"+document.documentElement.clientWidth,a.href+=\"&bih=\"+document.documentElement.clientHeight)}document.addEventListener(\"click\",b,!1);document.addEventListener(\"touchStart\",b,!1);}).call(this);</script></div><!-- cctlcm 5 cctlcm --><textarea class=\"csi\" name=\"csi\" style=\"display:none\"></textarea><script nonce=\"5kTWgameHMLriGzn53XnzQ==\">(function(){var e=\\'LdAQXZiFA6zR5OUPhrGc8AY\\';var sn=\\'web\\';(function(){var q=function(a){var c=window,d=document;if(!a||\"none\"==a.style.display)return 0;if(d.defaultView&&d.defaultView.getComputedStyle){var b=d.defaultView.getComputedStyle(a);if(b&&(\"hidden\"==b.visibility||\"0px\"==b.height&&\"0px\"==b.width))return 0}if(!a.getBoundingClientRect)return 1;var f=a.getBoundingClientRect();a=f.left+c.pageXOffset;b=f.top+c.pageYOffset;var k=f.width;f=f.height;return 0>=f&&0>=k?0:0>b+f?2:b>=(c.innerHeight||d.documentElement.clientHeight)?3:0>a+k||a>=(c.innerWidth||d.documentElement.clientWidth)?4:1};var r=e,v=sn;function w(a,c,d){a=\"/gen_204?atyp=csi&s=\"+(v||\"web\")+\"&t=\"+a+(\"&lite=1&ei=\"+r+\"&conn=\"+(window.navigator&&window.navigator.connection?window.navigator.connection.type:-1)+c);c=\"&rt=\";for(var b in d)a+=c+b+\".\"+d[b],c=\",\";return a}function x(a){a={prt:a};window.wsrt&&(a.wsrt=window.wsrt);return a}function y(a){window.ping?window.ping(a):(new Image).src=a}\\n(function(){for(var a=+new Date-window.start,c=x(a),d=0,b=0,f=0,k=document.getElementsByTagName(\"img\"),m=\"&imn=\"+k.length+\"&biw=\"+window.innerWidth+\"&bih=\"+window.innerHeight,A=function(h,z){h.onload=function(){b=+new Date-window.start;z&&++n==f&&(d=b,t());h.onload=null}},t=function(){m+=\"&ima=\"+f;c.aft=d;y(w(\"aft\",m,c))},n=0,B=0,g=void 0;g=k[B++];){var l=1==q(g);l&&++f;var u=g.complete&&!g.getAttribute(\"data-deferred\"),p=u&&Number(g.getAttribute(\"data-iml\"))||0;u&&p?(l&&++n,p&&(g=p-window.start,l&&(d=Math.max(d,g)),b=Math.max(b,g))):A(g,l)}d||(d=a);b||(b=d);n==f&&t();window.addEventListener(\"load\",function(){window.setTimeout(function(){c.ol=+new Date-window.start;c.iml=b;var h=window.performance&&window.performance.timing;h&&(c.rqst=h.responseEnd-h.requestStart,c.rspt=h.responseEnd-h.responseStart);y(w(\"all\",m,c))},0)},!1)})();}).call(this);})();</script><script nonce=\"5kTWgameHMLriGzn53XnzQ==\">(function(){var e=\\'LdAQXZiFA6zR5OUPhrGc8AY\\';(function(){var a=e,b=window.performance&&window.performance.navigation;b&&2==b.type&&window.ping(\"/gen_204?ct=backbutton&ei=\"+a);}).call(this);})();(function(){(function(){google.csct={};google.csct.ps=\\'AOvVaw2KlIVtbikE-mloWwmaDSb2\\\\x26ust\\\\x3d1561469357226939\\';})();})();(function(){(function(){google.csct.rd=true;})();})();google.drty&&google.drty();</script></body></html>'"
      ]
     },
     "execution_count": 3,
     "metadata": {},
     "output_type": "execute_result"
    }
   ],
   "source": [
    "url = 'https://www.google.com.br/search?q=pesquisa+eleitoral+bolsonaro&num=3&as_sitesearch=g1.com.br'\n",
    "res = requests.get(url)\n",
    "res.text"
   ]
  },
  {
   "cell_type": "markdown",
   "metadata": {},
   "source": [
    "We want an easy way to change the parameters of our search. Luckily, the `requests` library already has a functionality for URL queries."
   ]
  },
  {
   "cell_type": "code",
   "execution_count": 4,
   "metadata": {
    "scrolled": true
   },
   "outputs": [
    {
     "data": {
      "text/plain": [
       "'https://www.google.com.br/search?q=programa%2Bde%2Bgoverno&num=3&as_sitesearch=g1.com.br'"
      ]
     },
     "execution_count": 4,
     "metadata": {},
     "output_type": "execute_result"
    }
   ],
   "source": [
    "url = 'https://www.google.com.br/search'\n",
    "\n",
    "param_dict = {'q': 'programa+de+governo', \n",
    "              'num': '3', \n",
    "              'as_sitesearch': 'g1.com.br'}\n",
    "\n",
    "response = requests.get(url, params=param_dict)\n",
    "\n",
    "response.url"
   ]
  },
  {
   "cell_type": "markdown",
   "metadata": {},
   "source": [
    "## Practical Example - Derivatives Settlement Prices from B3\n",
    "An applied example of this is going to be relevant for is scraping sttlement prices from the B3 derivatives.\n",
    "\n",
    "http://www2.bmf.com.br/pages/portal/bmfbovespa/lumis/lum-sistema-pregao-enUS.asp?Data=10/01/2018&Mercadoria=DOL"
   ]
  },
  {
   "cell_type": "code",
   "execution_count": null,
   "metadata": {},
   "outputs": [],
   "source": [
    "url = 'http://www2.bmf.com.br/pages/portal/bmfbovespa/lumis/lum-sistema-pregao-enUS.asp'\n",
    "param_dict = {'Data': '10/01/2018', 'Mercadoria': 'DOL'}\n",
    "r = requests.get(url, params=param_dict)\n",
    "r.text"
   ]
  },
  {
   "cell_type": "markdown",
   "metadata": {},
   "source": [
    "---\n",
    "# Webdrivers\n",
    "First we need to install the [**selenium webdriver library**](https://www.seleniumhq.org/projects/webdriver/). This library allows you to command the web browsers. We will use **Google Chrome** as our web browser, so we need the [**Chrome Driver**](https://sites.google.com/a/chromium.org/chromedriver/downloads)"
   ]
  },
  {
   "cell_type": "code",
   "execution_count": 6,
   "metadata": {},
   "outputs": [
    {
     "ename": "ModuleNotFoundError",
     "evalue": "No module named 'selenium'",
     "output_type": "error",
     "traceback": [
      "\u001b[1;31m---------------------------------------------------------------------------\u001b[0m",
      "\u001b[1;31mModuleNotFoundError\u001b[0m                       Traceback (most recent call last)",
      "\u001b[1;32m<ipython-input-6-1b79c6ca56e6>\u001b[0m in \u001b[0;36m<module>\u001b[1;34m\u001b[0m\n\u001b[1;32m----> 1\u001b[1;33m \u001b[1;32mfrom\u001b[0m \u001b[0mselenium\u001b[0m \u001b[1;32mimport\u001b[0m \u001b[0mwebdriver\u001b[0m\u001b[1;33m\u001b[0m\u001b[1;33m\u001b[0m\u001b[0m\n\u001b[0m\u001b[0;32m      2\u001b[0m \u001b[1;32mimport\u001b[0m \u001b[0mdatetime\u001b[0m \u001b[1;32mas\u001b[0m \u001b[0mdt\u001b[0m\u001b[1;33m\u001b[0m\u001b[1;33m\u001b[0m\u001b[0m\n\u001b[0;32m      3\u001b[0m \u001b[1;32mimport\u001b[0m \u001b[0mtime\u001b[0m \u001b[1;32mas\u001b[0m \u001b[0mtime\u001b[0m\u001b[1;33m\u001b[0m\u001b[1;33m\u001b[0m\u001b[0m\n\u001b[0;32m      4\u001b[0m \u001b[1;32mimport\u001b[0m \u001b[0mos\u001b[0m\u001b[1;33m\u001b[0m\u001b[1;33m\u001b[0m\u001b[0m\n",
      "\u001b[1;31mModuleNotFoundError\u001b[0m: No module named 'selenium'"
     ]
    }
   ],
   "source": [
    "from selenium import webdriver\n",
    "import datetime as dt\n",
    "import time as time\n",
    "import os"
   ]
  },
  {
   "cell_type": "code",
   "execution_count": 5,
   "metadata": {},
   "outputs": [
    {
     "ename": "NameError",
     "evalue": "name 'webdriver' is not defined",
     "output_type": "error",
     "traceback": [
      "\u001b[1;31m---------------------------------------------------------------------------\u001b[0m",
      "\u001b[1;31mNameError\u001b[0m                                 Traceback (most recent call last)",
      "\u001b[1;32m<ipython-input-5-49dc519ad4e7>\u001b[0m in \u001b[0;36m<module>\u001b[1;34m\u001b[0m\n\u001b[1;32m----> 1\u001b[1;33m \u001b[0mdriver_options\u001b[0m \u001b[1;33m=\u001b[0m \u001b[0mwebdriver\u001b[0m\u001b[1;33m.\u001b[0m\u001b[0mChromeOptions\u001b[0m\u001b[1;33m(\u001b[0m\u001b[1;33m)\u001b[0m\u001b[1;33m\u001b[0m\u001b[1;33m\u001b[0m\u001b[0m\n\u001b[0m\u001b[0;32m      2\u001b[0m \u001b[1;33m\u001b[0m\u001b[0m\n\u001b[0;32m      3\u001b[0m browser = webdriver.Chrome(r'\\\\bw2k1201app\\groupbrw$\\BWGI\\Thiago Barros\\Drivers\\chromedriver', \n\u001b[0;32m      4\u001b[0m                            chrome_options=driver_options)\n\u001b[0;32m      5\u001b[0m \u001b[1;33m\u001b[0m\u001b[0m\n",
      "\u001b[1;31mNameError\u001b[0m: name 'webdriver' is not defined"
     ]
    }
   ],
   "source": [
    "driver_options = webdriver.ChromeOptions()\n",
    "\n",
    "browser = webdriver.Chrome(r'\\\\bw2k1201app\\groupbrw$\\BWGI\\Thiago Barros\\Drivers\\chromedriver', \n",
    "                           chrome_options=driver_options)\n",
    "\n",
    "browser.get(r'https://www3.bcb.gov.br/expectativas/publico/consulta/serieestatisticas')"
   ]
  },
  {
   "cell_type": "markdown",
   "metadata": {},
   "source": [
    "select the indicator"
   ]
  },
  {
   "cell_type": "code",
   "execution_count": null,
   "metadata": {},
   "outputs": [],
   "source": [
    "xpath = r'//*[@id=\"indicador\"]/option[5]'\n",
    "browser.find_element_by_xpath(xpath).click()"
   ]
  },
  {
   "cell_type": "markdown",
   "metadata": {},
   "source": [
    "Select the price index"
   ]
  },
  {
   "cell_type": "code",
   "execution_count": null,
   "metadata": {},
   "outputs": [],
   "source": [
    "xpath = r'//*[@id=\"grupoIndicePreco:opcoes_5\"]'\n",
    "browser.find_element_by_xpath(xpath).click()"
   ]
  },
  {
   "cell_type": "markdown",
   "metadata": {},
   "source": [
    "select the metric"
   ]
  },
  {
   "cell_type": "code",
   "execution_count": null,
   "metadata": {},
   "outputs": [],
   "source": [
    "xpath = r'//*[@id=\"calculo\"]/option[3]'\n",
    "browser.find_element_by_xpath(xpath).click()"
   ]
  },
  {
   "cell_type": "markdown",
   "metadata": {},
   "source": [
    "Select the periodicity"
   ]
  },
  {
   "cell_type": "code",
   "execution_count": null,
   "metadata": {},
   "outputs": [],
   "source": [
    "xpath = r'//*[@id=\"periodicidade\"]/option[3]'\n",
    "browser.find_element_by_xpath(xpath).click()"
   ]
  },
  {
   "cell_type": "markdown",
   "metadata": {},
   "source": [
    "Fill the dates"
   ]
  },
  {
   "cell_type": "code",
   "execution_count": null,
   "metadata": {},
   "outputs": [],
   "source": [
    "initial_date = dt.date(2018, 1, 10)\n",
    "xpath = r'//*[@id=\"tfDataInicial1\"]'\n",
    "browser.find_element_by_xpath(xpath).send_keys(initial_date.strftime('%d/%m/%Y'))\n",
    "\n",
    "end_date = dt.date(2018, 11, 16)\n",
    "xpath = r'//*[@id=\"tfDataFinal2\"]'\n",
    "browser.find_element_by_xpath(xpath).send_keys(end_date.strftime('%d/%m/%Y'))"
   ]
  },
  {
   "cell_type": "markdown",
   "metadata": {},
   "source": [
    "Fill initial year and final year"
   ]
  },
  {
   "cell_type": "code",
   "execution_count": null,
   "metadata": {},
   "outputs": [],
   "source": [
    "xpath = r'//*[@id=\"form4\"]/div[2]/table/tbody[3]/tr/td[2]/select/option[2]'\n",
    "browser.find_element_by_xpath(xpath).click()\n",
    "\n",
    "# trick - always grabs the last element\n",
    "xpath = r'//*[@id=\"form4\"]/div[2]/table/tbody[3]/tr/td[4]/select'\n",
    "selection = browser.find_element_by_xpath(xpath)\n",
    "selection.click()\n",
    "options = selection.find_elements_by_tag_name('option')\n",
    "options[len(options) - 1].click()"
   ]
  },
  {
   "cell_type": "markdown",
   "metadata": {},
   "source": [
    "click the download button"
   ]
  },
  {
   "cell_type": "code",
   "execution_count": null,
   "metadata": {},
   "outputs": [],
   "source": [
    "xpath = r'//*[@id=\"btnXLSa\"]'\n",
    "browser.find_element_by_xpath(xpath).click()\n",
    "\n",
    "download_save_time = dt.datetime.now()  # saves the time the file was downloaded"
   ]
  },
  {
   "cell_type": "markdown",
   "metadata": {},
   "source": [
    "Get the default download directory\n",
    "\n",
    "Probably only works on windows"
   ]
  },
  {
   "cell_type": "code",
   "execution_count": null,
   "metadata": {
    "scrolled": true
   },
   "outputs": [],
   "source": [
    "username = os.getlogin()\n",
    "download_path = r'C:\\Users\\%(user)s\\Downloads' % {'user': username}\n",
    "download_path"
   ]
  },
  {
   "cell_type": "markdown",
   "metadata": {},
   "source": [
    "Explain the walk method\n",
    "dirpath\n",
    "dirname\n",
    "filename"
   ]
  },
  {
   "cell_type": "code",
   "execution_count": null,
   "metadata": {},
   "outputs": [],
   "source": [
    "list(os.walk(download_path))"
   ]
  },
  {
   "cell_type": "markdown",
   "metadata": {},
   "source": [
    "Look for the files in the download path"
   ]
  },
  {
   "cell_type": "code",
   "execution_count": null,
   "metadata": {},
   "outputs": [],
   "source": [
    "for (dirpath, dirnames, filenames) in os.walk(download_path):\n",
    "    \n",
    "    for f in filenames:\n",
    "    \n",
    "        if 'Séries de estatísticas' in f:\n",
    "            file_save_time = os.path.getmtime(dirpath + '\\\\' + f)\n",
    "            file_save_time = dt.datetime.fromtimestamp(file_save_time)\n",
    "            \n",
    "            if file_save_time > save_time:\n",
    "                file_path = dirpath + '\\\\' + f\n",
    "                \n",
    "print(file_path)"
   ]
  },
  {
   "cell_type": "markdown",
   "metadata": {},
   "source": [
    "read the file and clean the dataframe"
   ]
  },
  {
   "cell_type": "code",
   "execution_count": null,
   "metadata": {
    "scrolled": true
   },
   "outputs": [],
   "source": [
    "df = pd.read_excel(file_path, skiprows=1, na_values=[' '])\n",
    "\n",
    "df['Data'] = pd.to_datetime(df['Data'], dayfirst=True)\n",
    "df = df.set_index('Data')\n",
    "df"
   ]
  },
  {
   "cell_type": "code",
   "execution_count": null,
   "metadata": {},
   "outputs": [],
   "source": [
    "import matplotlib.pyplot as plt\n",
    "df.plot(figsize=(15, 8))\n",
    "plt.show()"
   ]
  },
  {
   "cell_type": "markdown",
   "metadata": {},
   "source": [
    "All together now"
   ]
  },
  {
   "cell_type": "code",
   "execution_count": null,
   "metadata": {},
   "outputs": [],
   "source": [
    "driver_options = webdriver.ChromeOptions()\n",
    "\n",
    "browser = webdriver.Chrome(r'\\\\bw2k1201app\\groupbrw$\\BWGI\\Thiago Barros\\Drivers\\chromedriver', \n",
    "                           chrome_options=driver_options)\n",
    "\n",
    "browser.get(r'https://www3.bcb.gov.br/expectativas/publico/consulta/serieestatisticas')\n",
    "\n",
    "xpath = r'//*[@id=\"indicador\"]/option[5]'\n",
    "browser.find_element_by_xpath(xpath).click()\n",
    "\n",
    "xpath = r'//*[@id=\"grupoIndicePreco:opcoes_5\"]'\n",
    "browser.find_element_by_xpath(xpath).click()\n",
    "\n",
    "xpath = r'//*[@id=\"calculo\"]/option[3]'\n",
    "browser.find_element_by_xpath(xpath).click()\n",
    "\n",
    "xpath = r'//*[@id=\"periodicidade\"]/option[3]'\n",
    "browser.find_element_by_xpath(xpath).click()\n",
    "\n",
    "initial_date = dt.date(2018, 1, 10)\n",
    "xpath = r'//*[@id=\"tfDataInicial1\"]'\n",
    "browser.find_element_by_xpath(xpath).send_keys(initial_date.strftime('%d/%m/%Y'))\n",
    "\n",
    "end_date = dt.date(2018, 11, 16)\n",
    "xpath = r'//*[@id=\"tfDataFinal2\"]'\n",
    "browser.find_element_by_xpath(xpath).send_keys(end_date.strftime('%d/%m/%Y'))\n",
    "\n",
    "xpath = r'//*[@id=\"form4\"]/div[2]/table/tbody[3]/tr/td[2]/select/option[2]'\n",
    "browser.find_element_by_xpath(xpath).click()\n",
    "\n",
    "# trick - always grabs the last element\n",
    "xpath = r'//*[@id=\"form4\"]/div[2]/table/tbody[3]/tr/td[4]/select'\n",
    "selection = browser.find_element_by_xpath(xpath)\n",
    "selection.click()\n",
    "options = selection.find_elements_by_tag_name('option')\n",
    "options[len(options) - 1].click()\n",
    "\n",
    "xpath = r'//*[@id=\"btnXLSa\"]'\n",
    "browser.find_element_by_xpath(xpath).click()\n",
    "\n",
    "download_save_time = dt.datetime.now()  # saves the time the file was downloaded\n",
    "\n",
    "time.sleep(6)  # give some time for the download to finish\n",
    "\n",
    "browser.close()\n",
    "\n",
    "username = os.getlogin()\n",
    "download_path = r'C:\\Users\\%(user)s\\Downloads' % {'user': username}\n",
    "\n",
    "for (dirpath, dirnames, filenames) in os.walk(download_path):\n",
    "    \n",
    "    for f in filenames:\n",
    "    \n",
    "        if 'Séries de estatísticas' in f:\n",
    "            file_save_time = os.path.getmtime(dirpath + '\\\\' + f)\n",
    "            file_save_time = dt.datetime.fromtimestamp(file_save_time)\n",
    "            \n",
    "            if file_save_time > save_time:\n",
    "                file_path = dirpath + '\\\\' + f\n",
    "                \n",
    "df = pd.read_excel(file_path, skiprows=1, na_values=[' '])\n",
    "\n",
    "df['Data'] = pd.to_datetime(df['Data'], dayfirst=True)\n",
    "df = df.set_index('Data')\n",
    "\n",
    "df.plot(figsize=(15, 8))\n",
    "plt.show()"
   ]
  }
 ],
 "metadata": {
  "kernelspec": {
   "display_name": "Python 3",
   "language": "python",
   "name": "python3"
  },
  "language_info": {
   "codemirror_mode": {
    "name": "ipython",
    "version": 3
   },
   "file_extension": ".py",
   "mimetype": "text/x-python",
   "name": "python",
   "nbconvert_exporter": "python",
   "pygments_lexer": "ipython3",
   "version": "3.7.3"
  }
 },
 "nbformat": 4,
 "nbformat_minor": 2
}
