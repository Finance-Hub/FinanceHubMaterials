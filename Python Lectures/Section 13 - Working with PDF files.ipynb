{
 "cells": [
  {
   "cell_type": "markdown",
   "metadata": {},
   "source": [
    "# Working with PDF files in python\n",
    "## Author: Gustavo Amarante\n",
    "\n",
    "There are several libraries that can handle pdf files but the main library we are going to use is *`PyPDF4`*. **This library is no longer maintained, its latest version is now `pyPDF4`. Most (but not all) of `pyPDF2` is backward compatible with `pyPDF4`, which means you can simply swap one for the other onm the imports and not have to change any other lines.**\n",
    "\n",
    "The example document that we are going to use in this notebook is the piano score for \"The Fools Who Dream\" by Justin Hurwitz (from the audition scene from the movie \"La La Land\")\n",
    "\n",
    "### What is a PDF file?\n",
    "* It stands for Portable Document Format\n",
    "* Initially invented by Adobe, it is now a standard document format maintaned by the International Organization for Standardisation (ISO)"
   ]
  },
  {
   "cell_type": "markdown",
   "metadata": {},
   "source": [
    "---\n",
    "## Extracting Metadata\n",
    "Some of the metadata on pdf file are very useful for automations. We are capable of extracting:\n",
    "* Author\n",
    "* Creator\n",
    "* Producer\n",
    "* Subject\n",
    "* Title\n",
    "* Number of pages"
   ]
  },
  {
   "cell_type": "code",
   "execution_count": 1,
   "metadata": {},
   "outputs": [],
   "source": [
    "from PyPDF4 import PdfFileReader\n",
    "\n",
    "def extract_pdf_metadata(pdf_path):\n",
    "    with open(pdf_path, 'rb') as file:\n",
    "        pdf = PdfFileReader(file)\n",
    "        info = pdf.getDocumentInfo()\n",
    "        n_pages = pdf.getNumPages()\n",
    "        \n",
    "    print('Author:', info.author)\n",
    "    print('Creator:', info.creator)\n",
    "    print('Producer:', info.producer)\n",
    "    print('Subject:', info.subject)\n",
    "    print('Title:', info.title)\n",
    "    print('Pages:', n_pages)"
   ]
  },
  {
   "cell_type": "code",
   "execution_count": 2,
   "metadata": {},
   "outputs": [
    {
     "name": "stdout",
     "output_type": "stream",
     "text": [
      "Author: None\n",
      "Creator: MuseScore Version: 2.1.0\n",
      "Producer: Qt 5.4.2\n",
      "Subject: None\n",
      "Title: Audition (The Fools Who Dream\n",
      "Pages: 12\n"
     ]
    },
    {
     "name": "stderr",
     "output_type": "stream",
     "text": [
      "PdfReadWarning: Xref table not zero-indexed. ID numbers for objects will be corrected. [pdf.py:1801]\n"
     ]
    }
   ],
   "source": [
    "extract_pdf_metadata(r'data/Audition_The_Fools_Who_Dream.pdf')"
   ]
  },
  {
   "cell_type": "markdown",
   "metadata": {},
   "source": [
    "---\n",
    "## Rotating Pages\n",
    "Lets put all of the pages of this score upside down."
   ]
  },
  {
   "cell_type": "code",
   "execution_count": 3,
   "metadata": {},
   "outputs": [],
   "source": [
    "from PyPDF4 import PdfFileReader, PdfFileWriter\n",
    "\n",
    "def rotate_pages(pdf_path):\n",
    "    \n",
    "    pdf_writer = PdfFileWriter()\n",
    "\n",
    "    pdf_reader = PdfFileReader(pdf_path)\n",
    "    n_pages = pdf_reader.getNumPages()\n",
    "    \n",
    "    for page_i in range(n_pages):\n",
    "        page = pdf_reader.getPage(page_i).rotateClockwise(180)\n",
    "        pdf_writer.addPage(page)\n",
    "        \n",
    "    with open('rotated_pages.pdf', 'wb') as rp:\n",
    "        pdf_writer.write(rp)"
   ]
  },
  {
   "cell_type": "code",
   "execution_count": 4,
   "metadata": {},
   "outputs": [
    {
     "name": "stderr",
     "output_type": "stream",
     "text": [
      "PdfReadWarning: Xref table not zero-indexed. ID numbers for objects will be corrected. [pdf.py:1801]\n"
     ]
    }
   ],
   "source": [
    "rotate_pages(r'data/Audition_The_Fools_Who_Dream.pdf')"
   ]
  },
  {
   "cell_type": "markdown",
   "metadata": {},
   "source": [
    "---\n",
    "## Merging PDF Files\n",
    "Let's create a new file where the first page is the FinanceHub logo and the second page is the first page of the music score.\n",
    "\n",
    "For that we can create a function to merge pdfs"
   ]
  },
  {
   "cell_type": "code",
   "execution_count": 47,
   "metadata": {},
   "outputs": [],
   "source": [
    "from PyPDF4 import PdfFileReader, PdfFileWriter\n",
    "\n",
    "def merge_pdf(path, writer=None, pages=None, save_path=None):\n",
    "    \"\"\"\n",
    "    This function merges pdf files. \n",
    "    \n",
    "    If a pdf writer is passed, it appends the selected file to its end, \n",
    "    otherwise it creates a new pdf writer.\n",
    "    \n",
    "    If a page number is passed, only that page will be append to the pdf writer.\n",
    "\n",
    "    If 'save_path' is passed, it saves the file to that path. Otherwise, \n",
    "    it returns the pdf writer object.\n",
    "    \"\"\"\n",
    "    \n",
    "    if writer is None:\n",
    "        writer = PdfFileWriter()\n",
    "    \n",
    "    reader = PdfFileReader(path)\n",
    "    \n",
    "    if pages is None:\n",
    "        # Full document\n",
    "        n_page = reader.getNumPages()\n",
    "        for page in range(n_page):\n",
    "            writer.addPage(reader.getPage(page))\n",
    "    else:\n",
    "        # Single selected page\n",
    "        writer.addPage(reader.getPage(pages))\n",
    "    \n",
    "    if save_path is None:\n",
    "        return writer\n",
    "    else:\n",
    "        with open(save_path, 'wb') as out:\n",
    "            writer.write(out)"
   ]
  },
  {
   "cell_type": "code",
   "execution_count": 49,
   "metadata": {},
   "outputs": [
    {
     "name": "stderr",
     "output_type": "stream",
     "text": [
      "PdfReadWarning: Xref table not zero-indexed. ID numbers for objects will be corrected. [pdf.py:1801]\n"
     ]
    }
   ],
   "source": [
    "pdf_writer = merge_pdf('data/FH Logo.pdf')\n",
    "\n",
    "merge_pdf('data/Audition_The_Fools_Who_Dream.pdf', \n",
    "          writer=pdf_writer,\n",
    "          pages=0,\n",
    "          save_path='logo+score.pdf')"
   ]
  },
  {
   "cell_type": "markdown",
   "metadata": {},
   "source": [
    "---\n",
    "## Watermarking a pdf file\n",
    "In this example we want to put the FinanceHub logo as a watermark in all of the pages of the music score sheet."
   ]
  },
  {
   "cell_type": "code",
   "execution_count": 52,
   "metadata": {},
   "outputs": [],
   "source": [
    "from PyPDF4 import PdfFileReader, PdfFileWriter\n",
    "\n",
    "def pdf_watermart(input_pdf, save_path, watermark_path):\n",
    "    watermark_obj = PdfFileReader(watermark_path)\n",
    "    watermark_page = watermark_obj.getPage(0)\n",
    "    \n",
    "    pdf_reader = PdfFileReader(input_pdf)\n",
    "    n_pages = pdf_reader.getNumPages()\n",
    "    \n",
    "    pdf_writer = PdfFileWriter()\n",
    "    \n",
    "    for page in range(n_pages):\n",
    "        page_read = pdf_reader.getPage(page)\n",
    "        page_read.mergePage(watermark_page)\n",
    "        pdf_writer.addPage(page_read)\n",
    "    \n",
    "    with open(save_path, 'wb') as out:\n",
    "        pdf_writer.write(out)"
   ]
  },
  {
   "cell_type": "code",
   "execution_count": 54,
   "metadata": {},
   "outputs": [
    {
     "name": "stderr",
     "output_type": "stream",
     "text": [
      "PdfReadWarning: Xref table not zero-indexed. ID numbers for objects will be corrected. [pdf.py:1801]\n"
     ]
    }
   ],
   "source": [
    "pdf_watermart('data/Audition_The_Fools_Who_Dream.pdf', 'watermarked score.pdf', 'data/FH watermark.pdf')"
   ]
  },
  {
   "cell_type": "code",
   "execution_count": null,
   "metadata": {},
   "outputs": [],
   "source": []
  }
 ],
 "metadata": {
  "kernelspec": {
   "display_name": "Python 3",
   "language": "python",
   "name": "python3"
  },
  "language_info": {
   "codemirror_mode": {
    "name": "ipython",
    "version": 3
   },
   "file_extension": ".py",
   "mimetype": "text/x-python",
   "name": "python",
   "nbconvert_exporter": "python",
   "pygments_lexer": "ipython3",
   "version": "3.6.5"
  }
 },
 "nbformat": 4,
 "nbformat_minor": 2
}
