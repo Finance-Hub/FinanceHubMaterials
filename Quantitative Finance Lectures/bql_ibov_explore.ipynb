{
 "cells": [
  {
   "cell_type": "markdown",
   "metadata": {},
   "source": [
    "# Exploratory analysis of members of the IBOV index\n",
    "\n",
    "In this sample notebook you will find possible company insights in the Ibovespa Brasil Sao Paulo Stock Exchange (IBOV) after market. The IBOV Index is a gross total return index weighted by free float market cap & is comprised of the most liquid stocks traded on the Sao Paulo Stock Exchange.\n",
    "\n",
    "By the end of this exercise you should be able to use the Bloomberg Query Language (BQL) to retrieve and transform financial data directly in the Bloomberg Cloud and make simple data analysis and visualization using Python. Optionally you might even be able to find investment opportunities.\n",
    "\n",
    "There are a couple of assumptions:\n",
    "\n",
    "- First, the universe is the all the members of the IBOV Index;\n",
    "- To find insights you will use tresholds for different market data, and see which companies hit those tresholds;\n",
    "- You will only consider companies that hit at least three of these thresholds.\n",
    "\n",
    "The data fields you will handle in this exercise are:\n",
    "\n",
    "- Trading volume\n",
    "- Last price\n",
    "- Relative strength index (RSI)\n",
    "- 30-day volatility and maximum 30-day volatility\n",
    "- 90-day volatility and maximum 90-day volatility\n",
    "\n",
    "Your end results will be a `pandas` data frame with the companies that hit the thresholds and some insights about their behaviour in the past."
   ]
  },
  {
   "cell_type": "markdown",
   "metadata": {},
   "source": [
    "## Load a single data point\n",
    "\n",
    "This is a simple recipe to get one data point for a single ticker:\n",
    "\n",
    "1. Import required Python library: BQL\n",
    "2. Instantiate the interface to the BQL service\n",
    "3. Define the security or securities you want to retreive data from\n",
    "4. Define the field or fields  to retrieve\n",
    "5. Generate the BQL request\n",
    "6. Execute the request\n",
    "7. Get the response\n",
    "\n",
    "The following cells of code illustrate this simple recipe retrieving the last price for one single security (ticker) and show the result on screen."
   ]
  },
  {
   "cell_type": "code",
   "execution_count": 1,
   "metadata": {},
   "outputs": [],
   "source": [
    "# Import BQL library\n",
    "import bql"
   ]
  },
  {
   "cell_type": "code",
   "execution_count": 2,
   "metadata": {},
   "outputs": [],
   "source": [
    "# Instantiate an object to interface with the BQL service\n",
    "bq = bql.Service()"
   ]
  },
  {
   "cell_type": "code",
   "execution_count": 3,
   "metadata": {},
   "outputs": [
    {
     "data": {
      "text/html": [
       "<div>\n",
       "<table border=\"1\" class=\"dataframe\">\n",
       "  <thead>\n",
       "    <tr style=\"text-align: right;\">\n",
       "      <th></th>\n",
       "      <th>DATE</th>\n",
       "      <th>CURRENCY</th>\n",
       "      <th>PX_LAST()</th>\n",
       "    </tr>\n",
       "    <tr>\n",
       "      <th>ID</th>\n",
       "      <th></th>\n",
       "      <th></th>\n",
       "      <th></th>\n",
       "    </tr>\n",
       "  </thead>\n",
       "  <tbody>\n",
       "    <tr>\n",
       "      <th>VVAR3 BZ Equity</th>\n",
       "      <td>2020-02-21</td>\n",
       "      <td>BRL</td>\n",
       "      <td>16.309999</td>\n",
       "    </tr>\n",
       "  </tbody>\n",
       "</table>\n",
       "</div>"
      ],
      "text/plain": [
       "                      DATE CURRENCY  PX_LAST()\n",
       "ID                                            \n",
       "VVAR3 BZ Equity 2020-02-21      BRL  16.309999"
      ]
     },
     "execution_count": 3,
     "metadata": {},
     "output_type": "execute_result"
    }
   ],
   "source": [
    "# Define a variable for the security \n",
    "ticker = \"VVAR3 BZ Equity\"\n",
    "\n",
    "# Define a data item for the last price (`PX_LAST`)\n",
    "last_price = bq.data.px_last()\n",
    "\n",
    "# Generate the request using the sercurity variable and data item\n",
    "request =  bql.Request(ticker, last_price)\n",
    "\n",
    "# Execute the request\n",
    "response = bq.execute(request)\n",
    "\n",
    "# Display the response in a DataFrame\n",
    "df = response[0].df()\n",
    "df"
   ]
  },
  {
   "cell_type": "markdown",
   "metadata": {},
   "source": [
    "## Trading volume\n",
    "\n",
    "Now it's your time to write code.\n",
    "\n",
    "The first field that you will explore is the total number of shares traded of all members of the IBOV Index. You will compare the yesterday's traded volume with the latest 3-month average traded volume."
   ]
  },
  {
   "cell_type": "markdown",
   "metadata": {},
   "source": [
    "#### 1. Import required Python library: BQL"
   ]
  },
  {
   "cell_type": "code",
   "execution_count": 4,
   "metadata": {},
   "outputs": [],
   "source": [
    "import bql"
   ]
  },
  {
   "cell_type": "markdown",
   "metadata": {},
   "source": [
    "#### 2. Instantiate the interface to the BQL service"
   ]
  },
  {
   "cell_type": "code",
   "execution_count": 5,
   "metadata": {},
   "outputs": [],
   "source": [
    "bq = bql.Service()"
   ]
  },
  {
   "cell_type": "markdown",
   "metadata": {},
   "source": [
    "#### 3. Define the security or securities you want to retreive data from: members of the IBOV Index."
   ]
  },
  {
   "cell_type": "code",
   "execution_count": 6,
   "metadata": {},
   "outputs": [],
   "source": [
    "# List of securities to retrieve\n",
    "tickers = bq.univ.members(\"IBOV Index\")"
   ]
  },
  {
   "cell_type": "markdown",
   "metadata": {},
   "source": [
    "#### 4. Define the field or fields to retrieve\n",
    "\n",
    "You will retrieve the total number of shares trated yesterday using `bq.data.px_volume`. Note that there are arguments to pass to indicate yesterday's data.\n",
    "\n",
    "BQL allows you to apply functions to fields. You will calculate 3-month average trading volume using `bq.func.avg`. Use `bq.func.range` to define the dates range used when calculating the average volume."
   ]
  },
  {
   "cell_type": "code",
   "execution_count": 7,
   "metadata": {},
   "outputs": [],
   "source": [
    "# Define fields to retrieve\n",
    "volume = bq.data.px_volume(dates=\"-1D\", fill=\"PREV\")\n",
    "volume_avg_3m = bq.func.avg(bq.data.px_volume(start=\"-3M\", end='-1D'))"
   ]
  },
  {
   "cell_type": "markdown",
   "metadata": {},
   "source": [
    "#### 5. Generate the BQL request"
   ]
  },
  {
   "cell_type": "code",
   "execution_count": 8,
   "metadata": {},
   "outputs": [],
   "source": [
    "# Generate the request\n",
    "request = bql.Request(\n",
    "    tickers,\n",
    "    {'PX_VOLUME': volume, 'PX_VOLUME_AVG_3M': volume_avg_3m, \"PX_VOLUME_RATIO\": volume / volume_avg_3m}\n",
    ")"
   ]
  },
  {
   "cell_type": "markdown",
   "metadata": {},
   "source": [
    "#### 6. Execute the request"
   ]
  },
  {
   "cell_type": "code",
   "execution_count": 9,
   "metadata": {},
   "outputs": [],
   "source": [
    "# Execute the request\n",
    "response = bq.execute(request)"
   ]
  },
  {
   "cell_type": "markdown",
   "metadata": {},
   "source": [
    "#### 7. Get the response"
   ]
  },
  {
   "cell_type": "code",
   "execution_count": 10,
   "metadata": {},
   "outputs": [],
   "source": [
    "# Combine response\n",
    "df_volume = bql.combined_df(response)"
   ]
  },
  {
   "cell_type": "code",
   "execution_count": 11,
   "metadata": {},
   "outputs": [
    {
     "data": {
      "text/html": [
       "<div>\n",
       "<table border=\"1\" class=\"dataframe\">\n",
       "  <thead>\n",
       "    <tr style=\"text-align: right;\">\n",
       "      <th></th>\n",
       "      <th>DATE</th>\n",
       "      <th>PX_VOLUME_RATIO</th>\n",
       "      <th>PX_VOLUME_AVG_3M</th>\n",
       "      <th>PX_VOLUME</th>\n",
       "    </tr>\n",
       "    <tr>\n",
       "      <th>ID</th>\n",
       "      <th></th>\n",
       "      <th></th>\n",
       "      <th></th>\n",
       "      <th></th>\n",
       "    </tr>\n",
       "  </thead>\n",
       "  <tbody>\n",
       "    <tr>\n",
       "      <th>ENBR3 BS Equity</th>\n",
       "      <td>2020-02-20</td>\n",
       "      <td>0.775194</td>\n",
       "      <td>2.989445e+06</td>\n",
       "      <td>2317400.0</td>\n",
       "    </tr>\n",
       "    <tr>\n",
       "      <th>HGTX3 BS Equity</th>\n",
       "      <td>2020-02-20</td>\n",
       "      <td>1.093243</td>\n",
       "      <td>2.469076e+06</td>\n",
       "      <td>2699300.0</td>\n",
       "    </tr>\n",
       "    <tr>\n",
       "      <th>RADL3 BS Equity</th>\n",
       "      <td>2020-02-20</td>\n",
       "      <td>1.460945</td>\n",
       "      <td>1.175061e+06</td>\n",
       "      <td>1716700.0</td>\n",
       "    </tr>\n",
       "    <tr>\n",
       "      <th>BBAS3 BS Equity</th>\n",
       "      <td>2020-02-20</td>\n",
       "      <td>1.016880</td>\n",
       "      <td>1.185213e+07</td>\n",
       "      <td>12052200.0</td>\n",
       "    </tr>\n",
       "    <tr>\n",
       "      <th>IGTA3 BS Equity</th>\n",
       "      <td>2020-02-20</td>\n",
       "      <td>0.779776</td>\n",
       "      <td>1.419382e+06</td>\n",
       "      <td>1106800.0</td>\n",
       "    </tr>\n",
       "  </tbody>\n",
       "</table>\n",
       "</div>"
      ],
      "text/plain": [
       "                      DATE  PX_VOLUME_RATIO  PX_VOLUME_AVG_3M   PX_VOLUME\n",
       "ID                                                                       \n",
       "ENBR3 BS Equity 2020-02-20         0.775194      2.989445e+06   2317400.0\n",
       "HGTX3 BS Equity 2020-02-20         1.093243      2.469076e+06   2699300.0\n",
       "RADL3 BS Equity 2020-02-20         1.460945      1.175061e+06   1716700.0\n",
       "BBAS3 BS Equity 2020-02-20         1.016880      1.185213e+07  12052200.0\n",
       "IGTA3 BS Equity 2020-02-20         0.779776      1.419382e+06   1106800.0"
      ]
     },
     "execution_count": 11,
     "metadata": {},
     "output_type": "execute_result"
    }
   ],
   "source": [
    "# Let's see the first elements in the data frame\n",
    "df_volume.head()"
   ]
  },
  {
   "cell_type": "markdown",
   "metadata": {},
   "source": [
    "### Simple plotting\n",
    "\n",
    "Python has a vast set of tools to make sofisticated data visualization. One of these tools is `matplotlib` which emerged to mimic MATLAB's plotting capabilities in Python. `pandas` uses `matplotlib` for plotting.\n",
    "\n",
    "You can import `matplotlib`'s pyplot module and use its style sheets as follows:"
   ]
  },
  {
   "cell_type": "code",
   "execution_count": 14,
   "metadata": {},
   "outputs": [],
   "source": [
    "import pandas\n",
    "\n",
    "%matplotlib inline\n",
    "from matplotlib import pyplot\n",
    "\n",
    "# Use predefined styles to plots: colors, font size, ...\n",
    "pyplot.style.use(['seaborn', 'seaborn-poster', 'seaborn-ticks'])"
   ]
  },
  {
   "cell_type": "markdown",
   "metadata": {},
   "source": [
    "Plot the histogram of the ratio between volume and average volume. `pandas` data frames have the `plot` method which can be used to draw line plots, scatter plots, histograms, etc.\n",
    "\n",
    "Use `df_volume['column'].plot.hist()` to plot your histogram."
   ]
  },
  {
   "cell_type": "code",
   "execution_count": 15,
   "metadata": {},
   "outputs": [
    {
     "data": {
      "image/png": "[encoded data removed]",
      "text/plain": [
       "<matplotlib.figure.Figure at 0x26fca0b3400>"
      ]
     },
     "metadata": {},
     "output_type": "display_data"
    }
   ],
   "source": [
    "# Plot the histogram\n",
    "ax = df_volume['PX_VOLUME_RATIO'].plot.hist(bins=pandas.np.arange(0.5, 5.1, 0.1))\n",
    "\n",
    "# It's nice to have labels on the axis and optimize the use of the figure space\n",
    "ax.axvline(1.5, color='k', linestyle='-', alpha=0.5)\n",
    "ax.set_xlabel('Trading volume ratio')\n",
    "ax.set_ylabel('Number of securities')\n",
    "ax.figure.tight_layout()"
   ]
  },
  {
   "cell_type": "markdown",
   "metadata": {},
   "source": [
    "Identify securities that are being traded with more than 150% of their average volume. Call them `outliers`. \n",
    "\n",
    "* Suggestion 1: use `df_volume.query`.\n",
    "* Suggestion 2: sort your outliers using the method `df_volume.sort_values(by='PX_VOLUME_RATIO')`."
   ]
  },
  {
   "cell_type": "code",
   "execution_count": 16,
   "metadata": {},
   "outputs": [
    {
     "data": {
      "text/html": [
       "<div>\n",
       "<table border=\"1\" class=\"dataframe\">\n",
       "  <thead>\n",
       "    <tr style=\"text-align: right;\">\n",
       "      <th></th>\n",
       "      <th>DATE</th>\n",
       "      <th>PX_VOLUME_RATIO</th>\n",
       "      <th>PX_VOLUME_AVG_3M</th>\n",
       "      <th>PX_VOLUME</th>\n",
       "    </tr>\n",
       "    <tr>\n",
       "      <th>ID</th>\n",
       "      <th></th>\n",
       "      <th></th>\n",
       "      <th></th>\n",
       "      <th></th>\n",
       "    </tr>\n",
       "  </thead>\n",
       "  <tbody>\n",
       "    <tr>\n",
       "      <th>TOTS3 BS Equity</th>\n",
       "      <td>2020-02-20</td>\n",
       "      <td>1.509045</td>\n",
       "      <td>2.011006e+06</td>\n",
       "      <td>3034700.0</td>\n",
       "    </tr>\n",
       "    <tr>\n",
       "      <th>BPAC11 BS Equity</th>\n",
       "      <td>2020-02-20</td>\n",
       "      <td>1.516661</td>\n",
       "      <td>2.182031e+06</td>\n",
       "      <td>3309400.0</td>\n",
       "    </tr>\n",
       "    <tr>\n",
       "      <th>EGIE3 BS Equity</th>\n",
       "      <td>2020-02-20</td>\n",
       "      <td>1.551206</td>\n",
       "      <td>1.378992e+06</td>\n",
       "      <td>2139100.0</td>\n",
       "    </tr>\n",
       "    <tr>\n",
       "      <th>GOAU4 BS Equity</th>\n",
       "      <td>2020-02-20</td>\n",
       "      <td>1.563400</td>\n",
       "      <td>1.194537e+07</td>\n",
       "      <td>18675400.0</td>\n",
       "    </tr>\n",
       "    <tr>\n",
       "      <th>PETR4 BS Equity</th>\n",
       "      <td>2020-02-20</td>\n",
       "      <td>1.597394</td>\n",
       "      <td>4.602677e+07</td>\n",
       "      <td>73522900.0</td>\n",
       "    </tr>\n",
       "    <tr>\n",
       "      <th>ECOR3 BS Equity</th>\n",
       "      <td>2020-02-20</td>\n",
       "      <td>1.638804</td>\n",
       "      <td>3.234189e+06</td>\n",
       "      <td>5300200.0</td>\n",
       "    </tr>\n",
       "    <tr>\n",
       "      <th>EMBR3 BS Equity</th>\n",
       "      <td>2020-02-20</td>\n",
       "      <td>1.771688</td>\n",
       "      <td>2.626140e+06</td>\n",
       "      <td>4652700.0</td>\n",
       "    </tr>\n",
       "    <tr>\n",
       "      <th>TAEE11 BS Equity</th>\n",
       "      <td>2020-02-20</td>\n",
       "      <td>1.772716</td>\n",
       "      <td>1.707042e+06</td>\n",
       "      <td>3026100.0</td>\n",
       "    </tr>\n",
       "    <tr>\n",
       "      <th>ITUB4 BS Equity</th>\n",
       "      <td>2020-02-20</td>\n",
       "      <td>1.825793</td>\n",
       "      <td>2.629471e+07</td>\n",
       "      <td>48008700.0</td>\n",
       "    </tr>\n",
       "    <tr>\n",
       "      <th>IRBR3 BS Equity</th>\n",
       "      <td>2020-02-20</td>\n",
       "      <td>2.099368</td>\n",
       "      <td>7.760858e+06</td>\n",
       "      <td>16292900.0</td>\n",
       "    </tr>\n",
       "    <tr>\n",
       "      <th>MRFG3 BS Equity</th>\n",
       "      <td>2020-02-20</td>\n",
       "      <td>2.760444</td>\n",
       "      <td>1.372750e+07</td>\n",
       "      <td>37894000.0</td>\n",
       "    </tr>\n",
       "    <tr>\n",
       "      <th>UGPA3 BS Equity</th>\n",
       "      <td>2020-02-20</td>\n",
       "      <td>3.801235</td>\n",
       "      <td>6.265990e+06</td>\n",
       "      <td>23818500.0</td>\n",
       "    </tr>\n",
       "    <tr>\n",
       "      <th>PCAR4 BS Equity</th>\n",
       "      <td>2020-02-20</td>\n",
       "      <td>4.098382</td>\n",
       "      <td>1.356950e+06</td>\n",
       "      <td>5561300.0</td>\n",
       "    </tr>\n",
       "  </tbody>\n",
       "</table>\n",
       "</div>"
      ],
      "text/plain": [
       "                       DATE  PX_VOLUME_RATIO  PX_VOLUME_AVG_3M   PX_VOLUME\n",
       "ID                                                                        \n",
       "TOTS3 BS Equity  2020-02-20         1.509045      2.011006e+06   3034700.0\n",
       "BPAC11 BS Equity 2020-02-20         1.516661      2.182031e+06   3309400.0\n",
       "EGIE3 BS Equity  2020-02-20         1.551206      1.378992e+06   2139100.0\n",
       "GOAU4 BS Equity  2020-02-20         1.563400      1.194537e+07  18675400.0\n",
       "PETR4 BS Equity  2020-02-20         1.597394      4.602677e+07  73522900.0\n",
       "ECOR3 BS Equity  2020-02-20         1.638804      3.234189e+06   5300200.0\n",
       "EMBR3 BS Equity  2020-02-20         1.771688      2.626140e+06   4652700.0\n",
       "TAEE11 BS Equity 2020-02-20         1.772716      1.707042e+06   3026100.0\n",
       "ITUB4 BS Equity  2020-02-20         1.825793      2.629471e+07  48008700.0\n",
       "IRBR3 BS Equity  2020-02-20         2.099368      7.760858e+06  16292900.0\n",
       "MRFG3 BS Equity  2020-02-20         2.760444      1.372750e+07  37894000.0\n",
       "UGPA3 BS Equity  2020-02-20         3.801235      6.265990e+06  23818500.0\n",
       "PCAR4 BS Equity  2020-02-20         4.098382      1.356950e+06   5561300.0"
      ]
     },
     "execution_count": 16,
     "metadata": {},
     "output_type": "execute_result"
    }
   ],
   "source": [
    "outliers = df_volume.query('PX_VOLUME_RATIO > 1.5').sort_values(by='PX_VOLUME_RATIO')\n",
    "outliers"
   ]
  },
  {
   "cell_type": "markdown",
   "metadata": {},
   "source": [
    "### Explore the timeseries of a selected security\n",
    "\n",
    "Select the security with the highest volume-to-average ratio and load the time-series for the last year of last price (`PX_LAST`), trading volume (`PX_VOLUME`) and price change."
   ]
  },
  {
   "cell_type": "code",
   "execution_count": 17,
   "metadata": {},
   "outputs": [],
   "source": [
    "# Define a variable for the security \n",
    "ticker = outliers.iloc[-1].name\n",
    "\n",
    "# Define a data item for the last price, volume and price change\n",
    "last_price = bq.data.px_last()\n",
    "volume = bq.data.px_volume()\n",
    "last_price_change = bq.func.pct_diff(bq.data.px_last())\n",
    "\n",
    "# Generate the request using the sercurity variable and data item\n",
    "request =  bql.Request(\n",
    "    ticker,\n",
    "    {'PX_LAST': last_price, 'PX_VOLUME': volume, 'PX_LAST_PCT_DIFF': last_price_change},\n",
    "    with_params={'dates': bq.func.range('-1Y', '0D')}\n",
    ")\n",
    "\n",
    "# Execute the request\n",
    "response = bq.execute(request)"
   ]
  },
  {
   "cell_type": "code",
   "execution_count": 18,
   "metadata": {},
   "outputs": [],
   "source": [
    "# Get data frame for each field\n",
    "df_price = response.get('PX_LAST').df()\n",
    "df_volume = response.get('PX_VOLUME').df()\n",
    "df_price_change = response.get('PX_LAST_PCT_DIFF').df()"
   ]
  },
  {
   "cell_type": "markdown",
   "metadata": {},
   "source": [
    "Show the first rows in the price and volume data frames. Can you notice differences and any weird values?"
   ]
  },
  {
   "cell_type": "code",
   "execution_count": 19,
   "metadata": {},
   "outputs": [
    {
     "data": {
      "text/html": [
       "<div>\n",
       "<table border=\"1\" class=\"dataframe\">\n",
       "  <thead>\n",
       "    <tr style=\"text-align: right;\">\n",
       "      <th></th>\n",
       "      <th>DATE</th>\n",
       "      <th>CURRENCY</th>\n",
       "      <th>PX_LAST</th>\n",
       "    </tr>\n",
       "    <tr>\n",
       "      <th>ID</th>\n",
       "      <th></th>\n",
       "      <th></th>\n",
       "      <th></th>\n",
       "    </tr>\n",
       "  </thead>\n",
       "  <tbody>\n",
       "    <tr>\n",
       "      <th>PCAR4 BS Equity</th>\n",
       "      <td>2019-02-21</td>\n",
       "      <td>BRL</td>\n",
       "      <td>96.00</td>\n",
       "    </tr>\n",
       "    <tr>\n",
       "      <th>PCAR4 BS Equity</th>\n",
       "      <td>2019-02-22</td>\n",
       "      <td>BRL</td>\n",
       "      <td>95.33</td>\n",
       "    </tr>\n",
       "    <tr>\n",
       "      <th>PCAR4 BS Equity</th>\n",
       "      <td>2019-02-23</td>\n",
       "      <td>BRL</td>\n",
       "      <td>NaN</td>\n",
       "    </tr>\n",
       "    <tr>\n",
       "      <th>PCAR4 BS Equity</th>\n",
       "      <td>2019-02-24</td>\n",
       "      <td>BRL</td>\n",
       "      <td>NaN</td>\n",
       "    </tr>\n",
       "    <tr>\n",
       "      <th>PCAR4 BS Equity</th>\n",
       "      <td>2019-02-25</td>\n",
       "      <td>BRL</td>\n",
       "      <td>95.84</td>\n",
       "    </tr>\n",
       "  </tbody>\n",
       "</table>\n",
       "</div>"
      ],
      "text/plain": [
       "                      DATE CURRENCY  PX_LAST\n",
       "ID                                          \n",
       "PCAR4 BS Equity 2019-02-21      BRL    96.00\n",
       "PCAR4 BS Equity 2019-02-22      BRL    95.33\n",
       "PCAR4 BS Equity 2019-02-23      BRL      NaN\n",
       "PCAR4 BS Equity 2019-02-24      BRL      NaN\n",
       "PCAR4 BS Equity 2019-02-25      BRL    95.84"
      ]
     },
     "execution_count": 19,
     "metadata": {},
     "output_type": "execute_result"
    }
   ],
   "source": [
    "df_price.head()"
   ]
  },
  {
   "cell_type": "code",
   "execution_count": 20,
   "metadata": {},
   "outputs": [
    {
     "data": {
      "text/html": [
       "<div>\n",
       "<table border=\"1\" class=\"dataframe\">\n",
       "  <thead>\n",
       "    <tr style=\"text-align: right;\">\n",
       "      <th></th>\n",
       "      <th>DATE</th>\n",
       "      <th>PX_VOLUME</th>\n",
       "    </tr>\n",
       "    <tr>\n",
       "      <th>ID</th>\n",
       "      <th></th>\n",
       "      <th></th>\n",
       "    </tr>\n",
       "  </thead>\n",
       "  <tbody>\n",
       "    <tr>\n",
       "      <th>PCAR4 BS Equity</th>\n",
       "      <td>2019-02-21</td>\n",
       "      <td>1762900.0</td>\n",
       "    </tr>\n",
       "    <tr>\n",
       "      <th>PCAR4 BS Equity</th>\n",
       "      <td>2019-02-22</td>\n",
       "      <td>1249200.0</td>\n",
       "    </tr>\n",
       "    <tr>\n",
       "      <th>PCAR4 BS Equity</th>\n",
       "      <td>2019-02-23</td>\n",
       "      <td>NaN</td>\n",
       "    </tr>\n",
       "    <tr>\n",
       "      <th>PCAR4 BS Equity</th>\n",
       "      <td>2019-02-24</td>\n",
       "      <td>NaN</td>\n",
       "    </tr>\n",
       "    <tr>\n",
       "      <th>PCAR4 BS Equity</th>\n",
       "      <td>2019-02-25</td>\n",
       "      <td>1054700.0</td>\n",
       "    </tr>\n",
       "  </tbody>\n",
       "</table>\n",
       "</div>"
      ],
      "text/plain": [
       "                      DATE  PX_VOLUME\n",
       "ID                                   \n",
       "PCAR4 BS Equity 2019-02-21  1762900.0\n",
       "PCAR4 BS Equity 2019-02-22  1249200.0\n",
       "PCAR4 BS Equity 2019-02-23        NaN\n",
       "PCAR4 BS Equity 2019-02-24        NaN\n",
       "PCAR4 BS Equity 2019-02-25  1054700.0"
      ]
     },
     "execution_count": 20,
     "metadata": {},
     "output_type": "execute_result"
    }
   ],
   "source": [
    "df_volume.head()"
   ]
  },
  {
   "cell_type": "markdown",
   "metadata": {},
   "source": [
    "Notice that both data frames have different columns and that some rows have `NaN` values. `NaN` stands for not-a-number, which we can interpret as missing data. `pandas` data frames have a method called `.dropna()`, which removes rows that contain missing data. The indices of the data frames above are the securty names, for plotting time-series it's better to have the dates as the indices. We can change the index using the `.set_index()` method."
   ]
  },
  {
   "cell_type": "code",
   "execution_count": 21,
   "metadata": {},
   "outputs": [],
   "source": [
    "df_price = response[0].df()\\\n",
    "    .dropna()\\\n",
    "    .set_index('DATE')\n",
    "df_volume = response[1].df()\\\n",
    "    .dropna()\\\n",
    "    .set_index('DATE')\n",
    "df_price_change = response[2].df()\\\n",
    "    .dropna()\\\n",
    "    .set_index('DATE')"
   ]
  },
  {
   "cell_type": "markdown",
   "metadata": {},
   "source": [
    "See the difference?"
   ]
  },
  {
   "cell_type": "code",
   "execution_count": 22,
   "metadata": {},
   "outputs": [
    {
     "data": {
      "text/html": [
       "<div>\n",
       "<table border=\"1\" class=\"dataframe\">\n",
       "  <thead>\n",
       "    <tr style=\"text-align: right;\">\n",
       "      <th></th>\n",
       "      <th>CURRENCY</th>\n",
       "      <th>PX_LAST</th>\n",
       "    </tr>\n",
       "    <tr>\n",
       "      <th>DATE</th>\n",
       "      <th></th>\n",
       "      <th></th>\n",
       "    </tr>\n",
       "  </thead>\n",
       "  <tbody>\n",
       "    <tr>\n",
       "      <th>2019-02-21</th>\n",
       "      <td>BRL</td>\n",
       "      <td>96.00</td>\n",
       "    </tr>\n",
       "    <tr>\n",
       "      <th>2019-02-22</th>\n",
       "      <td>BRL</td>\n",
       "      <td>95.33</td>\n",
       "    </tr>\n",
       "    <tr>\n",
       "      <th>2019-02-25</th>\n",
       "      <td>BRL</td>\n",
       "      <td>95.84</td>\n",
       "    </tr>\n",
       "    <tr>\n",
       "      <th>2019-02-26</th>\n",
       "      <td>BRL</td>\n",
       "      <td>94.80</td>\n",
       "    </tr>\n",
       "    <tr>\n",
       "      <th>2019-02-27</th>\n",
       "      <td>BRL</td>\n",
       "      <td>94.08</td>\n",
       "    </tr>\n",
       "    <tr>\n",
       "      <th>2019-02-28</th>\n",
       "      <td>BRL</td>\n",
       "      <td>93.11</td>\n",
       "    </tr>\n",
       "    <tr>\n",
       "      <th>2019-03-01</th>\n",
       "      <td>BRL</td>\n",
       "      <td>93.45</td>\n",
       "    </tr>\n",
       "    <tr>\n",
       "      <th>2019-03-06</th>\n",
       "      <td>BRL</td>\n",
       "      <td>91.89</td>\n",
       "    </tr>\n",
       "    <tr>\n",
       "      <th>2019-03-07</th>\n",
       "      <td>BRL</td>\n",
       "      <td>90.78</td>\n",
       "    </tr>\n",
       "    <tr>\n",
       "      <th>2019-03-08</th>\n",
       "      <td>BRL</td>\n",
       "      <td>92.30</td>\n",
       "    </tr>\n",
       "  </tbody>\n",
       "</table>\n",
       "</div>"
      ],
      "text/plain": [
       "           CURRENCY  PX_LAST\n",
       "DATE                        \n",
       "2019-02-21      BRL    96.00\n",
       "2019-02-22      BRL    95.33\n",
       "2019-02-25      BRL    95.84\n",
       "2019-02-26      BRL    94.80\n",
       "2019-02-27      BRL    94.08\n",
       "2019-02-28      BRL    93.11\n",
       "2019-03-01      BRL    93.45\n",
       "2019-03-06      BRL    91.89\n",
       "2019-03-07      BRL    90.78\n",
       "2019-03-08      BRL    92.30"
      ]
     },
     "execution_count": 22,
     "metadata": {},
     "output_type": "execute_result"
    }
   ],
   "source": [
    "df_price.head(10)"
   ]
  },
  {
   "cell_type": "code",
   "execution_count": 23,
   "metadata": {},
   "outputs": [
    {
     "data": {
      "text/html": [
       "<div>\n",
       "<table border=\"1\" class=\"dataframe\">\n",
       "  <thead>\n",
       "    <tr style=\"text-align: right;\">\n",
       "      <th></th>\n",
       "      <th>PX_VOLUME</th>\n",
       "    </tr>\n",
       "    <tr>\n",
       "      <th>DATE</th>\n",
       "      <th></th>\n",
       "    </tr>\n",
       "  </thead>\n",
       "  <tbody>\n",
       "    <tr>\n",
       "      <th>2019-02-21</th>\n",
       "      <td>1762900.0</td>\n",
       "    </tr>\n",
       "    <tr>\n",
       "      <th>2019-02-22</th>\n",
       "      <td>1249200.0</td>\n",
       "    </tr>\n",
       "    <tr>\n",
       "      <th>2019-02-25</th>\n",
       "      <td>1054700.0</td>\n",
       "    </tr>\n",
       "    <tr>\n",
       "      <th>2019-02-26</th>\n",
       "      <td>1021100.0</td>\n",
       "    </tr>\n",
       "    <tr>\n",
       "      <th>2019-02-27</th>\n",
       "      <td>968800.0</td>\n",
       "    </tr>\n",
       "    <tr>\n",
       "      <th>2019-02-28</th>\n",
       "      <td>1261400.0</td>\n",
       "    </tr>\n",
       "    <tr>\n",
       "      <th>2019-03-01</th>\n",
       "      <td>1047100.0</td>\n",
       "    </tr>\n",
       "    <tr>\n",
       "      <th>2019-03-06</th>\n",
       "      <td>763500.0</td>\n",
       "    </tr>\n",
       "    <tr>\n",
       "      <th>2019-03-07</th>\n",
       "      <td>902500.0</td>\n",
       "    </tr>\n",
       "    <tr>\n",
       "      <th>2019-03-08</th>\n",
       "      <td>1374200.0</td>\n",
       "    </tr>\n",
       "  </tbody>\n",
       "</table>\n",
       "</div>"
      ],
      "text/plain": [
       "            PX_VOLUME\n",
       "DATE                 \n",
       "2019-02-21  1762900.0\n",
       "2019-02-22  1249200.0\n",
       "2019-02-25  1054700.0\n",
       "2019-02-26  1021100.0\n",
       "2019-02-27   968800.0\n",
       "2019-02-28  1261400.0\n",
       "2019-03-01  1047100.0\n",
       "2019-03-06   763500.0\n",
       "2019-03-07   902500.0\n",
       "2019-03-08  1374200.0"
      ]
     },
     "execution_count": 23,
     "metadata": {},
     "output_type": "execute_result"
    }
   ],
   "source": [
    "df_volume.head(10)"
   ]
  },
  {
   "cell_type": "code",
   "execution_count": 24,
   "metadata": {},
   "outputs": [
    {
     "data": {
      "text/html": [
       "<div>\n",
       "<table border=\"1\" class=\"dataframe\">\n",
       "  <thead>\n",
       "    <tr style=\"text-align: right;\">\n",
       "      <th></th>\n",
       "      <th>PX_LAST_PCT_DIFF</th>\n",
       "    </tr>\n",
       "    <tr>\n",
       "      <th>DATE</th>\n",
       "      <th></th>\n",
       "    </tr>\n",
       "  </thead>\n",
       "  <tbody>\n",
       "    <tr>\n",
       "      <th>2019-02-22</th>\n",
       "      <td>-0.697917</td>\n",
       "    </tr>\n",
       "    <tr>\n",
       "      <th>2019-02-25</th>\n",
       "      <td>0.534984</td>\n",
       "    </tr>\n",
       "    <tr>\n",
       "      <th>2019-02-26</th>\n",
       "      <td>-1.085142</td>\n",
       "    </tr>\n",
       "    <tr>\n",
       "      <th>2019-02-27</th>\n",
       "      <td>-0.759494</td>\n",
       "    </tr>\n",
       "    <tr>\n",
       "      <th>2019-02-28</th>\n",
       "      <td>-1.031037</td>\n",
       "    </tr>\n",
       "    <tr>\n",
       "      <th>2019-03-01</th>\n",
       "      <td>0.365159</td>\n",
       "    </tr>\n",
       "    <tr>\n",
       "      <th>2019-03-06</th>\n",
       "      <td>-1.669342</td>\n",
       "    </tr>\n",
       "    <tr>\n",
       "      <th>2019-03-07</th>\n",
       "      <td>-1.207966</td>\n",
       "    </tr>\n",
       "    <tr>\n",
       "      <th>2019-03-08</th>\n",
       "      <td>1.674378</td>\n",
       "    </tr>\n",
       "    <tr>\n",
       "      <th>2019-03-11</th>\n",
       "      <td>1.646804</td>\n",
       "    </tr>\n",
       "  </tbody>\n",
       "</table>\n",
       "</div>"
      ],
      "text/plain": [
       "            PX_LAST_PCT_DIFF\n",
       "DATE                        \n",
       "2019-02-22         -0.697917\n",
       "2019-02-25          0.534984\n",
       "2019-02-26         -1.085142\n",
       "2019-02-27         -0.759494\n",
       "2019-02-28         -1.031037\n",
       "2019-03-01          0.365159\n",
       "2019-03-06         -1.669342\n",
       "2019-03-07         -1.207966\n",
       "2019-03-08          1.674378\n",
       "2019-03-11          1.646804"
      ]
     },
     "execution_count": 24,
     "metadata": {},
     "output_type": "execute_result"
    }
   ],
   "source": [
    "df_price_change.head(10)"
   ]
  },
  {
   "cell_type": "markdown",
   "metadata": {},
   "source": [
    "Create a graph of the time-series of last price, price change and trading volume as line plots.\n",
    "\n",
    "You can use `pyplot.subplots` to create sub plots. Tip: use the argument `sharex=True` so that all subplots share the x-axis."
   ]
  },
  {
   "cell_type": "code",
   "execution_count": 25,
   "metadata": {},
   "outputs": [
    {
     "data": {
      "image/png": "[encoded data removed]",
      "text/plain": [
       "<matplotlib.figure.Figure at 0x26fc8b02a20>"
      ]
     },
     "metadata": {},
     "output_type": "display_data"
    }
   ],
   "source": [
    "# Create figure and subplots axes\n",
    "fig, axs = pyplot.subplots(nrows=3, ncols=1, sharex=True)\n",
    "\n",
    "# Plot time-series\n",
    "df_price.plot.line(ax=axs[0], legend=False)\n",
    "df_price_change.plot.line(ax=axs[1], legend=False)\n",
    "df_volume.plot.line(ax=axs[2], legend=False)\n",
    "\n",
    "# Makeup: title, axis labels and layout\n",
    "axs[0].set_title(ticker, weight='bold')\n",
    "axs[0].set_ylabel('PX_LAST')\n",
    "axs[1].set_ylabel('PRICE_CHANGE')\n",
    "axs[2].set_ylabel('PX_VOLUME')\n",
    "fig.tight_layout()"
   ]
  },
  {
   "cell_type": "markdown",
   "metadata": {},
   "source": [
    "## Relative strength index\n",
    "\n",
    "The relative strength index (RSI) is a non-trending indicator that measures the momentum of a security to determine whether it is in an overbought or oversold condition. The RSI has values between 0 and 100. Traditional interpretation and usage of RSI are that values above or equal 70 indicate that a security is becoming overbought or overvalued and may be primed for a trend reversal in price. An RSI less or equal 30 indicates an oversold or undervalued condition.\n",
    "\n",
    "In this section you will:\n",
    "\n",
    "1. Request the RSI of the members of the IBOV Index;\n",
    "2. Plot the RSI histogram. Set the bins of the histogram from 0 to 100 with spacing of 5;\n",
    "3. Filter securities that have RSI above the 69 threshold;\n",
    "4. Filter securities that have RSI belo the 31 threshold;\n",
    "5. *Optional*: Load and plot last price and RSI of filtered securities for the past year;"
   ]
  },
  {
   "cell_type": "code",
   "execution_count": 26,
   "metadata": {},
   "outputs": [],
   "source": [
    "# Request RSI for all IBOV Index members\n",
    "tickers = bq.univ.members(\"IBOV Index\")\n",
    "rsi = bq.data.rsi(dates=\"-1D\", fill=\"PREV\")\n",
    "request =  bql.Request(\n",
    "    tickers,\n",
    "    {'RSI': rsi}\n",
    ")\n",
    "response = bq.execute(request)\n",
    "df_rsi = response[0].df()"
   ]
  },
  {
   "cell_type": "code",
   "execution_count": 27,
   "metadata": {},
   "outputs": [
    {
     "data": {
      "text/html": [
       "<div>\n",
       "<table border=\"1\" class=\"dataframe\">\n",
       "  <thead>\n",
       "    <tr style=\"text-align: right;\">\n",
       "      <th></th>\n",
       "      <th>DATE</th>\n",
       "      <th>RSI</th>\n",
       "    </tr>\n",
       "    <tr>\n",
       "      <th>ID</th>\n",
       "      <th></th>\n",
       "      <th></th>\n",
       "    </tr>\n",
       "  </thead>\n",
       "  <tbody>\n",
       "    <tr>\n",
       "      <th>EMBR3 BS Equity</th>\n",
       "      <td>2020-02-20</td>\n",
       "      <td>61.853564</td>\n",
       "    </tr>\n",
       "    <tr>\n",
       "      <th>BRKM5 BS Equity</th>\n",
       "      <td>2020-02-20</td>\n",
       "      <td>45.979442</td>\n",
       "    </tr>\n",
       "    <tr>\n",
       "      <th>WEGE3 BS Equity</th>\n",
       "      <td>2020-02-20</td>\n",
       "      <td>69.158489</td>\n",
       "    </tr>\n",
       "    <tr>\n",
       "      <th>PCAR4 BS Equity</th>\n",
       "      <td>2020-02-20</td>\n",
       "      <td>38.188355</td>\n",
       "    </tr>\n",
       "    <tr>\n",
       "      <th>MRVE3 BS Equity</th>\n",
       "      <td>2020-02-20</td>\n",
       "      <td>47.812329</td>\n",
       "    </tr>\n",
       "    <tr>\n",
       "      <th>RAIL3 BS Equity</th>\n",
       "      <td>2020-02-20</td>\n",
       "      <td>52.034793</td>\n",
       "    </tr>\n",
       "    <tr>\n",
       "      <th>LAME4 BS Equity</th>\n",
       "      <td>2020-02-20</td>\n",
       "      <td>46.832932</td>\n",
       "    </tr>\n",
       "    <tr>\n",
       "      <th>YDUQ3 BS Equity</th>\n",
       "      <td>2020-02-20</td>\n",
       "      <td>61.983876</td>\n",
       "    </tr>\n",
       "    <tr>\n",
       "      <th>RADL3 BS Equity</th>\n",
       "      <td>2020-02-20</td>\n",
       "      <td>47.831697</td>\n",
       "    </tr>\n",
       "    <tr>\n",
       "      <th>BBDC3 BS Equity</th>\n",
       "      <td>2020-02-20</td>\n",
       "      <td>33.840846</td>\n",
       "    </tr>\n",
       "  </tbody>\n",
       "</table>\n",
       "</div>"
      ],
      "text/plain": [
       "                      DATE        RSI\n",
       "ID                                   \n",
       "EMBR3 BS Equity 2020-02-20  61.853564\n",
       "BRKM5 BS Equity 2020-02-20  45.979442\n",
       "WEGE3 BS Equity 2020-02-20  69.158489\n",
       "PCAR4 BS Equity 2020-02-20  38.188355\n",
       "MRVE3 BS Equity 2020-02-20  47.812329\n",
       "RAIL3 BS Equity 2020-02-20  52.034793\n",
       "LAME4 BS Equity 2020-02-20  46.832932\n",
       "YDUQ3 BS Equity 2020-02-20  61.983876\n",
       "RADL3 BS Equity 2020-02-20  47.831697\n",
       "BBDC3 BS Equity 2020-02-20  33.840846"
      ]
     },
     "execution_count": 27,
     "metadata": {},
     "output_type": "execute_result"
    }
   ],
   "source": [
    "df_rsi.sample(10)"
   ]
  },
  {
   "cell_type": "code",
   "execution_count": 28,
   "metadata": {},
   "outputs": [
    {
     "data": {
      "text/plain": [
       "<matplotlib.axes._subplots.AxesSubplot at 0x26fc9ef25f8>"
      ]
     },
     "execution_count": 28,
     "metadata": {},
     "output_type": "execute_result"
    },
    {
     "data": {
      "image/png": "[encoded data removed]",
      "text/plain": [
       "<matplotlib.figure.Figure at 0x26fc9ef68d0>"
      ]
     },
     "metadata": {},
     "output_type": "display_data"
    }
   ],
   "source": [
    "# Plot RSI histogram with bins from 0 to 100 with spacing of 5\n",
    "df_rsi.plot.hist(bins=pandas.np.arange(0, 105, 5))"
   ]
  },
  {
   "cell_type": "code",
   "execution_count": 29,
   "metadata": {},
   "outputs": [
    {
     "data": {
      "text/html": [
       "<div>\n",
       "<table border=\"1\" class=\"dataframe\">\n",
       "  <thead>\n",
       "    <tr style=\"text-align: right;\">\n",
       "      <th></th>\n",
       "      <th>DATE</th>\n",
       "      <th>RSI</th>\n",
       "    </tr>\n",
       "    <tr>\n",
       "      <th>ID</th>\n",
       "      <th></th>\n",
       "      <th></th>\n",
       "    </tr>\n",
       "  </thead>\n",
       "  <tbody>\n",
       "    <tr>\n",
       "      <th>MRFG3 BS Equity</th>\n",
       "      <td>2020-02-20</td>\n",
       "      <td>71.219438</td>\n",
       "    </tr>\n",
       "    <tr>\n",
       "      <th>WEGE3 BS Equity</th>\n",
       "      <td>2020-02-20</td>\n",
       "      <td>69.158489</td>\n",
       "    </tr>\n",
       "  </tbody>\n",
       "</table>\n",
       "</div>"
      ],
      "text/plain": [
       "                      DATE        RSI\n",
       "ID                                   \n",
       "MRFG3 BS Equity 2020-02-20  71.219438\n",
       "WEGE3 BS Equity 2020-02-20  69.158489"
      ]
     },
     "execution_count": 29,
     "metadata": {},
     "output_type": "execute_result"
    }
   ],
   "source": [
    "# Filter securities that have RSI above the 69 threshold;\n",
    "df_rsi.query('RSI > 69')"
   ]
  },
  {
   "cell_type": "code",
   "execution_count": 30,
   "metadata": {},
   "outputs": [
    {
     "data": {
      "text/html": [
       "<div>\n",
       "<table border=\"1\" class=\"dataframe\">\n",
       "  <thead>\n",
       "    <tr style=\"text-align: right;\">\n",
       "      <th></th>\n",
       "      <th>DATE</th>\n",
       "      <th>RSI</th>\n",
       "    </tr>\n",
       "    <tr>\n",
       "      <th>ID</th>\n",
       "      <th></th>\n",
       "      <th></th>\n",
       "    </tr>\n",
       "  </thead>\n",
       "  <tbody>\n",
       "    <tr>\n",
       "      <th>ABEV3 BS Equity</th>\n",
       "      <td>2020-02-20</td>\n",
       "      <td>28.484103</td>\n",
       "    </tr>\n",
       "    <tr>\n",
       "      <th>CVCB3 BS Equity</th>\n",
       "      <td>2020-02-20</td>\n",
       "      <td>27.842162</td>\n",
       "    </tr>\n",
       "  </tbody>\n",
       "</table>\n",
       "</div>"
      ],
      "text/plain": [
       "                      DATE        RSI\n",
       "ID                                   \n",
       "ABEV3 BS Equity 2020-02-20  28.484103\n",
       "CVCB3 BS Equity 2020-02-20  27.842162"
      ]
     },
     "execution_count": 30,
     "metadata": {},
     "output_type": "execute_result"
    }
   ],
   "source": [
    "# Filter securities that have RSI belo the 31 threshold;\n",
    "df_rsi.query('RSI < 31')"
   ]
  },
  {
   "cell_type": "code",
   "execution_count": 31,
   "metadata": {},
   "outputs": [],
   "source": [
    "# Load last price and RSI of filtered securities\n",
    "tickers = ['MRFG3 BS Equity', 'ABEV3 BS Equity', 'CVCB3 BS Equity']\n",
    "\n",
    "# Define a data item for the last price and RSI\n",
    "last_price = bq.data.px_last()\n",
    "rsi = bq.data.rsi()\n",
    "\n",
    "# Generate the request using the sercurity variable and data item\n",
    "request =  bql.Request(\n",
    "    tickers,\n",
    "    {'PX_LAST': last_price, 'RSI': rsi},\n",
    "    with_params={'dates': bq.func.range('-1Y', '0D')}\n",
    ")\n",
    "\n",
    "# Execute the request\n",
    "response = bq.execute(request)\n",
    "\n",
    "# Display the response in a DataFrame\n",
    "df_price = response.get(\"PX_LAST\").df()\n",
    "df_rsi = response.get(\"RSI\").df()"
   ]
  },
  {
   "cell_type": "code",
   "execution_count": 32,
   "metadata": {},
   "outputs": [
    {
     "data": {
      "text/html": [
       "<div>\n",
       "<table border=\"1\" class=\"dataframe\">\n",
       "  <thead>\n",
       "    <tr style=\"text-align: right;\">\n",
       "      <th></th>\n",
       "      <th>DATE</th>\n",
       "      <th>CURRENCY</th>\n",
       "      <th>PX_LAST</th>\n",
       "    </tr>\n",
       "    <tr>\n",
       "      <th>ID</th>\n",
       "      <th></th>\n",
       "      <th></th>\n",
       "      <th></th>\n",
       "    </tr>\n",
       "  </thead>\n",
       "  <tbody>\n",
       "    <tr>\n",
       "      <th>MRFG3 BS Equity</th>\n",
       "      <td>2019-02-21</td>\n",
       "      <td>BRL</td>\n",
       "      <td>5.58</td>\n",
       "    </tr>\n",
       "    <tr>\n",
       "      <th>MRFG3 BS Equity</th>\n",
       "      <td>2019-02-22</td>\n",
       "      <td>BRL</td>\n",
       "      <td>5.48</td>\n",
       "    </tr>\n",
       "    <tr>\n",
       "      <th>MRFG3 BS Equity</th>\n",
       "      <td>2019-02-23</td>\n",
       "      <td>BRL</td>\n",
       "      <td>NaN</td>\n",
       "    </tr>\n",
       "    <tr>\n",
       "      <th>MRFG3 BS Equity</th>\n",
       "      <td>2019-02-24</td>\n",
       "      <td>BRL</td>\n",
       "      <td>NaN</td>\n",
       "    </tr>\n",
       "    <tr>\n",
       "      <th>MRFG3 BS Equity</th>\n",
       "      <td>2019-02-25</td>\n",
       "      <td>BRL</td>\n",
       "      <td>5.49</td>\n",
       "    </tr>\n",
       "  </tbody>\n",
       "</table>\n",
       "</div>"
      ],
      "text/plain": [
       "                      DATE CURRENCY  PX_LAST\n",
       "ID                                          \n",
       "MRFG3 BS Equity 2019-02-21      BRL     5.58\n",
       "MRFG3 BS Equity 2019-02-22      BRL     5.48\n",
       "MRFG3 BS Equity 2019-02-23      BRL      NaN\n",
       "MRFG3 BS Equity 2019-02-24      BRL      NaN\n",
       "MRFG3 BS Equity 2019-02-25      BRL     5.49"
      ]
     },
     "execution_count": 32,
     "metadata": {},
     "output_type": "execute_result"
    }
   ],
   "source": [
    "df_price.head()"
   ]
  },
  {
   "cell_type": "code",
   "execution_count": 33,
   "metadata": {},
   "outputs": [
    {
     "data": {
      "text/html": [
       "<div>\n",
       "<table border=\"1\" class=\"dataframe\">\n",
       "  <thead>\n",
       "    <tr style=\"text-align: right;\">\n",
       "      <th></th>\n",
       "      <th>DATE</th>\n",
       "      <th>RSI</th>\n",
       "    </tr>\n",
       "    <tr>\n",
       "      <th>ID</th>\n",
       "      <th></th>\n",
       "      <th></th>\n",
       "    </tr>\n",
       "  </thead>\n",
       "  <tbody>\n",
       "    <tr>\n",
       "      <th>MRFG3 BS Equity</th>\n",
       "      <td>2019-02-21</td>\n",
       "      <td>42.671650</td>\n",
       "    </tr>\n",
       "    <tr>\n",
       "      <th>MRFG3 BS Equity</th>\n",
       "      <td>2019-02-22</td>\n",
       "      <td>40.240179</td>\n",
       "    </tr>\n",
       "    <tr>\n",
       "      <th>MRFG3 BS Equity</th>\n",
       "      <td>2019-02-23</td>\n",
       "      <td>NaN</td>\n",
       "    </tr>\n",
       "    <tr>\n",
       "      <th>MRFG3 BS Equity</th>\n",
       "      <td>2019-02-24</td>\n",
       "      <td>NaN</td>\n",
       "    </tr>\n",
       "    <tr>\n",
       "      <th>MRFG3 BS Equity</th>\n",
       "      <td>2019-02-25</td>\n",
       "      <td>40.604653</td>\n",
       "    </tr>\n",
       "  </tbody>\n",
       "</table>\n",
       "</div>"
      ],
      "text/plain": [
       "                      DATE        RSI\n",
       "ID                                   \n",
       "MRFG3 BS Equity 2019-02-21  42.671650\n",
       "MRFG3 BS Equity 2019-02-22  40.240179\n",
       "MRFG3 BS Equity 2019-02-23        NaN\n",
       "MRFG3 BS Equity 2019-02-24        NaN\n",
       "MRFG3 BS Equity 2019-02-25  40.604653"
      ]
     },
     "execution_count": 33,
     "metadata": {},
     "output_type": "execute_result"
    }
   ],
   "source": [
    "df_rsi.head()"
   ]
  },
  {
   "cell_type": "markdown",
   "metadata": {},
   "source": [
    "Do some magic to rearrange the data in the data frames:"
   ]
  },
  {
   "cell_type": "code",
   "execution_count": 34,
   "metadata": {},
   "outputs": [],
   "source": [
    "df_price = df_price.dropna()\\\n",
    "    .reset_index()\\\n",
    "    .pivot(index='DATE', columns='ID', values='PX_LAST')\n",
    "df_rsi = df_rsi.dropna()\\\n",
    "    .reset_index()\\\n",
    "    .pivot(index='DATE', columns='ID', values='RSI')"
   ]
  },
  {
   "cell_type": "code",
   "execution_count": 35,
   "metadata": {},
   "outputs": [
    {
     "data": {
      "text/html": [
       "<div>\n",
       "<table border=\"1\" class=\"dataframe\">\n",
       "  <thead>\n",
       "    <tr style=\"text-align: right;\">\n",
       "      <th>ID</th>\n",
       "      <th>ABEV3 BS Equity</th>\n",
       "      <th>CVCB3 BS Equity</th>\n",
       "      <th>MRFG3 BS Equity</th>\n",
       "    </tr>\n",
       "    <tr>\n",
       "      <th>DATE</th>\n",
       "      <th></th>\n",
       "      <th></th>\n",
       "      <th></th>\n",
       "    </tr>\n",
       "  </thead>\n",
       "  <tbody>\n",
       "    <tr>\n",
       "      <th>2019-02-21</th>\n",
       "      <td>18.32</td>\n",
       "      <td>61.89</td>\n",
       "      <td>5.58</td>\n",
       "    </tr>\n",
       "    <tr>\n",
       "      <th>2019-02-22</th>\n",
       "      <td>18.32</td>\n",
       "      <td>60.80</td>\n",
       "      <td>5.48</td>\n",
       "    </tr>\n",
       "    <tr>\n",
       "      <th>2019-02-25</th>\n",
       "      <td>18.39</td>\n",
       "      <td>60.40</td>\n",
       "      <td>5.49</td>\n",
       "    </tr>\n",
       "    <tr>\n",
       "      <th>2019-02-26</th>\n",
       "      <td>18.49</td>\n",
       "      <td>59.97</td>\n",
       "      <td>5.45</td>\n",
       "    </tr>\n",
       "    <tr>\n",
       "      <th>2019-02-27</th>\n",
       "      <td>18.36</td>\n",
       "      <td>59.26</td>\n",
       "      <td>5.38</td>\n",
       "    </tr>\n",
       "  </tbody>\n",
       "</table>\n",
       "</div>"
      ],
      "text/plain": [
       "ID          ABEV3 BS Equity  CVCB3 BS Equity  MRFG3 BS Equity\n",
       "DATE                                                         \n",
       "2019-02-21            18.32            61.89             5.58\n",
       "2019-02-22            18.32            60.80             5.48\n",
       "2019-02-25            18.39            60.40             5.49\n",
       "2019-02-26            18.49            59.97             5.45\n",
       "2019-02-27            18.36            59.26             5.38"
      ]
     },
     "execution_count": 35,
     "metadata": {},
     "output_type": "execute_result"
    }
   ],
   "source": [
    "df_price.head()"
   ]
  },
  {
   "cell_type": "code",
   "execution_count": 36,
   "metadata": {},
   "outputs": [
    {
     "data": {
      "text/html": [
       "<div>\n",
       "<table border=\"1\" class=\"dataframe\">\n",
       "  <thead>\n",
       "    <tr style=\"text-align: right;\">\n",
       "      <th>ID</th>\n",
       "      <th>ABEV3 BS Equity</th>\n",
       "      <th>CVCB3 BS Equity</th>\n",
       "      <th>MRFG3 BS Equity</th>\n",
       "    </tr>\n",
       "    <tr>\n",
       "      <th>DATE</th>\n",
       "      <th></th>\n",
       "      <th></th>\n",
       "      <th></th>\n",
       "    </tr>\n",
       "  </thead>\n",
       "  <tbody>\n",
       "    <tr>\n",
       "      <th>2019-02-21</th>\n",
       "      <td>54.907059</td>\n",
       "      <td>51.133224</td>\n",
       "      <td>42.671650</td>\n",
       "    </tr>\n",
       "    <tr>\n",
       "      <th>2019-02-22</th>\n",
       "      <td>54.907059</td>\n",
       "      <td>46.079826</td>\n",
       "      <td>40.240179</td>\n",
       "    </tr>\n",
       "    <tr>\n",
       "      <th>2019-02-25</th>\n",
       "      <td>55.857928</td>\n",
       "      <td>44.347738</td>\n",
       "      <td>40.604653</td>\n",
       "    </tr>\n",
       "    <tr>\n",
       "      <th>2019-02-26</th>\n",
       "      <td>57.244959</td>\n",
       "      <td>42.498365</td>\n",
       "      <td>39.565175</td>\n",
       "    </tr>\n",
       "    <tr>\n",
       "      <th>2019-02-27</th>\n",
       "      <td>54.832822</td>\n",
       "      <td>39.564543</td>\n",
       "      <td>37.744166</td>\n",
       "    </tr>\n",
       "  </tbody>\n",
       "</table>\n",
       "</div>"
      ],
      "text/plain": [
       "ID          ABEV3 BS Equity  CVCB3 BS Equity  MRFG3 BS Equity\n",
       "DATE                                                         \n",
       "2019-02-21        54.907059        51.133224        42.671650\n",
       "2019-02-22        54.907059        46.079826        40.240179\n",
       "2019-02-25        55.857928        44.347738        40.604653\n",
       "2019-02-26        57.244959        42.498365        39.565175\n",
       "2019-02-27        54.832822        39.564543        37.744166"
      ]
     },
     "execution_count": 36,
     "metadata": {},
     "output_type": "execute_result"
    }
   ],
   "source": [
    "df_rsi.head()"
   ]
  },
  {
   "cell_type": "markdown",
   "metadata": {},
   "source": [
    "Plot time-series of last price and RSI"
   ]
  },
  {
   "cell_type": "code",
   "execution_count": 37,
   "metadata": {},
   "outputs": [
    {
     "data": {
      "image/png": "[encoded data removed]",
      "text/plain": [
       "<matplotlib.figure.Figure at 0x26fccebff60>"
      ]
     },
     "metadata": {},
     "output_type": "display_data"
    }
   ],
   "source": [
    "# Create figure and subplots axes\n",
    "fig, axs = pyplot.subplots(nrows=2, ncols=1, sharex=True)\n",
    "\n",
    "# Plot time-series\n",
    "df_price.plot.line(ax=axs[0])\n",
    "df_rsi.plot.line(ax=axs[1], legend=False)\n",
    "\n",
    "# Makeup: title, axis labels and layout\n",
    "axs[1].axhline(30, color='k', linestyle='-', alpha=0.5)\n",
    "axs[1].axhline(70, color='k', linestyle='-', alpha=0.5)\n",
    "axs[1].set_ylim(0, 100)\n",
    "axs[0].set_title(ticker, weight='bold')\n",
    "axs[0].set_ylabel('PX_LAST')\n",
    "axs[1].set_ylabel('RSI')\n",
    "fig.tight_layout()"
   ]
  },
  {
   "cell_type": "markdown",
   "metadata": {},
   "source": [
    "## Volatility\n",
    "\n",
    "Volatility measures the variation of trading prices over a certain time-frame. It is usually measured by the standard deviation of logarithmic returns. In this part you will retrieve the 30-day and 90-day volatility of the members of the IBOV Index and compare to it's highest 30-day and 90-day volatilities since one year ago.\n",
    "\n",
    "To retrieve the volatility in BQL you have to set the `calc_interval` parameter to define the time-frame."
   ]
  },
  {
   "cell_type": "code",
   "execution_count": 38,
   "metadata": {},
   "outputs": [],
   "source": [
    "# List of securities to retrieve\n",
    "tickers = bq.univ.members(\"IBOV Index\")\n",
    "\n",
    "# Define field to retrieve: volatility\n",
    "volatility_30d = bq.data.volatility(calc_interval='30D')\n",
    "volatility_90d = bq.data.volatility(calc_interval='90D')\n",
    "\n",
    "# Generate the request using the sercurity variable and data item\n",
    "request =  bql.Request(\n",
    "    tickers,\n",
    "    {'VOLATILITY_30D': volatility_30d, 'VOLATILITY_90D': volatility_90d}\n",
    ")\n",
    "\n",
    "# Execute the request\n",
    "response = bq.execute(request)\n",
    "\n",
    "# Display the response in a DataFrame\n",
    "df_volatility = bql.combined_df(response)"
   ]
  },
  {
   "cell_type": "code",
   "execution_count": 39,
   "metadata": {},
   "outputs": [
    {
     "data": {
      "text/html": [
       "<div>\n",
       "<table border=\"1\" class=\"dataframe\">\n",
       "  <thead>\n",
       "    <tr style=\"text-align: right;\">\n",
       "      <th></th>\n",
       "      <th>VOLATILITY_90D</th>\n",
       "      <th>VOLATILITY_30D</th>\n",
       "    </tr>\n",
       "    <tr>\n",
       "      <th>ID</th>\n",
       "      <th></th>\n",
       "      <th></th>\n",
       "    </tr>\n",
       "  </thead>\n",
       "  <tbody>\n",
       "    <tr>\n",
       "      <th>ENBR3 BS Equity</th>\n",
       "      <td>0.203370</td>\n",
       "      <td>0.249217</td>\n",
       "    </tr>\n",
       "    <tr>\n",
       "      <th>HGTX3 BS Equity</th>\n",
       "      <td>0.408540</td>\n",
       "      <td>0.333093</td>\n",
       "    </tr>\n",
       "    <tr>\n",
       "      <th>RADL3 BS Equity</th>\n",
       "      <td>0.280006</td>\n",
       "      <td>0.203239</td>\n",
       "    </tr>\n",
       "    <tr>\n",
       "      <th>BBAS3 BS Equity</th>\n",
       "      <td>0.288338</td>\n",
       "      <td>0.353599</td>\n",
       "    </tr>\n",
       "    <tr>\n",
       "      <th>IGTA3 BS Equity</th>\n",
       "      <td>0.231770</td>\n",
       "      <td>0.300241</td>\n",
       "    </tr>\n",
       "  </tbody>\n",
       "</table>\n",
       "</div>"
      ],
      "text/plain": [
       "                 VOLATILITY_90D  VOLATILITY_30D\n",
       "ID                                             \n",
       "ENBR3 BS Equity        0.203370        0.249217\n",
       "HGTX3 BS Equity        0.408540        0.333093\n",
       "RADL3 BS Equity        0.280006        0.203239\n",
       "BBAS3 BS Equity        0.288338        0.353599\n",
       "IGTA3 BS Equity        0.231770        0.300241"
      ]
     },
     "execution_count": 39,
     "metadata": {},
     "output_type": "execute_result"
    }
   ],
   "source": [
    "df_volatility.head()"
   ]
  },
  {
   "cell_type": "markdown",
   "metadata": {},
   "source": [
    "Plot the histogram of the 30-day and 90-day volatility distributions"
   ]
  },
  {
   "cell_type": "code",
   "execution_count": 40,
   "metadata": {},
   "outputs": [
    {
     "data": {
      "text/plain": [
       "<matplotlib.axes._subplots.AxesSubplot at 0x26fca2525c0>"
      ]
     },
     "execution_count": 40,
     "metadata": {},
     "output_type": "execute_result"
    },
    {
     "data": {
      "image/png": "[encoded data removed]",
      "text/plain": [
       "<matplotlib.figure.Figure at 0x26fcd13dfd0>"
      ]
     },
     "metadata": {},
     "output_type": "display_data"
    }
   ],
   "source": [
    "# Plot volatility histograms with bins from 0 to 1 with spacing of 0.05\n",
    "df_volatility.plot.hist(bins=pandas.np.arange(0, 1.05, 0.05), alpha=0.5)"
   ]
  },
  {
   "cell_type": "markdown",
   "metadata": {},
   "source": [
    "To retrieve the 30-day volatility time-series of a security you need to apply the `rolling` function to the volatility and define the start and end dates of this time-series using the parameter `iterationdates`. For example, you may use\n",
    "\n",
    "```\n",
    "volatility_30d_ts = bq.func.rolling(volatility_30d, iterationdates=bq.func.range('-1Y', '0D'))\n",
    "```\n",
    "\n",
    "And to retrieve the maximum volatility of this time period, you can apply the `max` function to the time-series:\n",
    "\n",
    "```\n",
    "max_volatility_30d = bq.func.max(volatility_30d_ts)\n",
    "```\n",
    "\n",
    "With that, you should be able to extend your code and include the maximum 30-day and 90-day volatilities for each member of the IBOV Index."
   ]
  },
  {
   "cell_type": "code",
   "execution_count": 41,
   "metadata": {},
   "outputs": [],
   "source": [
    "# Define maximum 30-day and 90-day volatilities\n",
    "max_volatility_30d = bq.func.max(bq.func.rolling(volatility_30d, iterationdates=bq.func.range('-1Y', '0D')))\n",
    "max_volatility_90d = bq.func.max(bq.func.rolling(volatility_90d, iterationdates=bq.func.range('-1Y', '0D')))\n",
    "\n",
    "# Generate the request using the sercurity variable and data item\n",
    "request =  bql.Request(\n",
    "    tickers,\n",
    "    {'VOLATILITY_30D': volatility_30d, 'VOLATILITY_90D': volatility_90d, 'MAX_VOLATILITY_30D': max_volatility_30d, 'MAX_VOLATILITY_90D': max_volatility_90d}\n",
    ")\n",
    "\n",
    "# Execute the request\n",
    "response = bq.execute(request)"
   ]
  },
  {
   "cell_type": "code",
   "execution_count": 42,
   "metadata": {},
   "outputs": [],
   "source": [
    "# Display the response in a DataFrame\n",
    "df_volatility_30d = response.get('VOLATILITY_30D').df()\n",
    "df_volatility_90d = response.get('VOLATILITY_90D').df()\n",
    "df_max_volatility_30d = response.get('MAX_VOLATILITY_30D').df()\n",
    "df_max_volatility_90d = response.get('MAX_VOLATILITY_90D').df()"
   ]
  },
  {
   "cell_type": "code",
   "execution_count": 43,
   "metadata": {},
   "outputs": [
    {
     "data": {
      "text/html": [
       "<div>\n",
       "<table border=\"1\" class=\"dataframe\">\n",
       "  <thead>\n",
       "    <tr style=\"text-align: right;\">\n",
       "      <th></th>\n",
       "      <th>VOLATILITY_30D</th>\n",
       "    </tr>\n",
       "    <tr>\n",
       "      <th>ID</th>\n",
       "      <th></th>\n",
       "    </tr>\n",
       "  </thead>\n",
       "  <tbody>\n",
       "    <tr>\n",
       "      <th>ENBR3 BS Equity</th>\n",
       "      <td>0.249217</td>\n",
       "    </tr>\n",
       "    <tr>\n",
       "      <th>HGTX3 BS Equity</th>\n",
       "      <td>0.333093</td>\n",
       "    </tr>\n",
       "    <tr>\n",
       "      <th>RADL3 BS Equity</th>\n",
       "      <td>0.204279</td>\n",
       "    </tr>\n",
       "    <tr>\n",
       "      <th>BBAS3 BS Equity</th>\n",
       "      <td>0.353599</td>\n",
       "    </tr>\n",
       "    <tr>\n",
       "      <th>IGTA3 BS Equity</th>\n",
       "      <td>0.300241</td>\n",
       "    </tr>\n",
       "  </tbody>\n",
       "</table>\n",
       "</div>"
      ],
      "text/plain": [
       "                 VOLATILITY_30D\n",
       "ID                             \n",
       "ENBR3 BS Equity        0.249217\n",
       "HGTX3 BS Equity        0.333093\n",
       "RADL3 BS Equity        0.204279\n",
       "BBAS3 BS Equity        0.353599\n",
       "IGTA3 BS Equity        0.300241"
      ]
     },
     "execution_count": 43,
     "metadata": {},
     "output_type": "execute_result"
    }
   ],
   "source": [
    "df_volatility_30d.head()"
   ]
  },
  {
   "cell_type": "code",
   "execution_count": 44,
   "metadata": {},
   "outputs": [
    {
     "data": {
      "text/html": [
       "<div>\n",
       "<table border=\"1\" class=\"dataframe\">\n",
       "  <thead>\n",
       "    <tr style=\"text-align: right;\">\n",
       "      <th></th>\n",
       "      <th>DATE</th>\n",
       "      <th>ORIG_IDS</th>\n",
       "      <th>ITERATION_DATE</th>\n",
       "      <th>ITERATION_ID</th>\n",
       "      <th>MAX_VOLATILITY_30D</th>\n",
       "    </tr>\n",
       "    <tr>\n",
       "      <th>ID</th>\n",
       "      <th></th>\n",
       "      <th></th>\n",
       "      <th></th>\n",
       "      <th></th>\n",
       "      <th></th>\n",
       "    </tr>\n",
       "  </thead>\n",
       "  <tbody>\n",
       "    <tr>\n",
       "      <th>ENBR3 BS Equity</th>\n",
       "      <td>2019-03-28</td>\n",
       "      <td>ENBR3 BS Equity</td>\n",
       "      <td>2019-03-28</td>\n",
       "      <td>None</td>\n",
       "      <td>0.444536</td>\n",
       "    </tr>\n",
       "    <tr>\n",
       "      <th>HGTX3 BS Equity</th>\n",
       "      <td>2020-01-27</td>\n",
       "      <td>HGTX3 BS Equity</td>\n",
       "      <td>2020-01-27</td>\n",
       "      <td>None</td>\n",
       "      <td>0.547379</td>\n",
       "    </tr>\n",
       "    <tr>\n",
       "      <th>RADL3 BS Equity</th>\n",
       "      <td>2019-08-10</td>\n",
       "      <td>RADL3 BS Equity</td>\n",
       "      <td>2019-08-10</td>\n",
       "      <td>None</td>\n",
       "      <td>0.487284</td>\n",
       "    </tr>\n",
       "    <tr>\n",
       "      <th>BBAS3 BS Equity</th>\n",
       "      <td>2019-02-24</td>\n",
       "      <td>BBAS3 BS Equity</td>\n",
       "      <td>2019-02-24</td>\n",
       "      <td>None</td>\n",
       "      <td>0.458989</td>\n",
       "    </tr>\n",
       "    <tr>\n",
       "      <th>IGTA3 BS Equity</th>\n",
       "      <td>2020-02-16</td>\n",
       "      <td>IGTA3 BS Equity</td>\n",
       "      <td>2020-02-16</td>\n",
       "      <td>None</td>\n",
       "      <td>0.317485</td>\n",
       "    </tr>\n",
       "  </tbody>\n",
       "</table>\n",
       "</div>"
      ],
      "text/plain": [
       "                      DATE         ORIG_IDS ITERATION_DATE ITERATION_ID  \\\n",
       "ID                                                                        \n",
       "ENBR3 BS Equity 2019-03-28  ENBR3 BS Equity     2019-03-28         None   \n",
       "HGTX3 BS Equity 2020-01-27  HGTX3 BS Equity     2020-01-27         None   \n",
       "RADL3 BS Equity 2019-08-10  RADL3 BS Equity     2019-08-10         None   \n",
       "BBAS3 BS Equity 2019-02-24  BBAS3 BS Equity     2019-02-24         None   \n",
       "IGTA3 BS Equity 2020-02-16  IGTA3 BS Equity     2020-02-16         None   \n",
       "\n",
       "                 MAX_VOLATILITY_30D  \n",
       "ID                                   \n",
       "ENBR3 BS Equity            0.444536  \n",
       "HGTX3 BS Equity            0.547379  \n",
       "RADL3 BS Equity            0.487284  \n",
       "BBAS3 BS Equity            0.458989  \n",
       "IGTA3 BS Equity            0.317485  "
      ]
     },
     "execution_count": 44,
     "metadata": {},
     "output_type": "execute_result"
    }
   ],
   "source": [
    "df_max_volatility_30d.head()"
   ]
  },
  {
   "cell_type": "markdown",
   "metadata": {},
   "source": [
    "To verify if the latest volatilities of any member of the IBOV Index is above the highest volatility in the last year you can merge all data frames into one single data frame."
   ]
  },
  {
   "cell_type": "code",
   "execution_count": 45,
   "metadata": {},
   "outputs": [],
   "source": [
    "df_volatility = pandas.DataFrame([df_volatility_30d['VOLATILITY_30D'], df_max_volatility_30d['MAX_VOLATILITY_30D'], df_volatility_90d['VOLATILITY_90D'], df_max_volatility_90d['MAX_VOLATILITY_90D']]).T"
   ]
  },
  {
   "cell_type": "code",
   "execution_count": 46,
   "metadata": {},
   "outputs": [
    {
     "data": {
      "text/html": [
       "<div>\n",
       "<table border=\"1\" class=\"dataframe\">\n",
       "  <thead>\n",
       "    <tr style=\"text-align: right;\">\n",
       "      <th></th>\n",
       "      <th>VOLATILITY_30D</th>\n",
       "      <th>MAX_VOLATILITY_30D</th>\n",
       "      <th>VOLATILITY_90D</th>\n",
       "      <th>MAX_VOLATILITY_90D</th>\n",
       "    </tr>\n",
       "    <tr>\n",
       "      <th>ID</th>\n",
       "      <th></th>\n",
       "      <th></th>\n",
       "      <th></th>\n",
       "      <th></th>\n",
       "    </tr>\n",
       "  </thead>\n",
       "  <tbody>\n",
       "    <tr>\n",
       "      <th>ENBR3 BS Equity</th>\n",
       "      <td>0.249217</td>\n",
       "      <td>0.444536</td>\n",
       "      <td>0.203368</td>\n",
       "      <td>0.343947</td>\n",
       "    </tr>\n",
       "    <tr>\n",
       "      <th>HGTX3 BS Equity</th>\n",
       "      <td>0.333093</td>\n",
       "      <td>0.547379</td>\n",
       "      <td>0.408540</td>\n",
       "      <td>0.429154</td>\n",
       "    </tr>\n",
       "    <tr>\n",
       "      <th>RADL3 BS Equity</th>\n",
       "      <td>0.204279</td>\n",
       "      <td>0.487284</td>\n",
       "      <td>0.280202</td>\n",
       "      <td>0.377190</td>\n",
       "    </tr>\n",
       "    <tr>\n",
       "      <th>BBAS3 BS Equity</th>\n",
       "      <td>0.353599</td>\n",
       "      <td>0.458989</td>\n",
       "      <td>0.288338</td>\n",
       "      <td>0.381795</td>\n",
       "    </tr>\n",
       "    <tr>\n",
       "      <th>IGTA3 BS Equity</th>\n",
       "      <td>0.300241</td>\n",
       "      <td>0.317485</td>\n",
       "      <td>0.231770</td>\n",
       "      <td>0.271267</td>\n",
       "    </tr>\n",
       "  </tbody>\n",
       "</table>\n",
       "</div>"
      ],
      "text/plain": [
       "                 VOLATILITY_30D  MAX_VOLATILITY_30D  VOLATILITY_90D  \\\n",
       "ID                                                                    \n",
       "ENBR3 BS Equity        0.249217            0.444536        0.203368   \n",
       "HGTX3 BS Equity        0.333093            0.547379        0.408540   \n",
       "RADL3 BS Equity        0.204279            0.487284        0.280202   \n",
       "BBAS3 BS Equity        0.353599            0.458989        0.288338   \n",
       "IGTA3 BS Equity        0.300241            0.317485        0.231770   \n",
       "\n",
       "                 MAX_VOLATILITY_90D  \n",
       "ID                                   \n",
       "ENBR3 BS Equity            0.343947  \n",
       "HGTX3 BS Equity            0.429154  \n",
       "RADL3 BS Equity            0.377190  \n",
       "BBAS3 BS Equity            0.381795  \n",
       "IGTA3 BS Equity            0.271267  "
      ]
     },
     "execution_count": 46,
     "metadata": {},
     "output_type": "execute_result"
    }
   ],
   "source": [
    "df_volatility.head()"
   ]
  },
  {
   "cell_type": "markdown",
   "metadata": {},
   "source": [
    "Now you may query this data frame and verify if there is any high volatility in the IBOV Index:"
   ]
  },
  {
   "cell_type": "code",
   "execution_count": 47,
   "metadata": {},
   "outputs": [
    {
     "data": {
      "text/html": [
       "<div>\n",
       "<table border=\"1\" class=\"dataframe\">\n",
       "  <thead>\n",
       "    <tr style=\"text-align: right;\">\n",
       "      <th></th>\n",
       "      <th>VOLATILITY_30D</th>\n",
       "      <th>MAX_VOLATILITY_30D</th>\n",
       "      <th>VOLATILITY_90D</th>\n",
       "      <th>MAX_VOLATILITY_90D</th>\n",
       "    </tr>\n",
       "    <tr>\n",
       "      <th>ID</th>\n",
       "      <th></th>\n",
       "      <th></th>\n",
       "      <th></th>\n",
       "      <th></th>\n",
       "    </tr>\n",
       "  </thead>\n",
       "  <tbody>\n",
       "    <tr>\n",
       "      <th>GOAU4 BS Equity</th>\n",
       "      <td>0.564286</td>\n",
       "      <td>0.564286</td>\n",
       "      <td>0.448930</td>\n",
       "      <td>0.448930</td>\n",
       "    </tr>\n",
       "    <tr>\n",
       "      <th>IRBR3 BS Equity</th>\n",
       "      <td>0.851317</td>\n",
       "      <td>0.880223</td>\n",
       "      <td>0.564000</td>\n",
       "      <td>0.564000</td>\n",
       "    </tr>\n",
       "    <tr>\n",
       "      <th>WEGE3 BS Equity</th>\n",
       "      <td>0.521383</td>\n",
       "      <td>0.521383</td>\n",
       "      <td>0.392412</td>\n",
       "      <td>0.392412</td>\n",
       "    </tr>\n",
       "  </tbody>\n",
       "</table>\n",
       "</div>"
      ],
      "text/plain": [
       "                 VOLATILITY_30D  MAX_VOLATILITY_30D  VOLATILITY_90D  \\\n",
       "ID                                                                    \n",
       "GOAU4 BS Equity        0.564286            0.564286        0.448930   \n",
       "IRBR3 BS Equity        0.851317            0.880223        0.564000   \n",
       "WEGE3 BS Equity        0.521383            0.521383        0.392412   \n",
       "\n",
       "                 MAX_VOLATILITY_90D  \n",
       "ID                                   \n",
       "GOAU4 BS Equity            0.448930  \n",
       "IRBR3 BS Equity            0.564000  \n",
       "WEGE3 BS Equity            0.392412  "
      ]
     },
     "execution_count": 47,
     "metadata": {},
     "output_type": "execute_result"
    }
   ],
   "source": [
    "df_volatility.query('VOLATILITY_30D >= MAX_VOLATILITY_30D | VOLATILITY_90D >= MAX_VOLATILITY_90D')"
   ]
  },
  {
   "cell_type": "code",
   "execution_count": null,
   "metadata": {},
   "outputs": [],
   "source": []
  }
 ],
 "metadata": {
  "kernelspec": {
   "display_name": "Python 3 (sandboxed)",
   "language": "python",
   "name": "python3"
  },
  "language_info": {
   "codemirror_mode": {
    "name": "ipython",
    "version": 3
   },
   "file_extension": ".py",
   "mimetype": "text/x-python",
   "name": "python",
   "nbconvert_exporter": "python",
   "pygments_lexer": "ipython3",
   "version": "3.5.5"
  }
 },
 "nbformat": 4,
 "nbformat_minor": 4
}
