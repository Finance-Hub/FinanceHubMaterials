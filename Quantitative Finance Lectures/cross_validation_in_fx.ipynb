{
 "cells": [
  {
   "cell_type": "markdown",
   "metadata": {},
   "source": [
    "# Cross-validation in backtesting\n",
    "\n",
    "#### by Gustavo Soares\n",
    "\n",
    "In this notebook you will apply a few things you learned in the [FinanceHub's Python lectures](https://github.com/Finance-Hub/FinanceHubMaterials/tree/master/Python%20Lectures) as well as in the [FinanceHub's Quantitative Finance Lectures](https://github.com/Finance-Hub/FinanceHubMaterials/tree/master/Quantitative%20Finance%20Lectures). In particular, we will take a new look, under the cross-validation framework, at the dicussion we had on creating a signal for [time series strategies](https://github.com/Finance-Hub/FinanceHubMaterials/blob/master/Quantitative%20Finance%20Lectures/time_series_strategies_intro.ipynb)\n",
    "\n",
    "\n",
    "## Introduction\n",
    "\n",
    "We often try different investment strategies in a particular financial dataset. After playing with the data for a while, we bound to find a particular investment strategy with good performance on that particular data. However, will that investment strategy perform out-of-sample? Unfortunately, we have no way of knowing it. Cross-validation consists on a technique to address that issue.\n",
    "\n",
    "Cross-validation refers to a class of methods that estimate the performance of an investment strategy by holding out a subset of the training observations in the original dataset from the research process, and then applying the strategy to those held out observations. Let's get some data and start discussing different approaches for doing that.\n",
    "\n",
    "## Getting started\n",
    "\n",
    "Let's get the same signal and tracker data for currencies we discussed in our [time series strategies](https://github.com/Finance-Hub/FinanceHubMaterials/blob/master/Quantitative%20Finance%20Lectures/time_series_strategies_intro.ipynb) notebook.\n",
    "\n",
    "Our data consists in signals in FX trading:\n",
    "[carry](https://github.com/Finance-Hub/FinanceHubMaterials/blob/master/Quantitative%20Finance%20Lectures/carry.ipynb), [momentum](https://github.com/Finance-Hub/FinanceHubMaterials/blob/master/Quantitative%20Finance%20Lectures/time_series_momentum.ipynb) and [value](https://github.com/Finance-Hub/FinanceHubMaterials/blob/master/Quantitative%20Finance%20Lectures/ppp_value_in_fx.ipynb). For each signal $s$ for $s \\in \\{carry,momentum,value\\}$ we have a value $x_{s,i,t}$ containing the signal $s$ for currency $i$ at time $t$ already appropriately lagged. Remember, that we need to make sure $x_{s,i,t}$ is only using information that was available at the time of trading to predict h-period returns from time $t$ to some time in the future $t+h$. So, the value $x_{s,i,t}$ needs to be calculated using information prior to $t$. Here, we lag the information set by one period and calculate $x_{s,i,t}$ only with information contained in $\\mathscr{I}_{t-1}$.\n",
    "\n",
    "The variable we want to predict is\n",
    "$$\n",
    "r_{i,t+h} \\equiv \\frac{I_{t+h}}{I_{t}}-1\n",
    "$$\n",
    "\n",
    "which contains the returns of currency $i$ over the period between $t$ and $t+h$ as measured by the percentage change in the the currency tracker level $I_{t}$ over the period. This assumes that we traded at level $I_{t}$ at inception and closed the position $I_{t+h}$."
   ]
  },
  {
   "cell_type": "code",
   "execution_count": 1,
   "metadata": {},
   "outputs": [
    {
     "name": "stdout",
     "output_type": "stream",
     "text": [
      "carry data has 24 currencies and 4973 dates\n",
      "momentum data has 24 currencies and 4968 dates\n",
      "value data has 24 currencies and 4973 dates\n",
      "trackers data has 24 currencies and 5220 dates\n",
      "returns data has 24 currencies and 2241 dates\n"
     ]
    }
   ],
   "source": [
    "import os\n",
    "import numpy as np\n",
    "import pandas as pd\n",
    "import matplotlib.pyplot as plt\n",
    "%matplotlib inline\n",
    "import statsmodels.api as sm\n",
    "\n",
    "# get the signal data\n",
    "carry_df = pd.read_excel(r'fx_trackers_and_signals.xlsx',sheet_name='carry',index_col=0)\n",
    "print('carry data has %s currencies and %s dates' % (carry_df.shape[1],carry_df.shape[0]))\n",
    "mom_df = pd.read_excel(r'fx_trackers_and_signals.xlsx',sheet_name='momentum',index_col=0)\n",
    "print('momentum data has %s currencies and %s dates' % (mom_df.shape[1],mom_df.shape[0]))\n",
    "value_df = pd.read_excel(r'fx_trackers_and_signals.xlsx',sheet_name='value',index_col=0)\n",
    "print('value data has %s currencies and %s dates' % (value_df.shape[1],value_df.shape[0]))\n",
    "\n",
    "# get the tracker data\n",
    "trackers_df = pd.read_excel(r'fx_trackers_and_signals.xlsx',sheet_name='trackers',index_col=0)\n",
    "print('trackers data has %s currencies and %s dates' % (trackers_df.shape[1],trackers_df.shape[0]))\n",
    "\n",
    "# calculate future returns data\n",
    "h = 21\n",
    "# note the use of the .shift(-h) method below to make sure that on the index t we have the returns from t to t+h\n",
    "returns_df = trackers_df.pct_change(h).shift(-h).dropna()\n",
    "print('returns data has %s currencies and %s dates' % (returns_df.shape[1],returns_df.shape[0]))"
   ]
  },
  {
   "cell_type": "markdown",
   "metadata": {},
   "source": [
    "## Combining signals\n",
    "\n",
    "Now, let's say I want to use at the classification technique discussed in Chapter 4 of [James, Witten, Hastie, and Tibshirani (2013)](http://faculty.marshall.usc.edu/gareth-james/ISL/). For example, let's say we want to use the logistic regression model:\n",
    "\n",
    "$$\n",
    "Prob(r_{i,t+h} \\geqslant 0 | X_{i,t}) = \\frac{e^{\\gamma + \\beta´X_{i,t}}}{1+e^{\\gamma + \\beta´X_{i,t}}}\n",
    "$$\n",
    "\n",
    "where $X_{i,t} = [x_{carry,i,t},x_{value,i,t}]'$ is a $2 \\times 1$ vector of signals containing the signals for currency $i$ at time $t$ to combine the three signals contained in $X_{i,t}$ in order to predict the future returns $r_{i,t+h}$. Note that here we are using the same estimates of $\\gamma$ and $\\beta$ for all currencies."
   ]
  },
  {
   "cell_type": "code",
   "execution_count": 2,
   "metadata": {},
   "outputs": [
    {
     "name": "stdout",
     "output_type": "stream",
     "text": [
      "Optimization terminated successfully.\n",
      "         Current function value: 0.691674\n",
      "         Iterations 5\n",
      "                           Logit Regression Results                           \n",
      "==============================================================================\n",
      "Dep. Variable:                returns   No. Observations:                53536\n",
      "Model:                          Logit   Df Residuals:                    53533\n",
      "Method:                           MLE   Df Model:                            2\n",
      "Date:                Sun, 05 Apr 2020   Pseudo R-squ.:                0.001825\n",
      "Time:                        11:14:15   Log-Likelihood:                -37029.\n",
      "converged:                       True   LL-Null:                       -37097.\n",
      "Covariance Type:            nonrobust   LLR p-value:                 3.983e-30\n",
      "==============================================================================\n",
      "                 coef    std err          z      P>|z|      [0.025      0.975]\n",
      "------------------------------------------------------------------------------\n",
      "const         -0.1041      0.010    -10.131      0.000      -0.124      -0.084\n",
      "carry          0.0133      0.001      9.619      0.000       0.011       0.016\n",
      "value          0.0015      0.000      5.024      0.000       0.001       0.002\n",
      "==============================================================================\n"
     ]
    }
   ],
   "source": [
    "import statsmodels.api as sm\n",
    "pooled_data = pd.DataFrame()\n",
    "for ccy in returns_df.columns:\n",
    "    # get future returns\n",
    "    y = 1*(np.sign(returns_df[ccy].to_frame('returns'))>0)\n",
    "    # get the three signals\n",
    "    X_carry = carry_df[ccy].dropna().to_frame('carry')\n",
    "    X_value = value_df[ccy].dropna().to_frame('value')\n",
    "    # make sure the signals are lined up and fill the nan's with the last obs in case there are some\n",
    "    X = pd.concat([X_carry,X_value],join='outer',axis=1,sort=True).fillna(method='ffill').dropna()\n",
    "    \n",
    "    # let's normalize the variables to all have std = 1\n",
    "    Z = (X/(X.ewm(halflife=63).std()).shift(1))\n",
    "    \n",
    "    # add constant to regression\n",
    "    X = sm.add_constant(Z)\n",
    "        \n",
    "    # make sure the dates of the signals and future returns line up\n",
    "    yX = pd.concat([y,X],axis=1,sort=True).dropna()\n",
    "    pooled_data = pooled_data.append(yX)\n",
    "\n",
    "model = sm.Logit(pooled_data.iloc[:,0], pooled_data.iloc[:,1:]).fit()\n",
    "print(model.summary())"
   ]
  },
  {
   "cell_type": "markdown",
   "metadata": {},
   "source": [
    "This logistic regression suggests that we could combine the carry and value signal as\n",
    "\n",
    "$$\n",
    "s_{i,t} = sign\\Big(\\frac{e^{\\hat{\\gamma} + \\hat{\\beta}´Z_{i,t}}}{1+e^{\\hat{\\gamma} + \\hat{\\beta}´Z_{i,t}}} - 0.5\\Big)\n",
    "$$\n",
    "\n",
    "for $\\hat{\\gamma} = -0.1041$ and $\\hat{\\beta}'=[0.0133,0.0015]'$. It's true that these two estimates use information of the full sample but since we are estimating only two parameters with 53536 observations, maybe that's ok. "
   ]
  },
  {
   "cell_type": "code",
   "execution_count": 3,
   "metadata": {},
   "outputs": [],
   "source": [
    "signal = pd.Series(index=pooled_data.index,data=np.sign(model.predict()-0.5))\n",
    "pooled_data['returns'] = 1*(pooled_data['returns']==1) + -1*(pooled_data['returns']==0) # change bear signals from 0 to -1"
   ]
  },
  {
   "cell_type": "markdown",
   "metadata": {},
   "source": [
    "Now, let's calculate the hit ratio, i.e., how many times this signal correctly predicts future bull and bear markets:"
   ]
  },
  {
   "cell_type": "code",
   "execution_count": 4,
   "metadata": {},
   "outputs": [
    {
     "name": "stdout",
     "output_type": "stream",
     "text": [
      "The hit ratio in-sample is: 0.5131313508667065\n"
     ]
    }
   ],
   "source": [
    "hit_ratio_in_sample = (1*(signal==pooled_data['returns'])).mean()\n",
    "print('The hit ratio in-sample is: %s' % hit_ratio_in_sample)"
   ]
  },
  {
   "cell_type": "markdown",
   "metadata": {},
   "source": [
    "So, we can see that this model, even using full sample data has a hit ratio only slighly higher than a coin flip. Do you think this will be the hit ratio out-of-sample? Let's start using some cross-validation to see that.\n",
    "\n",
    "## Validation set\n",
    "\n",
    "Estimating/calibrating/learning the parameters of an investment strategy and testing it on the same data is a methodological mistake. To avoid it, it is common practice to hold out part of the available data as a *test set* and *validation set*. There are two common approaches for splitting the data in finance: (i) split over time and (ii) split over markets.\n",
    "\n",
    "#### Split over time\n",
    "\n",
    "A common approach is to divide the set of observations into two parts, a training set and a *validation set* or *hold-out set*. The most basic approach in finance is to separate the dataset by time. For example, we could estimate our model on the first half of the data and then see the hit ratio on the second part of the data like this:"
   ]
  },
  {
   "cell_type": "code",
   "execution_count": 5,
   "metadata": {},
   "outputs": [
    {
     "name": "stdout",
     "output_type": "stream",
     "text": [
      "Optimization terminated successfully.\n",
      "         Current function value: 0.692827\n",
      "         Iterations 5\n",
      "                           Logit Regression Results                           \n",
      "==============================================================================\n",
      "Dep. Variable:                returns   No. Observations:                39688\n",
      "Model:                          Logit   Df Residuals:                    39685\n",
      "Method:                           MLE   Df Model:                            2\n",
      "Date:                Sun, 05 Apr 2020   Pseudo R-squ.:               0.0003765\n",
      "Time:                        11:14:16   Log-Likelihood:                -27497.\n",
      "converged:                       True   LL-Null:                       -27507.\n",
      "Covariance Type:            nonrobust   LLR p-value:                 3.181e-05\n",
      "==============================================================================\n",
      "                 coef    std err          z      P>|z|      [0.025      0.975]\n",
      "------------------------------------------------------------------------------\n",
      "const          0.0056      0.013      0.425      0.671      -0.020       0.031\n",
      "carry          0.0006      0.002      0.351      0.725      -0.003       0.004\n",
      "value          0.0013      0.000      4.185      0.000       0.001       0.002\n",
      "==============================================================================\n"
     ]
    }
   ],
   "source": [
    "cut_off_date = pooled_data.index[int((max(pooled_data.index) - min(pooled_data.index)).days/2)]\n",
    "train_set = pooled_data[pooled_data.index<=cut_off_date]\n",
    "train_model = sm.Logit(1*(train_set.iloc[:,0]>0), train_set.iloc[:,1:]).fit()\n",
    "print(train_model.summary())"
   ]
  },
  {
   "cell_type": "code",
   "execution_count": 6,
   "metadata": {},
   "outputs": [
    {
     "name": "stdout",
     "output_type": "stream",
     "text": [
      "The hit ratio in-sample is: 0.49455754888127396\n",
      "The hit ratio out-of-sample is: 0.5663633737723859\n"
     ]
    }
   ],
   "source": [
    "train_signal = np.sign(model.predict(train_set.iloc[:,1:])-0.5)\n",
    "hit_ratio_in_sample = (1*(train_signal==train_set['returns'])).mean()\n",
    "print('The hit ratio in-sample is: %s' % hit_ratio_in_sample)\n",
    "\n",
    "validation_set = pooled_data[pooled_data.index>cut_off_date]\n",
    "validation_signal = np.sign(model.predict(validation_set.iloc[:,1:])-0.5)\n",
    "hit_ratio_out_sample = (1*(validation_signal==validation_set['returns'])).mean()\n",
    "print('The hit ratio out-of-sample is: %s' % hit_ratio_out_sample)"
   ]
  },
  {
   "cell_type": "markdown",
   "metadata": {},
   "source": [
    "This is a rare case where the out-of-sample hit ratio is actually better than the in-sample hit ratio. Note that we could have done it the other way around. We have chosen the more recent period as the training set and the period at the start of the sample as the validation set. See if you can do that as an exercise.\n",
    "\n",
    "#### Split over markets\n",
    "\n",
    "Another commoon alternative is to check on performance across different markets. It involves randomly dividing the available set of observation set approach two separate sets of markets. Let's see how to do that:"
   ]
  },
  {
   "cell_type": "code",
   "execution_count": 7,
   "metadata": {},
   "outputs": [
    {
     "name": "stdout",
     "output_type": "stream",
     "text": [
      "Optimization terminated successfully.\n",
      "         Current function value: 0.692331\n",
      "         Iterations 4\n",
      "                           Logit Regression Results                           \n",
      "==============================================================================\n",
      "Dep. Variable:                returns   No. Observations:                26644\n",
      "Model:                          Logit   Df Residuals:                    26641\n",
      "Method:                           MLE   Df Model:                            2\n",
      "Date:                Sun, 05 Apr 2020   Pseudo R-squ.:               0.0007742\n",
      "Time:                        11:14:16   Log-Likelihood:                -18446.\n",
      "converged:                       True   LL-Null:                       -18461.\n",
      "Covariance Type:            nonrobust   LLR p-value:                 6.204e-07\n",
      "==============================================================================\n",
      "                 coef    std err          z      P>|z|      [0.025      0.975]\n",
      "------------------------------------------------------------------------------\n",
      "const         -0.0862      0.014     -6.026      0.000      -0.114      -0.058\n",
      "carry          0.0098      0.002      4.402      0.000       0.005       0.014\n",
      "value          0.0008      0.000      2.807      0.005       0.000       0.001\n",
      "==============================================================================\n"
     ]
    }
   ],
   "source": [
    "train_cccy = ['AUD', 'BRL', 'CAD', 'CHF', 'CLP', 'CNH', 'COP', 'CZK','PLN', 'GBP','HUF', 'IDR']\n",
    "validation_ccy = ['ILS', 'INR', 'JPY', 'KRW', 'MXN', 'NOK', 'NZD', 'EUR', 'RUB', 'SEK', 'TRY', 'ZAR']\n",
    "train_data = pd.DataFrame()\n",
    "validation_data = pd.DataFrame()\n",
    "for ccy in returns_df.columns:\n",
    "    # get future returns\n",
    "    y = 1*(np.sign(returns_df[ccy].to_frame('returns'))>0)\n",
    "    # get the three signals\n",
    "    X_carry = carry_df[ccy].dropna().to_frame('carry')\n",
    "    X_value = value_df[ccy].dropna().to_frame('value')\n",
    "    # make sure the signals are lined up and fill the nan's with the last obs in case there are some\n",
    "    X = pd.concat([X_carry,X_value],join='outer',axis=1,sort=True).fillna(method='ffill').dropna()\n",
    "    \n",
    "    # let's normalize the variables to all have std = 1\n",
    "    Z = (X/(X.ewm(halflife=63).std()).shift(1))\n",
    "    \n",
    "    # add constant to regression\n",
    "    X = sm.add_constant(Z)\n",
    "        \n",
    "    # make sure the dates of the signals and future returns line up\n",
    "    yX = pd.concat([y,X],axis=1,sort=True).dropna()\n",
    "    \n",
    "    if ccy in train_cccy:\n",
    "        train_data = train_data.append(yX)\n",
    "    else:\n",
    "        validation_data = validation_data.append(yX)\n",
    "\n",
    "model = sm.Logit(train_data.iloc[:,0], train_data.iloc[:,1:]).fit()\n",
    "print(model.summary())"
   ]
  },
  {
   "cell_type": "code",
   "execution_count": 8,
   "metadata": {},
   "outputs": [
    {
     "name": "stdout",
     "output_type": "stream",
     "text": [
      "The hit ratio in-sample is: 0.5083696141720463\n",
      "The hit ratio out-of-sample is: 0.512085378551242\n"
     ]
    }
   ],
   "source": [
    "train_signal = np.sign(model.predict(train_data.iloc[:,1:])-0.5)\n",
    "train_data['returns'] = 1*(train_data['returns']==1) + -1*(train_data['returns']==0) # change bear signals from 0 to -1\n",
    "hit_ratio_in_sample = (1*(train_signal==train_data['returns'])).mean()\n",
    "print('The hit ratio in-sample is: %s' % hit_ratio_in_sample)\n",
    "\n",
    "validation_signal = np.sign(model.predict(validation_data.iloc[:,1:])-0.5)\n",
    "validation_data['returns'] = 1*(validation_data['returns']==1) + -1*(validation_data['returns']==0) # change bear signals from 0 to -1\n",
    "hit_ratio_out_sample = (1*(validation_signal==validation_data['returns'])).mean()\n",
    "print('The hit ratio out-of-sample is: %s' % hit_ratio_out_sample)"
   ]
  },
  {
   "cell_type": "markdown",
   "metadata": {},
   "source": [
    "#### Random split\n",
    "\n",
    "In [scikit-learn cross validation package](https://scikit-learn.org/stable/modules/cross_validation.html) one can easily randomly split the data into training and test sets can be quickly computed with the train_test_split helper function. Let’s see how to do that in our data. Below we use the *test size* parameter to hold out 30% of the data for testing (evaluating) our signal:"
   ]
  },
  {
   "cell_type": "code",
   "execution_count": 9,
   "metadata": {
    "scrolled": false
   },
   "outputs": [
    {
     "name": "stdout",
     "output_type": "stream",
     "text": [
      "Optimization terminated successfully.\n",
      "         Current function value: 0.691430\n",
      "         Iterations 5\n",
      "                           Logit Regression Results                           \n",
      "==============================================================================\n",
      "Dep. Variable:                returns   No. Observations:                37475\n",
      "Model:                          Logit   Df Residuals:                    37472\n",
      "Method:                           MLE   Df Model:                            2\n",
      "Date:                Sun, 05 Apr 2020   Pseudo R-squ.:                0.002160\n",
      "Time:                        11:14:16   Log-Likelihood:                -25911.\n",
      "converged:                       True   LL-Null:                       -25967.\n",
      "Covariance Type:            nonrobust   LLR p-value:                 4.364e-25\n",
      "==============================================================================\n",
      "                 coef    std err          z      P>|z|      [0.025      0.975]\n",
      "------------------------------------------------------------------------------\n",
      "const         -0.1119      0.012     -9.067      0.000      -0.136      -0.088\n",
      "carry          0.0143      0.002      8.682      0.000       0.011       0.018\n",
      "value          0.0017      0.000      4.674      0.000       0.001       0.002\n",
      "==============================================================================\n",
      "The hit ratio in-sample is: 0.5188258839226151\n",
      "The hit ratio out-of-sample is: 0.5103044642301227\n"
     ]
    }
   ],
   "source": [
    "from sklearn.model_selection import train_test_split\n",
    "X = pooled_data.iloc[:,1:]\n",
    "y = pooled_data.iloc[:,0]\n",
    "\n",
    "X_train, X_test, y_train, y_test = train_test_split(X, y, test_size=0.3)\n",
    "\n",
    "model = sm.Logit(1*(np.sign(y_train)>0), X_train).fit()\n",
    "print(model.summary())\n",
    "\n",
    "train_signal = np.sign(model.predict(X_train)-0.5)\n",
    "hit_ratio_in_sample = (1*(train_signal==y_train)).mean()\n",
    "print('The hit ratio in-sample is: %s' % hit_ratio_in_sample)\n",
    "\n",
    "validation_signal = np.sign(model.predict(X_test)-0.5)\n",
    "hit_ratio_out_sample = (1*(validation_signal==y_test)).mean()\n",
    "print('The hit ratio out-of-sample is: %s' % hit_ratio_out_sample)"
   ]
  },
  {
   "cell_type": "markdown",
   "metadata": {},
   "source": [
    "It is important to be careful when using the [scikit-learn cross validation package](https://scikit-learn.org/stable/modules/cross_validation.html) as the random split between training and test sets implicitly assume that the underlying data is IID. Nonetheless, depend on the context, random split between training and test sets can be useful even in the time series context. Perhaps, the most important recommendation is to try different things to see if results are robust.\n",
    "\n",
    "## Leave one out\n",
    "\n",
    "Leave-one-out cross-validation (LOOCV) also splitting the set of observations into two parts. Each learning set is created by taking all the samples except one, the test set being the sample left out. This cross-validation procedure does not waste much data as only one sample is removed from the training set. However, instead of creating two subsets of comparable size, a single observation, a date or a currency, is used as the validation set, and the remaining observations make up the training set. The signal is fit on the training observations and a prediction is made for the excluded observation.\n",
    "\n",
    "After the entire process, we will have trained $N$ models, as many models as there are observations. We will have a set of parameters $\\theta_{1},\\dots,\\theta_{N}$, one for each observation $k$. If we are interested in a function of those parameters $T(\\theta)$, such as the hit ratio for example, the cross-validation estimate for that number will be:\n",
    "\n",
    "$$\n",
    "T_{CV}(\\theta) = N^{-1}\\sum_{k=1}^{N}T(\\theta_{k})\n",
    "$$\n",
    "\n",
    "\n",
    "#### Leave one date out\n",
    "\n",
    "In the time series context, we can use LOOCV to exclude one particular date. Let's take one particular currency to see how that works using [scikit-learn cross validation package](https://scikit-learn.org/stable/modules/cross_validation.html):"
   ]
  },
  {
   "cell_type": "code",
   "execution_count": 10,
   "metadata": {},
   "outputs": [],
   "source": [
    "ccy='BRL'\n",
    "train_data = pd.DataFrame()\n",
    "validation_data = pd.DataFrame()\n",
    "y = 1*(np.sign(returns_df[ccy].to_frame('returns'))>0)\n",
    "X_carry = carry_df[ccy].dropna().to_frame('carry')\n",
    "X_value = value_df[ccy].dropna().to_frame('value')\n",
    "# make sure the signals are lined up and fill the nan's with the last obs in case there are some\n",
    "X = pd.concat([X_carry,X_value],join='outer',axis=1,sort=True).fillna(method='ffill').dropna()\n",
    "# let's normalize the variables to all have std = 1\n",
    "Z = (X/(X.ewm(halflife=63).std()).shift(1))\n",
    "# add constant to regression\n",
    "X = sm.add_constant(Z)\n",
    "# make sure the dates of the signals and future returns line up\n",
    "yX = pd.concat([y,X],axis=1,sort=True).dropna()"
   ]
  },
  {
   "cell_type": "markdown",
   "metadata": {},
   "source": [
    "Now that we have the time series data for that currency, let's apply the LOOCV methodology for estimating the hit ratio:"
   ]
  },
  {
   "cell_type": "code",
   "execution_count": 11,
   "metadata": {},
   "outputs": [
    {
     "name": "stderr",
     "output_type": "stream",
     "text": [
      "C:\\Users\\Gustavo\\anaconda3\\lib\\site-packages\\ipykernel_launcher.py:2: DeprecationWarning: The default dtype for empty Series will be 'object' instead of 'float64' in a future version. Specify a dtype explicitly to silence this warning.\n",
      "  \n"
     ]
    },
    {
     "data": {
      "text/plain": [
       "0.5671575189647479"
      ]
     },
     "execution_count": 11,
     "metadata": {},
     "output_type": "execute_result"
    }
   ],
   "source": [
    "from sklearn.model_selection import LeaveOneOut\n",
    "hit_ratio_out_sample = pd.Series()\n",
    "loo = LeaveOneOut()\n",
    "for train, test in loo.split(yX):\n",
    "    model = sm.Logit(1*(np.sign(yX.iloc[train,0])>0), yX.iloc[train,1:]).fit(disp=False)\n",
    "    validation_signal = 1*(np.sign(model.predict(yX.iloc[test,1:])-0.5)>0)\n",
    "    hit_ratio_out_sample = hit_ratio_out_sample.append(1*(validation_signal==yX.iloc[test,0]))\n",
    "hit_ratio_out_sample.mean()"
   ]
  },
  {
   "cell_type": "markdown",
   "metadata": {},
   "source": [
    "#### Leave one market out\n",
    "\n",
    "Alternatively, we can use LOOCV to exclude one particular market. Let's how that works using [scikit-learn cross validation package](https://scikit-learn.org/stable/modules/cross_validation.html):"
   ]
  },
  {
   "cell_type": "code",
   "execution_count": 12,
   "metadata": {},
   "outputs": [],
   "source": [
    "group_dict = dict(zip([ccy for ccy in returns_df.columns],range(len(returns_df.columns))))\n",
    "pooled_data = pd.DataFrame()\n",
    "groups = pd.DataFrame()\n",
    "for ccy in returns_df.columns:\n",
    "    # get future returns\n",
    "    y = 1*(np.sign(returns_df[ccy].to_frame('returns'))>0)\n",
    "    # get the three signals\n",
    "    X_carry = carry_df[ccy].dropna().to_frame('carry')\n",
    "    X_value = value_df[ccy].dropna().to_frame('value')\n",
    "    # make sure the signals are lined up and fill the nan's with the last obs in case there are some\n",
    "    X = pd.concat([X_carry,X_value],join='outer',axis=1,sort=True).fillna(method='ffill').dropna()\n",
    "    \n",
    "    # let's normalize the variables to all have std = 1\n",
    "    Z = (X/(X.ewm(halflife=63).std()).shift(1))    \n",
    "    X = sm.add_constant(Z)        \n",
    "\n",
    "    yX = pd.concat([y,X],axis=1,sort=True).dropna()\n",
    "    \n",
    "    group = pd.DataFrame(index=yX.index,columns=['group'],data=group_dict[ccy])\n",
    "    \n",
    "    \n",
    "    pooled_data = pooled_data.append(yX)\n",
    "    groups = groups.append(group)"
   ]
  },
  {
   "cell_type": "markdown",
   "metadata": {},
   "source": [
    "Now let's run the leave One Group Out cross-validator to estimate the signals hit ratio:"
   ]
  },
  {
   "cell_type": "code",
   "execution_count": 14,
   "metadata": {},
   "outputs": [
    {
     "name": "stderr",
     "output_type": "stream",
     "text": [
      "C:\\Users\\Gustavo\\anaconda3\\lib\\site-packages\\ipykernel_launcher.py:6: DeprecationWarning: The default dtype for empty Series will be 'object' instead of 'float64' in a future version. Specify a dtype explicitly to silence this warning.\n",
      "  \n"
     ]
    },
    {
     "data": {
      "text/plain": [
       "0.5128698445905558"
      ]
     },
     "execution_count": 14,
     "metadata": {},
     "output_type": "execute_result"
    }
   ],
   "source": [
    "from sklearn.model_selection import LeaveOneGroupOut\n",
    "X = pooled_data.iloc[:,1:]\n",
    "y = pooled_data.iloc[:,0]\n",
    "logo = LeaveOneGroupOut()\n",
    "logo.get_n_splits(groups=groups)\n",
    "hit_ratio_out_sample = pd.Series()\n",
    "for train_index, test_index in logo.split(X, y, groups.iloc[:,0]):\n",
    "    model = sm.Logit(1*(np.sign(y.iloc[train_index])>0), X.iloc[train_index]).fit(disp=False)\n",
    "    validation_signal = 1*(np.sign(model.predict(X.iloc[test_index])-0.5)>0)\n",
    "    hit_ratio_out_sample = hit_ratio_out_sample.append(1*(validation_signal==y.iloc[test_index]))\n",
    "hit_ratio_out_sample.mean()   "
   ]
  },
  {
   "attachments": {
    "image.png": {
     "image/png": "[encoded data removed]"
    }
   },
   "cell_type": "markdown",
   "metadata": {},
   "source": [
    "## K-Fold Cross-Validation\n",
    "\n",
    "K-fold cross validation is another cross-validation technique that makes strong use of the assumption of the data being IID. This technique needs to be used carefully when dealing with financial time series. Let's see how it works.\n",
    "\n",
    "K-fold divides all the samples in  groups of samples, called folds (if , this is equivalent to the Leave One Out strategy), of equal sizes (if possible). The prediction function is learned using  folds, and the fold left out is used for test. The image below says it all:\n",
    "\n",
    "![image.png](attachment:image.png)\n",
    "\n",
    "Check out the function KFold and GroupKFold in  [scikit-learn cross validation package](https://scikit-learn.org/stable/modules/cross_validation.html) for more information but the idea is very similar to LOOCV."
   ]
  },
  {
   "attachments": {},
   "cell_type": "markdown",
   "metadata": {},
   "source": [
    "## Cross validation of time series data with time series split\n",
    "\n",
    "For time series data, we need to use a variation of k-fold which returns first $k$ folds as train set and the $k+1$ fold as test set. Note that unlike standard cross-validation methods, successive training sets are supersets of those that come before them. Let's look at the picture:\n"
   ]
  },
  {
   "cell_type": "code",
   "execution_count": 15,
   "metadata": {},
   "outputs": [
    {
     "data": {
      "text/plain": [
       "0.5107396406838598"
      ]
     },
     "execution_count": 15,
     "metadata": {},
     "output_type": "execute_result"
    }
   ],
   "source": [
    "from sklearn.model_selection import TimeSeriesSplit\n",
    "ccy='BRL'\n",
    "train_data = pd.DataFrame()\n",
    "validation_data = pd.DataFrame()\n",
    "y = 1*(np.sign(returns_df[ccy].to_frame('returns'))>0)\n",
    "X_carry = carry_df[ccy].dropna().to_frame('carry')\n",
    "X_value = value_df[ccy].dropna().to_frame('value')\n",
    "# make sure the signals are lined up and fill the nan's with the last obs in case there are some\n",
    "X = pd.concat([X_carry,X_value],join='outer',axis=1,sort=True).fillna(method='ffill').dropna()\n",
    "# let's normalize the variables to all have std = 1\n",
    "Z = (X/(X.ewm(halflife=63).std()).shift(1))\n",
    "# add constant to regression\n",
    "X = sm.add_constant(Z)\n",
    "# make sure the dates of the signals and future returns line up\n",
    "yX = pd.concat([y,X],axis=1,sort=True).dropna()\n",
    "tscv = TimeSeriesSplit(n_splits=3)\n",
    "for train, test in tscv.split(yX):\n",
    "    model = sm.Logit(1*(np.sign(yX.iloc[train,0])>0), yX.iloc[train,1:]).fit(disp=False)\n",
    "    validation_signal = 1*(np.sign(model.predict(yX.iloc[test,1:])-0.5)>0)\n",
    "    hit_ratio_out_sample = hit_ratio_out_sample.append(1*(validation_signal==yX.iloc[test,0]))\n",
    "hit_ratio_out_sample.mean()"
   ]
  },
  {
   "attachments": {
    "image.png": {
     "image/png": "[encoded data removed]"
    }
   },
   "cell_type": "markdown",
   "metadata": {},
   "source": [
    "![image.png](attachment:image.png)"
   ]
  },
  {
   "cell_type": "markdown",
   "metadata": {},
   "source": [
    "## Cross-validation for parameter learning\n",
    "\n",
    "After the entire cross process, we will have trained $K$ models, one for each fold, and we will have a set of parameters $\\theta_{1},\\dots,\\theta_{K}$, one for each fold $k$. If we are interested in a function of those parameters $T(\\theta)$, such as the hit ratio for example, the cross-validation estimate for that number will be:\n",
    "\n",
    "$$\n",
    "T_{CV}(\\theta) = K^{-1}\\sum_{k=1}^{K}T(\\theta_{k})\n",
    "$$\n",
    "\n",
    "However, we can also use the function $T_{CV}(\\theta)$ to weight the different parameters to come up with a cross-validation weighted parameter average such as:\n",
    "\n",
    "$$\n",
    "\\hat{\\theta} = \\frac{\\sum_{k=1}^{K}T(\\theta_{k} ) \\times  \\theta_{k}}{\\sum_{k=1}^{K}T(\\theta_{k})}\n",
    "$$\n",
    "\n",
    "Let's try that in our leave one market out approach:"
   ]
  },
  {
   "cell_type": "code",
   "execution_count": 16,
   "metadata": {},
   "outputs": [
    {
     "data": {
      "text/html": [
       "<div>\n",
       "<style scoped>\n",
       "    .dataframe tbody tr th:only-of-type {\n",
       "        vertical-align: middle;\n",
       "    }\n",
       "\n",
       "    .dataframe tbody tr th {\n",
       "        vertical-align: top;\n",
       "    }\n",
       "\n",
       "    .dataframe thead th {\n",
       "        text-align: right;\n",
       "    }\n",
       "</style>\n",
       "<table border=\"1\" class=\"dataframe\">\n",
       "  <thead>\n",
       "    <tr style=\"text-align: right;\">\n",
       "      <th></th>\n",
       "      <th>const</th>\n",
       "      <th>carry</th>\n",
       "      <th>value</th>\n",
       "      <th>hit_ratio</th>\n",
       "    </tr>\n",
       "  </thead>\n",
       "  <tbody>\n",
       "    <tr>\n",
       "      <th>1</th>\n",
       "      <td>-0.095545</td>\n",
       "      <td>0.013759</td>\n",
       "      <td>0.001301</td>\n",
       "      <td>0.551093</td>\n",
       "    </tr>\n",
       "    <tr>\n",
       "      <th>2</th>\n",
       "      <td>-0.098554</td>\n",
       "      <td>0.012203</td>\n",
       "      <td>0.001551</td>\n",
       "      <td>0.571620</td>\n",
       "    </tr>\n",
       "    <tr>\n",
       "      <th>3</th>\n",
       "      <td>-0.103020</td>\n",
       "      <td>0.015709</td>\n",
       "      <td>0.001280</td>\n",
       "      <td>0.495761</td>\n",
       "    </tr>\n",
       "    <tr>\n",
       "      <th>4</th>\n",
       "      <td>-0.111472</td>\n",
       "      <td>0.013782</td>\n",
       "      <td>0.001542</td>\n",
       "      <td>0.517626</td>\n",
       "    </tr>\n",
       "    <tr>\n",
       "      <th>5</th>\n",
       "      <td>-0.101912</td>\n",
       "      <td>0.013159</td>\n",
       "      <td>0.001504</td>\n",
       "      <td>0.526997</td>\n",
       "    </tr>\n",
       "    <tr>\n",
       "      <th>6</th>\n",
       "      <td>-0.143982</td>\n",
       "      <td>0.012030</td>\n",
       "      <td>0.004430</td>\n",
       "      <td>0.537883</td>\n",
       "    </tr>\n",
       "    <tr>\n",
       "      <th>7</th>\n",
       "      <td>-0.102269</td>\n",
       "      <td>0.013871</td>\n",
       "      <td>0.001455</td>\n",
       "      <td>0.481481</td>\n",
       "    </tr>\n",
       "    <tr>\n",
       "      <th>8</th>\n",
       "      <td>-0.098502</td>\n",
       "      <td>0.012558</td>\n",
       "      <td>0.001545</td>\n",
       "      <td>0.545739</td>\n",
       "    </tr>\n",
       "    <tr>\n",
       "      <th>9</th>\n",
       "      <td>-0.093958</td>\n",
       "      <td>0.011920</td>\n",
       "      <td>0.001469</td>\n",
       "      <td>0.563588</td>\n",
       "    </tr>\n",
       "    <tr>\n",
       "      <th>10</th>\n",
       "      <td>-0.105414</td>\n",
       "      <td>0.013516</td>\n",
       "      <td>0.001479</td>\n",
       "      <td>0.475234</td>\n",
       "    </tr>\n",
       "    <tr>\n",
       "      <th>11</th>\n",
       "      <td>-0.098235</td>\n",
       "      <td>0.012251</td>\n",
       "      <td>0.001599</td>\n",
       "      <td>0.542615</td>\n",
       "    </tr>\n",
       "    <tr>\n",
       "      <th>12</th>\n",
       "      <td>-0.111673</td>\n",
       "      <td>0.013384</td>\n",
       "      <td>0.001238</td>\n",
       "      <td>0.465417</td>\n",
       "    </tr>\n",
       "    <tr>\n",
       "      <th>13</th>\n",
       "      <td>-0.119685</td>\n",
       "      <td>0.014173</td>\n",
       "      <td>0.001630</td>\n",
       "      <td>0.470326</td>\n",
       "    </tr>\n",
       "    <tr>\n",
       "      <th>14</th>\n",
       "      <td>-0.104042</td>\n",
       "      <td>0.012622</td>\n",
       "      <td>0.001087</td>\n",
       "      <td>0.538599</td>\n",
       "    </tr>\n",
       "    <tr>\n",
       "      <th>15</th>\n",
       "      <td>-0.100459</td>\n",
       "      <td>0.012704</td>\n",
       "      <td>0.001475</td>\n",
       "      <td>0.545739</td>\n",
       "    </tr>\n",
       "    <tr>\n",
       "      <th>16</th>\n",
       "      <td>-0.105082</td>\n",
       "      <td>0.012837</td>\n",
       "      <td>0.001472</td>\n",
       "      <td>0.518965</td>\n",
       "    </tr>\n",
       "    <tr>\n",
       "      <th>17</th>\n",
       "      <td>-0.105006</td>\n",
       "      <td>0.013022</td>\n",
       "      <td>0.001466</td>\n",
       "      <td>0.482374</td>\n",
       "    </tr>\n",
       "    <tr>\n",
       "      <th>18</th>\n",
       "      <td>-0.097462</td>\n",
       "      <td>0.013987</td>\n",
       "      <td>0.001318</td>\n",
       "      <td>0.508701</td>\n",
       "    </tr>\n",
       "    <tr>\n",
       "      <th>19</th>\n",
       "      <td>-0.098039</td>\n",
       "      <td>0.012465</td>\n",
       "      <td>0.001456</td>\n",
       "      <td>0.533690</td>\n",
       "    </tr>\n",
       "    <tr>\n",
       "      <th>20</th>\n",
       "      <td>-0.102818</td>\n",
       "      <td>0.013260</td>\n",
       "      <td>0.001552</td>\n",
       "      <td>0.481035</td>\n",
       "    </tr>\n",
       "    <tr>\n",
       "      <th>21</th>\n",
       "      <td>-0.112384</td>\n",
       "      <td>0.013291</td>\n",
       "      <td>0.001378</td>\n",
       "      <td>0.456939</td>\n",
       "    </tr>\n",
       "    <tr>\n",
       "      <th>22</th>\n",
       "      <td>-0.093456</td>\n",
       "      <td>0.012297</td>\n",
       "      <td>0.001386</td>\n",
       "      <td>0.565373</td>\n",
       "    </tr>\n",
       "    <tr>\n",
       "      <th>23</th>\n",
       "      <td>-0.104623</td>\n",
       "      <td>0.013988</td>\n",
       "      <td>0.001595</td>\n",
       "      <td>0.438643</td>\n",
       "    </tr>\n",
       "    <tr>\n",
       "      <th>24</th>\n",
       "      <td>-0.103890</td>\n",
       "      <td>0.014807</td>\n",
       "      <td>0.001511</td>\n",
       "      <td>0.496207</td>\n",
       "    </tr>\n",
       "  </tbody>\n",
       "</table>\n",
       "</div>"
      ],
      "text/plain": [
       "       const     carry     value  hit_ratio\n",
       "1  -0.095545  0.013759  0.001301   0.551093\n",
       "2  -0.098554  0.012203  0.001551   0.571620\n",
       "3  -0.103020  0.015709  0.001280   0.495761\n",
       "4  -0.111472  0.013782  0.001542   0.517626\n",
       "5  -0.101912  0.013159  0.001504   0.526997\n",
       "6  -0.143982  0.012030  0.004430   0.537883\n",
       "7  -0.102269  0.013871  0.001455   0.481481\n",
       "8  -0.098502  0.012558  0.001545   0.545739\n",
       "9  -0.093958  0.011920  0.001469   0.563588\n",
       "10 -0.105414  0.013516  0.001479   0.475234\n",
       "11 -0.098235  0.012251  0.001599   0.542615\n",
       "12 -0.111673  0.013384  0.001238   0.465417\n",
       "13 -0.119685  0.014173  0.001630   0.470326\n",
       "14 -0.104042  0.012622  0.001087   0.538599\n",
       "15 -0.100459  0.012704  0.001475   0.545739\n",
       "16 -0.105082  0.012837  0.001472   0.518965\n",
       "17 -0.105006  0.013022  0.001466   0.482374\n",
       "18 -0.097462  0.013987  0.001318   0.508701\n",
       "19 -0.098039  0.012465  0.001456   0.533690\n",
       "20 -0.102818  0.013260  0.001552   0.481035\n",
       "21 -0.112384  0.013291  0.001378   0.456939\n",
       "22 -0.093456  0.012297  0.001386   0.565373\n",
       "23 -0.104623  0.013988  0.001595   0.438643\n",
       "24 -0.103890  0.014807  0.001511   0.496207"
      ]
     },
     "execution_count": 16,
     "metadata": {},
     "output_type": "execute_result"
    }
   ],
   "source": [
    "group_dict = dict(zip([ccy for ccy in returns_df.columns],range(len(returns_df.columns))))\n",
    "pooled_data = pd.DataFrame()\n",
    "groups = pd.DataFrame()\n",
    "for ccy in returns_df.columns:\n",
    "    # get future returns\n",
    "    y = 1*(np.sign(returns_df[ccy].to_frame('returns'))>0)\n",
    "    # get the three signals\n",
    "    X_carry = carry_df[ccy].dropna().to_frame('carry')\n",
    "    X_value = value_df[ccy].dropna().to_frame('value')\n",
    "    # make sure the signals are lined up and fill the nan's with the last obs in case there are some\n",
    "    X = pd.concat([X_carry,X_value],join='outer',axis=1,sort=True).fillna(method='ffill').dropna()\n",
    "    \n",
    "    # let's normalize the variables to all have std = 1\n",
    "    Z = (X/(X.ewm(halflife=63).std()).shift(1))    \n",
    "    X = sm.add_constant(Z)        \n",
    "\n",
    "    yX = pd.concat([y,X],axis=1,sort=True).dropna()\n",
    "    \n",
    "    group = pd.DataFrame(index=yX.index,columns=['group'],data=group_dict[ccy])\n",
    "    \n",
    "    \n",
    "    pooled_data = pooled_data.append(yX)\n",
    "    groups = groups.append(group)\n",
    "\n",
    "X = pooled_data.iloc[:,1:]\n",
    "y = pooled_data.iloc[:,0]\n",
    "logo.get_n_splits(groups=groups)\n",
    "parameters_df = pd.DataFrame()\n",
    "i = 0\n",
    "for train_index, test_index in logo.split(X, y, groups.iloc[:,0]):\n",
    "    i += 1\n",
    "    model = sm.Logit(1*(np.sign(y.iloc[train_index])>0), X.iloc[train_index]).fit(disp=False)\n",
    "    params = model.params\n",
    "    validation_signal = 1*(np.sign(model.predict(X.iloc[test_index])-0.5)>0)\n",
    "    params['hit_ratio'] = (1*(validation_signal==y.iloc[test_index])).mean()\n",
    "    parameters_df = parameters_df.append(params.to_frame(i).T)\n",
    "    \n",
    "parameters_df"
   ]
  },
  {
   "cell_type": "markdown",
   "metadata": {},
   "source": [
    "Because we left one market out in each fold, we have 24 models with 24 set of parameters and associated with each one of them a hit ratio out-of-sample calculated by the currency held out in that particular fold. Our cross-validated parameter estimates then are:"
   ]
  },
  {
   "cell_type": "code",
   "execution_count": 17,
   "metadata": {},
   "outputs": [
    {
     "data": {
      "text/plain": [
       "const   -0.104419\n",
       "carry    0.013193\n",
       "value    0.001577\n",
       "dtype: float64"
      ]
     },
     "execution_count": 17,
     "metadata": {},
     "output_type": "execute_result"
    }
   ],
   "source": [
    "cv_param = ((parameters_df.iloc[:,:-1]).multiply(parameters_df.iloc[:,-1],axis=0)).sum()/((parameters_df.iloc[:,-1]).sum())\n",
    "cv_param"
   ]
  }
 ],
 "metadata": {
  "kernelspec": {
   "display_name": "Python 3",
   "language": "python",
   "name": "python3"
  },
  "language_info": {
   "codemirror_mode": {
    "name": "ipython",
    "version": 3
   },
   "file_extension": ".py",
   "mimetype": "text/x-python",
   "name": "python",
   "nbconvert_exporter": "python",
   "pygments_lexer": "ipython3",
   "version": "3.7.6"
  }
 },
 "nbformat": 4,
 "nbformat_minor": 4
}
