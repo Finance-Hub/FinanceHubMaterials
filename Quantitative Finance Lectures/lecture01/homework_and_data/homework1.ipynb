{
 "cells": [
  {
   "cell_type": "markdown",
   "metadata": {},
   "source": [
    "# Homework 1\n",
    "#### Author: Prof. Gustavo Soares\n",
    "\n",
    "#### Imports"
   ]
  },
  {
   "cell_type": "code",
   "execution_count": 1,
   "metadata": {},
   "outputs": [],
   "source": [
    "import pandas as pd\n",
    "import numpy as np\n",
    "import matplotlib.pyplot as plt\n",
    "%matplotlib inline\n",
    "import bql\n",
    "bq = bql.Service()"
   ]
  },
  {
   "cell_type": "markdown",
   "metadata": {},
   "source": [
    "#### Introduction\n",
    "\n",
    "You are a investor considering investing in the following ETFs:\n",
    "\n",
    "* **iShares US Property Yield UCITS ETF (IDUP LN Equity)** which is an exchange-traded fund incorporated in Ireland. The Fund aims to track the performance of FTSE EPRA/NAREIT US Dividend+ Index. The fund is denominated and trades in USD but on European time.\n",
    "* **Xtrackers FTSE Developed Europe Real Estate UCITS ETF (D5BK B2 Equity)** which physically replicates the performance of the FTSE EPRA/NAREIT Developed Europe Real Estate Net Return Index. The ETF offers direct investment in European Real Estate. Provides exposure to Real Estate holding and development companies, as well as REITs. The fund is denominated and trades in EUR during European time.\n",
    "* **iShares Japan REIT ETF (1476 JT Equity)** which is an exchange-traded fund established in Japan.  The  fund's objective is to provide investment results that correspond to the  performance of the TSE REIT index. The fund is denominated and trades in JPY during European time.\n",
    "\n",
    "Let's grab their total returns from Bloomberg:"
   ]
  },
  {
   "cell_type": "code",
   "execution_count": 2,
   "metadata": {},
   "outputs": [
    {
     "data": {
      "text/html": [
       "<div>\n",
       "<style scoped>\n",
       "    .dataframe tbody tr th:only-of-type {\n",
       "        vertical-align: middle;\n",
       "    }\n",
       "\n",
       "    .dataframe tbody tr th {\n",
       "        vertical-align: top;\n",
       "    }\n",
       "\n",
       "    .dataframe thead th {\n",
       "        text-align: right;\n",
       "    }\n",
       "</style>\n",
       "<table border=\"1\" class=\"dataframe\">\n",
       "  <thead>\n",
       "    <tr style=\"text-align: right;\">\n",
       "      <th></th>\n",
       "      <th>DATE</th>\n",
       "      <th>TOTAL_RETURN_INDEX(DATES=RANGE('-10Y','0D'))</th>\n",
       "    </tr>\n",
       "    <tr>\n",
       "      <th>ID</th>\n",
       "      <th></th>\n",
       "      <th></th>\n",
       "    </tr>\n",
       "  </thead>\n",
       "  <tbody>\n",
       "    <tr>\n",
       "      <th>IDUP LN Equity</th>\n",
       "      <td>2011-04-29</td>\n",
       "      <td>1.0</td>\n",
       "    </tr>\n",
       "    <tr>\n",
       "      <th>IDUP LN Equity</th>\n",
       "      <td>2011-04-30</td>\n",
       "      <td>1.0</td>\n",
       "    </tr>\n",
       "    <tr>\n",
       "      <th>IDUP LN Equity</th>\n",
       "      <td>2011-05-01</td>\n",
       "      <td>1.0</td>\n",
       "    </tr>\n",
       "    <tr>\n",
       "      <th>IDUP LN Equity</th>\n",
       "      <td>2011-05-02</td>\n",
       "      <td>1.0</td>\n",
       "    </tr>\n",
       "    <tr>\n",
       "      <th>IDUP LN Equity</th>\n",
       "      <td>2011-05-03</td>\n",
       "      <td>1.0</td>\n",
       "    </tr>\n",
       "  </tbody>\n",
       "</table>\n",
       "</div>"
      ],
      "text/plain": [
       "                     DATE  TOTAL_RETURN_INDEX(DATES=RANGE('-10Y','0D'))\n",
       "ID                                                                     \n",
       "IDUP LN Equity 2011-04-29                                           1.0\n",
       "IDUP LN Equity 2011-04-30                                           1.0\n",
       "IDUP LN Equity 2011-05-01                                           1.0\n",
       "IDUP LN Equity 2011-05-02                                           1.0\n",
       "IDUP LN Equity 2011-05-03                                           1.0"
      ]
     },
     "execution_count": 2,
     "metadata": {},
     "output_type": "execute_result"
    }
   ],
   "source": [
    "request = \"get(TOTAL_RETURN_INDEX(DATES=RANGE('-10Y', '0D'))) for(['IDUP LN Equity','1476 JT Equity','D5BK B2 Equity'])\"\n",
    "res = bq.execute(request)\n",
    "etf_df = bql.combined_df(res)\n",
    "etf_df.to_csv('etf.csv')\n",
    "etf_df.head()"
   ]
  },
  {
   "cell_type": "markdown",
   "metadata": {},
   "source": [
    "## Q1: Excess returns in local currency\n",
    "\n",
    "Assume you are a local currency based investor, i.e., you care about the returns of these three ETFs in the currency in which they trade, calculate the daily excess returns of each of the assets and show some descriptive stats for these three investments. For this question, you will need the risk free rate in each market, let's use the 3M libor rates from Bloomberg:"
   ]
  },
  {
   "cell_type": "code",
   "execution_count": 4,
   "metadata": {},
   "outputs": [
    {
     "data": {
      "text/html": [
       "<div>\n",
       "<style scoped>\n",
       "    .dataframe tbody tr th:only-of-type {\n",
       "        vertical-align: middle;\n",
       "    }\n",
       "\n",
       "    .dataframe tbody tr th {\n",
       "        vertical-align: top;\n",
       "    }\n",
       "\n",
       "    .dataframe thead th {\n",
       "        text-align: right;\n",
       "    }\n",
       "</style>\n",
       "<table border=\"1\" class=\"dataframe\">\n",
       "  <thead>\n",
       "    <tr style=\"text-align: right;\">\n",
       "      <th></th>\n",
       "      <th>DATE</th>\n",
       "      <th>CURRENCY</th>\n",
       "      <th>price</th>\n",
       "    </tr>\n",
       "    <tr>\n",
       "      <th>ID</th>\n",
       "      <th></th>\n",
       "      <th></th>\n",
       "      <th></th>\n",
       "    </tr>\n",
       "  </thead>\n",
       "  <tbody>\n",
       "    <tr>\n",
       "      <th>US0003M Index</th>\n",
       "      <td>2011-04-29</td>\n",
       "      <td></td>\n",
       "      <td>0.27300</td>\n",
       "    </tr>\n",
       "    <tr>\n",
       "      <th>US0003M Index</th>\n",
       "      <td>2011-04-30</td>\n",
       "      <td></td>\n",
       "      <td>0.27300</td>\n",
       "    </tr>\n",
       "    <tr>\n",
       "      <th>US0003M Index</th>\n",
       "      <td>2011-05-01</td>\n",
       "      <td></td>\n",
       "      <td>0.27300</td>\n",
       "    </tr>\n",
       "    <tr>\n",
       "      <th>US0003M Index</th>\n",
       "      <td>2011-05-02</td>\n",
       "      <td></td>\n",
       "      <td>0.27300</td>\n",
       "    </tr>\n",
       "    <tr>\n",
       "      <th>US0003M Index</th>\n",
       "      <td>2011-05-03</td>\n",
       "      <td></td>\n",
       "      <td>0.27225</td>\n",
       "    </tr>\n",
       "  </tbody>\n",
       "</table>\n",
       "</div>"
      ],
      "text/plain": [
       "                    DATE CURRENCY    price\n",
       "ID                                        \n",
       "US0003M Index 2011-04-29           0.27300\n",
       "US0003M Index 2011-04-30           0.27300\n",
       "US0003M Index 2011-05-01           0.27300\n",
       "US0003M Index 2011-05-02           0.27300\n",
       "US0003M Index 2011-05-03           0.27225"
      ]
     },
     "execution_count": 4,
     "metadata": {},
     "output_type": "execute_result"
    }
   ],
   "source": [
    "RATES_DICT = {\n",
    "    'US' : 'US0003M Index',\n",
    "    'JP' : 'JY0003M Index',\n",
    "    'EU' : 'EUR003M Equity'\n",
    "}\n",
    "\n",
    "tickers = list(RATES_DICT.values())\n",
    "fields = {'price' : bq.data.px_last(fill='PREV', start=etf_df['DATE'].min(), end=etf_df['DATE'].max())}\n",
    "req = bql.Request(tickers, fields)\n",
    "res = bq.execute(req)\n",
    "rates_df = bql.combined_df(res)\n",
    "rates_df.to_csv('rates.csv')\n",
    "rates_df.head()"
   ]
  },
  {
   "cell_type": "markdown",
   "metadata": {},
   "source": [
    "## Q2: Excess returns in BRL\n",
    "\n",
    "Assume now you are a BRL based investor, i.e., you care about the returns of these three ETFs in BRL, calculate the daily excess returns of each of the assets and show some descriptive stats for these three investments. For this question, you will need the BRL risk free rate and the relevant exchange rates (make sure you use the exchange rate correctly!). Let's grab that from Bloomberg:"
   ]
  },
  {
   "cell_type": "code",
   "execution_count": 5,
   "metadata": {},
   "outputs": [
    {
     "data": {
      "text/html": [
       "<div>\n",
       "<style scoped>\n",
       "    .dataframe tbody tr th:only-of-type {\n",
       "        vertical-align: middle;\n",
       "    }\n",
       "\n",
       "    .dataframe tbody tr th {\n",
       "        vertical-align: top;\n",
       "    }\n",
       "\n",
       "    .dataframe thead th {\n",
       "        text-align: right;\n",
       "    }\n",
       "</style>\n",
       "<table border=\"1\" class=\"dataframe\">\n",
       "  <thead>\n",
       "    <tr style=\"text-align: right;\">\n",
       "      <th></th>\n",
       "      <th>DATE</th>\n",
       "      <th>CURRENCY</th>\n",
       "      <th>price</th>\n",
       "    </tr>\n",
       "    <tr>\n",
       "      <th>ID</th>\n",
       "      <th></th>\n",
       "      <th></th>\n",
       "      <th></th>\n",
       "    </tr>\n",
       "  </thead>\n",
       "  <tbody>\n",
       "    <tr>\n",
       "      <th>BZACCETP Index</th>\n",
       "      <td>2011-04-29</td>\n",
       "      <td>BRL</td>\n",
       "      <td>25.39454</td>\n",
       "    </tr>\n",
       "    <tr>\n",
       "      <th>BZACCETP Index</th>\n",
       "      <td>2011-04-30</td>\n",
       "      <td>BRL</td>\n",
       "      <td>25.39454</td>\n",
       "    </tr>\n",
       "    <tr>\n",
       "      <th>BZACCETP Index</th>\n",
       "      <td>2011-05-01</td>\n",
       "      <td>BRL</td>\n",
       "      <td>25.39454</td>\n",
       "    </tr>\n",
       "    <tr>\n",
       "      <th>BZACCETP Index</th>\n",
       "      <td>2011-05-02</td>\n",
       "      <td>BRL</td>\n",
       "      <td>25.40589</td>\n",
       "    </tr>\n",
       "    <tr>\n",
       "      <th>BZACCETP Index</th>\n",
       "      <td>2011-05-03</td>\n",
       "      <td>BRL</td>\n",
       "      <td>25.41722</td>\n",
       "    </tr>\n",
       "  </tbody>\n",
       "</table>\n",
       "</div>"
      ],
      "text/plain": [
       "                     DATE CURRENCY     price\n",
       "ID                                          \n",
       "BZACCETP Index 2011-04-29      BRL  25.39454\n",
       "BZACCETP Index 2011-04-30      BRL  25.39454\n",
       "BZACCETP Index 2011-05-01      BRL  25.39454\n",
       "BZACCETP Index 2011-05-02      BRL  25.40589\n",
       "BZACCETP Index 2011-05-03      BRL  25.41722"
      ]
     },
     "execution_count": 5,
     "metadata": {},
     "output_type": "execute_result"
    }
   ],
   "source": [
    "FX_DICT = {\n",
    "    'CDI' : 'BZACCETP Index',\n",
    "    'US' : 'BRL Curncy',\n",
    "    'JP' : 'JPY Curncy',\n",
    "    'EU' : 'EUR Curncy'\n",
    "}\n",
    "\n",
    "tickers = list(FX_DICT.values())\n",
    "fields = {'price' : bq.data.px_last(fill='PREV', start=etf_df['DATE'].min(), end=etf_df['DATE'].max())}\n",
    "req = bql.Request(tickers, fields)\n",
    "res = bq.execute(req)\n",
    "fx_df = bql.combined_df(res)\n",
    "fx_df.to_csv('fx.csv')\n",
    "fx_df.head()"
   ]
  },
  {
   "cell_type": "markdown",
   "metadata": {},
   "source": [
    "## Q3: Efficient frontier\n",
    "\n",
    "Assume now you are a BRL based investor and construct a chart with the [efficient frontier](https://en.wikipedia.org/wiki/Efficient_frontier) for those investments using the long-term expected returns and standard deviation as estimates. Choose a portfolio in the efficient frontier that you think is good and highlight it in the chart. When you estimate the assets covariance matrix, think about their different trading time. Do you think that plays a role on making correlations higher or smaller? Is there a way to mitigate the impact of different trading hours on correlations?"
   ]
  },
  {
   "cell_type": "markdown",
   "metadata": {},
   "source": [
    "## Q4: Capital market line\n",
    "\n",
    "Assume now you are a BRL based investor but you have access to unfunded (swaps) instruments. That is, you can trade on those ETFs without posting any cash. Add the [capital market line](https://en.wikipedia.org/wiki/Capital_market_line) to the chart above. Choose a portfolio in the capital market line that you think is good and highlight it in the chart."
   ]
  }
 ],
 "metadata": {
  "kernelspec": {
   "display_name": "Python 3 (sandboxed)",
   "language": "python",
   "name": "python3"
  },
  "language_info": {
   "codemirror_mode": {
    "name": "ipython",
    "version": 3
   },
   "file_extension": ".py",
   "mimetype": "text/x-python",
   "name": "python",
   "nbconvert_exporter": "python",
   "pygments_lexer": "ipython3",
   "version": "3.7.1"
  }
 },
 "nbformat": 4,
 "nbformat_minor": 4
}
