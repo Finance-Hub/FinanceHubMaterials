{
 "cells": [
  {
   "cell_type": "markdown",
   "metadata": {},
   "source": [
    "# Homework 2\n",
    "\n",
    "Author: Gustavo Soares\n",
    "\n",
    "#### Imports"
   ]
  },
  {
   "cell_type": "code",
   "execution_count": 2,
   "metadata": {},
   "outputs": [],
   "source": [
    "import pandas as pd\n",
    "import numpy as np\n",
    "import matplotlib.pyplot as plt\n",
    "%matplotlib inline\n",
    "import bql\n",
    "bq = bql.Service()"
   ]
  },
  {
   "cell_type": "markdown",
   "metadata": {},
   "source": [
    "## Introduction\n",
    "\n",
    "Let's grab the stocks that were part of the Ibovespa index by "
   ]
  },
  {
   "cell_type": "code",
   "execution_count": 3,
   "metadata": {},
   "outputs": [],
   "source": [
    "ibov_composition = pd.read_csv('ibov_composition.csv', index_col=[0,1])['Weights'].astype(float)\n",
    "ibov_composition.index = pd.MultiIndex.from_tuples([(x, pd.to_datetime(d)) for x,d in ibov_composition.index])\n",
    "ibov_composition = ibov_composition.unstack().T.fillna(0)"
   ]
  },
  {
   "cell_type": "code",
   "execution_count": 10,
   "metadata": {},
   "outputs": [
    {
     "data": {
      "text/html": [
       "<div>\n",
       "<style scoped>\n",
       "    .dataframe tbody tr th:only-of-type {\n",
       "        vertical-align: middle;\n",
       "    }\n",
       "\n",
       "    .dataframe tbody tr th {\n",
       "        vertical-align: top;\n",
       "    }\n",
       "\n",
       "    .dataframe thead th {\n",
       "        text-align: right;\n",
       "    }\n",
       "</style>\n",
       "<table border=\"1\" class=\"dataframe\">\n",
       "  <thead>\n",
       "    <tr style=\"text-align: right;\">\n",
       "      <th></th>\n",
       "      <th>NAME()</th>\n",
       "      <th>CIE_DES()</th>\n",
       "    </tr>\n",
       "    <tr>\n",
       "      <th>ID</th>\n",
       "      <th></th>\n",
       "      <th></th>\n",
       "    </tr>\n",
       "  </thead>\n",
       "  <tbody>\n",
       "    <tr>\n",
       "      <th>ABEV3 BS Equity</th>\n",
       "      <td>Ambev SA</td>\n",
       "      <td>Ambev SA primary business is the production an...</td>\n",
       "    </tr>\n",
       "    <tr>\n",
       "      <th>ACES4 BS Equity</th>\n",
       "      <td>Aperam Inox America do Sul SA</td>\n",
       "      <td>Aperam South America S.A., doing business as A...</td>\n",
       "    </tr>\n",
       "    <tr>\n",
       "      <th>AEDU3 BS Equity</th>\n",
       "      <td>Anhanguera Educacional Partici</td>\n",
       "      <td>Anhanguera Educacional Participacoes S/A is a ...</td>\n",
       "    </tr>\n",
       "    <tr>\n",
       "      <th>AGEI3 BS Equity</th>\n",
       "      <td>Agre Empreendimentos Imobiliar</td>\n",
       "      <td>Agre Empreendimentos Imobiliarios SA operates ...</td>\n",
       "    </tr>\n",
       "    <tr>\n",
       "      <th>ALLL11 BS Equity</th>\n",
       "      <td>Rumo SA</td>\n",
       "      <td>Rumo S.A. owns and operates rail networks. The...</td>\n",
       "    </tr>\n",
       "  </tbody>\n",
       "</table>\n",
       "</div>"
      ],
      "text/plain": [
       "                                          NAME()  \\\n",
       "ID                                                 \n",
       "ABEV3 BS Equity                         Ambev SA   \n",
       "ACES4 BS Equity    Aperam Inox America do Sul SA   \n",
       "AEDU3 BS Equity   Anhanguera Educacional Partici   \n",
       "AGEI3 BS Equity   Agre Empreendimentos Imobiliar   \n",
       "ALLL11 BS Equity                         Rumo SA   \n",
       "\n",
       "                                                          CIE_DES()  \n",
       "ID                                                                   \n",
       "ABEV3 BS Equity   Ambev SA primary business is the production an...  \n",
       "ACES4 BS Equity   Aperam South America S.A., doing business as A...  \n",
       "AEDU3 BS Equity   Anhanguera Educacional Participacoes S/A is a ...  \n",
       "AGEI3 BS Equity   Agre Empreendimentos Imobiliarios SA operates ...  \n",
       "ALLL11 BS Equity  Rumo S.A. owns and operates rail networks. The...  "
      ]
     },
     "execution_count": 10,
     "metadata": {},
     "output_type": "execute_result"
    }
   ],
   "source": [
    "all_stocks = ibov_composition.columns.unique()\n",
    "request = \"get(NAME(), CIE_DES()) for([\"\n",
    "for x in all_stocks:\n",
    "    request += f\"'{x}',\"\n",
    "request = request[:-1] + \"])\"\n",
    "res = bq.execute(request)\n",
    "descriptions = bql.combined_df(res)\n",
    "descriptions.to_csv('descriptions.csv')\n",
    "descriptions.head()"
   ]
  },
  {
   "cell_type": "markdown",
   "metadata": {},
   "source": [
    "## Q1: ESG sort\n",
    "\n",
    "The file above contains the company description for all stocks that belong (or belonged) to the Ibovespa index. Classify these stocks as according to their Environmental, Social, and Corporate Governance (ESG) status, classifying companies that would be allowed (or not) in investments that aim at sustainability and societal impact.\n",
    "\n",
    "## Q2: Do ESG policies pay or cost investors?\n",
    "\n",
    "Create a double sorted portfolio that selects ESG companies with good momentum and check whether that investment strategy seems to show any improvement over investing in the Ibovespa index alone. What do you think? Does it pay to invest in ESG? If not, does it cost the investor (in terms of opportunity cost) to be ESG friendly?\n",
    "\n",
    "## Q3: Does ESG have momentum?\n",
    "\n",
    "Check whether the ESG stocks are currently experiencing stronger momentum than non-ESG stocks at the moment and select the top ESG companies according to a momentum signal. Does it seem like something is changing for ESG stocks in the more recent periods?"
   ]
  }
 ],
 "metadata": {
  "kernelspec": {
   "display_name": "Python 3 (sandboxed)",
   "language": "python",
   "name": "python3"
  },
  "language_info": {
   "codemirror_mode": {
    "name": "ipython",
    "version": 3
   },
   "file_extension": ".py",
   "mimetype": "text/x-python",
   "name": "python",
   "nbconvert_exporter": "python",
   "pygments_lexer": "ipython3",
   "version": "3.7.1"
  }
 },
 "nbformat": 4,
 "nbformat_minor": 4
}
