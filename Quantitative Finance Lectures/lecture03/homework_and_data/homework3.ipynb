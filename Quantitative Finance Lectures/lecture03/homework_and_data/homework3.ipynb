{
 "cells": [
  {
   "cell_type": "markdown",
   "metadata": {},
   "source": [
    "# Homework 3\n",
    "#### Author: Gustavo Soares\n",
    "\n",
    "##### Imports"
   ]
  },
  {
   "cell_type": "code",
   "execution_count": 1,
   "metadata": {},
   "outputs": [],
   "source": [
    "import pandas as pd\n",
    "import numpy as np\n",
    "import matplotlib.pyplot as plt\n",
    "%matplotlib inline\n",
    "import bql\n",
    "bq = bql.Service()"
   ]
  },
  {
   "cell_type": "markdown",
   "metadata": {},
   "source": [
    "## Introduction\n",
    "\n",
    "Bloomberg calculates a number of indics for sectors of the US REITs market. They are capitalization-weighted indices of Real Estate Investment Trusts having a market capitalization of USD 15mn or greater. The indices are rebalanced semi-annually in February and August.\n",
    "\n",
    "Let's grab the total return indices for some subsectors of the US REITs market:"
   ]
  },
  {
   "cell_type": "code",
   "execution_count": 14,
   "metadata": {},
   "outputs": [
    {
     "data": {
      "text/html": [
       "<div>\n",
       "<style scoped>\n",
       "    .dataframe tbody tr th:only-of-type {\n",
       "        vertical-align: middle;\n",
       "    }\n",
       "\n",
       "    .dataframe tbody tr th {\n",
       "        vertical-align: top;\n",
       "    }\n",
       "\n",
       "    .dataframe thead th {\n",
       "        text-align: right;\n",
       "    }\n",
       "</style>\n",
       "<table border=\"1\" class=\"dataframe\">\n",
       "  <thead>\n",
       "    <tr style=\"text-align: right;\">\n",
       "      <th></th>\n",
       "      <th>DATE</th>\n",
       "      <th>TOTAL_RETURN_INDEX(DATES=RANGE('-10Y','0D'))</th>\n",
       "    </tr>\n",
       "    <tr>\n",
       "      <th>ID</th>\n",
       "      <th></th>\n",
       "      <th></th>\n",
       "    </tr>\n",
       "  </thead>\n",
       "  <tbody>\n",
       "    <tr>\n",
       "      <th>BBREINDW Index</th>\n",
       "      <td>2011-05-11</td>\n",
       "      <td>1.000000</td>\n",
       "    </tr>\n",
       "    <tr>\n",
       "      <th>BBREINDW Index</th>\n",
       "      <td>2011-05-12</td>\n",
       "      <td>1.006306</td>\n",
       "    </tr>\n",
       "    <tr>\n",
       "      <th>BBREINDW Index</th>\n",
       "      <td>2011-05-13</td>\n",
       "      <td>0.989427</td>\n",
       "    </tr>\n",
       "    <tr>\n",
       "      <th>BBREINDW Index</th>\n",
       "      <td>2011-05-14</td>\n",
       "      <td>0.989427</td>\n",
       "    </tr>\n",
       "    <tr>\n",
       "      <th>BBREINDW Index</th>\n",
       "      <td>2011-05-15</td>\n",
       "      <td>0.989427</td>\n",
       "    </tr>\n",
       "  </tbody>\n",
       "</table>\n",
       "</div>"
      ],
      "text/plain": [
       "                     DATE  TOTAL_RETURN_INDEX(DATES=RANGE('-10Y','0D'))\n",
       "ID                                                                     \n",
       "BBREINDW Index 2011-05-11                                      1.000000\n",
       "BBREINDW Index 2011-05-12                                      1.006306\n",
       "BBREINDW Index 2011-05-13                                      0.989427\n",
       "BBREINDW Index 2011-05-14                                      0.989427\n",
       "BBREINDW Index 2011-05-15                                      0.989427"
      ]
     },
     "execution_count": 14,
     "metadata": {},
     "output_type": "execute_result"
    }
   ],
   "source": [
    "BBG_INDICES_DICT = {\n",
    "    'Industrial' : 'BBREINDW Index',\n",
    "    'Diversified' : 'BBREDIVR Index',\n",
    "    'Self storage' : 'BBREPBST Index',\n",
    "    'Single tenant' : 'BBREOUTL Index',\n",
    "    'Healthcare' : 'BBREHLTH Index',\n",
    "    'Apartment' : 'BBREAPT Index',\n",
    "    'Office' : 'BBREOFPY Index',\n",
    "    'Shopping' : 'BBRESHOP Index',\n",
    "    'Hotel' : 'BBREHOTL Index',\n",
    "    'Regional Malls' : 'BBREMALL Index',\n",
    "}\n",
    "\n",
    "request = \"get(TOTAL_RETURN_INDEX(DATES=RANGE('-10Y', '0D'))) for([\"\n",
    "for x in BBG_INDICES_DICT.values():\n",
    "    request += \"'\" + x + \"',\"\n",
    "request = request[:-1] + \"])\"\n",
    "res = bq.execute(request)\n",
    "usreits = bql.combined_df(res)\n",
    "usreits.to_csv('usreits.csv')\n",
    "usreits.head()"
   ]
  },
  {
   "cell_type": "markdown",
   "metadata": {},
   "source": [
    "## Q1: PCA\n",
    "\n",
    "Using what you know about [PCA](https://github.com/Finance-Hub/FinanceHubMaterials/blob/master/Quantitative%20Finance%20Lectures/lecture03/pca/PCA.ipynb), how many factors are needed to explain the US REITs market? If you are feeling a bit adventurous, you may want to try to check how the different sectors [cluster](https://github.com/Finance-Hub/FinanceHubMaterials/blob/master/Quantitative%20Finance%20Lectures/lecture03/pca/fx_pca_case.ipynb) together.\n",
    "\n",
    "## Q2: Factors\n",
    "\n",
    "Let's assume that the US REITS market is well explained by two factors. Let's grab the S&P 500 excess returns and the US 10Y Treasuries excess returns as the two market factors. Let's also grab the 3M Libor in order to calculate the excess returns for the Bloomberg REITs indices above (The SPXFP Index and the SPUSTTP Index are futures rolling indices, so they are already in excess returns):"
   ]
  },
  {
   "cell_type": "code",
   "execution_count": 16,
   "metadata": {},
   "outputs": [
    {
     "data": {
      "text/html": [
       "<div>\n",
       "<style scoped>\n",
       "    .dataframe tbody tr th:only-of-type {\n",
       "        vertical-align: middle;\n",
       "    }\n",
       "\n",
       "    .dataframe tbody tr th {\n",
       "        vertical-align: top;\n",
       "    }\n",
       "\n",
       "    .dataframe thead th {\n",
       "        text-align: right;\n",
       "    }\n",
       "</style>\n",
       "<table border=\"1\" class=\"dataframe\">\n",
       "  <thead>\n",
       "    <tr style=\"text-align: right;\">\n",
       "      <th></th>\n",
       "      <th>DATE</th>\n",
       "      <th>CURRENCY</th>\n",
       "      <th>price</th>\n",
       "    </tr>\n",
       "    <tr>\n",
       "      <th>ID</th>\n",
       "      <th></th>\n",
       "      <th></th>\n",
       "      <th></th>\n",
       "    </tr>\n",
       "  </thead>\n",
       "  <tbody>\n",
       "    <tr>\n",
       "      <th>SPXFP Index</th>\n",
       "      <td>2011-05-11</td>\n",
       "      <td>USD</td>\n",
       "      <td>111.48</td>\n",
       "    </tr>\n",
       "    <tr>\n",
       "      <th>SPXFP Index</th>\n",
       "      <td>2011-05-12</td>\n",
       "      <td>USD</td>\n",
       "      <td>112.21</td>\n",
       "    </tr>\n",
       "    <tr>\n",
       "      <th>SPXFP Index</th>\n",
       "      <td>2011-05-13</td>\n",
       "      <td>USD</td>\n",
       "      <td>111.09</td>\n",
       "    </tr>\n",
       "    <tr>\n",
       "      <th>SPXFP Index</th>\n",
       "      <td>2011-05-14</td>\n",
       "      <td>USD</td>\n",
       "      <td>111.09</td>\n",
       "    </tr>\n",
       "    <tr>\n",
       "      <th>SPXFP Index</th>\n",
       "      <td>2011-05-15</td>\n",
       "      <td>USD</td>\n",
       "      <td>111.09</td>\n",
       "    </tr>\n",
       "  </tbody>\n",
       "</table>\n",
       "</div>"
      ],
      "text/plain": [
       "                  DATE CURRENCY   price\n",
       "ID                                     \n",
       "SPXFP Index 2011-05-11      USD  111.48\n",
       "SPXFP Index 2011-05-12      USD  112.21\n",
       "SPXFP Index 2011-05-13      USD  111.09\n",
       "SPXFP Index 2011-05-14      USD  111.09\n",
       "SPXFP Index 2011-05-15      USD  111.09"
      ]
     },
     "execution_count": 16,
     "metadata": {},
     "output_type": "execute_result"
    }
   ],
   "source": [
    "FACTOR_DICT = {\n",
    "    'SP500' : 'SPXFP Index',\n",
    "    'USTs' : 'SPUSTTP Index',\n",
    "    'Libor' : 'US0003M Index'\n",
    "}\n",
    "\n",
    "tickers = list(FACTOR_DICT.values())\n",
    "fields = {'price' : bq.data.px_last(fill='PREV', start=etf_df['DATE'].min(), end=etf_df['DATE'].max())}\n",
    "req = bql.Request(tickers, fields)\n",
    "res = bq.execute(req)\n",
    "rates_df = bql.combined_df(res)\n",
    "rates_df.to_csv('factors.csv')\n",
    "rates_df.head()"
   ]
  },
  {
   "cell_type": "markdown",
   "metadata": {},
   "source": [
    "Now, using what you learned about [Linear Beta Pricing Models](http://localhost:8888/notebooks/FinanceHubMaterials/Quantitative%20Finance%20Lectures/lecture03/linear_models.ipynb), test if these two factors can explain the return in the set of test portfolios composed by the Bloomberg indices for the different subsectors of the US REITs market. What do you think? Is real estate just a composite asset? It's basically a combination of equity risk premium and bond risk premium? Or is there a statistically meaningful difference in this market?\n",
    "\n",
    "## Q3 Fama-French Factors\n",
    "\n",
    "Try to answer exactly the same question as in Q2 but instead use the Fama-French factors found at [on Kenneth French's web page](http://mba.tuck.dartmouth.edu/pages/faculty/ken.french/data_library.html). You may use ```pandas-datareader``` to download the monthly returns data. Note that you will need to match the dates before running the regression."
   ]
  }
 ],
 "metadata": {
  "kernelspec": {
   "display_name": "Python 3",
   "language": "python",
   "name": "python3"
  },
  "language_info": {
   "codemirror_mode": {
    "name": "ipython",
    "version": 3
   },
   "file_extension": ".py",
   "mimetype": "text/x-python",
   "name": "python",
   "nbconvert_exporter": "python",
   "pygments_lexer": "ipython3",
   "version": "3.8.3"
  }
 },
 "nbformat": 4,
 "nbformat_minor": 4
}
