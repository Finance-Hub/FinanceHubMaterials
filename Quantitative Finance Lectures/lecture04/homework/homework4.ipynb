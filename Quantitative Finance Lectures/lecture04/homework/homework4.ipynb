{
 "cells": [
  {
   "cell_type": "markdown",
   "metadata": {},
   "source": [
    "# Homework 4\n",
    "\n",
    "#### Author: Gustavo Soares\n",
    "\n",
    "##### Imports\n",
    "\n",
    "## Introduction\n",
    "\n",
    "Grab the same total return indices for some subsectors of the US REITs market we used in the last homework assignment. Do not forget to also grab the 3M Libor in order to calculate the excess returns for the Bloomberg REITs indices. You will need the excess returns time series to answer all three questions below:\n",
    "\n",
    "## Q1: Trend-following (time-series momentum)\n",
    "\n",
    "Using the excess returns time series for the US REITs market subsectors backtest the **best** possible trend-following strategy for this market. Try different trend-following signals such as the ones discussed in class. Also, try different approaches to rebalancing and sizing the positions. You should try several approaches and compare the approaches to the approach used in [Moskowitz, Ooi, and Pedersen (2012)](https://doi.org/10.1016/j.jfineco.2011.11.003). In your comparisons, you should make the case for your strategy being the **best** approach.\n",
    "\n",
    "## Q2: Momentum\n",
    "\n",
    "Using the excess returns time series for the US REITs market subsectors backtest the **best** possible momentum strategy for this market. Try different momentum signals such as the ones discussed in class. Also, try different approaches to portfolios construction (yoy may want to check out a few different options available at [FinanceHub's backtesting module](https://github.com/Finance-Hub/FinanceHub/blob/master/portfolio/backtesting.py). You should try several approaches and compare the approaches to the approach used in [Asness, Moskowitz, and Pedersen (2012)](https://ssrn.com/abstract=2174501). In your comparisons, you should make the case for your strategy being the **best** approach.\n",
    "\n",
    "#### Q2 extra credit\n",
    "\n",
    "Was there anything you wanted to try out that is currently not available at [FinanceHub's backtesting module](https://github.com/Finance-Hub/FinanceHub/blob/master/portfolio/backtesting.py)? If so, try to make a contribution to the repository with the added functionality.\n",
    "\n",
    "\n",
    "## Q3: Betas\n",
    "\n",
    "Using [```statsmodels.regression.rolling```](https://www.statsmodels.org/stable/examples/notebooks/generated/rolling_ls.html#), analyse how the different sectors of the US REITs market perform in relation to the S&P 500 and to US 10Y Treasuries using the same data used in the last homework assignment (remember that the SPXFP Index and the SPUSTTP Index are futures rolling indices, so they are already in excess returns).\n",
    "\n",
    "#### Q3 extra credit\n",
    "\n",
    "After your analysis on the relationship between US REITs, equities, and bonds, discuss whether it would be possible to use [recursive least squares](https://www.statsmodels.org/stable/examples/notebooks/generated/recursive_ls.html#) to create a value metric for US REITs. Can you create a measure that would suggest if the US REITs market (or any of its subsectors) has appreciated or deppreciated beyond what their historical betas to the S&P 500 and to US 10Y Treasuries imply? Can we use this metric as some measure of the difference between the fundamental price (as suggested by their historical betas) and its prevailing market price and implement a value strategy along the lines of what [Baz, Granger, Harvey, Le Roux, and Rattray (2015)](https://ssrn.com/abstract=2695101) suggest?\n",
    "\n",
    "## Course final grade extra credit\n",
    "\n",
    "Make a contribution to our [FinanceHub's backtesting module](https://github.com/Finance-Hub/FinanceHub/blob/master/portfolio/backtesting.py) by creating a class for time-series strategies along the lines of what [Baz, Granger, Harvey, Le Roux, and Rattray (2015)](https://ssrn.com/abstract=2695101) suggest. You should allow the user to input different approaches to rebalancing and sizing the positions."
   ]
  }
 ],
 "metadata": {
  "kernelspec": {
   "display_name": "Python 3",
   "language": "python",
   "name": "python3"
  },
  "language_info": {
   "codemirror_mode": {
    "name": "ipython",
    "version": 3
   },
   "file_extension": ".py",
   "mimetype": "text/x-python",
   "name": "python",
   "nbconvert_exporter": "python",
   "pygments_lexer": "ipython3",
   "version": "3.8.3"
  }
 },
 "nbformat": 4,
 "nbformat_minor": 4
}
