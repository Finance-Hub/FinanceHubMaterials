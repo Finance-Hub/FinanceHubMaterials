{
 "cells": [
  {
   "cell_type": "markdown",
   "metadata": {},
   "source": [
    "# Using Amazon SageMaker in Quantitative Finance\n",
    "\n",
    "### Author: Gustavo Soares\n",
    "\n",
    "This note book introduces the use of Amazon's SageMaker service for Finance.\n",
    "\n",
    "## What is SageMaker?\n",
    "\n",
    "SagemMaker is a service provided by AWS that combines two useful tools:\n",
    "\n",
    "1. Managed Jupyter Notebook instances run remotely on a virtual machine hosted by Amazon (as opposed to on your personal computer for example)\n",
    "2. API to very sophisticated tools commonly used in performing computationally difficult tasks often used when deploying Machine Learning models in Finance\n",
    "\n",
    "## Why use SageMaker?\n",
    "\n",
    "SagemMaker makes using Machine Learning techniques very easy. As you know, Jupyter Notebooks are typically where we first start testing out ideas in Quantitative Finance and where we can interactively run code before moving on to more sophisticated code structures and/or machinary. We can use SageMaker´s Managed Jupyter Notebook to explore and process the data and then use the API to simplify the development, training, validation and evaluation of the model.\n",
    "\n",
    "While there are many way in which we can use Jupyter Notebooks to deal with the data and the initial steps of the modeling process, SageMaker´s API is quite helpful in the training and inferece process in data science.\n",
    "\n",
    "## Training a quantitative trading strategy\n",
    "\n",
    "When we create a strategy, we make some choices such as the type of signal, the sizing of the trades, the lookback window for estimating parameters such as volatility and past returns, etc.\n",
    "\n",
    "Often, we want to make those choices in a way that our quantitative trading strategy meets certain criteria such as having the best performance conditional on some risk and leverage constraints. This process is called *training* and it often requires some *training data* to be carried out. As going through the different choices of parameters can be a computationally intensive exercise, SageMakers API can make the *training* of a strategy quite easy and carried out in a virtual machine.\n",
    "\n",
    "Once the strategy has been trained, the chosen parameters will define the *model*. New data can be used as input in the model and the model will spit out suggested trades or the actual trading order themselves. Generically, let´s call these *model results*.\n",
    "\n",
    "## Before we start\n",
    "\n",
    "Before we start, you need to be sure you have an AWS account before you can access the [AWS console](https://console.aws.amazon.com/) where you can access all of the various Amazon Web Services, including SageMaker.\n",
    "\n",
    "#### Setting up a Notebook Instance\n",
    "The first thing we are going to need to do is set up a notebook instance.\n",
    "\n",
    "1. Open the SageMaker dashboard, selecting **Notebook Instances** and clicking on **Create notebook instance**. You may choose any name you would like for your notebook. Also, using ml.t2.medium should be all that is necessary for now but take a look at the note on GPU´s below\n",
    "2. Under IAM role select **Create a new role**. The only change that needs to be made is to select None under S3 buckets.\n",
    "3. Once your notebook instance has started and is accessible, click on open to get to the Jupyter notebook main page.\n",
    "4. On the **Actions** list select **Open Jupyter** to get to your Jupyter session.\n",
    "\n",
    "###### Note on Graphics Processing Unit (GPU)\n",
    "The Central Processing Unit (CPU) combines the arithmetic logic unit (ALU) accustomed quickly to store the information and perform calculations and Control Unit (CU) for performing instruction sequencing as well as branching. CPU interacts with more computer components such as memory, input and output for performing instruction. The Graphics Processing Unit (GPU) is used to provide the images in computer games. GPU is faster than CPU’s speed and it emphasis on high throughput. It’s generally incorporated with electronic equipment for sharing RAM with electronic equipment that is nice for the foremost computing task. It contains more ALU units than CPU.\n",
    "\n",
    "The basic difference between CPU and GPU is that CPU emphasis on low latency. Whereas, GPU emphasis on high throughput. This is often importat in data science and therefore the use of GPU´s is quite common. You do not need access to GPU enabled compute instances here. However, having access to GPU enabled compute instances will increase the speed with which you can train your model significantly.\n",
    "\n",
    "#### Import FinanceHub\n",
    "The easiest way to make FinanceHub functinality available inside of your notebook instance is to use git and clone the repository.\n",
    "\n",
    "1. Go to **New** and select **Terminal**\n",
    "2. Switch to SageMaker directory by typing **cd SageMaker/**\n",
    "3. Now clone FinanceHub´s repository by typing **git clone https://github.com/Finance-Hub/FinanceHub.git**\n",
    "4. Close the terminal window.\n",
    "\n",
    "#### Create new or upload notebook\n",
    "\n",
    "To create a brand new notebook go to **New** and select **conda_python3**. If you prefer to upload an existing notebook, like this one, you can use the **Upload** bottom but make sure you have **conda_python3** selected as your kernel.\n",
    "\n",
    "#### Create data directory and upload tracker data to it\n",
    "\n",
    "1. Go to **New** and select **Folder**\n",
    "2. Click on **Untitled Folder** and rename it to **fin_quant_data**\n",
    "3. Go to the **fin_quant_data** directory click on **Upload** and upload the file **set_of_trackers.csv** \n",
    "\n",
    "## Getting started\n",
    "\n",
    "We begin by setting up all of the necessary bits required to run our notebook. To start that means loading all of the Python modules we will need and the original data:"
   ]
  },
  {
   "cell_type": "code",
   "execution_count": 1,
   "metadata": {},
   "outputs": [],
   "source": [
    "import os\n",
    "import numpy as np\n",
    "import pandas as pd\n",
    "import matplotlib.pyplot as plt\n",
    "import sklearn.model_selection\n",
    "%matplotlib inline"
   ]
  },
  {
   "cell_type": "markdown",
   "metadata": {},
   "source": [
    "Load the the time series data. This data consists of 112 financial time series. Each one of them starts at a different date. The largest time series has 5350 data points and the shortest one has only 1736 datapoints. The first column of the file is the date column and we will use that as the dataframe index: "
   ]
  },
  {
   "cell_type": "code",
   "execution_count": 2,
   "metadata": {},
   "outputs": [
    {
     "data": {
      "text/plain": [
       "(5350, 112)"
      ]
     },
     "execution_count": 2,
     "metadata": {},
     "output_type": "execute_result"
    }
   ],
   "source": [
    "pathname = r'/home/ec2-user/SageMaker/fin_quant_data'\n",
    "filename = os.path.join(pathname,'set_of_trackers.csv')\n",
    "df = pd.read_csv(filename,index_col=0)\n",
    "df.shape"
   ]
  },
  {
   "cell_type": "markdown",
   "metadata": {},
   "source": [
    "#### Generating time series attributes\n",
    "\n",
    "Let's start looking at the first time series to make the example more concrete:"
   ]
  },
  {
   "cell_type": "code",
   "execution_count": 3,
   "metadata": {},
   "outputs": [
    {
     "data": {
      "image/png": "[encoded data removed]",
      "text/plain": [
       "<Figure size 432x288 with 1 Axes>"
      ]
     },
     "metadata": {},
     "output_type": "display_data"
    }
   ],
   "source": [
    "tracker_series = df.iloc[:,0]\n",
    "tracker_series.plot(title='This is the time series for the first tracker in the dataset:')\n",
    "plt.show()"
   ]
  },
  {
   "cell_type": "markdown",
   "metadata": {},
   "source": [
    "On each particular date $t$, we want to predict the returns of a particular investment horizon of $h$ business days. Let say we want to do that with a basic trend-following model that combines different momentum signals, using different lookback windows. Since each tracker has a different volatility, let's think about volatility adjusted future returns and volatility adjusted momentum signals:"
   ]
  },
  {
   "cell_type": "code",
   "execution_count": 4,
   "metadata": {},
   "outputs": [
    {
     "data": {
      "text/html": [
       "<div>\n",
       "<style scoped>\n",
       "    .dataframe tbody tr th:only-of-type {\n",
       "        vertical-align: middle;\n",
       "    }\n",
       "\n",
       "    .dataframe tbody tr th {\n",
       "        vertical-align: top;\n",
       "    }\n",
       "\n",
       "    .dataframe thead th {\n",
       "        text-align: right;\n",
       "    }\n",
       "</style>\n",
       "<table border=\"1\" class=\"dataframe\">\n",
       "  <thead>\n",
       "    <tr style=\"text-align: right;\">\n",
       "      <th></th>\n",
       "      <th>future_returns</th>\n",
       "      <th>m1</th>\n",
       "      <th>m5</th>\n",
       "      <th>m10</th>\n",
       "      <th>m21</th>\n",
       "      <th>m42</th>\n",
       "      <th>m63</th>\n",
       "      <th>m126</th>\n",
       "      <th>m252</th>\n",
       "    </tr>\n",
       "  </thead>\n",
       "  <tbody>\n",
       "    <tr>\n",
       "      <th>31-Dec-98</th>\n",
       "      <td>0.356444</td>\n",
       "      <td>0.227295</td>\n",
       "      <td>0.901290</td>\n",
       "      <td>1.576246</td>\n",
       "      <td>1.095413</td>\n",
       "      <td>1.479014</td>\n",
       "      <td>2.502539</td>\n",
       "      <td>0.401126</td>\n",
       "      <td>1.116836</td>\n",
       "    </tr>\n",
       "    <tr>\n",
       "      <th>4-Jan-99</th>\n",
       "      <td>0.365994</td>\n",
       "      <td>-0.306724</td>\n",
       "      <td>-0.050834</td>\n",
       "      <td>1.478155</td>\n",
       "      <td>0.833686</td>\n",
       "      <td>1.223029</td>\n",
       "      <td>2.222613</td>\n",
       "      <td>0.296555</td>\n",
       "      <td>1.079280</td>\n",
       "    </tr>\n",
       "    <tr>\n",
       "      <th>5-Jan-99</th>\n",
       "      <td>-0.295961</td>\n",
       "      <td>0.823411</td>\n",
       "      <td>0.410624</td>\n",
       "      <td>1.344185</td>\n",
       "      <td>1.052642</td>\n",
       "      <td>1.453823</td>\n",
       "      <td>2.586649</td>\n",
       "      <td>0.386828</td>\n",
       "      <td>1.246233</td>\n",
       "    </tr>\n",
       "    <tr>\n",
       "      <th>6-Jan-99</th>\n",
       "      <td>-0.486646</td>\n",
       "      <td>1.789903</td>\n",
       "      <td>0.758113</td>\n",
       "      <td>1.821337</td>\n",
       "      <td>1.793783</td>\n",
       "      <td>1.623970</td>\n",
       "      <td>2.870574</td>\n",
       "      <td>0.503173</td>\n",
       "      <td>1.365461</td>\n",
       "    </tr>\n",
       "    <tr>\n",
       "      <th>7-Jan-99</th>\n",
       "      <td>-0.560620</td>\n",
       "      <td>-0.155758</td>\n",
       "      <td>1.067817</td>\n",
       "      <td>1.366981</td>\n",
       "      <td>1.298331</td>\n",
       "      <td>1.393523</td>\n",
       "      <td>3.053528</td>\n",
       "      <td>0.538345</td>\n",
       "      <td>1.440788</td>\n",
       "    </tr>\n",
       "  </tbody>\n",
       "</table>\n",
       "</div>"
      ],
      "text/plain": [
       "           future_returns        m1        m5       m10       m21       m42  \\\n",
       "31-Dec-98        0.356444  0.227295  0.901290  1.576246  1.095413  1.479014   \n",
       "4-Jan-99         0.365994 -0.306724 -0.050834  1.478155  0.833686  1.223029   \n",
       "5-Jan-99        -0.295961  0.823411  0.410624  1.344185  1.052642  1.453823   \n",
       "6-Jan-99        -0.486646  1.789903  0.758113  1.821337  1.793783  1.623970   \n",
       "7-Jan-99        -0.560620 -0.155758  1.067817  1.366981  1.298331  1.393523   \n",
       "\n",
       "                m63      m126      m252  \n",
       "31-Dec-98  2.502539  0.401126  1.116836  \n",
       "4-Jan-99   2.222613  0.296555  1.079280  \n",
       "5-Jan-99   2.586649  0.386828  1.246233  \n",
       "6-Jan-99   2.870574  0.503173  1.365461  \n",
       "7-Jan-99   3.053528  0.538345  1.440788  "
      ]
     },
     "execution_count": 4,
     "metadata": {},
     "output_type": "execute_result"
    }
   ],
   "source": [
    "h = 21 # this is the number of bdays to be calcualted in the future returns\n",
    "\n",
    "# move the time series back by h days and calcualte the returns over h days and the shift by one\n",
    "# to account for a day lag in between calculating the signals and computing the target returns\n",
    "daily_sigma = np.log(tracker_series).diff(1).std()\n",
    "y = tracker_series.shift(-h).pct_change(h).shift(-1)\n",
    "X = y.to_frame('future_returns')/(daily_sigma*np.sqrt(h)) # store and vol adjust\n",
    "\n",
    "lookback_periods = [1,5,10,21,42,63,126,252] # set here the different momentum lookback windows you want to have\n",
    "for m in lookback_periods:\n",
    "    past_ret = tracker_series.pct_change(m).to_frame('m' + str(m)) # get the past returns for that lookback window\n",
    "    past_ret = past_ret/(daily_sigma*np.sqrt(m)) # vol adjust\n",
    "    X = pd.concat([X,past_ret],join='outer',axis=1,sort=0).fillna(method='ffill') # concatenate in the same dataframe\n",
    "X = X[X['future_returns'].abs()>1e-10].dropna() # drop zero return periods and nan's\n",
    "X.head()"
   ]
  },
  {
   "cell_type": "markdown",
   "metadata": {},
   "source": [
    "Let's put that in a function and run over all the time series we have:"
   ]
  },
  {
   "cell_type": "code",
   "execution_count": 5,
   "metadata": {},
   "outputs": [
    {
     "data": {
      "text/plain": [
       "(533575, 9)"
      ]
     },
     "execution_count": 5,
     "metadata": {},
     "output_type": "execute_result"
    }
   ],
   "source": [
    "def get_series_data(tracker_series, lookback_periods = [1,5,10,21,42,63,126,252],h = 21):\n",
    "    # move the time series back by h days and calcualte the returns over h days and the shift by one\n",
    "    # to account for a day lag in between calculating the signals and computing the target returns\n",
    "    daily_sigma = np.log(tracker_series).diff(1).std()\n",
    "    y = tracker_series.shift(-h).pct_change(h).shift(-1)\n",
    "    X = y.to_frame('future_returns')/(daily_sigma*np.sqrt(h)) # store and vol adjust\n",
    "\n",
    "    for m in lookback_periods:\n",
    "        past_ret = tracker_series.pct_change(m).to_frame('m' + str(m)) # get the past returns for that lookback window\n",
    "        past_ret = past_ret/(daily_sigma*np.sqrt(m)) # vol adjust\n",
    "        X = pd.concat([X,past_ret],join='outer',axis=1,sort=0).fillna(method='ffill') # concatenate in the same dataframe\n",
    "    X = X[X['future_returns'].abs()>1e-10].dropna() # drop zero return periods and nan's\n",
    "    return X\n",
    "\n",
    "X_df = pd.DataFrame()\n",
    "for tracker in df.columns:\n",
    "    X = get_series_data(df[tracker])\n",
    "    X_df = X_df.append(X.reset_index().drop('index',axis=1))\n",
    "X_df.shape"
   ]
  },
  {
   "cell_type": "markdown",
   "metadata": {},
   "source": [
    "## Splitting the data\n",
    "\n",
    "Now that we have the data in this clean tabular format let's split the rows in the dataset up into train, test and validation sets:"
   ]
  },
  {
   "cell_type": "code",
   "execution_count": 6,
   "metadata": {},
   "outputs": [],
   "source": [
    "# We split the dataset into 2/3 training and 1/3 testing sets.\n",
    "X_train, X_test, Y_train, Y_test = sklearn.model_selection.train_test_split(X_df.iloc[:,1:],\n",
    "                                                                            X_df[[X_df.columns[0]]],\n",
    "                                                                            test_size=0.33)\n",
    "\n",
    "# Then we split the training set further into 2/3 training and 1/3 validation sets.\n",
    "X_train, X_val, Y_train, Y_val = sklearn.model_selection.train_test_split(X_train, Y_train, test_size=0.33)"
   ]
  },
  {
   "cell_type": "markdown",
   "metadata": {},
   "source": [
    "## Uploading the data files to S3\n",
    "\n",
    "In order to use SageMaker to train our model, we need to give it access to data by storing it in S3. In addition, when we perform a batch transform job, SageMaker expects the input data to be stored on S3."
   ]
  },
  {
   "cell_type": "code",
   "execution_count": 7,
   "metadata": {},
   "outputs": [],
   "source": [
    "# Save test, train and validation data to csv files\n",
    "# Make sure not to include header information or an index as this is required by the built in algorithms provided by Amazon\n",
    "# Also, for the train and validation data, it is assumed that the first entry in each row is the target variable\n",
    "\n",
    "X_test.to_csv(os.path.join(pathname, 'test.csv'), header=False, index=False)\n",
    "pd.concat([Y_val, X_val], axis=1).to_csv(os.path.join(pathname, 'validation.csv'), header=False, index=False)\n",
    "pd.concat([Y_train, X_train], axis=1).to_csv(os.path.join(pathname, 'train.csv'), header=False, index=False)"
   ]
  },
  {
   "cell_type": "markdown",
   "metadata": {},
   "source": [
    "Let import the SageMaker API functions wer are going to need and start a SageMaker session."
   ]
  },
  {
   "cell_type": "code",
   "execution_count": 8,
   "metadata": {},
   "outputs": [],
   "source": [
    "import sagemaker\n",
    "from sagemaker import get_execution_role\n",
    "from sagemaker.amazon.amazon_estimator import get_image_uri\n",
    "from sagemaker.predictor import csv_serializer\n",
    "\n",
    "# This is an object that represents the SageMaker session that we are currently operating in. This\n",
    "# object contains some useful information that we will need to access later such as our region.\n",
    "session = sagemaker.Session()\n",
    "\n",
    "# This is an object that represents the IAM role that we are currently assigned. When we construct\n",
    "# and launch the training job later we will need to tell it what IAM role it should have. Since our\n",
    "# use case is relatively simple we will simply assign the training job the role we currently have.\n",
    "role = get_execution_role()"
   ]
  },
  {
   "cell_type": "markdown",
   "metadata": {},
   "source": [
    "Since we are currently running inside of a SageMaker session, we can use the object which represents this session to upload our data to the 'default' S3 bucket. Note that it is good practice to provide a custom prefix (essentially an S3 folder) to make sure that you don't accidentally interfere with data uploaded from some other notebook or project."
   ]
  },
  {
   "cell_type": "code",
   "execution_count": 9,
   "metadata": {},
   "outputs": [],
   "source": [
    "prefix = 'momentum_with_regression_trees'\n",
    "test_location = session.upload_data(os.path.join(pathname, 'test.csv'), key_prefix=prefix)\n",
    "val_location = session.upload_data(os.path.join(pathname, 'validation.csv'), key_prefix=prefix)\n",
    "train_location = session.upload_data(os.path.join(pathname, 'train.csv'), key_prefix=prefix)"
   ]
  },
  {
   "cell_type": "markdown",
   "metadata": {},
   "source": [
    "## Train the model\n",
    "\n",
    "Now that we have the training and validation data uploaded to S3, we can construct our XGBoost model and train it. XGBoost is an machine learning algorithm for structured or tabular data. Here, we will treat XGBoost as a *black box*.\n",
    "\n",
    "To construct the object which we want to train, we need to provide the location of the training code. Since we are using a built in algorithm this container is provided by Amazon. SageMaker provides a useful utility method called `get_image_uri` that constructs the image name for us. To use the `get_image_uri` method we need to provide it with our current region, which can be obtained from the session object, and the name of the algorithm we wish to use. In this notebook we will be using XGBoost however you could try another algorithm if you wish. The list of built in algorithms can be found in the list of [Common Parameters](https://docs.aws.amazon.com/sagemaker/latest/dg/sagemaker-algo-docker-registry-paths.html)."
   ]
  },
  {
   "cell_type": "code",
   "execution_count": 10,
   "metadata": {},
   "outputs": [],
   "source": [
    "# construct the image name for the training container.\n",
    "container = get_image_uri(session.boto_region_name, 'xgboost', '0.90-1')\n",
    "\n",
    "# Now that we know which container to use, we can construct the estimator object.\n",
    "xgb = sagemaker.estimator.Estimator(container, # The image name of the training container\n",
    "                                    role,      # The IAM role to use (our current role in this case)\n",
    "                                    train_instance_count=1, # The number of instances to use for training\n",
    "                                    train_instance_type='ml.m4.xlarge', # The type of instance to use for training\n",
    "                                    output_path='s3://{}/{}/output'.format(session.default_bucket(), prefix),\n",
    "                                                                        # Where to save the output (the model artifacts)\n",
    "                                    sagemaker_session=session) # The current SageMaker session"
   ]
  },
  {
   "cell_type": "markdown",
   "metadata": {},
   "source": [
    "Before asking SageMaker to begin the training the model we need to set the model hyperparameters. There are quite a few that can be set when using the XGBoost algorithm, below are just a few of them. If you would like to change the hyperparameters below or modify additional ones you can find additional information on the [XGBoost hyperparameter page](https://docs.aws.amazon.com/sagemaker/latest/dg/xgboost_hyperparameters.html)"
   ]
  },
  {
   "cell_type": "code",
   "execution_count": 11,
   "metadata": {},
   "outputs": [],
   "source": [
    "xgb.set_hyperparameters(max_depth=5,\n",
    "                        eta=0.2,\n",
    "                        gamma=4,\n",
    "                        min_child_weight=6,\n",
    "                        subsample=0.8,\n",
    "                        objective='reg:linear',\n",
    "                        early_stopping_rounds=10,\n",
    "                        num_round=200)"
   ]
  },
  {
   "cell_type": "markdown",
   "metadata": {},
   "source": [
    "Now that we have our estimator object completely set up, it is time to train it. To do this we make sure that SageMaker knows our input data is in csv format and then execute the `fit()` method."
   ]
  },
  {
   "cell_type": "code",
   "execution_count": 12,
   "metadata": {
    "scrolled": false
   },
   "outputs": [
    {
     "name": "stdout",
     "output_type": "stream",
     "text": [
      "2019-12-16 17:28:20 Starting - Starting the training job...\n",
      "2019-12-16 17:28:21 Starting - Launching requested ML instances......\n",
      "2019-12-16 17:29:26 Starting - Preparing the instances for training...\n",
      "2019-12-16 17:30:18 Downloading - Downloading input data......\n",
      "2019-12-16 17:31:16 Training - Training image download completed. Training in progress..\u001b[34mINFO:sagemaker-containers:Imported framework sagemaker_xgboost_container.training\u001b[0m\n",
      "\u001b[34mINFO:sagemaker-containers:Failed to parse hyperparameter objective value reg:linear to Json.\u001b[0m\n",
      "\u001b[34mReturning the value itself\u001b[0m\n",
      "\u001b[34mINFO:sagemaker-containers:No GPUs detected (normal if no gpus installed)\u001b[0m\n",
      "\u001b[34mINFO:sagemaker_xgboost_container.training:Running XGBoost Sagemaker in algorithm mode\u001b[0m\n",
      "\u001b[34mINFO:root:Determined delimiter of CSV input is ','\u001b[0m\n",
      "\u001b[34mINFO:root:Determined delimiter of CSV input is ','\u001b[0m\n",
      "\u001b[34mINFO:root:Determined delimiter of CSV input is ','\u001b[0m\n",
      "\u001b[34m[17:31:18] 239521x8 matrix with 1916168 entries loaded from /opt/ml/input/data/train?format=csv&label_column=0&delimiter=,\u001b[0m\n",
      "\u001b[34mINFO:root:Determined delimiter of CSV input is ','\u001b[0m\n",
      "\u001b[34m[17:31:18] 117974x8 matrix with 943792 entries loaded from /opt/ml/input/data/validation?format=csv&label_column=0&delimiter=,\u001b[0m\n",
      "\u001b[34mINFO:root:Single node training.\u001b[0m\n",
      "\u001b[34mINFO:root:Train matrix has 239521 rows\u001b[0m\n",
      "\u001b[34mINFO:root:Validation matrix has 117974 rows\u001b[0m\n",
      "\u001b[34m[17:31:18] WARNING: /workspace/src/objective/regression_obj.cu:152: reg:linear is now deprecated in favor of reg:squarederror.\u001b[0m\n",
      "\u001b[34m[0]#011train-rmse:1.00344#011validation-rmse:1.00191\u001b[0m\n",
      "\u001b[34m[1]#011train-rmse:0.982556#011validation-rmse:0.981834\u001b[0m\n",
      "\u001b[34m[2]#011train-rmse:0.968697#011validation-rmse:0.968429\u001b[0m\n",
      "\u001b[34m[3]#011train-rmse:0.959525#011validation-rmse:0.959735\u001b[0m\n",
      "\u001b[34m[4]#011train-rmse:0.953411#011validation-rmse:0.954117\u001b[0m\n",
      "\u001b[34m[5]#011train-rmse:0.949084#011validation-rmse:0.950414\u001b[0m\n",
      "\u001b[34m[6]#011train-rmse:0.945908#011validation-rmse:0.947658\u001b[0m\n",
      "\u001b[34m[7]#011train-rmse:0.94365#011validation-rmse:0.945799\u001b[0m\n",
      "\u001b[34m[8]#011train-rmse:0.941866#011validation-rmse:0.944402\u001b[0m\n",
      "\u001b[34m[9]#011train-rmse:0.940998#011validation-rmse:0.94367\u001b[0m\n",
      "\u001b[34m[10]#011train-rmse:0.939774#011validation-rmse:0.94267\u001b[0m\n",
      "\u001b[34m[11]#011train-rmse:0.938878#011validation-rmse:0.942073\u001b[0m\n",
      "\u001b[34m[12]#011train-rmse:0.937833#011validation-rmse:0.941456\u001b[0m\n",
      "\u001b[34m[13]#011train-rmse:0.937132#011validation-rmse:0.940955\u001b[0m\n",
      "\u001b[34m[14]#011train-rmse:0.936589#011validation-rmse:0.940603\u001b[0m\n",
      "\u001b[34m[15]#011train-rmse:0.936041#011validation-rmse:0.94039\u001b[0m\n",
      "\u001b[34m[16]#011train-rmse:0.93529#011validation-rmse:0.940038\u001b[0m\n",
      "\u001b[34m[17]#011train-rmse:0.934883#011validation-rmse:0.93984\u001b[0m\n",
      "\u001b[34m[18]#011train-rmse:0.934659#011validation-rmse:0.939707\u001b[0m\n",
      "\u001b[34m[19]#011train-rmse:0.934362#011validation-rmse:0.939595\u001b[0m\n",
      "\u001b[34m[20]#011train-rmse:0.933543#011validation-rmse:0.939085\u001b[0m\n",
      "\u001b[34m[21]#011train-rmse:0.933018#011validation-rmse:0.938697\u001b[0m\n",
      "\u001b[34m[22]#011train-rmse:0.932473#011validation-rmse:0.938391\u001b[0m\n",
      "\u001b[34m[23]#011train-rmse:0.932201#011validation-rmse:0.938255\u001b[0m\n",
      "\u001b[34m[24]#011train-rmse:0.931827#011validation-rmse:0.938115\u001b[0m\n",
      "\u001b[34m[25]#011train-rmse:0.9315#011validation-rmse:0.937973\u001b[0m\n",
      "\u001b[34m[26]#011train-rmse:0.931329#011validation-rmse:0.937853\u001b[0m\n",
      "\u001b[34m[27]#011train-rmse:0.930782#011validation-rmse:0.937713\u001b[0m\n",
      "\u001b[34m[28]#011train-rmse:0.930655#011validation-rmse:0.937745\u001b[0m\n",
      "\u001b[34m[29]#011train-rmse:0.930469#011validation-rmse:0.937702\u001b[0m\n",
      "\u001b[34m[30]#011train-rmse:0.930142#011validation-rmse:0.937607\u001b[0m\n",
      "\u001b[34m[31]#011train-rmse:0.929467#011validation-rmse:0.937294\u001b[0m\n",
      "\u001b[34m[32]#011train-rmse:0.929002#011validation-rmse:0.936938\u001b[0m\n",
      "\u001b[34m[33]#011train-rmse:0.928593#011validation-rmse:0.936696\u001b[0m\n",
      "\u001b[34m[34]#011train-rmse:0.928022#011validation-rmse:0.936343\u001b[0m\n",
      "\u001b[34m[35]#011train-rmse:0.927813#011validation-rmse:0.936271\u001b[0m\n",
      "\u001b[34m[36]#011train-rmse:0.927634#011validation-rmse:0.936278\u001b[0m\n",
      "\u001b[34m[37]#011train-rmse:0.926985#011validation-rmse:0.936011\u001b[0m\n",
      "\u001b[34m[38]#011train-rmse:0.926708#011validation-rmse:0.935841\u001b[0m\n",
      "\u001b[34m[39]#011train-rmse:0.926605#011validation-rmse:0.935829\u001b[0m\n",
      "\u001b[34m[40]#011train-rmse:0.926307#011validation-rmse:0.935714\u001b[0m\n",
      "\u001b[34m[41]#011train-rmse:0.92603#011validation-rmse:0.935614\u001b[0m\n",
      "\u001b[34m[42]#011train-rmse:0.925968#011validation-rmse:0.935607\u001b[0m\n",
      "\u001b[34m[43]#011train-rmse:0.925901#011validation-rmse:0.935614\u001b[0m\n",
      "\u001b[34m[44]#011train-rmse:0.92529#011validation-rmse:0.935257\u001b[0m\n",
      "\u001b[34m[45]#011train-rmse:0.924815#011validation-rmse:0.935085\u001b[0m\n",
      "\u001b[34m[46]#011train-rmse:0.924508#011validation-rmse:0.934978\u001b[0m\n",
      "\u001b[34m[47]#011train-rmse:0.923851#011validation-rmse:0.934768\u001b[0m\n",
      "\u001b[34m[48]#011train-rmse:0.923546#011validation-rmse:0.934683\u001b[0m\n",
      "\u001b[34m[49]#011train-rmse:0.923188#011validation-rmse:0.934529\u001b[0m\n",
      "\u001b[34m[50]#011train-rmse:0.922836#011validation-rmse:0.934409\u001b[0m\n",
      "\u001b[34m[51]#011train-rmse:0.922285#011validation-rmse:0.934109\u001b[0m\n",
      "\u001b[34m[52]#011train-rmse:0.922189#011validation-rmse:0.934084\u001b[0m\n",
      "\u001b[34m[53]#011train-rmse:0.92204#011validation-rmse:0.93414\u001b[0m\n",
      "\u001b[34m[54]#011train-rmse:0.921694#011validation-rmse:0.933985\u001b[0m\n",
      "\u001b[34m[55]#011train-rmse:0.921328#011validation-rmse:0.933797\u001b[0m\n",
      "\u001b[34m[56]#011train-rmse:0.921091#011validation-rmse:0.933825\u001b[0m\n",
      "\u001b[34m[57]#011train-rmse:0.920955#011validation-rmse:0.933759\u001b[0m\n",
      "\u001b[34m[58]#011train-rmse:0.92064#011validation-rmse:0.933672\u001b[0m\n",
      "\u001b[34m[59]#011train-rmse:0.92013#011validation-rmse:0.933382\u001b[0m\n",
      "\u001b[34m[60]#011train-rmse:0.919736#011validation-rmse:0.933224\u001b[0m\n",
      "\u001b[34m[61]#011train-rmse:0.919368#011validation-rmse:0.933044\u001b[0m\n",
      "\u001b[34m[62]#011train-rmse:0.919282#011validation-rmse:0.933029\u001b[0m\n",
      "\u001b[34m[63]#011train-rmse:0.918835#011validation-rmse:0.932797\u001b[0m\n",
      "\u001b[34m[64]#011train-rmse:0.918596#011validation-rmse:0.932705\u001b[0m\n",
      "\u001b[34m[65]#011train-rmse:0.918323#011validation-rmse:0.932625\u001b[0m\n",
      "\u001b[34m[66]#011train-rmse:0.918125#011validation-rmse:0.932582\u001b[0m\n",
      "\u001b[34m[67]#011train-rmse:0.917452#011validation-rmse:0.932205\u001b[0m\n",
      "\u001b[34m[68]#011train-rmse:0.917308#011validation-rmse:0.93215\u001b[0m\n",
      "\u001b[34m[69]#011train-rmse:0.916806#011validation-rmse:0.931944\u001b[0m\n",
      "\u001b[34m[70]#011train-rmse:0.916482#011validation-rmse:0.931899\u001b[0m\n",
      "\u001b[34m[71]#011train-rmse:0.916394#011validation-rmse:0.931869\u001b[0m\n",
      "\u001b[34m[72]#011train-rmse:0.916282#011validation-rmse:0.931924\u001b[0m\n",
      "\u001b[34m[73]#011train-rmse:0.915901#011validation-rmse:0.931879\u001b[0m\n",
      "\u001b[34m[74]#011train-rmse:0.915523#011validation-rmse:0.931727\u001b[0m\n",
      "\u001b[34m[75]#011train-rmse:0.915188#011validation-rmse:0.931703\u001b[0m\n",
      "\u001b[34m[76]#011train-rmse:0.915022#011validation-rmse:0.931705\u001b[0m\n",
      "\u001b[34m[77]#011train-rmse:0.914708#011validation-rmse:0.931601\u001b[0m\n",
      "\u001b[34m[78]#011train-rmse:0.91454#011validation-rmse:0.931606\u001b[0m\n",
      "\u001b[34m[79]#011train-rmse:0.914236#011validation-rmse:0.931589\u001b[0m\n",
      "\u001b[34m[80]#011train-rmse:0.914013#011validation-rmse:0.931579\u001b[0m\n",
      "\u001b[34m[81]#011train-rmse:0.913682#011validation-rmse:0.931444\u001b[0m\n",
      "\u001b[34m[82]#011train-rmse:0.913071#011validation-rmse:0.931089\u001b[0m\n",
      "\u001b[34m[83]#011train-rmse:0.912966#011validation-rmse:0.931135\u001b[0m\n",
      "\u001b[34m[84]#011train-rmse:0.912621#011validation-rmse:0.931106\u001b[0m\n",
      "\u001b[34m[85]#011train-rmse:0.912258#011validation-rmse:0.931083\u001b[0m\n",
      "\u001b[34m[86]#011train-rmse:0.911988#011validation-rmse:0.931041\u001b[0m\n",
      "\u001b[34m[87]#011train-rmse:0.911668#011validation-rmse:0.931038\u001b[0m\n",
      "\u001b[34m[88]#011train-rmse:0.911429#011validation-rmse:0.930942\u001b[0m\n",
      "\u001b[34m[89]#011train-rmse:0.910991#011validation-rmse:0.930729\u001b[0m\n",
      "\u001b[34m[90]#011train-rmse:0.910802#011validation-rmse:0.930756\u001b[0m\n",
      "\u001b[34m[91]#011train-rmse:0.910764#011validation-rmse:0.930744\u001b[0m\n",
      "\u001b[34m[92]#011train-rmse:0.91046#011validation-rmse:0.930704\u001b[0m\n",
      "\u001b[34m[93]#011train-rmse:0.910388#011validation-rmse:0.93075\u001b[0m\n",
      "\u001b[34m[94]#011train-rmse:0.910196#011validation-rmse:0.930726\u001b[0m\n",
      "\u001b[34m[95]#011train-rmse:0.909863#011validation-rmse:0.930591\u001b[0m\n",
      "\u001b[34m[96]#011train-rmse:0.909729#011validation-rmse:0.930609\u001b[0m\n",
      "\u001b[34m[97]#011train-rmse:0.909594#011validation-rmse:0.930584\u001b[0m\n",
      "\u001b[34m[98]#011train-rmse:0.909198#011validation-rmse:0.930453\u001b[0m\n",
      "\u001b[34m[99]#011train-rmse:0.908966#011validation-rmse:0.930405\u001b[0m\n",
      "\u001b[34m[100]#011train-rmse:0.908598#011validation-rmse:0.930204\u001b[0m\n",
      "\u001b[34m[101]#011train-rmse:0.908471#011validation-rmse:0.930246\u001b[0m\n",
      "\u001b[34m[102]#011train-rmse:0.908255#011validation-rmse:0.930211\u001b[0m\n",
      "\u001b[34m[103]#011train-rmse:0.907993#011validation-rmse:0.930117\u001b[0m\n",
      "\u001b[34m[104]#011train-rmse:0.907805#011validation-rmse:0.930127\u001b[0m\n",
      "\u001b[34m[105]#011train-rmse:0.907588#011validation-rmse:0.930043\u001b[0m\n",
      "\u001b[34m[106]#011train-rmse:0.907515#011validation-rmse:0.930052\u001b[0m\n",
      "\u001b[34m[107]#011train-rmse:0.907327#011validation-rmse:0.92998\u001b[0m\n",
      "\u001b[34m[108]#011train-rmse:0.907247#011validation-rmse:0.929955\u001b[0m\n",
      "\u001b[34m[109]#011train-rmse:0.907013#011validation-rmse:0.929953\u001b[0m\n",
      "\u001b[34m[110]#011train-rmse:0.906937#011validation-rmse:0.929941\u001b[0m\n",
      "\u001b[34m[111]#011train-rmse:0.906766#011validation-rmse:0.9299\u001b[0m\n",
      "\u001b[34m[112]#011train-rmse:0.906493#011validation-rmse:0.929873\u001b[0m\n",
      "\u001b[34m[113]#011train-rmse:0.906314#011validation-rmse:0.929874\u001b[0m\n",
      "\u001b[34m[114]#011train-rmse:0.906289#011validation-rmse:0.929858\u001b[0m\n",
      "\u001b[34m[115]#011train-rmse:0.906146#011validation-rmse:0.929928\u001b[0m\n",
      "\u001b[34m[116]#011train-rmse:0.906024#011validation-rmse:0.929942\u001b[0m\n",
      "\u001b[34m[117]#011train-rmse:0.905833#011validation-rmse:0.929926\u001b[0m\n",
      "\u001b[34m[118]#011train-rmse:0.905576#011validation-rmse:0.929907\u001b[0m\n",
      "\u001b[34m[119]#011train-rmse:0.905468#011validation-rmse:0.929859\u001b[0m\n",
      "\u001b[34m[120]#011train-rmse:0.905172#011validation-rmse:0.929746\u001b[0m\n",
      "\u001b[34m[121]#011train-rmse:0.904917#011validation-rmse:0.929689\u001b[0m\n",
      "\u001b[34m[122]#011train-rmse:0.904705#011validation-rmse:0.929649\u001b[0m\n",
      "\u001b[34m[123]#011train-rmse:0.904527#011validation-rmse:0.929565\u001b[0m\n",
      "\u001b[34m[124]#011train-rmse:0.904334#011validation-rmse:0.929606\u001b[0m\n",
      "\u001b[34m[125]#011train-rmse:0.904207#011validation-rmse:0.929577\u001b[0m\n",
      "\u001b[34m[126]#011train-rmse:0.904066#011validation-rmse:0.929621\u001b[0m\n",
      "\u001b[34m[127]#011train-rmse:0.903935#011validation-rmse:0.929654\u001b[0m\n",
      "\u001b[34m[128]#011train-rmse:0.90374#011validation-rmse:0.929629\u001b[0m\n",
      "\u001b[34m[129]#011train-rmse:0.903584#011validation-rmse:0.929574\u001b[0m\n",
      "\u001b[34m[130]#011train-rmse:0.903466#011validation-rmse:0.929595\u001b[0m\n",
      "\u001b[34m[131]#011train-rmse:0.90294#011validation-rmse:0.929202\u001b[0m\n",
      "\u001b[34m[132]#011train-rmse:0.90284#011validation-rmse:0.929194\u001b[0m\n",
      "\u001b[34m[133]#011train-rmse:0.902551#011validation-rmse:0.929166\u001b[0m\n",
      "\u001b[34m[134]#011train-rmse:0.902281#011validation-rmse:0.929083\u001b[0m\n",
      "\u001b[34m[135]#011train-rmse:0.901961#011validation-rmse:0.928965\u001b[0m\n",
      "\u001b[34m[136]#011train-rmse:0.901854#011validation-rmse:0.928968\u001b[0m\n",
      "\u001b[34m[137]#011train-rmse:0.901738#011validation-rmse:0.929009\u001b[0m\n",
      "\u001b[34m[138]#011train-rmse:0.901413#011validation-rmse:0.928884\u001b[0m\n",
      "\u001b[34m[139]#011train-rmse:0.901062#011validation-rmse:0.928756\u001b[0m\n",
      "\u001b[34m[140]#011train-rmse:0.900758#011validation-rmse:0.928622\u001b[0m\n",
      "\u001b[34m[141]#011train-rmse:0.900604#011validation-rmse:0.928578\u001b[0m\n",
      "\u001b[34m[142]#011train-rmse:0.900407#011validation-rmse:0.928597\u001b[0m\n",
      "\u001b[34m[143]#011train-rmse:0.900191#011validation-rmse:0.928543\u001b[0m\n",
      "\u001b[34m[144]#011train-rmse:0.899953#011validation-rmse:0.928516\u001b[0m\n",
      "\u001b[34m[145]#011train-rmse:0.899692#011validation-rmse:0.928378\u001b[0m\n",
      "\u001b[34m[146]#011train-rmse:0.899486#011validation-rmse:0.928372\u001b[0m\n",
      "\u001b[34m[147]#011train-rmse:0.899247#011validation-rmse:0.9283\u001b[0m\n",
      "\u001b[34m[148]#011train-rmse:0.899065#011validation-rmse:0.928335\u001b[0m\n",
      "\u001b[34m[149]#011train-rmse:0.898829#011validation-rmse:0.928301\u001b[0m\n",
      "\u001b[34m[150]#011train-rmse:0.898622#011validation-rmse:0.928301\u001b[0m\n",
      "\u001b[34m[151]#011train-rmse:0.898323#011validation-rmse:0.928212\u001b[0m\n",
      "\u001b[34m[152]#011train-rmse:0.898204#011validation-rmse:0.928227\u001b[0m\n",
      "\u001b[34m[153]#011train-rmse:0.897983#011validation-rmse:0.928193\u001b[0m\n",
      "\u001b[34m[154]#011train-rmse:0.897877#011validation-rmse:0.928223\u001b[0m\n",
      "\u001b[34m[155]#011train-rmse:0.897779#011validation-rmse:0.928275\u001b[0m\n",
      "\u001b[34m[156]#011train-rmse:0.897635#011validation-rmse:0.928339\u001b[0m\n"
     ]
    },
    {
     "name": "stdout",
     "output_type": "stream",
     "text": [
      "\u001b[34m[157]#011train-rmse:0.897378#011validation-rmse:0.928329\u001b[0m\n",
      "\u001b[34m[158]#011train-rmse:0.897143#011validation-rmse:0.928286\u001b[0m\n",
      "\u001b[34m[159]#011train-rmse:0.89706#011validation-rmse:0.928302\u001b[0m\n",
      "\u001b[34m[160]#011train-rmse:0.896893#011validation-rmse:0.928278\u001b[0m\n",
      "\u001b[34m[161]#011train-rmse:0.896831#011validation-rmse:0.928299\u001b[0m\n",
      "\u001b[34m[162]#011train-rmse:0.896463#011validation-rmse:0.928122\u001b[0m\n",
      "\u001b[34m[163]#011train-rmse:0.896337#011validation-rmse:0.928118\u001b[0m\n",
      "\u001b[34m[164]#011train-rmse:0.896196#011validation-rmse:0.92812\u001b[0m\n",
      "\u001b[34m[165]#011train-rmse:0.895987#011validation-rmse:0.928048\u001b[0m\n",
      "\u001b[34m[166]#011train-rmse:0.895633#011validation-rmse:0.927932\u001b[0m\n",
      "\u001b[34m[167]#011train-rmse:0.895462#011validation-rmse:0.927908\u001b[0m\n",
      "\u001b[34m[168]#011train-rmse:0.89537#011validation-rmse:0.927918\u001b[0m\n",
      "\u001b[34m[169]#011train-rmse:0.8952#011validation-rmse:0.927888\u001b[0m\n",
      "\u001b[34m[170]#011train-rmse:0.894965#011validation-rmse:0.927857\u001b[0m\n",
      "\u001b[34m[171]#011train-rmse:0.894667#011validation-rmse:0.927689\u001b[0m\n",
      "\u001b[34m[172]#011train-rmse:0.894547#011validation-rmse:0.927722\u001b[0m\n",
      "\u001b[34m[173]#011train-rmse:0.8944#011validation-rmse:0.927696\u001b[0m\n",
      "\u001b[34m[174]#011train-rmse:0.894245#011validation-rmse:0.927723\u001b[0m\n",
      "\u001b[34m[175]#011train-rmse:0.894025#011validation-rmse:0.927728\u001b[0m\n",
      "\u001b[34m[176]#011train-rmse:0.89374#011validation-rmse:0.927573\u001b[0m\n",
      "\u001b[34m[177]#011train-rmse:0.893497#011validation-rmse:0.927443\u001b[0m\n",
      "\u001b[34m[178]#011train-rmse:0.893337#011validation-rmse:0.927447\u001b[0m\n",
      "\u001b[34m[179]#011train-rmse:0.893313#011validation-rmse:0.927463\u001b[0m\n",
      "\u001b[34m[180]#011train-rmse:0.893103#011validation-rmse:0.927465\u001b[0m\n",
      "\u001b[34m[181]#011train-rmse:0.892984#011validation-rmse:0.92744\u001b[0m\n",
      "\u001b[34m[182]#011train-rmse:0.892789#011validation-rmse:0.927439\u001b[0m\n",
      "\u001b[34m[183]#011train-rmse:0.892557#011validation-rmse:0.927353\u001b[0m\n",
      "\u001b[34m[184]#011train-rmse:0.892465#011validation-rmse:0.927328\u001b[0m\n",
      "\u001b[34m[185]#011train-rmse:0.892338#011validation-rmse:0.927323\u001b[0m\n",
      "\u001b[34m[186]#011train-rmse:0.892187#011validation-rmse:0.927326\u001b[0m\n",
      "\u001b[34m[187]#011train-rmse:0.891966#011validation-rmse:0.927266\u001b[0m\n",
      "\u001b[34m[188]#011train-rmse:0.891806#011validation-rmse:0.927256\u001b[0m\n",
      "\u001b[34m[189]#011train-rmse:0.89147#011validation-rmse:0.927123\u001b[0m\n",
      "\u001b[34m[190]#011train-rmse:0.891429#011validation-rmse:0.927159\u001b[0m\n",
      "\u001b[34m[191]#011train-rmse:0.891298#011validation-rmse:0.927174\u001b[0m\n",
      "\u001b[34m[192]#011train-rmse:0.891219#011validation-rmse:0.927251\u001b[0m\n",
      "\u001b[34m[193]#011train-rmse:0.891173#011validation-rmse:0.927253\u001b[0m\n",
      "\u001b[34m[194]#011train-rmse:0.891089#011validation-rmse:0.927269\u001b[0m\n",
      "\u001b[34m[195]#011train-rmse:0.891048#011validation-rmse:0.927283\u001b[0m\n",
      "\u001b[34m[196]#011train-rmse:0.890924#011validation-rmse:0.927245\u001b[0m\n",
      "\u001b[34m[197]#011train-rmse:0.890762#011validation-rmse:0.92727\u001b[0m\n",
      "\u001b[34m[198]#011train-rmse:0.890518#011validation-rmse:0.927139\u001b[0m\n",
      "\u001b[34m[199]#011train-rmse:0.890407#011validation-rmse:0.927143\u001b[0m\n",
      "\n",
      "2019-12-16 17:32:04 Uploading - Uploading generated training model\n",
      "2019-12-16 17:32:04 Completed - Training job completed\n",
      "Training seconds: 106\n",
      "Billable seconds: 106\n"
     ]
    }
   ],
   "source": [
    "# This is a wrapper around the location of our train and validation data, to make sure that SageMaker\n",
    "# knows our data is in csv format.\n",
    "s3_input_train = sagemaker.s3_input(s3_data=train_location, content_type='csv')\n",
    "s3_input_validation = sagemaker.s3_input(s3_data=val_location, content_type='csv')\n",
    "\n",
    "xgb.fit({'train': s3_input_train, 'validation': s3_input_validation})"
   ]
  },
  {
   "cell_type": "markdown",
   "metadata": {},
   "source": [
    "## Test the model\n",
    "\n",
    "Now that we have fit our model to the training data, using the validation data, we can test the model. First, we need to build a transformer object from our fit model:"
   ]
  },
  {
   "cell_type": "code",
   "execution_count": 13,
   "metadata": {},
   "outputs": [],
   "source": [
    "xgb_transformer = xgb.transformer(instance_count = 1, instance_type = 'ml.m4.xlarge')"
   ]
  },
  {
   "cell_type": "markdown",
   "metadata": {},
   "source": [
    "Next we ask SageMaker to begin a batch transform job using our trained model and applying it to the test data we previously stored in S3. We need to make sure to provide SageMaker with the type of data that we are providing to our model, in our case `text/csv`, so that it knows how to serialize our data. In addition, we need to make sure to let SageMaker know how to split our data up into chunks if the entire data set happens to be too large to send to our model all at once.\n",
    "\n",
    "Note that when we ask SageMaker to do this it will execute the batch transform job in the background. Since we need to wait for the results of this job before we can continue, we use the `wait()` method. An added benefit of this is that we get some output from our batch transform job which lets us know if anything went wrong."
   ]
  },
  {
   "cell_type": "code",
   "execution_count": 14,
   "metadata": {},
   "outputs": [
    {
     "name": "stdout",
     "output_type": "stream",
     "text": [
      "......................\u001b[34m[2019-12-16 17:35:57 +0000] [15] [INFO] Starting gunicorn 19.10.0\u001b[0m\n",
      "\u001b[34m[2019-12-16 17:35:57 +0000] [15] [INFO] Listening at: unix:/tmp/gunicorn.sock (15)\u001b[0m\n",
      "\u001b[34m[2019-12-16 17:35:57 +0000] [15] [INFO] Using worker: gevent\u001b[0m\n",
      "\u001b[34m[2019-12-16 17:35:57 +0000] [22] [INFO] Booting worker with pid: 22\u001b[0m\n",
      "\u001b[34m[2019-12-16 17:35:57 +0000] [23] [INFO] Booting worker with pid: 23\u001b[0m\n",
      "\u001b[34m[2019-12-16 17:35:57 +0000] [24] [INFO] Booting worker with pid: 24\u001b[0m\n",
      "\u001b[34m[2019-12-16 17:35:57 +0000] [25] [INFO] Booting worker with pid: 25\u001b[0m\n",
      "\n",
      "\u001b[32m2019-12-16T17:36:19.050:[sagemaker logs]: MaxConcurrentTransforms=4, MaxPayloadInMB=6, BatchStrategy=MULTI_RECORD\u001b[0m\n",
      "\u001b[34m[2019-12-16:17:36:19:INFO] No GPUs detected (normal if no gpus installed)\u001b[0m\n",
      "\u001b[35m[2019-12-16:17:36:19:INFO] No GPUs detected (normal if no gpus installed)\u001b[0m\n",
      "\u001b[34m169.254.255.130 - - [16/Dec/2019:17:36:19 +0000] \"GET /ping HTTP/1.1\" 200 0 \"-\" \"Go-http-client/1.1\"\u001b[0m\n",
      "\u001b[34m[2019-12-16:17:36:19:INFO] No GPUs detected (normal if no gpus installed)\u001b[0m\n",
      "\u001b[34m169.254.255.130 - - [16/Dec/2019:17:36:19 +0000] \"GET /execution-parameters HTTP/1.1\" 200 84 \"-\" \"Go-http-client/1.1\"\u001b[0m\n",
      "\u001b[35m169.254.255.130 - - [16/Dec/2019:17:36:19 +0000] \"GET /ping HTTP/1.1\" 200 0 \"-\" \"Go-http-client/1.1\"\u001b[0m\n",
      "\u001b[35m[2019-12-16:17:36:19:INFO] No GPUs detected (normal if no gpus installed)\u001b[0m\n",
      "\u001b[35m169.254.255.130 - - [16/Dec/2019:17:36:19 +0000] \"GET /execution-parameters HTTP/1.1\" 200 84 \"-\" \"Go-http-client/1.1\"\u001b[0m\n",
      "\u001b[34m[2019-12-16:17:36:19:INFO] No GPUs detected (normal if no gpus installed)\u001b[0m\n",
      "\u001b[34m[2019-12-16:17:36:19:INFO] Determined delimiter of CSV input is ','\u001b[0m\n",
      "\u001b[34m[2019-12-16:17:36:20:INFO] Determined delimiter of CSV input is ','\u001b[0m\n",
      "\u001b[34m[2019-12-16:17:36:20:INFO] No GPUs detected (normal if no gpus installed)\u001b[0m\n",
      "\u001b[34m[2019-12-16:17:36:20:INFO] Determined delimiter of CSV input is ','\u001b[0m\n",
      "\u001b[34m[2019-12-16:17:36:20:INFO] Determined delimiter of CSV input is ','\u001b[0m\n",
      "\u001b[34m[17:36:20] WARNING: /workspace/src/objective/regression_obj.cu:152: reg:linear is now deprecated in favor of reg:squarederror.\u001b[0m\n",
      "\u001b[35m[2019-12-16:17:36:19:INFO] No GPUs detected (normal if no gpus installed)\u001b[0m\n",
      "\u001b[35m[2019-12-16:17:36:19:INFO] Determined delimiter of CSV input is ','\u001b[0m\n",
      "\u001b[35m[2019-12-16:17:36:20:INFO] Determined delimiter of CSV input is ','\u001b[0m\n",
      "\u001b[35m[2019-12-16:17:36:20:INFO] No GPUs detected (normal if no gpus installed)\u001b[0m\n",
      "\u001b[35m[2019-12-16:17:36:20:INFO] Determined delimiter of CSV input is ','\u001b[0m\n",
      "\u001b[35m[2019-12-16:17:36:20:INFO] Determined delimiter of CSV input is ','\u001b[0m\n",
      "\u001b[35m[17:36:20] WARNING: /workspace/src/objective/regression_obj.cu:152: reg:linear is now deprecated in favor of reg:squarederror.\u001b[0m\n",
      "\u001b[34m[17:36:20] WARNING: /workspace/src/objective/regression_obj.cu:152: reg:linear is now deprecated in favor of reg:squarederror.\u001b[0m\n",
      "\u001b[34m[17:36:21] WARNING: /workspace/src/objective/regression_obj.cu:152: reg:linear is now deprecated in favor of reg:squarederror.\u001b[0m\n",
      "\u001b[34m[17:36:21] WARNING: /workspace/src/objective/regression_obj.cu:152: reg:linear is now deprecated in favor of reg:squarederror.\u001b[0m\n",
      "\u001b[34m169.254.255.130 - - [16/Dec/2019:17:36:21 +0000] \"POST /invocations HTTP/1.1\" 200 810909 \"-\" \"Go-http-client/1.1\"\u001b[0m\n",
      "\u001b[34m[2019-12-16:17:36:21:INFO] Determined delimiter of CSV input is ','\u001b[0m\n",
      "\u001b[34m169.254.255.130 - - [16/Dec/2019:17:36:21 +0000] \"POST /invocations HTTP/1.1\" 200 810989 \"-\" \"Go-http-client/1.1\"\u001b[0m\n",
      "\u001b[35m[17:36:20] WARNING: /workspace/src/objective/regression_obj.cu:152: reg:linear is now deprecated in favor of reg:squarederror.\u001b[0m\n",
      "\u001b[35m[17:36:21] WARNING: /workspace/src/objective/regression_obj.cu:152: reg:linear is now deprecated in favor of reg:squarederror.\u001b[0m\n",
      "\u001b[35m[17:36:21] WARNING: /workspace/src/objective/regression_obj.cu:152: reg:linear is now deprecated in favor of reg:squarederror.\u001b[0m\n",
      "\u001b[35m169.254.255.130 - - [16/Dec/2019:17:36:21 +0000] \"POST /invocations HTTP/1.1\" 200 810909 \"-\" \"Go-http-client/1.1\"\u001b[0m\n",
      "\u001b[35m[2019-12-16:17:36:21:INFO] Determined delimiter of CSV input is ','\u001b[0m\n",
      "\u001b[35m169.254.255.130 - - [16/Dec/2019:17:36:21 +0000] \"POST /invocations HTTP/1.1\" 200 810989 \"-\" \"Go-http-client/1.1\"\u001b[0m\n",
      "\u001b[34m169.254.255.130 - - [16/Dec/2019:17:36:21 +0000] \"POST /invocations HTTP/1.1\" 200 810940 \"-\" \"Go-http-client/1.1\"\u001b[0m\n",
      "\u001b[35m169.254.255.130 - - [16/Dec/2019:17:36:21 +0000] \"POST /invocations HTTP/1.1\" 200 810940 \"-\" \"Go-http-client/1.1\"\u001b[0m\n",
      "\u001b[34m169.254.255.130 - - [16/Dec/2019:17:36:22 +0000] \"POST /invocations HTTP/1.1\" 200 811373 \"-\" \"Go-http-client/1.1\"\u001b[0m\n",
      "\u001b[34m169.254.255.130 - - [16/Dec/2019:17:36:22 +0000] \"POST /invocations HTTP/1.1\" 200 304456 \"-\" \"Go-http-client/1.1\"\u001b[0m\n",
      "\u001b[35m169.254.255.130 - - [16/Dec/2019:17:36:22 +0000] \"POST /invocations HTTP/1.1\" 200 811373 \"-\" \"Go-http-client/1.1\"\u001b[0m\n",
      "\u001b[35m169.254.255.130 - - [16/Dec/2019:17:36:22 +0000] \"POST /invocations HTTP/1.1\" 200 304456 \"-\" \"Go-http-client/1.1\"\u001b[0m\n"
     ]
    }
   ],
   "source": [
    "xgb_transformer.transform(test_location, content_type='text/csv', split_type='Line')\n",
    "xgb_transformer.wait()"
   ]
  },
  {
   "cell_type": "markdown",
   "metadata": {},
   "source": [
    "Now that the batch transform job has finished, the resulting output is stored on S3. Since we wish to analyze the output inside of our notebook we can use a bit of notebook magic to copy the output file from its S3 location and save it locally."
   ]
  },
  {
   "cell_type": "code",
   "execution_count": 15,
   "metadata": {},
   "outputs": [
    {
     "name": "stdout",
     "output_type": "stream",
     "text": [
      "Completed 256.0 KiB/3.4 MiB (3.4 MiB/s) with 1 file(s) remaining\r",
      "Completed 512.0 KiB/3.4 MiB (6.3 MiB/s) with 1 file(s) remaining\r",
      "Completed 768.0 KiB/3.4 MiB (8.9 MiB/s) with 1 file(s) remaining\r",
      "Completed 1.0 MiB/3.4 MiB (11.4 MiB/s) with 1 file(s) remaining \r",
      "Completed 1.2 MiB/3.4 MiB (13.8 MiB/s) with 1 file(s) remaining \r",
      "Completed 1.5 MiB/3.4 MiB (16.1 MiB/s) with 1 file(s) remaining \r",
      "Completed 1.8 MiB/3.4 MiB (18.3 MiB/s) with 1 file(s) remaining \r",
      "Completed 2.0 MiB/3.4 MiB (20.3 MiB/s) with 1 file(s) remaining \r",
      "Completed 2.2 MiB/3.4 MiB (22.4 MiB/s) with 1 file(s) remaining \r",
      "Completed 2.5 MiB/3.4 MiB (24.4 MiB/s) with 1 file(s) remaining \r",
      "Completed 2.8 MiB/3.4 MiB (26.3 MiB/s) with 1 file(s) remaining \r",
      "Completed 3.0 MiB/3.4 MiB (28.0 MiB/s) with 1 file(s) remaining \r",
      "Completed 3.2 MiB/3.4 MiB (29.8 MiB/s) with 1 file(s) remaining \r",
      "Completed 3.4 MiB/3.4 MiB (30.7 MiB/s) with 1 file(s) remaining \r",
      "download: s3://sagemaker-us-east-1-458137317502/sagemaker-xgboost-2019-12-16-17-32-33-205/test.csv.out to fin_quant_data/test.csv.out\r\n"
     ]
    }
   ],
   "source": [
    "!aws s3 cp --recursive $xgb_transformer.output_path $pathname"
   ]
  },
  {
   "cell_type": "markdown",
   "metadata": {},
   "source": [
    "To see how well our model works we can create a simple scatter plot between the predicted and actual values of future returns:"
   ]
  },
  {
   "cell_type": "code",
   "execution_count": 16,
   "metadata": {},
   "outputs": [
    {
     "data": {
      "image/png": "[encoded data removed]",
      "text/plain": [
       "<Figure size 1440x720 with 1 Axes>"
      ]
     },
     "metadata": {},
     "output_type": "display_data"
    }
   ],
   "source": [
    "Y_pred = pd.read_csv(os.path.join(pathname, 'test.csv.out'), header=None)\n",
    "plt.figure(figsize=(20,10))\n",
    "plt.scatter(Y_test, Y_pred)\n",
    "plt.xlabel(\"Actual realized future returns\")\n",
    "plt.ylabel(\"Future returns predicted by the model\")\n",
    "plt.title(\"Future returns vs predicted returns\")\n",
    "plt.show()"
   ]
  },
  {
   "cell_type": "markdown",
   "metadata": {},
   "source": [
    "As we can see, our model seems to have done okay, particularly in guessing the direction of the model but there is room for improvement.\n",
    "\n",
    "## Clean up\n",
    "\n",
    "The default notebook instance on SageMaker doesn't have a lot of excess disk space available. As you continue to complete and execute notebooks you will eventually fill up this disk space, leading to errors which can be difficult to diagnose. Once you are completely finished using a notebook it is a good idea to remove the files that you created along the way. Of course, you can do this from the terminal or from the notebook hub if you would like. The cell below contains some commands to clean up the created files from within the notebook.\n",
    "\n",
    "## Exercises\n",
    "\n",
    "#### Beginners\n",
    "\n",
    "Try to run this model for predicting future returns and create some analysis on the performance of the model in the test data that goes beyond simply plotting the scatter plot.\n",
    "\n",
    "#### Intermediate\n",
    "\n",
    "Try to run this model for predicting future returns direction, i.e., suppose you do not really care about predicting returns but only if the underlying asset will go up or down. Also, create some analysis on the performance of the model in the test data, like calculating the out of sample hit ratio of the model.\n",
    "\n",
    "#### Advanced\n",
    "\n",
    "Try to run this model for predicting future returns direction, i.e., suppose you do not really care about predicting returns but only if the underlying asset will go up or down. Also, maybe combine different definitions of momentum such as MACD or RSI together with standard momentum measures used here. Afterwards, create some analysis on the performance of the model in the test data, like calculating the out of sample hit ratio of the model."
   ]
  }
 ],
 "metadata": {
  "kernelspec": {
   "display_name": "python_project",
   "language": "python",
   "name": "python_project"
  },
  "language_info": {
   "codemirror_mode": {
    "name": "ipython",
    "version": 3
   },
   "file_extension": ".py",
   "mimetype": "text/x-python",
   "name": "python",
   "nbconvert_exporter": "python",
   "pygments_lexer": "ipython3",
   "version": "3.6.5"
  }
 },
 "nbformat": 4,
 "nbformat_minor": 2
}
