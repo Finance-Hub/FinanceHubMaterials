{
 "cells": [
  {
   "cell_type": "markdown",
   "metadata": {},
   "source": [
    "### Pruning\n",
    "\n",
    "We fitted a relatively simple tree (max_depth=2) but we could have gotten carried away. For example, we could have used 5 layers in our tree:"
   ]
  },
  {
   "cell_type": "code",
   "execution_count": null,
   "metadata": {},
   "outputs": [],
   "source": [
    "large_tree_clf = DecisionTreeClassifier(max_depth=5)\n",
    "large_tree_clf = large_tree_clf.fit(X, y)\n",
    "dot_data = export_graphviz(large_tree_clf, out_file=None,\n",
    "                           feature_names=X.columns,\n",
    "                           class_names=['bear','bull'],\n",
    "                           rounded=True,filled=True)\n",
    "graph = graphviz.Source(dot_data)\n",
    "graph"
   ]
  },
  {
   "cell_type": "markdown",
   "metadata": {},
   "source": [
    "These large tree may make good predictions on the training set (in-sample), but is likely to overfit the data, leading to poor test set performance out-of-sample. A smaller tree with fewer splits might lead to lower variance and better interpretation at the cost of a little bias. However, if we start with a small tree we may miss out on a split that leads to a large improvement in predictions if it is preceeded by a seemingly worthless split.\n",
    "\n"
   ]
  },
  {
   "cell_type": "code",
   "execution_count": 1,
   "metadata": {},
   "outputs": [
    {
     "ename": "ModuleNotFoundError",
     "evalue": "No module named 'prune'",
     "output_type": "error",
     "traceback": [
      "\u001b[1;31m---------------------------------------------------------------------------\u001b[0m",
      "\u001b[1;31mModuleNotFoundError\u001b[0m                       Traceback (most recent call last)",
      "\u001b[1;32m<ipython-input-1-9fb0b786b84f>\u001b[0m in \u001b[0;36m<module>\u001b[1;34m\u001b[0m\n\u001b[1;32m----> 1\u001b[1;33m \u001b[1;32mimport\u001b[0m \u001b[0mprune\u001b[0m\u001b[1;33m\u001b[0m\u001b[1;33m\u001b[0m\u001b[0m\n\u001b[0m",
      "\u001b[1;31mModuleNotFoundError\u001b[0m: No module named 'prune'"
     ]
    }
   ],
   "source": [
    "import prune "
   ]
  }
 ],
 "metadata": {
  "kernelspec": {
   "display_name": "base",
   "language": "python",
   "name": "base"
  },
  "language_info": {
   "codemirror_mode": {
    "name": "ipython",
    "version": 3
   },
   "file_extension": ".py",
   "mimetype": "text/x-python",
   "name": "python",
   "nbconvert_exporter": "python",
   "pygments_lexer": "ipython3",
   "version": "3.7.6"
  }
 },
 "nbformat": 4,
 "nbformat_minor": 4
}
